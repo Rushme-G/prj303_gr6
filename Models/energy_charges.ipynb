{
  "nbformat": 4,
  "nbformat_minor": 0,
  "metadata": {
    "colab": {
      "name": "ec.ipynb",
      "provenance": [],
      "collapsed_sections": []
    },
    "kernelspec": {
      "name": "python3",
      "display_name": "Python 3"
    },
    "language_info": {
      "name": "python"
    }
  },
  "cells": [
    {
      "cell_type": "markdown",
      "source": [
        "# TOPIC: Analysis of Household Power Consumption in Gyalpozhing\n",
        "## Group 6\n",
        "1. Anisha Rai (12190041)\n",
        "2. Rashmi Gurung (12190072)\n",
        "3. Sonam Dema (12190081)\n",
        "4. Tashi Namgay (12190086)"
      ],
      "metadata": {
        "id": "NsyTH3qXfHfw"
      }
    },
    {
      "cell_type": "markdown",
      "source": [
        "#1. IMPORT LIBRARIES"
      ],
      "metadata": {
        "id": "l5Lng3cD0hiI"
      }
    },
    {
      "cell_type": "markdown",
      "source": [
        ""
      ],
      "metadata": {
        "id": "V9tBvawiepk-"
      }
    },
    {
      "cell_type": "code",
      "execution_count": 1,
      "metadata": {
        "id": "f4XKY87DzKon"
      },
      "outputs": [],
      "source": [
        "import pandas as pd\n",
        "import numpy as np\n",
        "import seaborn as sns\n",
        "from sklearn import preprocessing\n",
        "%matplotlib inline\n",
        "import matplotlib.pyplot as plt\n",
        "plt.ioff()\n",
        "from matplotlib import pyplot as plt\n"
      ]
    },
    {
      "cell_type": "markdown",
      "source": [
        "#2. LOAD DATA"
      ],
      "metadata": {
        "id": "lNeqAJF60zbu"
      }
    },
    {
      "cell_type": "code",
      "source": [
        "#Load data\n",
        "\n",
        "main_df = pd.read_excel('Gyalpozhing_household_power_consumption.XLSX')\n",
        "main_df.head()"
      ],
      "metadata": {
        "id": "Hox3tVA9retj",
        "colab": {
          "base_uri": "https://localhost:8080/",
          "height": 542
        },
        "outputId": "a12054cd-f2a9-4c61-c474-5dd3684c9d3f"
      },
      "execution_count": 2,
      "outputs": [
        {
          "output_type": "execute_result",
          "data": {
            "text/plain": [
              "   BP Number                                          BP_name   CA_number  \\\n",
              "0  1702371.0            Company Lemon Grass Factory Kurizampa  50000504.0   \n",
              "1  1705727.0                          Company RBA Gyelposhing  50001004.0   \n",
              "2  1702588.0                              N R D C Gyelposhing  60001500.0   \n",
              "3  1702586.0                          Swerage Treatment Plant  60000307.0   \n",
              "4  1709983.0  Company Rabsel Construction Pvt.Ltd Gyelposhing  60006107.0   \n",
              "\n",
              "  portion posting_Date   Due Date Billing Period  Print Doc. No.  \\\n",
              "0  P17_41   2019-01-02 2019-02-01        2019/01    6.007099e+09   \n",
              "1  P17_41   2019-01-02 2019-02-01        2019/01    4.003612e+09   \n",
              "2  P17_41   2019-01-02 2019-02-01        2019/01    6.007099e+09   \n",
              "3  P17_41   2019-01-02 2019-02-01        2019/01    6.007099e+09   \n",
              "4  P17_41   2019-01-02 2019-02-01        2019/01    6.007099e+09   \n",
              "\n",
              "   Billing Doc. No.  consumption  ...    current  voltage  energy_Charges  \\\n",
              "0      9.018221e+09        167.0  ...   1.166136    234.0          589.51   \n",
              "1      9.018221e+09        788.0  ...   5.502486    234.0         2781.64   \n",
              "2      9.018221e+09          0.0  ...   0.000000    234.0            0.00   \n",
              "3      9.018221e+09          0.0  ...   0.000000    234.0            0.00   \n",
              "4      9.018221e+09       1880.0  ...  13.127758    234.0         7557.60   \n",
              "\n",
              "   Demand Charges  Penalty Charges     Recon Key G/L Account         Category  \\\n",
              "0             0.0             0.00  19015R040045      300002  LV Agricultural   \n",
              "1             0.0             0.00   190115R4/17      300002  LV Agricultural   \n",
              "2             0.0             0.00  19015R040045         NaN          LV Bulk   \n",
              "3             0.0             0.00  19015R040045         NaN          LV Bulk   \n",
              "4             0.0           463.18  19015R040045      300003          LV Bulk   \n",
              "\n",
              "  FICA Doument no         Search term1  \n",
              "0    4.000049e+11        LEMON FACTORY  \n",
              "1    9.434803e+07    RAMS, GYELPOSHING  \n",
              "2    4.000049e+11              N R D C  \n",
              "3    4.000049e+11        SWERAGE PLANT  \n",
              "4    4.000049e+11  RABSEL CONSTRUCTION  \n",
              "\n",
              "[5 rows x 21 columns]"
            ],
            "text/html": [
              "\n",
              "  <div id=\"df-55e83ab8-587d-4b21-a7c9-eaa49c95fd65\">\n",
              "    <div class=\"colab-df-container\">\n",
              "      <div>\n",
              "<style scoped>\n",
              "    .dataframe tbody tr th:only-of-type {\n",
              "        vertical-align: middle;\n",
              "    }\n",
              "\n",
              "    .dataframe tbody tr th {\n",
              "        vertical-align: top;\n",
              "    }\n",
              "\n",
              "    .dataframe thead th {\n",
              "        text-align: right;\n",
              "    }\n",
              "</style>\n",
              "<table border=\"1\" class=\"dataframe\">\n",
              "  <thead>\n",
              "    <tr style=\"text-align: right;\">\n",
              "      <th></th>\n",
              "      <th>BP Number</th>\n",
              "      <th>BP_name</th>\n",
              "      <th>CA_number</th>\n",
              "      <th>portion</th>\n",
              "      <th>posting_Date</th>\n",
              "      <th>Due Date</th>\n",
              "      <th>Billing Period</th>\n",
              "      <th>Print Doc. No.</th>\n",
              "      <th>Billing Doc. No.</th>\n",
              "      <th>consumption</th>\n",
              "      <th>...</th>\n",
              "      <th>current</th>\n",
              "      <th>voltage</th>\n",
              "      <th>energy_Charges</th>\n",
              "      <th>Demand Charges</th>\n",
              "      <th>Penalty Charges</th>\n",
              "      <th>Recon Key</th>\n",
              "      <th>G/L Account</th>\n",
              "      <th>Category</th>\n",
              "      <th>FICA Doument no</th>\n",
              "      <th>Search term1</th>\n",
              "    </tr>\n",
              "  </thead>\n",
              "  <tbody>\n",
              "    <tr>\n",
              "      <th>0</th>\n",
              "      <td>1702371.0</td>\n",
              "      <td>Company Lemon Grass Factory Kurizampa</td>\n",
              "      <td>50000504.0</td>\n",
              "      <td>P17_41</td>\n",
              "      <td>2019-01-02</td>\n",
              "      <td>2019-02-01</td>\n",
              "      <td>2019/01</td>\n",
              "      <td>6.007099e+09</td>\n",
              "      <td>9.018221e+09</td>\n",
              "      <td>167.0</td>\n",
              "      <td>...</td>\n",
              "      <td>1.166136</td>\n",
              "      <td>234.0</td>\n",
              "      <td>589.51</td>\n",
              "      <td>0.0</td>\n",
              "      <td>0.00</td>\n",
              "      <td>19015R040045</td>\n",
              "      <td>300002</td>\n",
              "      <td>LV Agricultural</td>\n",
              "      <td>4.000049e+11</td>\n",
              "      <td>LEMON FACTORY</td>\n",
              "    </tr>\n",
              "    <tr>\n",
              "      <th>1</th>\n",
              "      <td>1705727.0</td>\n",
              "      <td>Company RBA Gyelposhing</td>\n",
              "      <td>50001004.0</td>\n",
              "      <td>P17_41</td>\n",
              "      <td>2019-01-02</td>\n",
              "      <td>2019-02-01</td>\n",
              "      <td>2019/01</td>\n",
              "      <td>4.003612e+09</td>\n",
              "      <td>9.018221e+09</td>\n",
              "      <td>788.0</td>\n",
              "      <td>...</td>\n",
              "      <td>5.502486</td>\n",
              "      <td>234.0</td>\n",
              "      <td>2781.64</td>\n",
              "      <td>0.0</td>\n",
              "      <td>0.00</td>\n",
              "      <td>190115R4/17</td>\n",
              "      <td>300002</td>\n",
              "      <td>LV Agricultural</td>\n",
              "      <td>9.434803e+07</td>\n",
              "      <td>RAMS, GYELPOSHING</td>\n",
              "    </tr>\n",
              "    <tr>\n",
              "      <th>2</th>\n",
              "      <td>1702588.0</td>\n",
              "      <td>N R D C Gyelposhing</td>\n",
              "      <td>60001500.0</td>\n",
              "      <td>P17_41</td>\n",
              "      <td>2019-01-02</td>\n",
              "      <td>2019-02-01</td>\n",
              "      <td>2019/01</td>\n",
              "      <td>6.007099e+09</td>\n",
              "      <td>9.018221e+09</td>\n",
              "      <td>0.0</td>\n",
              "      <td>...</td>\n",
              "      <td>0.000000</td>\n",
              "      <td>234.0</td>\n",
              "      <td>0.00</td>\n",
              "      <td>0.0</td>\n",
              "      <td>0.00</td>\n",
              "      <td>19015R040045</td>\n",
              "      <td>NaN</td>\n",
              "      <td>LV Bulk</td>\n",
              "      <td>4.000049e+11</td>\n",
              "      <td>N R D C</td>\n",
              "    </tr>\n",
              "    <tr>\n",
              "      <th>3</th>\n",
              "      <td>1702586.0</td>\n",
              "      <td>Swerage Treatment Plant</td>\n",
              "      <td>60000307.0</td>\n",
              "      <td>P17_41</td>\n",
              "      <td>2019-01-02</td>\n",
              "      <td>2019-02-01</td>\n",
              "      <td>2019/01</td>\n",
              "      <td>6.007099e+09</td>\n",
              "      <td>9.018221e+09</td>\n",
              "      <td>0.0</td>\n",
              "      <td>...</td>\n",
              "      <td>0.000000</td>\n",
              "      <td>234.0</td>\n",
              "      <td>0.00</td>\n",
              "      <td>0.0</td>\n",
              "      <td>0.00</td>\n",
              "      <td>19015R040045</td>\n",
              "      <td>NaN</td>\n",
              "      <td>LV Bulk</td>\n",
              "      <td>4.000049e+11</td>\n",
              "      <td>SWERAGE PLANT</td>\n",
              "    </tr>\n",
              "    <tr>\n",
              "      <th>4</th>\n",
              "      <td>1709983.0</td>\n",
              "      <td>Company Rabsel Construction Pvt.Ltd Gyelposhing</td>\n",
              "      <td>60006107.0</td>\n",
              "      <td>P17_41</td>\n",
              "      <td>2019-01-02</td>\n",
              "      <td>2019-02-01</td>\n",
              "      <td>2019/01</td>\n",
              "      <td>6.007099e+09</td>\n",
              "      <td>9.018221e+09</td>\n",
              "      <td>1880.0</td>\n",
              "      <td>...</td>\n",
              "      <td>13.127758</td>\n",
              "      <td>234.0</td>\n",
              "      <td>7557.60</td>\n",
              "      <td>0.0</td>\n",
              "      <td>463.18</td>\n",
              "      <td>19015R040045</td>\n",
              "      <td>300003</td>\n",
              "      <td>LV Bulk</td>\n",
              "      <td>4.000049e+11</td>\n",
              "      <td>RABSEL CONSTRUCTION</td>\n",
              "    </tr>\n",
              "  </tbody>\n",
              "</table>\n",
              "<p>5 rows × 21 columns</p>\n",
              "</div>\n",
              "      <button class=\"colab-df-convert\" onclick=\"convertToInteractive('df-55e83ab8-587d-4b21-a7c9-eaa49c95fd65')\"\n",
              "              title=\"Convert this dataframe to an interactive table.\"\n",
              "              style=\"display:none;\">\n",
              "        \n",
              "  <svg xmlns=\"http://www.w3.org/2000/svg\" height=\"24px\"viewBox=\"0 0 24 24\"\n",
              "       width=\"24px\">\n",
              "    <path d=\"M0 0h24v24H0V0z\" fill=\"none\"/>\n",
              "    <path d=\"M18.56 5.44l.94 2.06.94-2.06 2.06-.94-2.06-.94-.94-2.06-.94 2.06-2.06.94zm-11 1L8.5 8.5l.94-2.06 2.06-.94-2.06-.94L8.5 2.5l-.94 2.06-2.06.94zm10 10l.94 2.06.94-2.06 2.06-.94-2.06-.94-.94-2.06-.94 2.06-2.06.94z\"/><path d=\"M17.41 7.96l-1.37-1.37c-.4-.4-.92-.59-1.43-.59-.52 0-1.04.2-1.43.59L10.3 9.45l-7.72 7.72c-.78.78-.78 2.05 0 2.83L4 21.41c.39.39.9.59 1.41.59.51 0 1.02-.2 1.41-.59l7.78-7.78 2.81-2.81c.8-.78.8-2.07 0-2.86zM5.41 20L4 18.59l7.72-7.72 1.47 1.35L5.41 20z\"/>\n",
              "  </svg>\n",
              "      </button>\n",
              "      \n",
              "  <style>\n",
              "    .colab-df-container {\n",
              "      display:flex;\n",
              "      flex-wrap:wrap;\n",
              "      gap: 12px;\n",
              "    }\n",
              "\n",
              "    .colab-df-convert {\n",
              "      background-color: #E8F0FE;\n",
              "      border: none;\n",
              "      border-radius: 50%;\n",
              "      cursor: pointer;\n",
              "      display: none;\n",
              "      fill: #1967D2;\n",
              "      height: 32px;\n",
              "      padding: 0 0 0 0;\n",
              "      width: 32px;\n",
              "    }\n",
              "\n",
              "    .colab-df-convert:hover {\n",
              "      background-color: #E2EBFA;\n",
              "      box-shadow: 0px 1px 2px rgba(60, 64, 67, 0.3), 0px 1px 3px 1px rgba(60, 64, 67, 0.15);\n",
              "      fill: #174EA6;\n",
              "    }\n",
              "\n",
              "    [theme=dark] .colab-df-convert {\n",
              "      background-color: #3B4455;\n",
              "      fill: #D2E3FC;\n",
              "    }\n",
              "\n",
              "    [theme=dark] .colab-df-convert:hover {\n",
              "      background-color: #434B5C;\n",
              "      box-shadow: 0px 1px 3px 1px rgba(0, 0, 0, 0.15);\n",
              "      filter: drop-shadow(0px 1px 2px rgba(0, 0, 0, 0.3));\n",
              "      fill: #FFFFFF;\n",
              "    }\n",
              "  </style>\n",
              "\n",
              "      <script>\n",
              "        const buttonEl =\n",
              "          document.querySelector('#df-55e83ab8-587d-4b21-a7c9-eaa49c95fd65 button.colab-df-convert');\n",
              "        buttonEl.style.display =\n",
              "          google.colab.kernel.accessAllowed ? 'block' : 'none';\n",
              "\n",
              "        async function convertToInteractive(key) {\n",
              "          const element = document.querySelector('#df-55e83ab8-587d-4b21-a7c9-eaa49c95fd65');\n",
              "          const dataTable =\n",
              "            await google.colab.kernel.invokeFunction('convertToInteractive',\n",
              "                                                     [key], {});\n",
              "          if (!dataTable) return;\n",
              "\n",
              "          const docLinkHtml = 'Like what you see? Visit the ' +\n",
              "            '<a target=\"_blank\" href=https://colab.research.google.com/notebooks/data_table.ipynb>data table notebook</a>'\n",
              "            + ' to learn more about interactive tables.';\n",
              "          element.innerHTML = '';\n",
              "          dataTable['output_type'] = 'display_data';\n",
              "          await google.colab.output.renderOutput(dataTable, element);\n",
              "          const docLink = document.createElement('div');\n",
              "          docLink.innerHTML = docLinkHtml;\n",
              "          element.appendChild(docLink);\n",
              "        }\n",
              "      </script>\n",
              "    </div>\n",
              "  </div>\n",
              "  "
            ]
          },
          "metadata": {},
          "execution_count": 2
        }
      ]
    },
    {
      "cell_type": "markdown",
      "source": [
        "# 3. DATA PREPROCESSING "
      ],
      "metadata": {
        "id": "G2nOja6VPvV2"
      }
    },
    {
      "cell_type": "code",
      "source": [
        "# Creating a new dataframe with the only required attributes:\n",
        "\n",
        "df = pd.DataFrame(main_df,columns=['Category','portion','posting_Date','current','voltage','consumption','energy_Charges'])\n",
        "df.tail()"
      ],
      "metadata": {
        "id": "vZOo2qrALQY5",
        "colab": {
          "base_uri": "https://localhost:8080/",
          "height": 206
        },
        "outputId": "d7b0169b-167a-4994-a786-bdf3c768ea7e"
      },
      "execution_count": 3,
      "outputs": [
        {
          "output_type": "execute_result",
          "data": {
            "text/plain": [
              "                          Category portion posting_Date     current  voltage  \\\n",
              "25377  LV Urban Domestic Customers  P17_40   2022-03-02    3.505391    234.0   \n",
              "25378                MV Industrial  P17_41   2022-03-02  830.316742    234.0   \n",
              "25379                      LV Bulk  P17_41   2022-03-16    0.000000    234.0   \n",
              "25380                          NaN     NaN          NaT         NaN      NaN   \n",
              "25381                          NaN     NaN          NaT         NaN      NaN   \n",
              "\n",
              "       consumption  energy_Charges  \n",
              "25377        502.0         1207.28  \n",
              "25378     118908.0       315106.20  \n",
              "25379          0.0            0.00  \n",
              "25380          NaN             NaN  \n",
              "25381          NaN             NaN  "
            ],
            "text/html": [
              "\n",
              "  <div id=\"df-9fee8433-8629-451e-9edf-bdab10f48c4b\">\n",
              "    <div class=\"colab-df-container\">\n",
              "      <div>\n",
              "<style scoped>\n",
              "    .dataframe tbody tr th:only-of-type {\n",
              "        vertical-align: middle;\n",
              "    }\n",
              "\n",
              "    .dataframe tbody tr th {\n",
              "        vertical-align: top;\n",
              "    }\n",
              "\n",
              "    .dataframe thead th {\n",
              "        text-align: right;\n",
              "    }\n",
              "</style>\n",
              "<table border=\"1\" class=\"dataframe\">\n",
              "  <thead>\n",
              "    <tr style=\"text-align: right;\">\n",
              "      <th></th>\n",
              "      <th>Category</th>\n",
              "      <th>portion</th>\n",
              "      <th>posting_Date</th>\n",
              "      <th>current</th>\n",
              "      <th>voltage</th>\n",
              "      <th>consumption</th>\n",
              "      <th>energy_Charges</th>\n",
              "    </tr>\n",
              "  </thead>\n",
              "  <tbody>\n",
              "    <tr>\n",
              "      <th>25377</th>\n",
              "      <td>LV Urban Domestic Customers</td>\n",
              "      <td>P17_40</td>\n",
              "      <td>2022-03-02</td>\n",
              "      <td>3.505391</td>\n",
              "      <td>234.0</td>\n",
              "      <td>502.0</td>\n",
              "      <td>1207.28</td>\n",
              "    </tr>\n",
              "    <tr>\n",
              "      <th>25378</th>\n",
              "      <td>MV Industrial</td>\n",
              "      <td>P17_41</td>\n",
              "      <td>2022-03-02</td>\n",
              "      <td>830.316742</td>\n",
              "      <td>234.0</td>\n",
              "      <td>118908.0</td>\n",
              "      <td>315106.20</td>\n",
              "    </tr>\n",
              "    <tr>\n",
              "      <th>25379</th>\n",
              "      <td>LV Bulk</td>\n",
              "      <td>P17_41</td>\n",
              "      <td>2022-03-16</td>\n",
              "      <td>0.000000</td>\n",
              "      <td>234.0</td>\n",
              "      <td>0.0</td>\n",
              "      <td>0.00</td>\n",
              "    </tr>\n",
              "    <tr>\n",
              "      <th>25380</th>\n",
              "      <td>NaN</td>\n",
              "      <td>NaN</td>\n",
              "      <td>NaT</td>\n",
              "      <td>NaN</td>\n",
              "      <td>NaN</td>\n",
              "      <td>NaN</td>\n",
              "      <td>NaN</td>\n",
              "    </tr>\n",
              "    <tr>\n",
              "      <th>25381</th>\n",
              "      <td>NaN</td>\n",
              "      <td>NaN</td>\n",
              "      <td>NaT</td>\n",
              "      <td>NaN</td>\n",
              "      <td>NaN</td>\n",
              "      <td>NaN</td>\n",
              "      <td>NaN</td>\n",
              "    </tr>\n",
              "  </tbody>\n",
              "</table>\n",
              "</div>\n",
              "      <button class=\"colab-df-convert\" onclick=\"convertToInteractive('df-9fee8433-8629-451e-9edf-bdab10f48c4b')\"\n",
              "              title=\"Convert this dataframe to an interactive table.\"\n",
              "              style=\"display:none;\">\n",
              "        \n",
              "  <svg xmlns=\"http://www.w3.org/2000/svg\" height=\"24px\"viewBox=\"0 0 24 24\"\n",
              "       width=\"24px\">\n",
              "    <path d=\"M0 0h24v24H0V0z\" fill=\"none\"/>\n",
              "    <path d=\"M18.56 5.44l.94 2.06.94-2.06 2.06-.94-2.06-.94-.94-2.06-.94 2.06-2.06.94zm-11 1L8.5 8.5l.94-2.06 2.06-.94-2.06-.94L8.5 2.5l-.94 2.06-2.06.94zm10 10l.94 2.06.94-2.06 2.06-.94-2.06-.94-.94-2.06-.94 2.06-2.06.94z\"/><path d=\"M17.41 7.96l-1.37-1.37c-.4-.4-.92-.59-1.43-.59-.52 0-1.04.2-1.43.59L10.3 9.45l-7.72 7.72c-.78.78-.78 2.05 0 2.83L4 21.41c.39.39.9.59 1.41.59.51 0 1.02-.2 1.41-.59l7.78-7.78 2.81-2.81c.8-.78.8-2.07 0-2.86zM5.41 20L4 18.59l7.72-7.72 1.47 1.35L5.41 20z\"/>\n",
              "  </svg>\n",
              "      </button>\n",
              "      \n",
              "  <style>\n",
              "    .colab-df-container {\n",
              "      display:flex;\n",
              "      flex-wrap:wrap;\n",
              "      gap: 12px;\n",
              "    }\n",
              "\n",
              "    .colab-df-convert {\n",
              "      background-color: #E8F0FE;\n",
              "      border: none;\n",
              "      border-radius: 50%;\n",
              "      cursor: pointer;\n",
              "      display: none;\n",
              "      fill: #1967D2;\n",
              "      height: 32px;\n",
              "      padding: 0 0 0 0;\n",
              "      width: 32px;\n",
              "    }\n",
              "\n",
              "    .colab-df-convert:hover {\n",
              "      background-color: #E2EBFA;\n",
              "      box-shadow: 0px 1px 2px rgba(60, 64, 67, 0.3), 0px 1px 3px 1px rgba(60, 64, 67, 0.15);\n",
              "      fill: #174EA6;\n",
              "    }\n",
              "\n",
              "    [theme=dark] .colab-df-convert {\n",
              "      background-color: #3B4455;\n",
              "      fill: #D2E3FC;\n",
              "    }\n",
              "\n",
              "    [theme=dark] .colab-df-convert:hover {\n",
              "      background-color: #434B5C;\n",
              "      box-shadow: 0px 1px 3px 1px rgba(0, 0, 0, 0.15);\n",
              "      filter: drop-shadow(0px 1px 2px rgba(0, 0, 0, 0.3));\n",
              "      fill: #FFFFFF;\n",
              "    }\n",
              "  </style>\n",
              "\n",
              "      <script>\n",
              "        const buttonEl =\n",
              "          document.querySelector('#df-9fee8433-8629-451e-9edf-bdab10f48c4b button.colab-df-convert');\n",
              "        buttonEl.style.display =\n",
              "          google.colab.kernel.accessAllowed ? 'block' : 'none';\n",
              "\n",
              "        async function convertToInteractive(key) {\n",
              "          const element = document.querySelector('#df-9fee8433-8629-451e-9edf-bdab10f48c4b');\n",
              "          const dataTable =\n",
              "            await google.colab.kernel.invokeFunction('convertToInteractive',\n",
              "                                                     [key], {});\n",
              "          if (!dataTable) return;\n",
              "\n",
              "          const docLinkHtml = 'Like what you see? Visit the ' +\n",
              "            '<a target=\"_blank\" href=https://colab.research.google.com/notebooks/data_table.ipynb>data table notebook</a>'\n",
              "            + ' to learn more about interactive tables.';\n",
              "          element.innerHTML = '';\n",
              "          dataTable['output_type'] = 'display_data';\n",
              "          await google.colab.output.renderOutput(dataTable, element);\n",
              "          const docLink = document.createElement('div');\n",
              "          docLink.innerHTML = docLinkHtml;\n",
              "          element.appendChild(docLink);\n",
              "        }\n",
              "      </script>\n",
              "    </div>\n",
              "  </div>\n",
              "  "
            ]
          },
          "metadata": {},
          "execution_count": 3
        }
      ]
    },
    {
      "cell_type": "code",
      "source": [
        "df.isna().sum()"
      ],
      "metadata": {
        "id": "dCWDqY2kFkYA",
        "colab": {
          "base_uri": "https://localhost:8080/"
        },
        "outputId": "a60a635b-1696-4c5f-b24a-0bd69ab19090"
      },
      "execution_count": 4,
      "outputs": [
        {
          "output_type": "execute_result",
          "data": {
            "text/plain": [
              "Category          2\n",
              "portion           2\n",
              "posting_Date      2\n",
              "current           2\n",
              "voltage           2\n",
              "consumption       2\n",
              "energy_Charges    2\n",
              "dtype: int64"
            ]
          },
          "metadata": {},
          "execution_count": 4
        }
      ]
    },
    {
      "cell_type": "code",
      "source": [
        "df = df.dropna()\n",
        "df.isna().sum()"
      ],
      "metadata": {
        "id": "eJPOwqIiGPTO",
        "colab": {
          "base_uri": "https://localhost:8080/"
        },
        "outputId": "c43c4b1b-1662-44bf-ca63-21380d02ebb0"
      },
      "execution_count": 5,
      "outputs": [
        {
          "output_type": "execute_result",
          "data": {
            "text/plain": [
              "Category          0\n",
              "portion           0\n",
              "posting_Date      0\n",
              "current           0\n",
              "voltage           0\n",
              "consumption       0\n",
              "energy_Charges    0\n",
              "dtype: int64"
            ]
          },
          "metadata": {},
          "execution_count": 5
        }
      ]
    },
    {
      "cell_type": "code",
      "source": [
        "df.dtypes"
      ],
      "metadata": {
        "colab": {
          "base_uri": "https://localhost:8080/"
        },
        "id": "SJs-FHuNGwAD",
        "outputId": "81080dfb-079c-4c1e-d7ee-3eef6a3e6c64"
      },
      "execution_count": 6,
      "outputs": [
        {
          "output_type": "execute_result",
          "data": {
            "text/plain": [
              "Category                  object\n",
              "portion                   object\n",
              "posting_Date      datetime64[ns]\n",
              "current                  float64\n",
              "voltage                  float64\n",
              "consumption              float64\n",
              "energy_Charges           float64\n",
              "dtype: object"
            ]
          },
          "metadata": {},
          "execution_count": 6
        }
      ]
    },
    {
      "cell_type": "code",
      "source": [
        "# Selecting the data from 2019 till 2021 only:\n",
        "\n",
        "df = df.loc[(df['posting_Date'] >= '01-01-2019') & (df['posting_Date'] < '01-01-2022')]\n",
        "df.tail()"
      ],
      "metadata": {
        "id": "sSNkZhHxPE4l",
        "colab": {
          "base_uri": "https://localhost:8080/",
          "height": 206
        },
        "outputId": "206d169b-7a99-4afa-f689-88beeef5535d"
      },
      "execution_count": 7,
      "outputs": [
        {
          "output_type": "execute_result",
          "data": {
            "text/plain": [
              "                          Category portion posting_Date   current  voltage  \\\n",
              "23602  LV Urban Domestic Customers  P17_41   2021-12-02  0.796045    234.0   \n",
              "23603  LV Urban Domestic Customers  P17_41   2021-12-02  1.529244    234.0   \n",
              "23604  LV Urban Domestic Customers  P17_41   2021-12-02  0.628457    234.0   \n",
              "23605  LV Urban Domestic Customers  P17_41   2021-12-02  0.733199    234.0   \n",
              "23606  LV Urban Domestic Customers  P17_41   2021-12-02  0.279314    234.0   \n",
              "\n",
              "       consumption  energy_Charges  \n",
              "23602        114.0          165.52  \n",
              "23603        219.0          446.92  \n",
              "23604         90.0          115.20  \n",
              "23605        105.0          141.40  \n",
              "23606         40.0           51.20  "
            ],
            "text/html": [
              "\n",
              "  <div id=\"df-dd103294-a85b-462e-81d0-612ccba3bb19\">\n",
              "    <div class=\"colab-df-container\">\n",
              "      <div>\n",
              "<style scoped>\n",
              "    .dataframe tbody tr th:only-of-type {\n",
              "        vertical-align: middle;\n",
              "    }\n",
              "\n",
              "    .dataframe tbody tr th {\n",
              "        vertical-align: top;\n",
              "    }\n",
              "\n",
              "    .dataframe thead th {\n",
              "        text-align: right;\n",
              "    }\n",
              "</style>\n",
              "<table border=\"1\" class=\"dataframe\">\n",
              "  <thead>\n",
              "    <tr style=\"text-align: right;\">\n",
              "      <th></th>\n",
              "      <th>Category</th>\n",
              "      <th>portion</th>\n",
              "      <th>posting_Date</th>\n",
              "      <th>current</th>\n",
              "      <th>voltage</th>\n",
              "      <th>consumption</th>\n",
              "      <th>energy_Charges</th>\n",
              "    </tr>\n",
              "  </thead>\n",
              "  <tbody>\n",
              "    <tr>\n",
              "      <th>23602</th>\n",
              "      <td>LV Urban Domestic Customers</td>\n",
              "      <td>P17_41</td>\n",
              "      <td>2021-12-02</td>\n",
              "      <td>0.796045</td>\n",
              "      <td>234.0</td>\n",
              "      <td>114.0</td>\n",
              "      <td>165.52</td>\n",
              "    </tr>\n",
              "    <tr>\n",
              "      <th>23603</th>\n",
              "      <td>LV Urban Domestic Customers</td>\n",
              "      <td>P17_41</td>\n",
              "      <td>2021-12-02</td>\n",
              "      <td>1.529244</td>\n",
              "      <td>234.0</td>\n",
              "      <td>219.0</td>\n",
              "      <td>446.92</td>\n",
              "    </tr>\n",
              "    <tr>\n",
              "      <th>23604</th>\n",
              "      <td>LV Urban Domestic Customers</td>\n",
              "      <td>P17_41</td>\n",
              "      <td>2021-12-02</td>\n",
              "      <td>0.628457</td>\n",
              "      <td>234.0</td>\n",
              "      <td>90.0</td>\n",
              "      <td>115.20</td>\n",
              "    </tr>\n",
              "    <tr>\n",
              "      <th>23605</th>\n",
              "      <td>LV Urban Domestic Customers</td>\n",
              "      <td>P17_41</td>\n",
              "      <td>2021-12-02</td>\n",
              "      <td>0.733199</td>\n",
              "      <td>234.0</td>\n",
              "      <td>105.0</td>\n",
              "      <td>141.40</td>\n",
              "    </tr>\n",
              "    <tr>\n",
              "      <th>23606</th>\n",
              "      <td>LV Urban Domestic Customers</td>\n",
              "      <td>P17_41</td>\n",
              "      <td>2021-12-02</td>\n",
              "      <td>0.279314</td>\n",
              "      <td>234.0</td>\n",
              "      <td>40.0</td>\n",
              "      <td>51.20</td>\n",
              "    </tr>\n",
              "  </tbody>\n",
              "</table>\n",
              "</div>\n",
              "      <button class=\"colab-df-convert\" onclick=\"convertToInteractive('df-dd103294-a85b-462e-81d0-612ccba3bb19')\"\n",
              "              title=\"Convert this dataframe to an interactive table.\"\n",
              "              style=\"display:none;\">\n",
              "        \n",
              "  <svg xmlns=\"http://www.w3.org/2000/svg\" height=\"24px\"viewBox=\"0 0 24 24\"\n",
              "       width=\"24px\">\n",
              "    <path d=\"M0 0h24v24H0V0z\" fill=\"none\"/>\n",
              "    <path d=\"M18.56 5.44l.94 2.06.94-2.06 2.06-.94-2.06-.94-.94-2.06-.94 2.06-2.06.94zm-11 1L8.5 8.5l.94-2.06 2.06-.94-2.06-.94L8.5 2.5l-.94 2.06-2.06.94zm10 10l.94 2.06.94-2.06 2.06-.94-2.06-.94-.94-2.06-.94 2.06-2.06.94z\"/><path d=\"M17.41 7.96l-1.37-1.37c-.4-.4-.92-.59-1.43-.59-.52 0-1.04.2-1.43.59L10.3 9.45l-7.72 7.72c-.78.78-.78 2.05 0 2.83L4 21.41c.39.39.9.59 1.41.59.51 0 1.02-.2 1.41-.59l7.78-7.78 2.81-2.81c.8-.78.8-2.07 0-2.86zM5.41 20L4 18.59l7.72-7.72 1.47 1.35L5.41 20z\"/>\n",
              "  </svg>\n",
              "      </button>\n",
              "      \n",
              "  <style>\n",
              "    .colab-df-container {\n",
              "      display:flex;\n",
              "      flex-wrap:wrap;\n",
              "      gap: 12px;\n",
              "    }\n",
              "\n",
              "    .colab-df-convert {\n",
              "      background-color: #E8F0FE;\n",
              "      border: none;\n",
              "      border-radius: 50%;\n",
              "      cursor: pointer;\n",
              "      display: none;\n",
              "      fill: #1967D2;\n",
              "      height: 32px;\n",
              "      padding: 0 0 0 0;\n",
              "      width: 32px;\n",
              "    }\n",
              "\n",
              "    .colab-df-convert:hover {\n",
              "      background-color: #E2EBFA;\n",
              "      box-shadow: 0px 1px 2px rgba(60, 64, 67, 0.3), 0px 1px 3px 1px rgba(60, 64, 67, 0.15);\n",
              "      fill: #174EA6;\n",
              "    }\n",
              "\n",
              "    [theme=dark] .colab-df-convert {\n",
              "      background-color: #3B4455;\n",
              "      fill: #D2E3FC;\n",
              "    }\n",
              "\n",
              "    [theme=dark] .colab-df-convert:hover {\n",
              "      background-color: #434B5C;\n",
              "      box-shadow: 0px 1px 3px 1px rgba(0, 0, 0, 0.15);\n",
              "      filter: drop-shadow(0px 1px 2px rgba(0, 0, 0, 0.3));\n",
              "      fill: #FFFFFF;\n",
              "    }\n",
              "  </style>\n",
              "\n",
              "      <script>\n",
              "        const buttonEl =\n",
              "          document.querySelector('#df-dd103294-a85b-462e-81d0-612ccba3bb19 button.colab-df-convert');\n",
              "        buttonEl.style.display =\n",
              "          google.colab.kernel.accessAllowed ? 'block' : 'none';\n",
              "\n",
              "        async function convertToInteractive(key) {\n",
              "          const element = document.querySelector('#df-dd103294-a85b-462e-81d0-612ccba3bb19');\n",
              "          const dataTable =\n",
              "            await google.colab.kernel.invokeFunction('convertToInteractive',\n",
              "                                                     [key], {});\n",
              "          if (!dataTable) return;\n",
              "\n",
              "          const docLinkHtml = 'Like what you see? Visit the ' +\n",
              "            '<a target=\"_blank\" href=https://colab.research.google.com/notebooks/data_table.ipynb>data table notebook</a>'\n",
              "            + ' to learn more about interactive tables.';\n",
              "          element.innerHTML = '';\n",
              "          dataTable['output_type'] = 'display_data';\n",
              "          await google.colab.output.renderOutput(dataTable, element);\n",
              "          const docLink = document.createElement('div');\n",
              "          docLink.innerHTML = docLinkHtml;\n",
              "          element.appendChild(docLink);\n",
              "        }\n",
              "      </script>\n",
              "    </div>\n",
              "  </div>\n",
              "  "
            ]
          },
          "metadata": {},
          "execution_count": 7
        }
      ]
    },
    {
      "cell_type": "code",
      "source": [
        "# Extracting the year and montht from the posting_date\n",
        "# Adding these two new columns(Year and month) and then droping the posting date col\n",
        "\n",
        "df['Year'] = pd.to_datetime(df['posting_Date']).dt.year\n",
        "df['Month'] = pd.to_datetime(df['posting_Date']).dt.month\n",
        "df = df.drop(['posting_Date'], axis = 1)"
      ],
      "metadata": {
        "id": "Pqi9lpXAc1i-"
      },
      "execution_count": 8,
      "outputs": []
    },
    {
      "cell_type": "code",
      "source": [
        "df.duplicated().sum()"
      ],
      "metadata": {
        "colab": {
          "base_uri": "https://localhost:8080/"
        },
        "id": "YJeHxiRuk7od",
        "outputId": "d13a4873-bcbd-4320-f7fd-55f6a4691392"
      },
      "execution_count": 9,
      "outputs": [
        {
          "output_type": "execute_result",
          "data": {
            "text/plain": [
              "5952"
            ]
          },
          "metadata": {},
          "execution_count": 9
        }
      ]
    },
    {
      "cell_type": "code",
      "source": [
        "gyalpozhing_df = df.drop_duplicates()"
      ],
      "metadata": {
        "id": "cR8tCvZEbmFX"
      },
      "execution_count": 10,
      "outputs": []
    },
    {
      "cell_type": "code",
      "source": [
        "gyalpozhing_df.dtypes"
      ],
      "metadata": {
        "colab": {
          "base_uri": "https://localhost:8080/"
        },
        "id": "n84Cm4BgG4k4",
        "outputId": "e8272322-7d8c-4aa2-9e13-117e73c126d7"
      },
      "execution_count": 11,
      "outputs": [
        {
          "output_type": "execute_result",
          "data": {
            "text/plain": [
              "Category           object\n",
              "portion            object\n",
              "current           float64\n",
              "voltage           float64\n",
              "consumption       float64\n",
              "energy_Charges    float64\n",
              "Year                int64\n",
              "Month               int64\n",
              "dtype: object"
            ]
          },
          "metadata": {},
          "execution_count": 11
        }
      ]
    },
    {
      "cell_type": "markdown",
      "source": [
        "# 4. DETECTING OUTLIERS"
      ],
      "metadata": {
        "id": "tvMZfbkohpMW"
      }
    },
    {
      "cell_type": "code",
      "source": [
        "sns.boxplot(x = gyalpozhing_df['current'])\n",
        "plt.show()"
      ],
      "metadata": {
        "id": "jYMx_Kqrhb-T",
        "colab": {
          "base_uri": "https://localhost:8080/",
          "height": 279
        },
        "outputId": "e37234b0-fde1-43d3-b934-f62cf0e28171"
      },
      "execution_count": 12,
      "outputs": [
        {
          "output_type": "display_data",
          "data": {
            "text/plain": [
              "<Figure size 432x288 with 1 Axes>"
            ],
            "image/png": "[encoded data removed]"
          },
          "metadata": {
            "needs_background": "light"
          }
        }
      ]
    },
    {
      "cell_type": "code",
      "source": [
        "#ul = upper limit\n",
        "#ll = lower limit\n",
        "#IQR = Interquartile Range\n",
        "\n",
        "q1 = gyalpozhing_df.current.quantile(0.25)\n",
        "q3 = gyalpozhing_df.current.quantile(0.75)\n",
        "IQR = q3 - q1\n",
        "ul = q3 + (IQR * 1.5)\n",
        "ll = q1 - (IQR * 1.5)"
      ],
      "metadata": {
        "id": "NKEGSjCvh4yK"
      },
      "execution_count": 13,
      "outputs": []
    },
    {
      "cell_type": "code",
      "source": [
        "gyalpozhing_df[(gyalpozhing_df.current < ll)  | (gyalpozhing_df.current > ul)]"
      ],
      "metadata": {
        "id": "UIEOGab4iCBG",
        "colab": {
          "base_uri": "https://localhost:8080/",
          "height": 423
        },
        "outputId": "2c12a101-31b1-443e-bba4-b0f623af174d"
      },
      "execution_count": 14,
      "outputs": [
        {
          "output_type": "execute_result",
          "data": {
            "text/plain": [
              "                          Category portion    current  voltage  consumption  \\\n",
              "1                  LV Agricultural  P17_41   5.502486    234.0        788.0   \n",
              "4                          LV Bulk  P17_41  13.127758    234.0       1880.0   \n",
              "5                          LV Bulk  P17_41  48.600637    234.0       6960.0   \n",
              "7                          LV Bulk  P17_41   7.262164    234.0       1040.0   \n",
              "8                          LV Bulk  P17_41  10.048321    234.0       1439.0   \n",
              "...                            ...     ...        ...      ...          ...   \n",
              "23469  LV Urban Domestic Customers  P17_41  11.668343    234.0       1671.0   \n",
              "23523  LV Urban Domestic Customers  P17_41   5.816714    234.0        833.0   \n",
              "23583  LV Urban Domestic Customers  P17_41   7.422770    234.0       1063.0   \n",
              "23584  LV Urban Domestic Customers  P17_41   8.100106    234.0       1160.0   \n",
              "23590  LV Urban Domestic Customers  P17_41   5.851628    234.0        838.0   \n",
              "\n",
              "       energy_Charges  Year  Month  \n",
              "1             2781.64  2019      1  \n",
              "4             7557.60  2019      1  \n",
              "5            27979.20  2019      1  \n",
              "7             4180.80  2019      1  \n",
              "8             5784.78  2019      1  \n",
              "...               ...   ...    ...  \n",
              "23469         5462.44  2021     12  \n",
              "23523         2412.12  2021     12  \n",
              "23583         3249.32  2021     12  \n",
              "23584         3602.40  2021     12  \n",
              "23590         2430.32  2021     12  \n",
              "\n",
              "[1611 rows x 8 columns]"
            ],
            "text/html": [
              "\n",
              "  <div id=\"df-e49e9853-d4bb-4bfa-8cc4-4e677f77fdc1\">\n",
              "    <div class=\"colab-df-container\">\n",
              "      <div>\n",
              "<style scoped>\n",
              "    .dataframe tbody tr th:only-of-type {\n",
              "        vertical-align: middle;\n",
              "    }\n",
              "\n",
              "    .dataframe tbody tr th {\n",
              "        vertical-align: top;\n",
              "    }\n",
              "\n",
              "    .dataframe thead th {\n",
              "        text-align: right;\n",
              "    }\n",
              "</style>\n",
              "<table border=\"1\" class=\"dataframe\">\n",
              "  <thead>\n",
              "    <tr style=\"text-align: right;\">\n",
              "      <th></th>\n",
              "      <th>Category</th>\n",
              "      <th>portion</th>\n",
              "      <th>current</th>\n",
              "      <th>voltage</th>\n",
              "      <th>consumption</th>\n",
              "      <th>energy_Charges</th>\n",
              "      <th>Year</th>\n",
              "      <th>Month</th>\n",
              "    </tr>\n",
              "  </thead>\n",
              "  <tbody>\n",
              "    <tr>\n",
              "      <th>1</th>\n",
              "      <td>LV Agricultural</td>\n",
              "      <td>P17_41</td>\n",
              "      <td>5.502486</td>\n",
              "      <td>234.0</td>\n",
              "      <td>788.0</td>\n",
              "      <td>2781.64</td>\n",
              "      <td>2019</td>\n",
              "      <td>1</td>\n",
              "    </tr>\n",
              "    <tr>\n",
              "      <th>4</th>\n",
              "      <td>LV Bulk</td>\n",
              "      <td>P17_41</td>\n",
              "      <td>13.127758</td>\n",
              "      <td>234.0</td>\n",
              "      <td>1880.0</td>\n",
              "      <td>7557.60</td>\n",
              "      <td>2019</td>\n",
              "      <td>1</td>\n",
              "    </tr>\n",
              "    <tr>\n",
              "      <th>5</th>\n",
              "      <td>LV Bulk</td>\n",
              "      <td>P17_41</td>\n",
              "      <td>48.600637</td>\n",
              "      <td>234.0</td>\n",
              "      <td>6960.0</td>\n",
              "      <td>27979.20</td>\n",
              "      <td>2019</td>\n",
              "      <td>1</td>\n",
              "    </tr>\n",
              "    <tr>\n",
              "      <th>7</th>\n",
              "      <td>LV Bulk</td>\n",
              "      <td>P17_41</td>\n",
              "      <td>7.262164</td>\n",
              "      <td>234.0</td>\n",
              "      <td>1040.0</td>\n",
              "      <td>4180.80</td>\n",
              "      <td>2019</td>\n",
              "      <td>1</td>\n",
              "    </tr>\n",
              "    <tr>\n",
              "      <th>8</th>\n",
              "      <td>LV Bulk</td>\n",
              "      <td>P17_41</td>\n",
              "      <td>10.048321</td>\n",
              "      <td>234.0</td>\n",
              "      <td>1439.0</td>\n",
              "      <td>5784.78</td>\n",
              "      <td>2019</td>\n",
              "      <td>1</td>\n",
              "    </tr>\n",
              "    <tr>\n",
              "      <th>...</th>\n",
              "      <td>...</td>\n",
              "      <td>...</td>\n",
              "      <td>...</td>\n",
              "      <td>...</td>\n",
              "      <td>...</td>\n",
              "      <td>...</td>\n",
              "      <td>...</td>\n",
              "      <td>...</td>\n",
              "    </tr>\n",
              "    <tr>\n",
              "      <th>23469</th>\n",
              "      <td>LV Urban Domestic Customers</td>\n",
              "      <td>P17_41</td>\n",
              "      <td>11.668343</td>\n",
              "      <td>234.0</td>\n",
              "      <td>1671.0</td>\n",
              "      <td>5462.44</td>\n",
              "      <td>2021</td>\n",
              "      <td>12</td>\n",
              "    </tr>\n",
              "    <tr>\n",
              "      <th>23523</th>\n",
              "      <td>LV Urban Domestic Customers</td>\n",
              "      <td>P17_41</td>\n",
              "      <td>5.816714</td>\n",
              "      <td>234.0</td>\n",
              "      <td>833.0</td>\n",
              "      <td>2412.12</td>\n",
              "      <td>2021</td>\n",
              "      <td>12</td>\n",
              "    </tr>\n",
              "    <tr>\n",
              "      <th>23583</th>\n",
              "      <td>LV Urban Domestic Customers</td>\n",
              "      <td>P17_41</td>\n",
              "      <td>7.422770</td>\n",
              "      <td>234.0</td>\n",
              "      <td>1063.0</td>\n",
              "      <td>3249.32</td>\n",
              "      <td>2021</td>\n",
              "      <td>12</td>\n",
              "    </tr>\n",
              "    <tr>\n",
              "      <th>23584</th>\n",
              "      <td>LV Urban Domestic Customers</td>\n",
              "      <td>P17_41</td>\n",
              "      <td>8.100106</td>\n",
              "      <td>234.0</td>\n",
              "      <td>1160.0</td>\n",
              "      <td>3602.40</td>\n",
              "      <td>2021</td>\n",
              "      <td>12</td>\n",
              "    </tr>\n",
              "    <tr>\n",
              "      <th>23590</th>\n",
              "      <td>LV Urban Domestic Customers</td>\n",
              "      <td>P17_41</td>\n",
              "      <td>5.851628</td>\n",
              "      <td>234.0</td>\n",
              "      <td>838.0</td>\n",
              "      <td>2430.32</td>\n",
              "      <td>2021</td>\n",
              "      <td>12</td>\n",
              "    </tr>\n",
              "  </tbody>\n",
              "</table>\n",
              "<p>1611 rows × 8 columns</p>\n",
              "</div>\n",
              "      <button class=\"colab-df-convert\" onclick=\"convertToInteractive('df-e49e9853-d4bb-4bfa-8cc4-4e677f77fdc1')\"\n",
              "              title=\"Convert this dataframe to an interactive table.\"\n",
              "              style=\"display:none;\">\n",
              "        \n",
              "  <svg xmlns=\"http://www.w3.org/2000/svg\" height=\"24px\"viewBox=\"0 0 24 24\"\n",
              "       width=\"24px\">\n",
              "    <path d=\"M0 0h24v24H0V0z\" fill=\"none\"/>\n",
              "    <path d=\"M18.56 5.44l.94 2.06.94-2.06 2.06-.94-2.06-.94-.94-2.06-.94 2.06-2.06.94zm-11 1L8.5 8.5l.94-2.06 2.06-.94-2.06-.94L8.5 2.5l-.94 2.06-2.06.94zm10 10l.94 2.06.94-2.06 2.06-.94-2.06-.94-.94-2.06-.94 2.06-2.06.94z\"/><path d=\"M17.41 7.96l-1.37-1.37c-.4-.4-.92-.59-1.43-.59-.52 0-1.04.2-1.43.59L10.3 9.45l-7.72 7.72c-.78.78-.78 2.05 0 2.83L4 21.41c.39.39.9.59 1.41.59.51 0 1.02-.2 1.41-.59l7.78-7.78 2.81-2.81c.8-.78.8-2.07 0-2.86zM5.41 20L4 18.59l7.72-7.72 1.47 1.35L5.41 20z\"/>\n",
              "  </svg>\n",
              "      </button>\n",
              "      \n",
              "  <style>\n",
              "    .colab-df-container {\n",
              "      display:flex;\n",
              "      flex-wrap:wrap;\n",
              "      gap: 12px;\n",
              "    }\n",
              "\n",
              "    .colab-df-convert {\n",
              "      background-color: #E8F0FE;\n",
              "      border: none;\n",
              "      border-radius: 50%;\n",
              "      cursor: pointer;\n",
              "      display: none;\n",
              "      fill: #1967D2;\n",
              "      height: 32px;\n",
              "      padding: 0 0 0 0;\n",
              "      width: 32px;\n",
              "    }\n",
              "\n",
              "    .colab-df-convert:hover {\n",
              "      background-color: #E2EBFA;\n",
              "      box-shadow: 0px 1px 2px rgba(60, 64, 67, 0.3), 0px 1px 3px 1px rgba(60, 64, 67, 0.15);\n",
              "      fill: #174EA6;\n",
              "    }\n",
              "\n",
              "    [theme=dark] .colab-df-convert {\n",
              "      background-color: #3B4455;\n",
              "      fill: #D2E3FC;\n",
              "    }\n",
              "\n",
              "    [theme=dark] .colab-df-convert:hover {\n",
              "      background-color: #434B5C;\n",
              "      box-shadow: 0px 1px 3px 1px rgba(0, 0, 0, 0.15);\n",
              "      filter: drop-shadow(0px 1px 2px rgba(0, 0, 0, 0.3));\n",
              "      fill: #FFFFFF;\n",
              "    }\n",
              "  </style>\n",
              "\n",
              "      <script>\n",
              "        const buttonEl =\n",
              "          document.querySelector('#df-e49e9853-d4bb-4bfa-8cc4-4e677f77fdc1 button.colab-df-convert');\n",
              "        buttonEl.style.display =\n",
              "          google.colab.kernel.accessAllowed ? 'block' : 'none';\n",
              "\n",
              "        async function convertToInteractive(key) {\n",
              "          const element = document.querySelector('#df-e49e9853-d4bb-4bfa-8cc4-4e677f77fdc1');\n",
              "          const dataTable =\n",
              "            await google.colab.kernel.invokeFunction('convertToInteractive',\n",
              "                                                     [key], {});\n",
              "          if (!dataTable) return;\n",
              "\n",
              "          const docLinkHtml = 'Like what you see? Visit the ' +\n",
              "            '<a target=\"_blank\" href=https://colab.research.google.com/notebooks/data_table.ipynb>data table notebook</a>'\n",
              "            + ' to learn more about interactive tables.';\n",
              "          element.innerHTML = '';\n",
              "          dataTable['output_type'] = 'display_data';\n",
              "          await google.colab.output.renderOutput(dataTable, element);\n",
              "          const docLink = document.createElement('div');\n",
              "          docLink.innerHTML = docLinkHtml;\n",
              "          element.appendChild(docLink);\n",
              "        }\n",
              "      </script>\n",
              "    </div>\n",
              "  </div>\n",
              "  "
            ]
          },
          "metadata": {},
          "execution_count": 14
        }
      ]
    },
    {
      "cell_type": "code",
      "source": [
        "df1 = gyalpozhing_df[(gyalpozhing_df.current > ll) & (gyalpozhing_df.current < ul)]\n",
        "df1.shape"
      ],
      "metadata": {
        "id": "aH-H89fWiKLC",
        "colab": {
          "base_uri": "https://localhost:8080/"
        },
        "outputId": "dbca6e6e-1a55-4fcd-d260-5572fdf6806a"
      },
      "execution_count": 15,
      "outputs": [
        {
          "output_type": "execute_result",
          "data": {
            "text/plain": [
              "(16039, 8)"
            ]
          },
          "metadata": {},
          "execution_count": 15
        }
      ]
    },
    {
      "cell_type": "code",
      "source": [
        "sns.boxplot(x = df1['consumption'])\n",
        "plt.show"
      ],
      "metadata": {
        "id": "mLdEugCGikwN",
        "colab": {
          "base_uri": "https://localhost:8080/",
          "height": 297
        },
        "outputId": "21f660f6-4a1a-4755-b5bd-143b4c1cc323"
      },
      "execution_count": 16,
      "outputs": [
        {
          "output_type": "execute_result",
          "data": {
            "text/plain": [
              "<function matplotlib.pyplot.show>"
            ]
          },
          "metadata": {},
          "execution_count": 16
        },
        {
          "output_type": "display_data",
          "data": {
            "text/plain": [
              "<Figure size 432x288 with 1 Axes>"
            ],
            "image/png": "[encoded data removed]"
          },
          "metadata": {
            "needs_background": "light"
          }
        }
      ]
    },
    {
      "cell_type": "code",
      "source": [
        "q1 = df1.consumption.quantile(0.25)\n",
        "q3 = df1.consumption.quantile(0.75)\n",
        "IQR = q3 - q1\n",
        "ul = q3 + (IQR * 1.5)\n",
        "ll = q1 - (IQR * 1.5)"
      ],
      "metadata": {
        "id": "kgm8u-2Bioyr"
      },
      "execution_count": 17,
      "outputs": []
    },
    {
      "cell_type": "code",
      "source": [
        "df1[(df1.consumption < ll)  | (df1.consumption > ul)]"
      ],
      "metadata": {
        "id": "ZvUsLM9KjCE0",
        "colab": {
          "base_uri": "https://localhost:8080/",
          "height": 423
        },
        "outputId": "90b4de1c-b5bc-42e6-87a3-f700a26d0db4"
      },
      "execution_count": 18,
      "outputs": [
        {
          "output_type": "execute_result",
          "data": {
            "text/plain": [
              "                          Category portion   current  voltage  consumption  \\\n",
              "40                   LV Commercial  P17_41  3.568236    234.0        511.0   \n",
              "52                   LV Commercial  P17_41  3.456511    234.0        495.0   \n",
              "79                LV Institutional  P17_41  3.638065    234.0        521.0   \n",
              "81                LV Institutional  P17_41  3.631082    234.0        520.0   \n",
              "97                LV Institutional  P17_41  3.421597    234.0        490.0   \n",
              "...                            ...     ...       ...      ...          ...   \n",
              "23346  LV Urban Domestic Customers  P17_41  3.477459    234.0        498.0   \n",
              "23394  LV Urban Domestic Customers  P17_40  3.526339    234.0        505.0   \n",
              "23401  LV Urban Domestic Customers  P17_41  3.484442    234.0        499.0   \n",
              "23484  LV Urban Domestic Customers  P17_41  3.386682    234.0        485.0   \n",
              "23537  LV Urban Domestic Customers  P17_41  3.233060    234.0        463.0   \n",
              "\n",
              "       energy_Charges  Year  Month  \n",
              "40            1803.83  2019      1  \n",
              "52            1747.35  2019      1  \n",
              "79            1839.13  2019      1  \n",
              "81            1835.60  2019      1  \n",
              "97            1729.70  2019      1  \n",
              "...               ...   ...    ...  \n",
              "23346         1194.64  2021     12  \n",
              "23394         1218.20  2021     12  \n",
              "23401         1197.32  2021     12  \n",
              "23484         1159.80  2021     12  \n",
              "23537         1100.84  2021     12  \n",
              "\n",
              "[376 rows x 8 columns]"
            ],
            "text/html": [
              "\n",
              "  <div id=\"df-2a9838e8-6bf1-4342-9e8b-f755619e57aa\">\n",
              "    <div class=\"colab-df-container\">\n",
              "      <div>\n",
              "<style scoped>\n",
              "    .dataframe tbody tr th:only-of-type {\n",
              "        vertical-align: middle;\n",
              "    }\n",
              "\n",
              "    .dataframe tbody tr th {\n",
              "        vertical-align: top;\n",
              "    }\n",
              "\n",
              "    .dataframe thead th {\n",
              "        text-align: right;\n",
              "    }\n",
              "</style>\n",
              "<table border=\"1\" class=\"dataframe\">\n",
              "  <thead>\n",
              "    <tr style=\"text-align: right;\">\n",
              "      <th></th>\n",
              "      <th>Category</th>\n",
              "      <th>portion</th>\n",
              "      <th>current</th>\n",
              "      <th>voltage</th>\n",
              "      <th>consumption</th>\n",
              "      <th>energy_Charges</th>\n",
              "      <th>Year</th>\n",
              "      <th>Month</th>\n",
              "    </tr>\n",
              "  </thead>\n",
              "  <tbody>\n",
              "    <tr>\n",
              "      <th>40</th>\n",
              "      <td>LV Commercial</td>\n",
              "      <td>P17_41</td>\n",
              "      <td>3.568236</td>\n",
              "      <td>234.0</td>\n",
              "      <td>511.0</td>\n",
              "      <td>1803.83</td>\n",
              "      <td>2019</td>\n",
              "      <td>1</td>\n",
              "    </tr>\n",
              "    <tr>\n",
              "      <th>52</th>\n",
              "      <td>LV Commercial</td>\n",
              "      <td>P17_41</td>\n",
              "      <td>3.456511</td>\n",
              "      <td>234.0</td>\n",
              "      <td>495.0</td>\n",
              "      <td>1747.35</td>\n",
              "      <td>2019</td>\n",
              "      <td>1</td>\n",
              "    </tr>\n",
              "    <tr>\n",
              "      <th>79</th>\n",
              "      <td>LV Institutional</td>\n",
              "      <td>P17_41</td>\n",
              "      <td>3.638065</td>\n",
              "      <td>234.0</td>\n",
              "      <td>521.0</td>\n",
              "      <td>1839.13</td>\n",
              "      <td>2019</td>\n",
              "      <td>1</td>\n",
              "    </tr>\n",
              "    <tr>\n",
              "      <th>81</th>\n",
              "      <td>LV Institutional</td>\n",
              "      <td>P17_41</td>\n",
              "      <td>3.631082</td>\n",
              "      <td>234.0</td>\n",
              "      <td>520.0</td>\n",
              "      <td>1835.60</td>\n",
              "      <td>2019</td>\n",
              "      <td>1</td>\n",
              "    </tr>\n",
              "    <tr>\n",
              "      <th>97</th>\n",
              "      <td>LV Institutional</td>\n",
              "      <td>P17_41</td>\n",
              "      <td>3.421597</td>\n",
              "      <td>234.0</td>\n",
              "      <td>490.0</td>\n",
              "      <td>1729.70</td>\n",
              "      <td>2019</td>\n",
              "      <td>1</td>\n",
              "    </tr>\n",
              "    <tr>\n",
              "      <th>...</th>\n",
              "      <td>...</td>\n",
              "      <td>...</td>\n",
              "      <td>...</td>\n",
              "      <td>...</td>\n",
              "      <td>...</td>\n",
              "      <td>...</td>\n",
              "      <td>...</td>\n",
              "      <td>...</td>\n",
              "    </tr>\n",
              "    <tr>\n",
              "      <th>23346</th>\n",
              "      <td>LV Urban Domestic Customers</td>\n",
              "      <td>P17_41</td>\n",
              "      <td>3.477459</td>\n",
              "      <td>234.0</td>\n",
              "      <td>498.0</td>\n",
              "      <td>1194.64</td>\n",
              "      <td>2021</td>\n",
              "      <td>12</td>\n",
              "    </tr>\n",
              "    <tr>\n",
              "      <th>23394</th>\n",
              "      <td>LV Urban Domestic Customers</td>\n",
              "      <td>P17_40</td>\n",
              "      <td>3.526339</td>\n",
              "      <td>234.0</td>\n",
              "      <td>505.0</td>\n",
              "      <td>1218.20</td>\n",
              "      <td>2021</td>\n",
              "      <td>12</td>\n",
              "    </tr>\n",
              "    <tr>\n",
              "      <th>23401</th>\n",
              "      <td>LV Urban Domestic Customers</td>\n",
              "      <td>P17_41</td>\n",
              "      <td>3.484442</td>\n",
              "      <td>234.0</td>\n",
              "      <td>499.0</td>\n",
              "      <td>1197.32</td>\n",
              "      <td>2021</td>\n",
              "      <td>12</td>\n",
              "    </tr>\n",
              "    <tr>\n",
              "      <th>23484</th>\n",
              "      <td>LV Urban Domestic Customers</td>\n",
              "      <td>P17_41</td>\n",
              "      <td>3.386682</td>\n",
              "      <td>234.0</td>\n",
              "      <td>485.0</td>\n",
              "      <td>1159.80</td>\n",
              "      <td>2021</td>\n",
              "      <td>12</td>\n",
              "    </tr>\n",
              "    <tr>\n",
              "      <th>23537</th>\n",
              "      <td>LV Urban Domestic Customers</td>\n",
              "      <td>P17_41</td>\n",
              "      <td>3.233060</td>\n",
              "      <td>234.0</td>\n",
              "      <td>463.0</td>\n",
              "      <td>1100.84</td>\n",
              "      <td>2021</td>\n",
              "      <td>12</td>\n",
              "    </tr>\n",
              "  </tbody>\n",
              "</table>\n",
              "<p>376 rows × 8 columns</p>\n",
              "</div>\n",
              "      <button class=\"colab-df-convert\" onclick=\"convertToInteractive('df-2a9838e8-6bf1-4342-9e8b-f755619e57aa')\"\n",
              "              title=\"Convert this dataframe to an interactive table.\"\n",
              "              style=\"display:none;\">\n",
              "        \n",
              "  <svg xmlns=\"http://www.w3.org/2000/svg\" height=\"24px\"viewBox=\"0 0 24 24\"\n",
              "       width=\"24px\">\n",
              "    <path d=\"M0 0h24v24H0V0z\" fill=\"none\"/>\n",
              "    <path d=\"M18.56 5.44l.94 2.06.94-2.06 2.06-.94-2.06-.94-.94-2.06-.94 2.06-2.06.94zm-11 1L8.5 8.5l.94-2.06 2.06-.94-2.06-.94L8.5 2.5l-.94 2.06-2.06.94zm10 10l.94 2.06.94-2.06 2.06-.94-2.06-.94-.94-2.06-.94 2.06-2.06.94z\"/><path d=\"M17.41 7.96l-1.37-1.37c-.4-.4-.92-.59-1.43-.59-.52 0-1.04.2-1.43.59L10.3 9.45l-7.72 7.72c-.78.78-.78 2.05 0 2.83L4 21.41c.39.39.9.59 1.41.59.51 0 1.02-.2 1.41-.59l7.78-7.78 2.81-2.81c.8-.78.8-2.07 0-2.86zM5.41 20L4 18.59l7.72-7.72 1.47 1.35L5.41 20z\"/>\n",
              "  </svg>\n",
              "      </button>\n",
              "      \n",
              "  <style>\n",
              "    .colab-df-container {\n",
              "      display:flex;\n",
              "      flex-wrap:wrap;\n",
              "      gap: 12px;\n",
              "    }\n",
              "\n",
              "    .colab-df-convert {\n",
              "      background-color: #E8F0FE;\n",
              "      border: none;\n",
              "      border-radius: 50%;\n",
              "      cursor: pointer;\n",
              "      display: none;\n",
              "      fill: #1967D2;\n",
              "      height: 32px;\n",
              "      padding: 0 0 0 0;\n",
              "      width: 32px;\n",
              "    }\n",
              "\n",
              "    .colab-df-convert:hover {\n",
              "      background-color: #E2EBFA;\n",
              "      box-shadow: 0px 1px 2px rgba(60, 64, 67, 0.3), 0px 1px 3px 1px rgba(60, 64, 67, 0.15);\n",
              "      fill: #174EA6;\n",
              "    }\n",
              "\n",
              "    [theme=dark] .colab-df-convert {\n",
              "      background-color: #3B4455;\n",
              "      fill: #D2E3FC;\n",
              "    }\n",
              "\n",
              "    [theme=dark] .colab-df-convert:hover {\n",
              "      background-color: #434B5C;\n",
              "      box-shadow: 0px 1px 3px 1px rgba(0, 0, 0, 0.15);\n",
              "      filter: drop-shadow(0px 1px 2px rgba(0, 0, 0, 0.3));\n",
              "      fill: #FFFFFF;\n",
              "    }\n",
              "  </style>\n",
              "\n",
              "      <script>\n",
              "        const buttonEl =\n",
              "          document.querySelector('#df-2a9838e8-6bf1-4342-9e8b-f755619e57aa button.colab-df-convert');\n",
              "        buttonEl.style.display =\n",
              "          google.colab.kernel.accessAllowed ? 'block' : 'none';\n",
              "\n",
              "        async function convertToInteractive(key) {\n",
              "          const element = document.querySelector('#df-2a9838e8-6bf1-4342-9e8b-f755619e57aa');\n",
              "          const dataTable =\n",
              "            await google.colab.kernel.invokeFunction('convertToInteractive',\n",
              "                                                     [key], {});\n",
              "          if (!dataTable) return;\n",
              "\n",
              "          const docLinkHtml = 'Like what you see? Visit the ' +\n",
              "            '<a target=\"_blank\" href=https://colab.research.google.com/notebooks/data_table.ipynb>data table notebook</a>'\n",
              "            + ' to learn more about interactive tables.';\n",
              "          element.innerHTML = '';\n",
              "          dataTable['output_type'] = 'display_data';\n",
              "          await google.colab.output.renderOutput(dataTable, element);\n",
              "          const docLink = document.createElement('div');\n",
              "          docLink.innerHTML = docLinkHtml;\n",
              "          element.appendChild(docLink);\n",
              "        }\n",
              "      </script>\n",
              "    </div>\n",
              "  </div>\n",
              "  "
            ]
          },
          "metadata": {},
          "execution_count": 18
        }
      ]
    },
    {
      "cell_type": "code",
      "source": [
        "df2 = df1[(df1.consumption > ll) & (df1.consumption < ul)]\n",
        "df2.shape"
      ],
      "metadata": {
        "id": "QG5zfFcxjJ2p",
        "colab": {
          "base_uri": "https://localhost:8080/"
        },
        "outputId": "8c5f3ca2-bf9e-4abe-d462-f6f35ecbcba2"
      },
      "execution_count": 19,
      "outputs": [
        {
          "output_type": "execute_result",
          "data": {
            "text/plain": [
              "(15663, 8)"
            ]
          },
          "metadata": {},
          "execution_count": 19
        }
      ]
    },
    {
      "cell_type": "code",
      "source": [
        "sns.boxplot(x = df2['energy_Charges'])\n",
        "plt.show"
      ],
      "metadata": {
        "id": "1md1yLGnjVp2",
        "colab": {
          "base_uri": "https://localhost:8080/",
          "height": 298
        },
        "outputId": "d6e2c116-6801-470b-829f-c5e68e86cb2f"
      },
      "execution_count": 20,
      "outputs": [
        {
          "output_type": "execute_result",
          "data": {
            "text/plain": [
              "<function matplotlib.pyplot.show>"
            ]
          },
          "metadata": {},
          "execution_count": 20
        },
        {
          "output_type": "display_data",
          "data": {
            "text/plain": [
              "<Figure size 432x288 with 1 Axes>"
            ],
            "image/png": "[encoded data removed]"
          },
          "metadata": {
            "needs_background": "light"
          }
        }
      ]
    },
    {
      "cell_type": "code",
      "source": [
        "q1 = df2.energy_Charges.quantile(0.25)\n",
        "q3 = df2.energy_Charges.quantile(0.75)\n",
        "IQR = q3 - q1\n",
        "ul = q3 + (IQR * 1.5)\n",
        "ll = q1 - (IQR * 1.5)"
      ],
      "metadata": {
        "id": "6blyzOwJjbze"
      },
      "execution_count": 21,
      "outputs": []
    },
    {
      "cell_type": "code",
      "source": [
        "df2[(df2.energy_Charges < ll)  | (df2.energy_Charges > ul)]"
      ],
      "metadata": {
        "id": "rdHwZOwnjg57",
        "colab": {
          "base_uri": "https://localhost:8080/",
          "height": 423
        },
        "outputId": "681802e9-2418-4ad2-fbed-95642688f465"
      },
      "execution_count": 22,
      "outputs": [
        {
          "output_type": "execute_result",
          "data": {
            "text/plain": [
              "                          Category portion   current  voltage  consumption  \\\n",
              "15                   LV Commercial  P17_41  3.037540    234.0        435.0   \n",
              "25                   LV Commercial  P17_41  2.953746    234.0        423.0   \n",
              "31                   LV Commercial  P17_41  2.918831    234.0        418.0   \n",
              "41                   LV Commercial  P17_41  2.890900    234.0        414.0   \n",
              "45                   LV Commercial  P17_41  2.800123    234.0        401.0   \n",
              "...                            ...     ...       ...      ...          ...   \n",
              "23150                 LV Temporary  P17_41  2.234512    234.0        320.0   \n",
              "23151                 LV Temporary  P17_41  2.667449    234.0        382.0   \n",
              "23154                 LV Temporary  P17_41  2.430032    234.0        348.0   \n",
              "23163                 LV Temporary  P17_41  3.100385    234.0        444.0   \n",
              "23306  LV Urban Domestic Customers  P17_40  3.079437    234.0        441.0   \n",
              "\n",
              "       energy_Charges  Year  Month  \n",
              "15            1535.55  2019      1  \n",
              "25            1493.19  2019      1  \n",
              "31            1475.54  2019      1  \n",
              "41            1461.42  2019      1  \n",
              "45            1415.53  2019      1  \n",
              "...               ...   ...    ...  \n",
              "23150         1164.80  2021     12  \n",
              "23151         1390.48  2021     12  \n",
              "23154         1266.72  2021     12  \n",
              "23163         1616.16  2021     12  \n",
              "23306         1041.88  2021     12  \n",
              "\n",
              "[601 rows x 8 columns]"
            ],
            "text/html": [
              "\n",
              "  <div id=\"df-586e4bea-9659-417e-a8a2-f6a333c28fbe\">\n",
              "    <div class=\"colab-df-container\">\n",
              "      <div>\n",
              "<style scoped>\n",
              "    .dataframe tbody tr th:only-of-type {\n",
              "        vertical-align: middle;\n",
              "    }\n",
              "\n",
              "    .dataframe tbody tr th {\n",
              "        vertical-align: top;\n",
              "    }\n",
              "\n",
              "    .dataframe thead th {\n",
              "        text-align: right;\n",
              "    }\n",
              "</style>\n",
              "<table border=\"1\" class=\"dataframe\">\n",
              "  <thead>\n",
              "    <tr style=\"text-align: right;\">\n",
              "      <th></th>\n",
              "      <th>Category</th>\n",
              "      <th>portion</th>\n",
              "      <th>current</th>\n",
              "      <th>voltage</th>\n",
              "      <th>consumption</th>\n",
              "      <th>energy_Charges</th>\n",
              "      <th>Year</th>\n",
              "      <th>Month</th>\n",
              "    </tr>\n",
              "  </thead>\n",
              "  <tbody>\n",
              "    <tr>\n",
              "      <th>15</th>\n",
              "      <td>LV Commercial</td>\n",
              "      <td>P17_41</td>\n",
              "      <td>3.037540</td>\n",
              "      <td>234.0</td>\n",
              "      <td>435.0</td>\n",
              "      <td>1535.55</td>\n",
              "      <td>2019</td>\n",
              "      <td>1</td>\n",
              "    </tr>\n",
              "    <tr>\n",
              "      <th>25</th>\n",
              "      <td>LV Commercial</td>\n",
              "      <td>P17_41</td>\n",
              "      <td>2.953746</td>\n",
              "      <td>234.0</td>\n",
              "      <td>423.0</td>\n",
              "      <td>1493.19</td>\n",
              "      <td>2019</td>\n",
              "      <td>1</td>\n",
              "    </tr>\n",
              "    <tr>\n",
              "      <th>31</th>\n",
              "      <td>LV Commercial</td>\n",
              "      <td>P17_41</td>\n",
              "      <td>2.918831</td>\n",
              "      <td>234.0</td>\n",
              "      <td>418.0</td>\n",
              "      <td>1475.54</td>\n",
              "      <td>2019</td>\n",
              "      <td>1</td>\n",
              "    </tr>\n",
              "    <tr>\n",
              "      <th>41</th>\n",
              "      <td>LV Commercial</td>\n",
              "      <td>P17_41</td>\n",
              "      <td>2.890900</td>\n",
              "      <td>234.0</td>\n",
              "      <td>414.0</td>\n",
              "      <td>1461.42</td>\n",
              "      <td>2019</td>\n",
              "      <td>1</td>\n",
              "    </tr>\n",
              "    <tr>\n",
              "      <th>45</th>\n",
              "      <td>LV Commercial</td>\n",
              "      <td>P17_41</td>\n",
              "      <td>2.800123</td>\n",
              "      <td>234.0</td>\n",
              "      <td>401.0</td>\n",
              "      <td>1415.53</td>\n",
              "      <td>2019</td>\n",
              "      <td>1</td>\n",
              "    </tr>\n",
              "    <tr>\n",
              "      <th>...</th>\n",
              "      <td>...</td>\n",
              "      <td>...</td>\n",
              "      <td>...</td>\n",
              "      <td>...</td>\n",
              "      <td>...</td>\n",
              "      <td>...</td>\n",
              "      <td>...</td>\n",
              "      <td>...</td>\n",
              "    </tr>\n",
              "    <tr>\n",
              "      <th>23150</th>\n",
              "      <td>LV Temporary</td>\n",
              "      <td>P17_41</td>\n",
              "      <td>2.234512</td>\n",
              "      <td>234.0</td>\n",
              "      <td>320.0</td>\n",
              "      <td>1164.80</td>\n",
              "      <td>2021</td>\n",
              "      <td>12</td>\n",
              "    </tr>\n",
              "    <tr>\n",
              "      <th>23151</th>\n",
              "      <td>LV Temporary</td>\n",
              "      <td>P17_41</td>\n",
              "      <td>2.667449</td>\n",
              "      <td>234.0</td>\n",
              "      <td>382.0</td>\n",
              "      <td>1390.48</td>\n",
              "      <td>2021</td>\n",
              "      <td>12</td>\n",
              "    </tr>\n",
              "    <tr>\n",
              "      <th>23154</th>\n",
              "      <td>LV Temporary</td>\n",
              "      <td>P17_41</td>\n",
              "      <td>2.430032</td>\n",
              "      <td>234.0</td>\n",
              "      <td>348.0</td>\n",
              "      <td>1266.72</td>\n",
              "      <td>2021</td>\n",
              "      <td>12</td>\n",
              "    </tr>\n",
              "    <tr>\n",
              "      <th>23163</th>\n",
              "      <td>LV Temporary</td>\n",
              "      <td>P17_41</td>\n",
              "      <td>3.100385</td>\n",
              "      <td>234.0</td>\n",
              "      <td>444.0</td>\n",
              "      <td>1616.16</td>\n",
              "      <td>2021</td>\n",
              "      <td>12</td>\n",
              "    </tr>\n",
              "    <tr>\n",
              "      <th>23306</th>\n",
              "      <td>LV Urban Domestic Customers</td>\n",
              "      <td>P17_40</td>\n",
              "      <td>3.079437</td>\n",
              "      <td>234.0</td>\n",
              "      <td>441.0</td>\n",
              "      <td>1041.88</td>\n",
              "      <td>2021</td>\n",
              "      <td>12</td>\n",
              "    </tr>\n",
              "  </tbody>\n",
              "</table>\n",
              "<p>601 rows × 8 columns</p>\n",
              "</div>\n",
              "      <button class=\"colab-df-convert\" onclick=\"convertToInteractive('df-586e4bea-9659-417e-a8a2-f6a333c28fbe')\"\n",
              "              title=\"Convert this dataframe to an interactive table.\"\n",
              "              style=\"display:none;\">\n",
              "        \n",
              "  <svg xmlns=\"http://www.w3.org/2000/svg\" height=\"24px\"viewBox=\"0 0 24 24\"\n",
              "       width=\"24px\">\n",
              "    <path d=\"M0 0h24v24H0V0z\" fill=\"none\"/>\n",
              "    <path d=\"M18.56 5.44l.94 2.06.94-2.06 2.06-.94-2.06-.94-.94-2.06-.94 2.06-2.06.94zm-11 1L8.5 8.5l.94-2.06 2.06-.94-2.06-.94L8.5 2.5l-.94 2.06-2.06.94zm10 10l.94 2.06.94-2.06 2.06-.94-2.06-.94-.94-2.06-.94 2.06-2.06.94z\"/><path d=\"M17.41 7.96l-1.37-1.37c-.4-.4-.92-.59-1.43-.59-.52 0-1.04.2-1.43.59L10.3 9.45l-7.72 7.72c-.78.78-.78 2.05 0 2.83L4 21.41c.39.39.9.59 1.41.59.51 0 1.02-.2 1.41-.59l7.78-7.78 2.81-2.81c.8-.78.8-2.07 0-2.86zM5.41 20L4 18.59l7.72-7.72 1.47 1.35L5.41 20z\"/>\n",
              "  </svg>\n",
              "      </button>\n",
              "      \n",
              "  <style>\n",
              "    .colab-df-container {\n",
              "      display:flex;\n",
              "      flex-wrap:wrap;\n",
              "      gap: 12px;\n",
              "    }\n",
              "\n",
              "    .colab-df-convert {\n",
              "      background-color: #E8F0FE;\n",
              "      border: none;\n",
              "      border-radius: 50%;\n",
              "      cursor: pointer;\n",
              "      display: none;\n",
              "      fill: #1967D2;\n",
              "      height: 32px;\n",
              "      padding: 0 0 0 0;\n",
              "      width: 32px;\n",
              "    }\n",
              "\n",
              "    .colab-df-convert:hover {\n",
              "      background-color: #E2EBFA;\n",
              "      box-shadow: 0px 1px 2px rgba(60, 64, 67, 0.3), 0px 1px 3px 1px rgba(60, 64, 67, 0.15);\n",
              "      fill: #174EA6;\n",
              "    }\n",
              "\n",
              "    [theme=dark] .colab-df-convert {\n",
              "      background-color: #3B4455;\n",
              "      fill: #D2E3FC;\n",
              "    }\n",
              "\n",
              "    [theme=dark] .colab-df-convert:hover {\n",
              "      background-color: #434B5C;\n",
              "      box-shadow: 0px 1px 3px 1px rgba(0, 0, 0, 0.15);\n",
              "      filter: drop-shadow(0px 1px 2px rgba(0, 0, 0, 0.3));\n",
              "      fill: #FFFFFF;\n",
              "    }\n",
              "  </style>\n",
              "\n",
              "      <script>\n",
              "        const buttonEl =\n",
              "          document.querySelector('#df-586e4bea-9659-417e-a8a2-f6a333c28fbe button.colab-df-convert');\n",
              "        buttonEl.style.display =\n",
              "          google.colab.kernel.accessAllowed ? 'block' : 'none';\n",
              "\n",
              "        async function convertToInteractive(key) {\n",
              "          const element = document.querySelector('#df-586e4bea-9659-417e-a8a2-f6a333c28fbe');\n",
              "          const dataTable =\n",
              "            await google.colab.kernel.invokeFunction('convertToInteractive',\n",
              "                                                     [key], {});\n",
              "          if (!dataTable) return;\n",
              "\n",
              "          const docLinkHtml = 'Like what you see? Visit the ' +\n",
              "            '<a target=\"_blank\" href=https://colab.research.google.com/notebooks/data_table.ipynb>data table notebook</a>'\n",
              "            + ' to learn more about interactive tables.';\n",
              "          element.innerHTML = '';\n",
              "          dataTable['output_type'] = 'display_data';\n",
              "          await google.colab.output.renderOutput(dataTable, element);\n",
              "          const docLink = document.createElement('div');\n",
              "          docLink.innerHTML = docLinkHtml;\n",
              "          element.appendChild(docLink);\n",
              "        }\n",
              "      </script>\n",
              "    </div>\n",
              "  </div>\n",
              "  "
            ]
          },
          "metadata": {},
          "execution_count": 22
        }
      ]
    },
    {
      "cell_type": "code",
      "source": [
        "df3 = df2[(df2.energy_Charges > ll) & (df2.energy_Charges < ul)]\n",
        "df3.shape"
      ],
      "metadata": {
        "id": "zyJOESxMjoAF",
        "colab": {
          "base_uri": "https://localhost:8080/"
        },
        "outputId": "558d9457-ad56-40f3-c308-dab27b459cc6"
      },
      "execution_count": 23,
      "outputs": [
        {
          "output_type": "execute_result",
          "data": {
            "text/plain": [
              "(15062, 8)"
            ]
          },
          "metadata": {},
          "execution_count": 23
        }
      ]
    },
    {
      "cell_type": "code",
      "source": [
        "df3.dtypes"
      ],
      "metadata": {
        "colab": {
          "base_uri": "https://localhost:8080/"
        },
        "id": "bmbc8eZtGkKc",
        "outputId": "0558770a-2149-4917-b67d-a38f3ba96368"
      },
      "execution_count": 24,
      "outputs": [
        {
          "output_type": "execute_result",
          "data": {
            "text/plain": [
              "Category           object\n",
              "portion            object\n",
              "current           float64\n",
              "voltage           float64\n",
              "consumption       float64\n",
              "energy_Charges    float64\n",
              "Year                int64\n",
              "Month               int64\n",
              "dtype: object"
            ]
          },
          "metadata": {},
          "execution_count": 24
        }
      ]
    },
    {
      "cell_type": "markdown",
      "source": [
        "# 6. LABEL ENCODING"
      ],
      "metadata": {
        "id": "61gLOy9wel71"
      }
    },
    {
      "cell_type": "code",
      "source": [
        "df3.tail()"
      ],
      "metadata": {
        "id": "XwgFycPUNvjp",
        "colab": {
          "base_uri": "https://localhost:8080/",
          "height": 206
        },
        "outputId": "ded3e44b-6f68-4af7-b2bc-760d6aab1e3c"
      },
      "execution_count": 25,
      "outputs": [
        {
          "output_type": "execute_result",
          "data": {
            "text/plain": [
              "                          Category portion   current  voltage  consumption  \\\n",
              "23596  LV Urban Domestic Customers  P17_41  1.047428    234.0        150.0   \n",
              "23601  LV Urban Domestic Customers  P17_41  1.585107    234.0        227.0   \n",
              "23603  LV Urban Domestic Customers  P17_41  1.529244    234.0        219.0   \n",
              "23604  LV Urban Domestic Customers  P17_41  0.628457    234.0         90.0   \n",
              "23606  LV Urban Domestic Customers  P17_41  0.279314    234.0         40.0   \n",
              "\n",
              "       energy_Charges  Year  Month  \n",
              "23596          262.00  2021     12  \n",
              "23601          468.36  2021     12  \n",
              "23603          446.92  2021     12  \n",
              "23604          115.20  2021     12  \n",
              "23606           51.20  2021     12  "
            ],
            "text/html": [
              "\n",
              "  <div id=\"df-3f45a040-f77f-4344-a7cc-baf1404a1482\">\n",
              "    <div class=\"colab-df-container\">\n",
              "      <div>\n",
              "<style scoped>\n",
              "    .dataframe tbody tr th:only-of-type {\n",
              "        vertical-align: middle;\n",
              "    }\n",
              "\n",
              "    .dataframe tbody tr th {\n",
              "        vertical-align: top;\n",
              "    }\n",
              "\n",
              "    .dataframe thead th {\n",
              "        text-align: right;\n",
              "    }\n",
              "</style>\n",
              "<table border=\"1\" class=\"dataframe\">\n",
              "  <thead>\n",
              "    <tr style=\"text-align: right;\">\n",
              "      <th></th>\n",
              "      <th>Category</th>\n",
              "      <th>portion</th>\n",
              "      <th>current</th>\n",
              "      <th>voltage</th>\n",
              "      <th>consumption</th>\n",
              "      <th>energy_Charges</th>\n",
              "      <th>Year</th>\n",
              "      <th>Month</th>\n",
              "    </tr>\n",
              "  </thead>\n",
              "  <tbody>\n",
              "    <tr>\n",
              "      <th>23596</th>\n",
              "      <td>LV Urban Domestic Customers</td>\n",
              "      <td>P17_41</td>\n",
              "      <td>1.047428</td>\n",
              "      <td>234.0</td>\n",
              "      <td>150.0</td>\n",
              "      <td>262.00</td>\n",
              "      <td>2021</td>\n",
              "      <td>12</td>\n",
              "    </tr>\n",
              "    <tr>\n",
              "      <th>23601</th>\n",
              "      <td>LV Urban Domestic Customers</td>\n",
              "      <td>P17_41</td>\n",
              "      <td>1.585107</td>\n",
              "      <td>234.0</td>\n",
              "      <td>227.0</td>\n",
              "      <td>468.36</td>\n",
              "      <td>2021</td>\n",
              "      <td>12</td>\n",
              "    </tr>\n",
              "    <tr>\n",
              "      <th>23603</th>\n",
              "      <td>LV Urban Domestic Customers</td>\n",
              "      <td>P17_41</td>\n",
              "      <td>1.529244</td>\n",
              "      <td>234.0</td>\n",
              "      <td>219.0</td>\n",
              "      <td>446.92</td>\n",
              "      <td>2021</td>\n",
              "      <td>12</td>\n",
              "    </tr>\n",
              "    <tr>\n",
              "      <th>23604</th>\n",
              "      <td>LV Urban Domestic Customers</td>\n",
              "      <td>P17_41</td>\n",
              "      <td>0.628457</td>\n",
              "      <td>234.0</td>\n",
              "      <td>90.0</td>\n",
              "      <td>115.20</td>\n",
              "      <td>2021</td>\n",
              "      <td>12</td>\n",
              "    </tr>\n",
              "    <tr>\n",
              "      <th>23606</th>\n",
              "      <td>LV Urban Domestic Customers</td>\n",
              "      <td>P17_41</td>\n",
              "      <td>0.279314</td>\n",
              "      <td>234.0</td>\n",
              "      <td>40.0</td>\n",
              "      <td>51.20</td>\n",
              "      <td>2021</td>\n",
              "      <td>12</td>\n",
              "    </tr>\n",
              "  </tbody>\n",
              "</table>\n",
              "</div>\n",
              "      <button class=\"colab-df-convert\" onclick=\"convertToInteractive('df-3f45a040-f77f-4344-a7cc-baf1404a1482')\"\n",
              "              title=\"Convert this dataframe to an interactive table.\"\n",
              "              style=\"display:none;\">\n",
              "        \n",
              "  <svg xmlns=\"http://www.w3.org/2000/svg\" height=\"24px\"viewBox=\"0 0 24 24\"\n",
              "       width=\"24px\">\n",
              "    <path d=\"M0 0h24v24H0V0z\" fill=\"none\"/>\n",
              "    <path d=\"M18.56 5.44l.94 2.06.94-2.06 2.06-.94-2.06-.94-.94-2.06-.94 2.06-2.06.94zm-11 1L8.5 8.5l.94-2.06 2.06-.94-2.06-.94L8.5 2.5l-.94 2.06-2.06.94zm10 10l.94 2.06.94-2.06 2.06-.94-2.06-.94-.94-2.06-.94 2.06-2.06.94z\"/><path d=\"M17.41 7.96l-1.37-1.37c-.4-.4-.92-.59-1.43-.59-.52 0-1.04.2-1.43.59L10.3 9.45l-7.72 7.72c-.78.78-.78 2.05 0 2.83L4 21.41c.39.39.9.59 1.41.59.51 0 1.02-.2 1.41-.59l7.78-7.78 2.81-2.81c.8-.78.8-2.07 0-2.86zM5.41 20L4 18.59l7.72-7.72 1.47 1.35L5.41 20z\"/>\n",
              "  </svg>\n",
              "      </button>\n",
              "      \n",
              "  <style>\n",
              "    .colab-df-container {\n",
              "      display:flex;\n",
              "      flex-wrap:wrap;\n",
              "      gap: 12px;\n",
              "    }\n",
              "\n",
              "    .colab-df-convert {\n",
              "      background-color: #E8F0FE;\n",
              "      border: none;\n",
              "      border-radius: 50%;\n",
              "      cursor: pointer;\n",
              "      display: none;\n",
              "      fill: #1967D2;\n",
              "      height: 32px;\n",
              "      padding: 0 0 0 0;\n",
              "      width: 32px;\n",
              "    }\n",
              "\n",
              "    .colab-df-convert:hover {\n",
              "      background-color: #E2EBFA;\n",
              "      box-shadow: 0px 1px 2px rgba(60, 64, 67, 0.3), 0px 1px 3px 1px rgba(60, 64, 67, 0.15);\n",
              "      fill: #174EA6;\n",
              "    }\n",
              "\n",
              "    [theme=dark] .colab-df-convert {\n",
              "      background-color: #3B4455;\n",
              "      fill: #D2E3FC;\n",
              "    }\n",
              "\n",
              "    [theme=dark] .colab-df-convert:hover {\n",
              "      background-color: #434B5C;\n",
              "      box-shadow: 0px 1px 3px 1px rgba(0, 0, 0, 0.15);\n",
              "      filter: drop-shadow(0px 1px 2px rgba(0, 0, 0, 0.3));\n",
              "      fill: #FFFFFF;\n",
              "    }\n",
              "  </style>\n",
              "\n",
              "      <script>\n",
              "        const buttonEl =\n",
              "          document.querySelector('#df-3f45a040-f77f-4344-a7cc-baf1404a1482 button.colab-df-convert');\n",
              "        buttonEl.style.display =\n",
              "          google.colab.kernel.accessAllowed ? 'block' : 'none';\n",
              "\n",
              "        async function convertToInteractive(key) {\n",
              "          const element = document.querySelector('#df-3f45a040-f77f-4344-a7cc-baf1404a1482');\n",
              "          const dataTable =\n",
              "            await google.colab.kernel.invokeFunction('convertToInteractive',\n",
              "                                                     [key], {});\n",
              "          if (!dataTable) return;\n",
              "\n",
              "          const docLinkHtml = 'Like what you see? Visit the ' +\n",
              "            '<a target=\"_blank\" href=https://colab.research.google.com/notebooks/data_table.ipynb>data table notebook</a>'\n",
              "            + ' to learn more about interactive tables.';\n",
              "          element.innerHTML = '';\n",
              "          dataTable['output_type'] = 'display_data';\n",
              "          await google.colab.output.renderOutput(dataTable, element);\n",
              "          const docLink = document.createElement('div');\n",
              "          docLink.innerHTML = docLinkHtml;\n",
              "          element.appendChild(docLink);\n",
              "        }\n",
              "      </script>\n",
              "    </div>\n",
              "  </div>\n",
              "  "
            ]
          },
          "metadata": {},
          "execution_count": 25
        }
      ]
    },
    {
      "cell_type": "code",
      "source": [
        "# unique values in each columns\n",
        "for x in df3.columns:\n",
        "    #prinfting unique values\n",
        "    print(x ,':', len(df3[x].unique()))"
      ],
      "metadata": {
        "id": "rPMopw2rxW7Y",
        "colab": {
          "base_uri": "https://localhost:8080/"
        },
        "outputId": "9a2d22a5-3f71-4faf-a8ef-0d8a6fa873b8"
      },
      "execution_count": 26,
      "outputs": [
        {
          "output_type": "stream",
          "name": "stdout",
          "text": [
            "Category : 12\n",
            "portion : 2\n",
            "current : 1845\n",
            "voltage : 1\n",
            "consumption : 1845\n",
            "energy_Charges : 3170\n",
            "Year : 3\n",
            "Month : 12\n"
          ]
        }
      ]
    },
    {
      "cell_type": "code",
      "source": [
        "df3['Category'].value_counts()"
      ],
      "metadata": {
        "id": "1OmaT1J0UNTp",
        "colab": {
          "base_uri": "https://localhost:8080/"
        },
        "outputId": "581ee7d3-f311-43b2-ca08-2d970c518143"
      },
      "execution_count": 27,
      "outputs": [
        {
          "output_type": "execute_result",
          "data": {
            "text/plain": [
              "LV Urban Domestic Customers             10699\n",
              "LV Rural Domestic Customers              1412\n",
              "LV Commercial                            1257\n",
              "LV Institutional                          821\n",
              "LV Temporary                              306\n",
              "LV Rural-Community Lhakhangs              217\n",
              "LV Religious Institution customers        158\n",
              "LV Street light                            63\n",
              "LV Bulk                                    40\n",
              "LV Agricultural                            33\n",
              "LV Power house                             31\n",
              "LV Rural-cooperativs and Agriculture       25\n",
              "Name: Category, dtype: int64"
            ]
          },
          "metadata": {},
          "execution_count": 27
        }
      ]
    },
    {
      "cell_type": "code",
      "source": [
        "categorical_features= df3.select_dtypes(include = ['object'])\n",
        "categorical_features"
      ],
      "metadata": {
        "colab": {
          "base_uri": "https://localhost:8080/",
          "height": 423
        },
        "id": "F6NwmU0RGE3C",
        "outputId": "e595aa62-3d41-4ace-c390-075bc0e62678"
      },
      "execution_count": 28,
      "outputs": [
        {
          "output_type": "execute_result",
          "data": {
            "text/plain": [
              "                          Category portion\n",
              "0                  LV Agricultural  P17_41\n",
              "2                          LV Bulk  P17_41\n",
              "10                   LV Commercial  P17_41\n",
              "11                   LV Commercial  P17_41\n",
              "13                   LV Commercial  P17_41\n",
              "...                            ...     ...\n",
              "23596  LV Urban Domestic Customers  P17_41\n",
              "23601  LV Urban Domestic Customers  P17_41\n",
              "23603  LV Urban Domestic Customers  P17_41\n",
              "23604  LV Urban Domestic Customers  P17_41\n",
              "23606  LV Urban Domestic Customers  P17_41\n",
              "\n",
              "[15062 rows x 2 columns]"
            ],
            "text/html": [
              "\n",
              "  <div id=\"df-a160ac2f-3666-4bea-8732-d664b0d4387f\">\n",
              "    <div class=\"colab-df-container\">\n",
              "      <div>\n",
              "<style scoped>\n",
              "    .dataframe tbody tr th:only-of-type {\n",
              "        vertical-align: middle;\n",
              "    }\n",
              "\n",
              "    .dataframe tbody tr th {\n",
              "        vertical-align: top;\n",
              "    }\n",
              "\n",
              "    .dataframe thead th {\n",
              "        text-align: right;\n",
              "    }\n",
              "</style>\n",
              "<table border=\"1\" class=\"dataframe\">\n",
              "  <thead>\n",
              "    <tr style=\"text-align: right;\">\n",
              "      <th></th>\n",
              "      <th>Category</th>\n",
              "      <th>portion</th>\n",
              "    </tr>\n",
              "  </thead>\n",
              "  <tbody>\n",
              "    <tr>\n",
              "      <th>0</th>\n",
              "      <td>LV Agricultural</td>\n",
              "      <td>P17_41</td>\n",
              "    </tr>\n",
              "    <tr>\n",
              "      <th>2</th>\n",
              "      <td>LV Bulk</td>\n",
              "      <td>P17_41</td>\n",
              "    </tr>\n",
              "    <tr>\n",
              "      <th>10</th>\n",
              "      <td>LV Commercial</td>\n",
              "      <td>P17_41</td>\n",
              "    </tr>\n",
              "    <tr>\n",
              "      <th>11</th>\n",
              "      <td>LV Commercial</td>\n",
              "      <td>P17_41</td>\n",
              "    </tr>\n",
              "    <tr>\n",
              "      <th>13</th>\n",
              "      <td>LV Commercial</td>\n",
              "      <td>P17_41</td>\n",
              "    </tr>\n",
              "    <tr>\n",
              "      <th>...</th>\n",
              "      <td>...</td>\n",
              "      <td>...</td>\n",
              "    </tr>\n",
              "    <tr>\n",
              "      <th>23596</th>\n",
              "      <td>LV Urban Domestic Customers</td>\n",
              "      <td>P17_41</td>\n",
              "    </tr>\n",
              "    <tr>\n",
              "      <th>23601</th>\n",
              "      <td>LV Urban Domestic Customers</td>\n",
              "      <td>P17_41</td>\n",
              "    </tr>\n",
              "    <tr>\n",
              "      <th>23603</th>\n",
              "      <td>LV Urban Domestic Customers</td>\n",
              "      <td>P17_41</td>\n",
              "    </tr>\n",
              "    <tr>\n",
              "      <th>23604</th>\n",
              "      <td>LV Urban Domestic Customers</td>\n",
              "      <td>P17_41</td>\n",
              "    </tr>\n",
              "    <tr>\n",
              "      <th>23606</th>\n",
              "      <td>LV Urban Domestic Customers</td>\n",
              "      <td>P17_41</td>\n",
              "    </tr>\n",
              "  </tbody>\n",
              "</table>\n",
              "<p>15062 rows × 2 columns</p>\n",
              "</div>\n",
              "      <button class=\"colab-df-convert\" onclick=\"convertToInteractive('df-a160ac2f-3666-4bea-8732-d664b0d4387f')\"\n",
              "              title=\"Convert this dataframe to an interactive table.\"\n",
              "              style=\"display:none;\">\n",
              "        \n",
              "  <svg xmlns=\"http://www.w3.org/2000/svg\" height=\"24px\"viewBox=\"0 0 24 24\"\n",
              "       width=\"24px\">\n",
              "    <path d=\"M0 0h24v24H0V0z\" fill=\"none\"/>\n",
              "    <path d=\"M18.56 5.44l.94 2.06.94-2.06 2.06-.94-2.06-.94-.94-2.06-.94 2.06-2.06.94zm-11 1L8.5 8.5l.94-2.06 2.06-.94-2.06-.94L8.5 2.5l-.94 2.06-2.06.94zm10 10l.94 2.06.94-2.06 2.06-.94-2.06-.94-.94-2.06-.94 2.06-2.06.94z\"/><path d=\"M17.41 7.96l-1.37-1.37c-.4-.4-.92-.59-1.43-.59-.52 0-1.04.2-1.43.59L10.3 9.45l-7.72 7.72c-.78.78-.78 2.05 0 2.83L4 21.41c.39.39.9.59 1.41.59.51 0 1.02-.2 1.41-.59l7.78-7.78 2.81-2.81c.8-.78.8-2.07 0-2.86zM5.41 20L4 18.59l7.72-7.72 1.47 1.35L5.41 20z\"/>\n",
              "  </svg>\n",
              "      </button>\n",
              "      \n",
              "  <style>\n",
              "    .colab-df-container {\n",
              "      display:flex;\n",
              "      flex-wrap:wrap;\n",
              "      gap: 12px;\n",
              "    }\n",
              "\n",
              "    .colab-df-convert {\n",
              "      background-color: #E8F0FE;\n",
              "      border: none;\n",
              "      border-radius: 50%;\n",
              "      cursor: pointer;\n",
              "      display: none;\n",
              "      fill: #1967D2;\n",
              "      height: 32px;\n",
              "      padding: 0 0 0 0;\n",
              "      width: 32px;\n",
              "    }\n",
              "\n",
              "    .colab-df-convert:hover {\n",
              "      background-color: #E2EBFA;\n",
              "      box-shadow: 0px 1px 2px rgba(60, 64, 67, 0.3), 0px 1px 3px 1px rgba(60, 64, 67, 0.15);\n",
              "      fill: #174EA6;\n",
              "    }\n",
              "\n",
              "    [theme=dark] .colab-df-convert {\n",
              "      background-color: #3B4455;\n",
              "      fill: #D2E3FC;\n",
              "    }\n",
              "\n",
              "    [theme=dark] .colab-df-convert:hover {\n",
              "      background-color: #434B5C;\n",
              "      box-shadow: 0px 1px 3px 1px rgba(0, 0, 0, 0.15);\n",
              "      filter: drop-shadow(0px 1px 2px rgba(0, 0, 0, 0.3));\n",
              "      fill: #FFFFFF;\n",
              "    }\n",
              "  </style>\n",
              "\n",
              "      <script>\n",
              "        const buttonEl =\n",
              "          document.querySelector('#df-a160ac2f-3666-4bea-8732-d664b0d4387f button.colab-df-convert');\n",
              "        buttonEl.style.display =\n",
              "          google.colab.kernel.accessAllowed ? 'block' : 'none';\n",
              "\n",
              "        async function convertToInteractive(key) {\n",
              "          const element = document.querySelector('#df-a160ac2f-3666-4bea-8732-d664b0d4387f');\n",
              "          const dataTable =\n",
              "            await google.colab.kernel.invokeFunction('convertToInteractive',\n",
              "                                                     [key], {});\n",
              "          if (!dataTable) return;\n",
              "\n",
              "          const docLinkHtml = 'Like what you see? Visit the ' +\n",
              "            '<a target=\"_blank\" href=https://colab.research.google.com/notebooks/data_table.ipynb>data table notebook</a>'\n",
              "            + ' to learn more about interactive tables.';\n",
              "          element.innerHTML = '';\n",
              "          dataTable['output_type'] = 'display_data';\n",
              "          await google.colab.output.renderOutput(dataTable, element);\n",
              "          const docLink = document.createElement('div');\n",
              "          docLink.innerHTML = docLinkHtml;\n",
              "          element.appendChild(docLink);\n",
              "        }\n",
              "      </script>\n",
              "    </div>\n",
              "  </div>\n",
              "  "
            ]
          },
          "metadata": {},
          "execution_count": 28
        }
      ]
    },
    {
      "cell_type": "code",
      "source": [
        "categorical_features.isna().sum()"
      ],
      "metadata": {
        "colab": {
          "base_uri": "https://localhost:8080/"
        },
        "id": "McwvAhCyUf3W",
        "outputId": "c84832e6-d940-46e8-98da-942ae530798c"
      },
      "execution_count": 29,
      "outputs": [
        {
          "output_type": "execute_result",
          "data": {
            "text/plain": [
              "Category    0\n",
              "portion     0\n",
              "dtype: int64"
            ]
          },
          "metadata": {},
          "execution_count": 29
        }
      ]
    },
    {
      "cell_type": "code",
      "source": [
        "from sklearn.preprocessing import LabelEncoder\n",
        "le = LabelEncoder()\n",
        "# categorical_data = le.fit_transform(categorical_features)\n",
        "\n",
        "df3['Category'] = le.fit_transform(categorical_features['Category'])\n",
        "df3['portion'] = le.fit_transform(categorical_features['portion'])"
      ],
      "metadata": {
        "colab": {
          "base_uri": "https://localhost:8080/"
        },
        "id": "Q3MEpnu7SLn6",
        "outputId": "94360c06-d9cf-4223-8a73-716805417ef4"
      },
      "execution_count": 30,
      "outputs": [
        {
          "output_type": "stream",
          "name": "stderr",
          "text": [
            "/usr/local/lib/python3.7/dist-packages/ipykernel_launcher.py:5: SettingWithCopyWarning: \n",
            "A value is trying to be set on a copy of a slice from a DataFrame.\n",
            "Try using .loc[row_indexer,col_indexer] = value instead\n",
            "\n",
            "See the caveats in the documentation: https://pandas.pydata.org/pandas-docs/stable/user_guide/indexing.html#returning-a-view-versus-a-copy\n",
            "  \"\"\"\n",
            "/usr/local/lib/python3.7/dist-packages/ipykernel_launcher.py:6: SettingWithCopyWarning: \n",
            "A value is trying to be set on a copy of a slice from a DataFrame.\n",
            "Try using .loc[row_indexer,col_indexer] = value instead\n",
            "\n",
            "See the caveats in the documentation: https://pandas.pydata.org/pandas-docs/stable/user_guide/indexing.html#returning-a-view-versus-a-copy\n",
            "  \n"
          ]
        }
      ]
    },
    {
      "cell_type": "markdown",
      "source": [
        "# 7. TRAIN AND TEST SPLIT\n",
        "\n",
        "\n"
      ],
      "metadata": {
        "id": "Fcc2rGJD6u9P"
      }
    },
    {
      "cell_type": "code",
      "source": [
        "# Input:\n",
        "X = df3[['Year','Month','consumption','Category','portion']]\n",
        "\n",
        "# Output:\n",
        "y = df3['energy_Charges']"
      ],
      "metadata": {
        "id": "vLFd3oFCl9Ae"
      },
      "execution_count": 31,
      "outputs": []
    },
    {
      "cell_type": "code",
      "source": [
        "#SPLITING\n",
        "\n",
        "from sklearn.model_selection import train_test_split\n",
        "X_train, X_test, y_train, y_test = train_test_split(X, y, test_size=0.25, random_state=3)"
      ],
      "metadata": {
        "id": "EC7O_P4bnCfC"
      },
      "execution_count": 32,
      "outputs": []
    },
    {
      "cell_type": "code",
      "source": [
        "X_test.head()"
      ],
      "metadata": {
        "id": "hD-A-Cr0fnxE",
        "colab": {
          "base_uri": "https://localhost:8080/",
          "height": 206
        },
        "outputId": "9a123e6d-5449-4158-f5b8-11eb497d997b"
      },
      "execution_count": 33,
      "outputs": [
        {
          "output_type": "execute_result",
          "data": {
            "text/plain": [
              "       Year  Month  consumption  Category  portion\n",
              "20057  2021      7        216.0        11        0\n",
              "6901   2020      1        306.0        11        0\n",
              "17764  2021      4        167.0        11        0\n",
              "16828  2021      3         47.0         6        1\n",
              "14444  2020     11         65.0        11        1"
            ],
            "text/html": [
              "\n",
              "  <div id=\"df-89cb083e-766b-4e1b-8b98-01063bdd82b0\">\n",
              "    <div class=\"colab-df-container\">\n",
              "      <div>\n",
              "<style scoped>\n",
              "    .dataframe tbody tr th:only-of-type {\n",
              "        vertical-align: middle;\n",
              "    }\n",
              "\n",
              "    .dataframe tbody tr th {\n",
              "        vertical-align: top;\n",
              "    }\n",
              "\n",
              "    .dataframe thead th {\n",
              "        text-align: right;\n",
              "    }\n",
              "</style>\n",
              "<table border=\"1\" class=\"dataframe\">\n",
              "  <thead>\n",
              "    <tr style=\"text-align: right;\">\n",
              "      <th></th>\n",
              "      <th>Year</th>\n",
              "      <th>Month</th>\n",
              "      <th>consumption</th>\n",
              "      <th>Category</th>\n",
              "      <th>portion</th>\n",
              "    </tr>\n",
              "  </thead>\n",
              "  <tbody>\n",
              "    <tr>\n",
              "      <th>20057</th>\n",
              "      <td>2021</td>\n",
              "      <td>7</td>\n",
              "      <td>216.0</td>\n",
              "      <td>11</td>\n",
              "      <td>0</td>\n",
              "    </tr>\n",
              "    <tr>\n",
              "      <th>6901</th>\n",
              "      <td>2020</td>\n",
              "      <td>1</td>\n",
              "      <td>306.0</td>\n",
              "      <td>11</td>\n",
              "      <td>0</td>\n",
              "    </tr>\n",
              "    <tr>\n",
              "      <th>17764</th>\n",
              "      <td>2021</td>\n",
              "      <td>4</td>\n",
              "      <td>167.0</td>\n",
              "      <td>11</td>\n",
              "      <td>0</td>\n",
              "    </tr>\n",
              "    <tr>\n",
              "      <th>16828</th>\n",
              "      <td>2021</td>\n",
              "      <td>3</td>\n",
              "      <td>47.0</td>\n",
              "      <td>6</td>\n",
              "      <td>1</td>\n",
              "    </tr>\n",
              "    <tr>\n",
              "      <th>14444</th>\n",
              "      <td>2020</td>\n",
              "      <td>11</td>\n",
              "      <td>65.0</td>\n",
              "      <td>11</td>\n",
              "      <td>1</td>\n",
              "    </tr>\n",
              "  </tbody>\n",
              "</table>\n",
              "</div>\n",
              "      <button class=\"colab-df-convert\" onclick=\"convertToInteractive('df-89cb083e-766b-4e1b-8b98-01063bdd82b0')\"\n",
              "              title=\"Convert this dataframe to an interactive table.\"\n",
              "              style=\"display:none;\">\n",
              "        \n",
              "  <svg xmlns=\"http://www.w3.org/2000/svg\" height=\"24px\"viewBox=\"0 0 24 24\"\n",
              "       width=\"24px\">\n",
              "    <path d=\"M0 0h24v24H0V0z\" fill=\"none\"/>\n",
              "    <path d=\"M18.56 5.44l.94 2.06.94-2.06 2.06-.94-2.06-.94-.94-2.06-.94 2.06-2.06.94zm-11 1L8.5 8.5l.94-2.06 2.06-.94-2.06-.94L8.5 2.5l-.94 2.06-2.06.94zm10 10l.94 2.06.94-2.06 2.06-.94-2.06-.94-.94-2.06-.94 2.06-2.06.94z\"/><path d=\"M17.41 7.96l-1.37-1.37c-.4-.4-.92-.59-1.43-.59-.52 0-1.04.2-1.43.59L10.3 9.45l-7.72 7.72c-.78.78-.78 2.05 0 2.83L4 21.41c.39.39.9.59 1.41.59.51 0 1.02-.2 1.41-.59l7.78-7.78 2.81-2.81c.8-.78.8-2.07 0-2.86zM5.41 20L4 18.59l7.72-7.72 1.47 1.35L5.41 20z\"/>\n",
              "  </svg>\n",
              "      </button>\n",
              "      \n",
              "  <style>\n",
              "    .colab-df-container {\n",
              "      display:flex;\n",
              "      flex-wrap:wrap;\n",
              "      gap: 12px;\n",
              "    }\n",
              "\n",
              "    .colab-df-convert {\n",
              "      background-color: #E8F0FE;\n",
              "      border: none;\n",
              "      border-radius: 50%;\n",
              "      cursor: pointer;\n",
              "      display: none;\n",
              "      fill: #1967D2;\n",
              "      height: 32px;\n",
              "      padding: 0 0 0 0;\n",
              "      width: 32px;\n",
              "    }\n",
              "\n",
              "    .colab-df-convert:hover {\n",
              "      background-color: #E2EBFA;\n",
              "      box-shadow: 0px 1px 2px rgba(60, 64, 67, 0.3), 0px 1px 3px 1px rgba(60, 64, 67, 0.15);\n",
              "      fill: #174EA6;\n",
              "    }\n",
              "\n",
              "    [theme=dark] .colab-df-convert {\n",
              "      background-color: #3B4455;\n",
              "      fill: #D2E3FC;\n",
              "    }\n",
              "\n",
              "    [theme=dark] .colab-df-convert:hover {\n",
              "      background-color: #434B5C;\n",
              "      box-shadow: 0px 1px 3px 1px rgba(0, 0, 0, 0.15);\n",
              "      filter: drop-shadow(0px 1px 2px rgba(0, 0, 0, 0.3));\n",
              "      fill: #FFFFFF;\n",
              "    }\n",
              "  </style>\n",
              "\n",
              "      <script>\n",
              "        const buttonEl =\n",
              "          document.querySelector('#df-89cb083e-766b-4e1b-8b98-01063bdd82b0 button.colab-df-convert');\n",
              "        buttonEl.style.display =\n",
              "          google.colab.kernel.accessAllowed ? 'block' : 'none';\n",
              "\n",
              "        async function convertToInteractive(key) {\n",
              "          const element = document.querySelector('#df-89cb083e-766b-4e1b-8b98-01063bdd82b0');\n",
              "          const dataTable =\n",
              "            await google.colab.kernel.invokeFunction('convertToInteractive',\n",
              "                                                     [key], {});\n",
              "          if (!dataTable) return;\n",
              "\n",
              "          const docLinkHtml = 'Like what you see? Visit the ' +\n",
              "            '<a target=\"_blank\" href=https://colab.research.google.com/notebooks/data_table.ipynb>data table notebook</a>'\n",
              "            + ' to learn more about interactive tables.';\n",
              "          element.innerHTML = '';\n",
              "          dataTable['output_type'] = 'display_data';\n",
              "          await google.colab.output.renderOutput(dataTable, element);\n",
              "          const docLink = document.createElement('div');\n",
              "          docLink.innerHTML = docLinkHtml;\n",
              "          element.appendChild(docLink);\n",
              "        }\n",
              "      </script>\n",
              "    </div>\n",
              "  </div>\n",
              "  "
            ]
          },
          "metadata": {},
          "execution_count": 33
        }
      ]
    },
    {
      "cell_type": "code",
      "source": [
        "y_test.head()"
      ],
      "metadata": {
        "colab": {
          "base_uri": "https://localhost:8080/"
        },
        "id": "BszekgsWjauT",
        "outputId": "a124598f-82db-47a8-fc9f-2097cc8f84bf"
      },
      "execution_count": 34,
      "outputs": [
        {
          "output_type": "execute_result",
          "data": {
            "text/plain": [
              "20057    438.88\n",
              "6901     680.08\n",
              "17764    307.56\n",
              "16828      0.00\n",
              "14444     83.20\n",
              "Name: energy_Charges, dtype: float64"
            ]
          },
          "metadata": {},
          "execution_count": 34
        }
      ]
    },
    {
      "cell_type": "markdown",
      "source": [
        "#7.1: Linear Regression Algorithm"
      ],
      "metadata": {
        "id": "AT9VpXQk6-dt"
      }
    },
    {
      "cell_type": "code",
      "source": [
        "# TRAINING REGRESSION MODEL\n",
        "\n",
        "from sklearn.linear_model import LinearRegression\n",
        "LR_model = LinearRegression()\n",
        "LR_model.fit(X_train, y_train)"
      ],
      "metadata": {
        "id": "HZMlR3uEnKxN",
        "colab": {
          "base_uri": "https://localhost:8080/"
        },
        "outputId": "cd0612c6-c9ee-4bca-cccd-3191aa4f827d"
      },
      "execution_count": 35,
      "outputs": [
        {
          "output_type": "execute_result",
          "data": {
            "text/plain": [
              "LinearRegression()"
            ]
          },
          "metadata": {},
          "execution_count": 35
        }
      ]
    },
    {
      "cell_type": "code",
      "source": [
        "# PREDICTION\n",
        "\n",
        "y_pred_LR = LR_model.predict(X_test)\n",
        "#y_pred_LR"
      ],
      "metadata": {
        "id": "2iq7NrdOoX_w"
      },
      "execution_count": 36,
      "outputs": []
    },
    {
      "cell_type": "code",
      "source": [
        "from sklearn import metrics\n",
        "from sklearn.metrics import r2_score\n",
        "\n",
        "LR_MAE = metrics.mean_absolute_error(y_test, y_pred_LR)\n",
        "LR_MSE = metrics.mean_squared_error(y_test, y_pred_LR)\n",
        "LR_RMSE = np.sqrt(metrics.mean_squared_error(y_test, y_pred_LR))\n",
        "LR_R2 = r2_score(y_test,y_pred_LR)\n",
        "print('Mean Absolute Error:', LR_MAE)\n",
        "print('MSE: ', LR_MSE)\n",
        "print('Root Mean Squared Error:', LR_RMSE)\n",
        "print('Root Mean Squared Error: ', LR_R2)"
      ],
      "metadata": {
        "id": "BWaiYDLvogZ3",
        "colab": {
          "base_uri": "https://localhost:8080/"
        },
        "outputId": "db7415d3-2110-4d89-a61e-d254efcb2f13"
      },
      "execution_count": 37,
      "outputs": [
        {
          "output_type": "stream",
          "name": "stdout",
          "text": [
            "Mean Absolute Error: 48.93470478803732\n",
            "MSE:  6846.411827513629\n",
            "Root Mean Squared Error: 82.74304700404517\n",
            "Root Mean Squared Error:  0.8868973747465826\n"
          ]
        }
      ]
    },
    {
      "cell_type": "code",
      "source": [
        "LR_model.intercept_"
      ],
      "metadata": {
        "id": "cvFn0z7ehdlG",
        "colab": {
          "base_uri": "https://localhost:8080/"
        },
        "outputId": "5a3e299a-747f-4859-8cd0-1db214412e55"
      },
      "execution_count": 38,
      "outputs": [
        {
          "output_type": "execute_result",
          "data": {
            "text/plain": [
              "553.5560662338835"
            ]
          },
          "metadata": {},
          "execution_count": 38
        }
      ]
    },
    {
      "cell_type": "code",
      "source": [
        "LR_model.coef_"
      ],
      "metadata": {
        "id": "quPuI3lThr5P",
        "colab": {
          "base_uri": "https://localhost:8080/"
        },
        "outputId": "efa23c83-86b3-47e6-926f-1e951770f6b4"
      },
      "execution_count": 39,
      "outputs": [
        {
          "output_type": "execute_result",
          "data": {
            "text/plain": [
              "array([ -0.22498456,   0.36717131,   2.55924168, -18.36679922,\n",
              "       -10.77590632])"
            ]
          },
          "metadata": {},
          "execution_count": 39
        }
      ]
    },
    {
      "cell_type": "code",
      "source": [
        "# REGRESSION MODEL EVALUTION\n",
        "\n",
        "Y_train_predicted_LR = LR_model.predict(X_train)\n",
        "Y_test_predicted_LR = LR_model.predict(X_test)\n",
        "LR_train_accuracy = r2_score(y_train,Y_train_predicted_LR)\n",
        "LR_test_accuracy = r2_score(y_test,Y_test_predicted_LR)  \n",
        "print(\"Train set accuracy of regression model: \",LR_train_accuracy)\n",
        "print(\"Test set accuracy of regression model: \",LR_test_accuracy)"
      ],
      "metadata": {
        "id": "86Wiyc0w7SNm",
        "colab": {
          "base_uri": "https://localhost:8080/"
        },
        "outputId": "2c07e6bd-aee5-4ad4-9d4c-74188f54c628"
      },
      "execution_count": 40,
      "outputs": [
        {
          "output_type": "stream",
          "name": "stdout",
          "text": [
            "Train set accuracy of regression model:  0.8897343305146604\n",
            "Test set accuracy of regression model:  0.8868973747465826\n"
          ]
        }
      ]
    },
    {
      "cell_type": "code",
      "source": [
        "LR_Result = pd.DataFrame({\"Actual Consumption\":y_test,\"Predicted Consumption\":Y_test_predicted_LR})\n",
        "LR_Result.head()"
      ],
      "metadata": {
        "id": "_PSyk0Hv_myj",
        "colab": {
          "base_uri": "https://localhost:8080/",
          "height": 206
        },
        "outputId": "9acec704-3577-4900-c0a3-cc7400e27dd6"
      },
      "execution_count": 41,
      "outputs": [
        {
          "output_type": "execute_result",
          "data": {
            "text/plain": [
              "       Actual Consumption  Predicted Consumption\n",
              "20057              438.88             452.193880\n",
              "6901               680.08             680.547588\n",
              "17764              307.56             325.689524\n",
              "16828                0.00              99.271441\n",
              "14444               83.20              56.666150"
            ],
            "text/html": [
              "\n",
              "  <div id=\"df-f455978d-09b0-4bca-a47e-6d2a2713c5ae\">\n",
              "    <div class=\"colab-df-container\">\n",
              "      <div>\n",
              "<style scoped>\n",
              "    .dataframe tbody tr th:only-of-type {\n",
              "        vertical-align: middle;\n",
              "    }\n",
              "\n",
              "    .dataframe tbody tr th {\n",
              "        vertical-align: top;\n",
              "    }\n",
              "\n",
              "    .dataframe thead th {\n",
              "        text-align: right;\n",
              "    }\n",
              "</style>\n",
              "<table border=\"1\" class=\"dataframe\">\n",
              "  <thead>\n",
              "    <tr style=\"text-align: right;\">\n",
              "      <th></th>\n",
              "      <th>Actual Consumption</th>\n",
              "      <th>Predicted Consumption</th>\n",
              "    </tr>\n",
              "  </thead>\n",
              "  <tbody>\n",
              "    <tr>\n",
              "      <th>20057</th>\n",
              "      <td>438.88</td>\n",
              "      <td>452.193880</td>\n",
              "    </tr>\n",
              "    <tr>\n",
              "      <th>6901</th>\n",
              "      <td>680.08</td>\n",
              "      <td>680.547588</td>\n",
              "    </tr>\n",
              "    <tr>\n",
              "      <th>17764</th>\n",
              "      <td>307.56</td>\n",
              "      <td>325.689524</td>\n",
              "    </tr>\n",
              "    <tr>\n",
              "      <th>16828</th>\n",
              "      <td>0.00</td>\n",
              "      <td>99.271441</td>\n",
              "    </tr>\n",
              "    <tr>\n",
              "      <th>14444</th>\n",
              "      <td>83.20</td>\n",
              "      <td>56.666150</td>\n",
              "    </tr>\n",
              "  </tbody>\n",
              "</table>\n",
              "</div>\n",
              "      <button class=\"colab-df-convert\" onclick=\"convertToInteractive('df-f455978d-09b0-4bca-a47e-6d2a2713c5ae')\"\n",
              "              title=\"Convert this dataframe to an interactive table.\"\n",
              "              style=\"display:none;\">\n",
              "        \n",
              "  <svg xmlns=\"http://www.w3.org/2000/svg\" height=\"24px\"viewBox=\"0 0 24 24\"\n",
              "       width=\"24px\">\n",
              "    <path d=\"M0 0h24v24H0V0z\" fill=\"none\"/>\n",
              "    <path d=\"M18.56 5.44l.94 2.06.94-2.06 2.06-.94-2.06-.94-.94-2.06-.94 2.06-2.06.94zm-11 1L8.5 8.5l.94-2.06 2.06-.94-2.06-.94L8.5 2.5l-.94 2.06-2.06.94zm10 10l.94 2.06.94-2.06 2.06-.94-2.06-.94-.94-2.06-.94 2.06-2.06.94z\"/><path d=\"M17.41 7.96l-1.37-1.37c-.4-.4-.92-.59-1.43-.59-.52 0-1.04.2-1.43.59L10.3 9.45l-7.72 7.72c-.78.78-.78 2.05 0 2.83L4 21.41c.39.39.9.59 1.41.59.51 0 1.02-.2 1.41-.59l7.78-7.78 2.81-2.81c.8-.78.8-2.07 0-2.86zM5.41 20L4 18.59l7.72-7.72 1.47 1.35L5.41 20z\"/>\n",
              "  </svg>\n",
              "      </button>\n",
              "      \n",
              "  <style>\n",
              "    .colab-df-container {\n",
              "      display:flex;\n",
              "      flex-wrap:wrap;\n",
              "      gap: 12px;\n",
              "    }\n",
              "\n",
              "    .colab-df-convert {\n",
              "      background-color: #E8F0FE;\n",
              "      border: none;\n",
              "      border-radius: 50%;\n",
              "      cursor: pointer;\n",
              "      display: none;\n",
              "      fill: #1967D2;\n",
              "      height: 32px;\n",
              "      padding: 0 0 0 0;\n",
              "      width: 32px;\n",
              "    }\n",
              "\n",
              "    .colab-df-convert:hover {\n",
              "      background-color: #E2EBFA;\n",
              "      box-shadow: 0px 1px 2px rgba(60, 64, 67, 0.3), 0px 1px 3px 1px rgba(60, 64, 67, 0.15);\n",
              "      fill: #174EA6;\n",
              "    }\n",
              "\n",
              "    [theme=dark] .colab-df-convert {\n",
              "      background-color: #3B4455;\n",
              "      fill: #D2E3FC;\n",
              "    }\n",
              "\n",
              "    [theme=dark] .colab-df-convert:hover {\n",
              "      background-color: #434B5C;\n",
              "      box-shadow: 0px 1px 3px 1px rgba(0, 0, 0, 0.15);\n",
              "      filter: drop-shadow(0px 1px 2px rgba(0, 0, 0, 0.3));\n",
              "      fill: #FFFFFF;\n",
              "    }\n",
              "  </style>\n",
              "\n",
              "      <script>\n",
              "        const buttonEl =\n",
              "          document.querySelector('#df-f455978d-09b0-4bca-a47e-6d2a2713c5ae button.colab-df-convert');\n",
              "        buttonEl.style.display =\n",
              "          google.colab.kernel.accessAllowed ? 'block' : 'none';\n",
              "\n",
              "        async function convertToInteractive(key) {\n",
              "          const element = document.querySelector('#df-f455978d-09b0-4bca-a47e-6d2a2713c5ae');\n",
              "          const dataTable =\n",
              "            await google.colab.kernel.invokeFunction('convertToInteractive',\n",
              "                                                     [key], {});\n",
              "          if (!dataTable) return;\n",
              "\n",
              "          const docLinkHtml = 'Like what you see? Visit the ' +\n",
              "            '<a target=\"_blank\" href=https://colab.research.google.com/notebooks/data_table.ipynb>data table notebook</a>'\n",
              "            + ' to learn more about interactive tables.';\n",
              "          element.innerHTML = '';\n",
              "          dataTable['output_type'] = 'display_data';\n",
              "          await google.colab.output.renderOutput(dataTable, element);\n",
              "          const docLink = document.createElement('div');\n",
              "          docLink.innerHTML = docLinkHtml;\n",
              "          element.appendChild(docLink);\n",
              "        }\n",
              "      </script>\n",
              "    </div>\n",
              "  </div>\n",
              "  "
            ]
          },
          "metadata": {},
          "execution_count": 41
        }
      ]
    },
    {
      "cell_type": "code",
      "source": [
        "LR_model.predict([[2021,10,165.0,11,0]])\n",
        "# LR_model.predict([[2021,10,165.0,11]])\n",
        "# LR_model.predict([[165.0]])\n",
        "# LR_model.predict([[2021,10,165.0]])"
      ],
      "metadata": {
        "colab": {
          "base_uri": "https://localhost:8080/"
        },
        "id": "pImz_1HvgGz7",
        "outputId": "2606de34-7fdf-41f7-fb0f-db3968c5bd44"
      },
      "execution_count": 42,
      "outputs": [
        {
          "output_type": "stream",
          "name": "stderr",
          "text": [
            "/usr/local/lib/python3.7/dist-packages/sklearn/base.py:451: UserWarning: X does not have valid feature names, but LinearRegression was fitted with feature names\n",
            "  \"X does not have valid feature names, but\"\n"
          ]
        },
        {
          "output_type": "execute_result",
          "data": {
            "text/plain": [
              "array([322.7740683])"
            ]
          },
          "metadata": {},
          "execution_count": 42
        }
      ]
    },
    {
      "cell_type": "markdown",
      "source": [
        "# 7.2: RANDOM FOREST ALGORITHM"
      ],
      "metadata": {
        "id": "KostFwbi7ZuR"
      }
    },
    {
      "cell_type": "code",
      "source": [
        "# TRAINING RANDOM FOREST MODEL\n",
        "\n",
        "from sklearn.ensemble import RandomForestRegressor\n",
        "\n",
        "RF_model = RandomForestRegressor(n_estimators=200)\n",
        "RF_model.fit(X_train, y_train)"
      ],
      "metadata": {
        "id": "XDHe3-ubpZz-",
        "colab": {
          "base_uri": "https://localhost:8080/"
        },
        "outputId": "20df27a3-efeb-448c-9416-bba50471fefa"
      },
      "execution_count": 43,
      "outputs": [
        {
          "output_type": "execute_result",
          "data": {
            "text/plain": [
              "RandomForestRegressor(n_estimators=200)"
            ]
          },
          "metadata": {},
          "execution_count": 43
        }
      ]
    },
    {
      "cell_type": "code",
      "source": [
        "#PREDICTION\n",
        "\n",
        "y_pred_RF = RF_model.predict(X_test)\n",
        "#y_pred_RF"
      ],
      "metadata": {
        "id": "dfoszuVxppGz"
      },
      "execution_count": 44,
      "outputs": []
    },
    {
      "cell_type": "code",
      "source": [
        "from sklearn import metrics\n",
        "from sklearn.metrics import r2_score\n",
        "import numpy as np\n",
        "\n",
        "RF_MAE = metrics.mean_absolute_error(y_test, y_pred_RF)\n",
        "RF_MSE = metrics.mean_squared_error(y_test, y_pred_RF)\n",
        "RF_RMSE = np.sqrt(metrics.mean_squared_error(y_test, y_pred_RF))\n",
        "RF_R2 = r2_score(y_test,y_pred_RF)\n",
        "print('Mean Absolute Error:', RF_MAE)\n",
        "print('MSE: ', RF_MSE)\n",
        "print('Root Mean Squared Error:', RF_RMSE)\n",
        "print('R2 Score: ', RF_R2)"
      ],
      "metadata": {
        "id": "i7ijPVCvpz_7",
        "colab": {
          "base_uri": "https://localhost:8080/"
        },
        "outputId": "096909a9-1a6e-4088-9636-a03f9764ebf6"
      },
      "execution_count": 45,
      "outputs": [
        {
          "output_type": "stream",
          "name": "stdout",
          "text": [
            "Mean Absolute Error: 0.9647239245886948\n",
            "MSE:  35.82480349668844\n",
            "Root Mean Squared Error: 5.985382485412978\n",
            "R2 Score:  0.9994081747597507\n"
          ]
        }
      ]
    },
    {
      "cell_type": "code",
      "source": [
        "# EVALUTION \n",
        "\n",
        "Y_train_predicted_RF = RF_model.predict(X_train)\n",
        "Y_test_predicted_RF = RF_model.predict(X_test)\n",
        "RF_train_accuracy = r2_score(y_train,Y_train_predicted_RF)\n",
        "RF_test_accuracy = r2_score(y_test,Y_test_predicted_RF)\n",
        "print(\"Train set accuracy of RandomForest model: \",RF_train_accuracy)\n",
        "print(\"Test set accuracy of RandomForest model: \",RF_test_accuracy)"
      ],
      "metadata": {
        "id": "bkJ7O5Tkp7iX",
        "colab": {
          "base_uri": "https://localhost:8080/"
        },
        "outputId": "59083b20-f1c9-474b-b2f2-4b0391997217"
      },
      "execution_count": 46,
      "outputs": [
        {
          "output_type": "stream",
          "name": "stdout",
          "text": [
            "Train set accuracy of RandomForest model:  0.9998992577748732\n",
            "Test set accuracy of RandomForest model:  0.9994081747597507\n"
          ]
        }
      ]
    },
    {
      "cell_type": "code",
      "source": [
        "RF_Result = pd.DataFrame({\"Actual Consumption\":y_test,\"Predicted Consumption\":Y_test_predicted_RF})\n",
        "RF_Result.head()"
      ],
      "metadata": {
        "id": "6mCA82_K8Azy",
        "colab": {
          "base_uri": "https://localhost:8080/",
          "height": 206
        },
        "outputId": "7c6f3390-dbdf-4fff-9544-4707258fea50"
      },
      "execution_count": 47,
      "outputs": [
        {
          "output_type": "execute_result",
          "data": {
            "text/plain": [
              "       Actual Consumption  Predicted Consumption\n",
              "20057              438.88              438.87895\n",
              "6901               680.08              680.12520\n",
              "17764              307.56              307.56000\n",
              "16828                0.00                0.00000\n",
              "14444               83.20               83.20000"
            ],
            "text/html": [
              "\n",
              "  <div id=\"df-9934b96e-39d7-4b0e-bc39-a702b5bd4220\">\n",
              "    <div class=\"colab-df-container\">\n",
              "      <div>\n",
              "<style scoped>\n",
              "    .dataframe tbody tr th:only-of-type {\n",
              "        vertical-align: middle;\n",
              "    }\n",
              "\n",
              "    .dataframe tbody tr th {\n",
              "        vertical-align: top;\n",
              "    }\n",
              "\n",
              "    .dataframe thead th {\n",
              "        text-align: right;\n",
              "    }\n",
              "</style>\n",
              "<table border=\"1\" class=\"dataframe\">\n",
              "  <thead>\n",
              "    <tr style=\"text-align: right;\">\n",
              "      <th></th>\n",
              "      <th>Actual Consumption</th>\n",
              "      <th>Predicted Consumption</th>\n",
              "    </tr>\n",
              "  </thead>\n",
              "  <tbody>\n",
              "    <tr>\n",
              "      <th>20057</th>\n",
              "      <td>438.88</td>\n",
              "      <td>438.87895</td>\n",
              "    </tr>\n",
              "    <tr>\n",
              "      <th>6901</th>\n",
              "      <td>680.08</td>\n",
              "      <td>680.12520</td>\n",
              "    </tr>\n",
              "    <tr>\n",
              "      <th>17764</th>\n",
              "      <td>307.56</td>\n",
              "      <td>307.56000</td>\n",
              "    </tr>\n",
              "    <tr>\n",
              "      <th>16828</th>\n",
              "      <td>0.00</td>\n",
              "      <td>0.00000</td>\n",
              "    </tr>\n",
              "    <tr>\n",
              "      <th>14444</th>\n",
              "      <td>83.20</td>\n",
              "      <td>83.20000</td>\n",
              "    </tr>\n",
              "  </tbody>\n",
              "</table>\n",
              "</div>\n",
              "      <button class=\"colab-df-convert\" onclick=\"convertToInteractive('df-9934b96e-39d7-4b0e-bc39-a702b5bd4220')\"\n",
              "              title=\"Convert this dataframe to an interactive table.\"\n",
              "              style=\"display:none;\">\n",
              "        \n",
              "  <svg xmlns=\"http://www.w3.org/2000/svg\" height=\"24px\"viewBox=\"0 0 24 24\"\n",
              "       width=\"24px\">\n",
              "    <path d=\"M0 0h24v24H0V0z\" fill=\"none\"/>\n",
              "    <path d=\"M18.56 5.44l.94 2.06.94-2.06 2.06-.94-2.06-.94-.94-2.06-.94 2.06-2.06.94zm-11 1L8.5 8.5l.94-2.06 2.06-.94-2.06-.94L8.5 2.5l-.94 2.06-2.06.94zm10 10l.94 2.06.94-2.06 2.06-.94-2.06-.94-.94-2.06-.94 2.06-2.06.94z\"/><path d=\"M17.41 7.96l-1.37-1.37c-.4-.4-.92-.59-1.43-.59-.52 0-1.04.2-1.43.59L10.3 9.45l-7.72 7.72c-.78.78-.78 2.05 0 2.83L4 21.41c.39.39.9.59 1.41.59.51 0 1.02-.2 1.41-.59l7.78-7.78 2.81-2.81c.8-.78.8-2.07 0-2.86zM5.41 20L4 18.59l7.72-7.72 1.47 1.35L5.41 20z\"/>\n",
              "  </svg>\n",
              "      </button>\n",
              "      \n",
              "  <style>\n",
              "    .colab-df-container {\n",
              "      display:flex;\n",
              "      flex-wrap:wrap;\n",
              "      gap: 12px;\n",
              "    }\n",
              "\n",
              "    .colab-df-convert {\n",
              "      background-color: #E8F0FE;\n",
              "      border: none;\n",
              "      border-radius: 50%;\n",
              "      cursor: pointer;\n",
              "      display: none;\n",
              "      fill: #1967D2;\n",
              "      height: 32px;\n",
              "      padding: 0 0 0 0;\n",
              "      width: 32px;\n",
              "    }\n",
              "\n",
              "    .colab-df-convert:hover {\n",
              "      background-color: #E2EBFA;\n",
              "      box-shadow: 0px 1px 2px rgba(60, 64, 67, 0.3), 0px 1px 3px 1px rgba(60, 64, 67, 0.15);\n",
              "      fill: #174EA6;\n",
              "    }\n",
              "\n",
              "    [theme=dark] .colab-df-convert {\n",
              "      background-color: #3B4455;\n",
              "      fill: #D2E3FC;\n",
              "    }\n",
              "\n",
              "    [theme=dark] .colab-df-convert:hover {\n",
              "      background-color: #434B5C;\n",
              "      box-shadow: 0px 1px 3px 1px rgba(0, 0, 0, 0.15);\n",
              "      filter: drop-shadow(0px 1px 2px rgba(0, 0, 0, 0.3));\n",
              "      fill: #FFFFFF;\n",
              "    }\n",
              "  </style>\n",
              "\n",
              "      <script>\n",
              "        const buttonEl =\n",
              "          document.querySelector('#df-9934b96e-39d7-4b0e-bc39-a702b5bd4220 button.colab-df-convert');\n",
              "        buttonEl.style.display =\n",
              "          google.colab.kernel.accessAllowed ? 'block' : 'none';\n",
              "\n",
              "        async function convertToInteractive(key) {\n",
              "          const element = document.querySelector('#df-9934b96e-39d7-4b0e-bc39-a702b5bd4220');\n",
              "          const dataTable =\n",
              "            await google.colab.kernel.invokeFunction('convertToInteractive',\n",
              "                                                     [key], {});\n",
              "          if (!dataTable) return;\n",
              "\n",
              "          const docLinkHtml = 'Like what you see? Visit the ' +\n",
              "            '<a target=\"_blank\" href=https://colab.research.google.com/notebooks/data_table.ipynb>data table notebook</a>'\n",
              "            + ' to learn more about interactive tables.';\n",
              "          element.innerHTML = '';\n",
              "          dataTable['output_type'] = 'display_data';\n",
              "          await google.colab.output.renderOutput(dataTable, element);\n",
              "          const docLink = document.createElement('div');\n",
              "          docLink.innerHTML = docLinkHtml;\n",
              "          element.appendChild(docLink);\n",
              "        }\n",
              "      </script>\n",
              "    </div>\n",
              "  </div>\n",
              "  "
            ]
          },
          "metadata": {},
          "execution_count": 47
        }
      ]
    },
    {
      "cell_type": "code",
      "source": [
        "RF_model.predict([[2021,10,165.0,11,0]])\n",
        "# RF_model.predict([[2021,10,165.0,11]])\n",
        "# RF_model.predict([[165.0]])\n",
        "# RF_model.predict([[2021,10,165.0]])"
      ],
      "metadata": {
        "colab": {
          "base_uri": "https://localhost:8080/"
        },
        "id": "YNdsBk4kXheR",
        "outputId": "ec0f7bd3-d6ee-45b0-9a17-cba84e80ed94"
      },
      "execution_count": 48,
      "outputs": [
        {
          "output_type": "stream",
          "name": "stderr",
          "text": [
            "/usr/local/lib/python3.7/dist-packages/sklearn/base.py:451: UserWarning: X does not have valid feature names, but RandomForestRegressor was fitted with feature names\n",
            "  \"X does not have valid feature names, but\"\n"
          ]
        },
        {
          "output_type": "execute_result",
          "data": {
            "text/plain": [
              "array([302.2])"
            ]
          },
          "metadata": {},
          "execution_count": 48
        }
      ]
    },
    {
      "cell_type": "markdown",
      "source": [
        "# 7.3: DECISION TREE"
      ],
      "metadata": {
        "id": "ZxZkTS2Zh-cr"
      }
    },
    {
      "cell_type": "code",
      "source": [
        "#TRAIN\n",
        "\n",
        "from sklearn.tree import DecisionTreeRegressor"
      ],
      "metadata": {
        "id": "P5BvGMvHh9pY"
      },
      "execution_count": 49,
      "outputs": []
    },
    {
      "cell_type": "code",
      "source": [
        "DT_model = DecisionTreeRegressor(max_depth=5)\n",
        "DT_model.fit(X_train, y_train)"
      ],
      "metadata": {
        "id": "9GfLXgv0iG04",
        "colab": {
          "base_uri": "https://localhost:8080/"
        },
        "outputId": "3f56cc0c-8cd3-4aae-f07b-3acf2288bd59"
      },
      "execution_count": 50,
      "outputs": [
        {
          "output_type": "execute_result",
          "data": {
            "text/plain": [
              "DecisionTreeRegressor(max_depth=5)"
            ]
          },
          "metadata": {},
          "execution_count": 50
        }
      ]
    },
    {
      "cell_type": "code",
      "source": [
        "# PREDICT\n",
        "\n",
        "y_pred_DT = DT_model.predict(X_test)\n",
        "#y_pred_DT"
      ],
      "metadata": {
        "id": "tIFrG0_biPaA"
      },
      "execution_count": 51,
      "outputs": []
    },
    {
      "cell_type": "code",
      "source": [
        "from sklearn.metrics import r2_score\n",
        "import numpy as np\n",
        "\n",
        "DT_MAE = metrics.mean_absolute_error(y_test, y_pred_DT)\n",
        "DT_MSE = metrics.mean_squared_error(y_test, y_pred_DT)\n",
        "DT_RMSE = np.sqrt(metrics.mean_squared_error(y_test, y_pred_DT))\n",
        "DT_R2 = r2_score(y_test,y_pred_DT)\n",
        "print('Mean Absolute Error:', DT_MAE)\n",
        "print('MSE: ', DT_MSE)\n",
        "print('Root Mean Squared Error:', DT_RMSE)\n",
        "print(\"R2 score : \", DT_R2)"
      ],
      "metadata": {
        "id": "g6QA7UgNiUhw",
        "colab": {
          "base_uri": "https://localhost:8080/"
        },
        "outputId": "39c5595f-d210-4d10-8ed8-6f68c5357ca7"
      },
      "execution_count": 52,
      "outputs": [
        {
          "output_type": "stream",
          "name": "stdout",
          "text": [
            "Mean Absolute Error: 27.46474034709717\n",
            "MSE:  2149.9088237153046\n",
            "Root Mean Squared Error: 46.36710928789183\n",
            "R2 score :  0.9644835370492174\n"
          ]
        }
      ]
    },
    {
      "cell_type": "code",
      "source": [
        "# EVALUTION \n",
        "\n",
        "Y_train_predicted_DT = DT_model.predict(X_train)\n",
        "Y_test_predicted_DT = DT_model.predict(X_test)\n",
        "DT_train_accuracy = r2_score(y_train,Y_train_predicted_DT)\n",
        "DT_test_accuracy = r2_score(y_test,Y_test_predicted_DT)\n",
        "print(\"Train set accuracy of DecisionTree model: \",DT_train_accuracy)\n",
        "print(\"Test set accuracy of DecisionTree model: \",DT_test_accuracy)"
      ],
      "metadata": {
        "id": "DMg4pCAlCtNt",
        "colab": {
          "base_uri": "https://localhost:8080/"
        },
        "outputId": "25c1f5df-127e-4a3f-9744-d19b77a6ecd4"
      },
      "execution_count": 53,
      "outputs": [
        {
          "output_type": "stream",
          "name": "stdout",
          "text": [
            "Train set accuracy of DecisionTree model:  0.969022868696035\n",
            "Test set accuracy of DecisionTree model:  0.9644835370492174\n"
          ]
        }
      ]
    },
    {
      "cell_type": "code",
      "source": [
        "DT_Result = pd.DataFrame({\"Actual Consumption\":y_test,\"Predicted Consumption\":Y_test_predicted_DT})\n",
        "DT_Result.head()"
      ],
      "metadata": {
        "id": "hUih4nMWDRee",
        "colab": {
          "base_uri": "https://localhost:8080/",
          "height": 206
        },
        "outputId": "7a5679e8-ffa7-41cf-9a7c-1306e4776568"
      },
      "execution_count": 54,
      "outputs": [
        {
          "output_type": "execute_result",
          "data": {
            "text/plain": [
              "       Actual Consumption  Predicted Consumption\n",
              "20057              438.88             389.334763\n",
              "6901               680.08             717.129516\n",
              "17764              307.56             285.074740\n",
              "16828                0.00              39.176402\n",
              "14444               83.20             112.240155"
            ],
            "text/html": [
              "\n",
              "  <div id=\"df-f8aa47bf-ab1f-43a4-99f2-290684e1b246\">\n",
              "    <div class=\"colab-df-container\">\n",
              "      <div>\n",
              "<style scoped>\n",
              "    .dataframe tbody tr th:only-of-type {\n",
              "        vertical-align: middle;\n",
              "    }\n",
              "\n",
              "    .dataframe tbody tr th {\n",
              "        vertical-align: top;\n",
              "    }\n",
              "\n",
              "    .dataframe thead th {\n",
              "        text-align: right;\n",
              "    }\n",
              "</style>\n",
              "<table border=\"1\" class=\"dataframe\">\n",
              "  <thead>\n",
              "    <tr style=\"text-align: right;\">\n",
              "      <th></th>\n",
              "      <th>Actual Consumption</th>\n",
              "      <th>Predicted Consumption</th>\n",
              "    </tr>\n",
              "  </thead>\n",
              "  <tbody>\n",
              "    <tr>\n",
              "      <th>20057</th>\n",
              "      <td>438.88</td>\n",
              "      <td>389.334763</td>\n",
              "    </tr>\n",
              "    <tr>\n",
              "      <th>6901</th>\n",
              "      <td>680.08</td>\n",
              "      <td>717.129516</td>\n",
              "    </tr>\n",
              "    <tr>\n",
              "      <th>17764</th>\n",
              "      <td>307.56</td>\n",
              "      <td>285.074740</td>\n",
              "    </tr>\n",
              "    <tr>\n",
              "      <th>16828</th>\n",
              "      <td>0.00</td>\n",
              "      <td>39.176402</td>\n",
              "    </tr>\n",
              "    <tr>\n",
              "      <th>14444</th>\n",
              "      <td>83.20</td>\n",
              "      <td>112.240155</td>\n",
              "    </tr>\n",
              "  </tbody>\n",
              "</table>\n",
              "</div>\n",
              "      <button class=\"colab-df-convert\" onclick=\"convertToInteractive('df-f8aa47bf-ab1f-43a4-99f2-290684e1b246')\"\n",
              "              title=\"Convert this dataframe to an interactive table.\"\n",
              "              style=\"display:none;\">\n",
              "        \n",
              "  <svg xmlns=\"http://www.w3.org/2000/svg\" height=\"24px\"viewBox=\"0 0 24 24\"\n",
              "       width=\"24px\">\n",
              "    <path d=\"M0 0h24v24H0V0z\" fill=\"none\"/>\n",
              "    <path d=\"M18.56 5.44l.94 2.06.94-2.06 2.06-.94-2.06-.94-.94-2.06-.94 2.06-2.06.94zm-11 1L8.5 8.5l.94-2.06 2.06-.94-2.06-.94L8.5 2.5l-.94 2.06-2.06.94zm10 10l.94 2.06.94-2.06 2.06-.94-2.06-.94-.94-2.06-.94 2.06-2.06.94z\"/><path d=\"M17.41 7.96l-1.37-1.37c-.4-.4-.92-.59-1.43-.59-.52 0-1.04.2-1.43.59L10.3 9.45l-7.72 7.72c-.78.78-.78 2.05 0 2.83L4 21.41c.39.39.9.59 1.41.59.51 0 1.02-.2 1.41-.59l7.78-7.78 2.81-2.81c.8-.78.8-2.07 0-2.86zM5.41 20L4 18.59l7.72-7.72 1.47 1.35L5.41 20z\"/>\n",
              "  </svg>\n",
              "      </button>\n",
              "      \n",
              "  <style>\n",
              "    .colab-df-container {\n",
              "      display:flex;\n",
              "      flex-wrap:wrap;\n",
              "      gap: 12px;\n",
              "    }\n",
              "\n",
              "    .colab-df-convert {\n",
              "      background-color: #E8F0FE;\n",
              "      border: none;\n",
              "      border-radius: 50%;\n",
              "      cursor: pointer;\n",
              "      display: none;\n",
              "      fill: #1967D2;\n",
              "      height: 32px;\n",
              "      padding: 0 0 0 0;\n",
              "      width: 32px;\n",
              "    }\n",
              "\n",
              "    .colab-df-convert:hover {\n",
              "      background-color: #E2EBFA;\n",
              "      box-shadow: 0px 1px 2px rgba(60, 64, 67, 0.3), 0px 1px 3px 1px rgba(60, 64, 67, 0.15);\n",
              "      fill: #174EA6;\n",
              "    }\n",
              "\n",
              "    [theme=dark] .colab-df-convert {\n",
              "      background-color: #3B4455;\n",
              "      fill: #D2E3FC;\n",
              "    }\n",
              "\n",
              "    [theme=dark] .colab-df-convert:hover {\n",
              "      background-color: #434B5C;\n",
              "      box-shadow: 0px 1px 3px 1px rgba(0, 0, 0, 0.15);\n",
              "      filter: drop-shadow(0px 1px 2px rgba(0, 0, 0, 0.3));\n",
              "      fill: #FFFFFF;\n",
              "    }\n",
              "  </style>\n",
              "\n",
              "      <script>\n",
              "        const buttonEl =\n",
              "          document.querySelector('#df-f8aa47bf-ab1f-43a4-99f2-290684e1b246 button.colab-df-convert');\n",
              "        buttonEl.style.display =\n",
              "          google.colab.kernel.accessAllowed ? 'block' : 'none';\n",
              "\n",
              "        async function convertToInteractive(key) {\n",
              "          const element = document.querySelector('#df-f8aa47bf-ab1f-43a4-99f2-290684e1b246');\n",
              "          const dataTable =\n",
              "            await google.colab.kernel.invokeFunction('convertToInteractive',\n",
              "                                                     [key], {});\n",
              "          if (!dataTable) return;\n",
              "\n",
              "          const docLinkHtml = 'Like what you see? Visit the ' +\n",
              "            '<a target=\"_blank\" href=https://colab.research.google.com/notebooks/data_table.ipynb>data table notebook</a>'\n",
              "            + ' to learn more about interactive tables.';\n",
              "          element.innerHTML = '';\n",
              "          dataTable['output_type'] = 'display_data';\n",
              "          await google.colab.output.renderOutput(dataTable, element);\n",
              "          const docLink = document.createElement('div');\n",
              "          docLink.innerHTML = docLinkHtml;\n",
              "          element.appendChild(docLink);\n",
              "        }\n",
              "      </script>\n",
              "    </div>\n",
              "  </div>\n",
              "  "
            ]
          },
          "metadata": {},
          "execution_count": 54
        }
      ]
    },
    {
      "cell_type": "code",
      "source": [
        "DT_model.predict([[2021,10,165.0,11,0]])\n",
        "# DT_model.predict([[2021,10,165.0,11]])\n",
        "# DT_model.predict([[165.0]])\n",
        "# DT_model.predict([[2021,10,165.0]])"
      ],
      "metadata": {
        "id": "6Yo553c-gU8P",
        "colab": {
          "base_uri": "https://localhost:8080/"
        },
        "outputId": "69884827-0e4e-454b-dce0-aa1358ea7d1c"
      },
      "execution_count": 55,
      "outputs": [
        {
          "output_type": "stream",
          "name": "stderr",
          "text": [
            "/usr/local/lib/python3.7/dist-packages/sklearn/base.py:451: UserWarning: X does not have valid feature names, but DecisionTreeRegressor was fitted with feature names\n",
            "  \"X does not have valid feature names, but\"\n"
          ]
        },
        {
          "output_type": "execute_result",
          "data": {
            "text/plain": [
              "array([285.07474003])"
            ]
          },
          "metadata": {},
          "execution_count": 55
        }
      ]
    },
    {
      "cell_type": "markdown",
      "source": [
        "# 7.4: KNN ALGORITHM"
      ],
      "metadata": {
        "id": "L_NKGKze0Raj"
      }
    },
    {
      "cell_type": "code",
      "source": [
        "from sklearn.neighbors import KNeighborsRegressor"
      ],
      "metadata": {
        "id": "x74oJV0E0Qwg"
      },
      "execution_count": 56,
      "outputs": []
    },
    {
      "cell_type": "code",
      "source": [
        "KNN_model = KNeighborsRegressor(10)\n",
        "KNN_model.fit(X_train,y_train)"
      ],
      "metadata": {
        "id": "RU6_ATwC3H4T",
        "colab": {
          "base_uri": "https://localhost:8080/"
        },
        "outputId": "52dcf3bc-e4c5-4fcb-ce77-0dfa5f50278c"
      },
      "execution_count": 57,
      "outputs": [
        {
          "output_type": "execute_result",
          "data": {
            "text/plain": [
              "KNeighborsRegressor(n_neighbors=10)"
            ]
          },
          "metadata": {},
          "execution_count": 57
        }
      ]
    },
    {
      "cell_type": "code",
      "source": [
        "y_pred_KNN = KNN_model.predict(X_test)\n",
        "#y_pred_KNN"
      ],
      "metadata": {
        "id": "-p1wQrR63l4Y"
      },
      "execution_count": 58,
      "outputs": []
    },
    {
      "cell_type": "code",
      "source": [
        "KNN_MAE = metrics.mean_absolute_error(y_test, y_pred_KNN)\n",
        "KNN_MSE = metrics.mean_squared_error(y_test, y_pred_KNN)\n",
        "KNN_RMSE = np.sqrt(metrics.mean_squared_error(y_test, y_pred_KNN))\n",
        "KNN_R2 = r2_score(y_test,y_pred_KNN)\n",
        "print('Mean Absolute Error:', KNN_MAE)\n",
        "print('MSE: ', KNN_MSE)\n",
        "print('Root Mean Squared Error:', KNN_RMSE)\n",
        "print(\"R2 score : \",KNN_R2)"
      ],
      "metadata": {
        "id": "OJAaYtNn38V2",
        "colab": {
          "base_uri": "https://localhost:8080/"
        },
        "outputId": "9336696b-9ef0-4397-ec04-0674ff274b1d"
      },
      "execution_count": 59,
      "outputs": [
        {
          "output_type": "stream",
          "name": "stdout",
          "text": [
            "Mean Absolute Error: 13.425674455655868\n",
            "MSE:  2198.9944834832713\n",
            "Root Mean Squared Error: 46.89343753110099\n",
            "R2 score :  0.963672642653449\n"
          ]
        }
      ]
    },
    {
      "cell_type": "code",
      "source": [
        "# EVALUTION \n",
        "\n",
        "Y_train_predicted_KNN = KNN_model.predict(X_train)\n",
        "Y_test_predicted_KNN = KNN_model.predict(X_test)\n",
        "KNN_train_accuracy = r2_score(y_train,Y_train_predicted_KNN)\n",
        "KNN_test_accuracy = r2_score(y_test,Y_test_predicted_KNN)\n",
        "print(\"Train set accuracy of DecisionTree model: \",KNN_train_accuracy)\n",
        "print(\"Test set accuracy of DecisionTree model: \",KNN_train_accuracy)"
      ],
      "metadata": {
        "id": "agkC6c4z4Fem",
        "colab": {
          "base_uri": "https://localhost:8080/"
        },
        "outputId": "cec346b7-0a65-4f0d-f2ee-41e97d370031"
      },
      "execution_count": 60,
      "outputs": [
        {
          "output_type": "stream",
          "name": "stdout",
          "text": [
            "Train set accuracy of DecisionTree model:  0.9750686009295029\n",
            "Test set accuracy of DecisionTree model:  0.9750686009295029\n"
          ]
        }
      ]
    },
    {
      "cell_type": "code",
      "source": [
        "KNN_Result = pd.DataFrame({\"Actual Consumption\":y_test,\"Predicted Consumption\":Y_test_predicted_KNN})\n",
        "KNN_Result.head()"
      ],
      "metadata": {
        "id": "oPO8-_ta5Nug",
        "colab": {
          "base_uri": "https://localhost:8080/",
          "height": 206
        },
        "outputId": "2b4c1e23-af01-40ab-c1eb-83bcc6fbe11a"
      },
      "execution_count": 61,
      "outputs": [
        {
          "output_type": "execute_result",
          "data": {
            "text/plain": [
              "       Actual Consumption  Predicted Consumption\n",
              "20057              438.88                438.875\n",
              "6901               680.08                681.296\n",
              "17764              307.56                307.292\n",
              "16828                0.00                  6.016\n",
              "14444               83.20                 83.217"
            ],
            "text/html": [
              "\n",
              "  <div id=\"df-f4f9e0a1-479c-4533-a2df-fb45f7fa81eb\">\n",
              "    <div class=\"colab-df-container\">\n",
              "      <div>\n",
              "<style scoped>\n",
              "    .dataframe tbody tr th:only-of-type {\n",
              "        vertical-align: middle;\n",
              "    }\n",
              "\n",
              "    .dataframe tbody tr th {\n",
              "        vertical-align: top;\n",
              "    }\n",
              "\n",
              "    .dataframe thead th {\n",
              "        text-align: right;\n",
              "    }\n",
              "</style>\n",
              "<table border=\"1\" class=\"dataframe\">\n",
              "  <thead>\n",
              "    <tr style=\"text-align: right;\">\n",
              "      <th></th>\n",
              "      <th>Actual Consumption</th>\n",
              "      <th>Predicted Consumption</th>\n",
              "    </tr>\n",
              "  </thead>\n",
              "  <tbody>\n",
              "    <tr>\n",
              "      <th>20057</th>\n",
              "      <td>438.88</td>\n",
              "      <td>438.875</td>\n",
              "    </tr>\n",
              "    <tr>\n",
              "      <th>6901</th>\n",
              "      <td>680.08</td>\n",
              "      <td>681.296</td>\n",
              "    </tr>\n",
              "    <tr>\n",
              "      <th>17764</th>\n",
              "      <td>307.56</td>\n",
              "      <td>307.292</td>\n",
              "    </tr>\n",
              "    <tr>\n",
              "      <th>16828</th>\n",
              "      <td>0.00</td>\n",
              "      <td>6.016</td>\n",
              "    </tr>\n",
              "    <tr>\n",
              "      <th>14444</th>\n",
              "      <td>83.20</td>\n",
              "      <td>83.217</td>\n",
              "    </tr>\n",
              "  </tbody>\n",
              "</table>\n",
              "</div>\n",
              "      <button class=\"colab-df-convert\" onclick=\"convertToInteractive('df-f4f9e0a1-479c-4533-a2df-fb45f7fa81eb')\"\n",
              "              title=\"Convert this dataframe to an interactive table.\"\n",
              "              style=\"display:none;\">\n",
              "        \n",
              "  <svg xmlns=\"http://www.w3.org/2000/svg\" height=\"24px\"viewBox=\"0 0 24 24\"\n",
              "       width=\"24px\">\n",
              "    <path d=\"M0 0h24v24H0V0z\" fill=\"none\"/>\n",
              "    <path d=\"M18.56 5.44l.94 2.06.94-2.06 2.06-.94-2.06-.94-.94-2.06-.94 2.06-2.06.94zm-11 1L8.5 8.5l.94-2.06 2.06-.94-2.06-.94L8.5 2.5l-.94 2.06-2.06.94zm10 10l.94 2.06.94-2.06 2.06-.94-2.06-.94-.94-2.06-.94 2.06-2.06.94z\"/><path d=\"M17.41 7.96l-1.37-1.37c-.4-.4-.92-.59-1.43-.59-.52 0-1.04.2-1.43.59L10.3 9.45l-7.72 7.72c-.78.78-.78 2.05 0 2.83L4 21.41c.39.39.9.59 1.41.59.51 0 1.02-.2 1.41-.59l7.78-7.78 2.81-2.81c.8-.78.8-2.07 0-2.86zM5.41 20L4 18.59l7.72-7.72 1.47 1.35L5.41 20z\"/>\n",
              "  </svg>\n",
              "      </button>\n",
              "      \n",
              "  <style>\n",
              "    .colab-df-container {\n",
              "      display:flex;\n",
              "      flex-wrap:wrap;\n",
              "      gap: 12px;\n",
              "    }\n",
              "\n",
              "    .colab-df-convert {\n",
              "      background-color: #E8F0FE;\n",
              "      border: none;\n",
              "      border-radius: 50%;\n",
              "      cursor: pointer;\n",
              "      display: none;\n",
              "      fill: #1967D2;\n",
              "      height: 32px;\n",
              "      padding: 0 0 0 0;\n",
              "      width: 32px;\n",
              "    }\n",
              "\n",
              "    .colab-df-convert:hover {\n",
              "      background-color: #E2EBFA;\n",
              "      box-shadow: 0px 1px 2px rgba(60, 64, 67, 0.3), 0px 1px 3px 1px rgba(60, 64, 67, 0.15);\n",
              "      fill: #174EA6;\n",
              "    }\n",
              "\n",
              "    [theme=dark] .colab-df-convert {\n",
              "      background-color: #3B4455;\n",
              "      fill: #D2E3FC;\n",
              "    }\n",
              "\n",
              "    [theme=dark] .colab-df-convert:hover {\n",
              "      background-color: #434B5C;\n",
              "      box-shadow: 0px 1px 3px 1px rgba(0, 0, 0, 0.15);\n",
              "      filter: drop-shadow(0px 1px 2px rgba(0, 0, 0, 0.3));\n",
              "      fill: #FFFFFF;\n",
              "    }\n",
              "  </style>\n",
              "\n",
              "      <script>\n",
              "        const buttonEl =\n",
              "          document.querySelector('#df-f4f9e0a1-479c-4533-a2df-fb45f7fa81eb button.colab-df-convert');\n",
              "        buttonEl.style.display =\n",
              "          google.colab.kernel.accessAllowed ? 'block' : 'none';\n",
              "\n",
              "        async function convertToInteractive(key) {\n",
              "          const element = document.querySelector('#df-f4f9e0a1-479c-4533-a2df-fb45f7fa81eb');\n",
              "          const dataTable =\n",
              "            await google.colab.kernel.invokeFunction('convertToInteractive',\n",
              "                                                     [key], {});\n",
              "          if (!dataTable) return;\n",
              "\n",
              "          const docLinkHtml = 'Like what you see? Visit the ' +\n",
              "            '<a target=\"_blank\" href=https://colab.research.google.com/notebooks/data_table.ipynb>data table notebook</a>'\n",
              "            + ' to learn more about interactive tables.';\n",
              "          element.innerHTML = '';\n",
              "          dataTable['output_type'] = 'display_data';\n",
              "          await google.colab.output.renderOutput(dataTable, element);\n",
              "          const docLink = document.createElement('div');\n",
              "          docLink.innerHTML = docLinkHtml;\n",
              "          element.appendChild(docLink);\n",
              "        }\n",
              "      </script>\n",
              "    </div>\n",
              "  </div>\n",
              "  "
            ]
          },
          "metadata": {},
          "execution_count": 61
        }
      ]
    },
    {
      "cell_type": "code",
      "source": [
        "KNN_model.predict([[2021,10,165.0,11,0]])\n",
        "# KNN_model.predict([[2021,10,165.0,11]])\n",
        "# KNN_model.predict([[165.0]])\n",
        "# KNN_model.predict([[2021,10,165.0]])"
      ],
      "metadata": {
        "id": "rwlVzU-0gZ_X",
        "colab": {
          "base_uri": "https://localhost:8080/"
        },
        "outputId": "83a198b7-8013-40ac-f3a6-d2f4de9dc84e"
      },
      "execution_count": 62,
      "outputs": [
        {
          "output_type": "stream",
          "name": "stderr",
          "text": [
            "/usr/local/lib/python3.7/dist-packages/sklearn/base.py:451: UserWarning: X does not have valid feature names, but KNeighborsRegressor was fitted with feature names\n",
            "  \"X does not have valid feature names, but\"\n"
          ]
        },
        {
          "output_type": "execute_result",
          "data": {
            "text/plain": [
              "array([302.468])"
            ]
          },
          "metadata": {},
          "execution_count": 62
        }
      ]
    },
    {
      "cell_type": "markdown",
      "source": [
        "# 8. COMPARISION AND CONCLUSION"
      ],
      "metadata": {
        "id": "ABHmIflRwcZS"
      }
    },
    {
      "cell_type": "code",
      "source": [
        "mylist=[]\n",
        "mylist2=[]\n",
        "mylist.append(LR_test_accuracy)\n",
        "mylist2.append(\"Linear Regression\",)\n",
        "mylist.append(RF_test_accuracy)\n",
        "mylist2.append(\"Random Forest\",)\n",
        "mylist.append(DT_test_accuracy)\n",
        "mylist2.append(\"Decision Tree\")\n",
        "mylist.append(KNN_test_accuracy)\n",
        "mylist2.append(\"K Nearest Neighbor\")\n",
        "plt.rcParams['figure.figsize']=8,6\n",
        "sns.set_style(\"darkgrid\")\n",
        "plt.figure(figsize=(15,5))\n",
        "ax = sns.barplot(x=mylist2, y=mylist, palette = \"mako\", saturation =1.5)\n",
        "plt.xlabel(\"Models\", fontsize = 20 )\n",
        "plt.ylabel(\"Accuracy\", fontsize = 20)\n",
        "plt.title(\"Accuracy of Different Models\", fontsize = 20)\n",
        "# plt.xticks(fontsize = 11, horizontalalignment = 'center', rotation = 8)\n",
        "plt.yticks(fontsize = 13)\n",
        "for p in ax.patches:\n",
        "    width, height = p.get_width(), p.get_height()\n",
        "    x, y = p.get_xy() \n",
        "    ax.annotate(f'{height:.2%}', (x + width/2, y + height*1.02), ha='center', fontsize = 'x-large')\n",
        "plt.show()"
      ],
      "metadata": {
        "id": "Bs578uJE8ZxV",
        "colab": {
          "base_uri": "https://localhost:8080/",
          "height": 364
        },
        "outputId": "ca19ea98-741f-4094-9301-4474bb041ce0"
      },
      "execution_count": 63,
      "outputs": [
        {
          "output_type": "display_data",
          "data": {
            "text/plain": [
              "<Figure size 1080x360 with 1 Axes>"
            ],
            "image/png": "[encoded data removed]"
          },
          "metadata": {}
        }
      ]
    },
    {
      "cell_type": "code",
      "source": [
        "# ERRORS\n",
        "data = {\"Model\": [\"Linear Regression\", \"Random Forest\",\"Decision Tree\", \"K Nearest Neighbor\"], \n",
        "        \"MSE\": [LR_MSE, RF_MSE, DT_MSE, KNN_MSE],         \n",
        "        \"RMSE\": [LR_RMSE, RF_RMSE, DT_RMSE, KNN_RMSE],\n",
        "        \"MAE\": [LR_MAE,RF_MAE, DT_MAE, KNN_MAE],\n",
        "        \"R2\": [LR_MAE,RF_MAE, DT_MAE, KNN_MAE]}\n",
        "\n",
        "results = pd.DataFrame(data=data)\n",
        "results"
      ],
      "metadata": {
        "id": "LqXD3R7LGL8j",
        "colab": {
          "base_uri": "https://localhost:8080/",
          "height": 175
        },
        "outputId": "a998771c-9532-4537-af7e-19604f94638b"
      },
      "execution_count": 64,
      "outputs": [
        {
          "output_type": "execute_result",
          "data": {
            "text/plain": [
              "                Model          MSE       RMSE        MAE         R2\n",
              "0   Linear Regression  6846.411828  82.743047  48.934705  48.934705\n",
              "1       Random Forest    35.824803   5.985382   0.964724   0.964724\n",
              "2       Decision Tree  2149.908824  46.367109  27.464740  27.464740\n",
              "3  K Nearest Neighbor  2198.994483  46.893438  13.425674  13.425674"
            ],
            "text/html": [
              "\n",
              "  <div id=\"df-2737f114-93b5-473a-a36a-a8814b50b746\">\n",
              "    <div class=\"colab-df-container\">\n",
              "      <div>\n",
              "<style scoped>\n",
              "    .dataframe tbody tr th:only-of-type {\n",
              "        vertical-align: middle;\n",
              "    }\n",
              "\n",
              "    .dataframe tbody tr th {\n",
              "        vertical-align: top;\n",
              "    }\n",
              "\n",
              "    .dataframe thead th {\n",
              "        text-align: right;\n",
              "    }\n",
              "</style>\n",
              "<table border=\"1\" class=\"dataframe\">\n",
              "  <thead>\n",
              "    <tr style=\"text-align: right;\">\n",
              "      <th></th>\n",
              "      <th>Model</th>\n",
              "      <th>MSE</th>\n",
              "      <th>RMSE</th>\n",
              "      <th>MAE</th>\n",
              "      <th>R2</th>\n",
              "    </tr>\n",
              "  </thead>\n",
              "  <tbody>\n",
              "    <tr>\n",
              "      <th>0</th>\n",
              "      <td>Linear Regression</td>\n",
              "      <td>6846.411828</td>\n",
              "      <td>82.743047</td>\n",
              "      <td>48.934705</td>\n",
              "      <td>48.934705</td>\n",
              "    </tr>\n",
              "    <tr>\n",
              "      <th>1</th>\n",
              "      <td>Random Forest</td>\n",
              "      <td>35.824803</td>\n",
              "      <td>5.985382</td>\n",
              "      <td>0.964724</td>\n",
              "      <td>0.964724</td>\n",
              "    </tr>\n",
              "    <tr>\n",
              "      <th>2</th>\n",
              "      <td>Decision Tree</td>\n",
              "      <td>2149.908824</td>\n",
              "      <td>46.367109</td>\n",
              "      <td>27.464740</td>\n",
              "      <td>27.464740</td>\n",
              "    </tr>\n",
              "    <tr>\n",
              "      <th>3</th>\n",
              "      <td>K Nearest Neighbor</td>\n",
              "      <td>2198.994483</td>\n",
              "      <td>46.893438</td>\n",
              "      <td>13.425674</td>\n",
              "      <td>13.425674</td>\n",
              "    </tr>\n",
              "  </tbody>\n",
              "</table>\n",
              "</div>\n",
              "      <button class=\"colab-df-convert\" onclick=\"convertToInteractive('df-2737f114-93b5-473a-a36a-a8814b50b746')\"\n",
              "              title=\"Convert this dataframe to an interactive table.\"\n",
              "              style=\"display:none;\">\n",
              "        \n",
              "  <svg xmlns=\"http://www.w3.org/2000/svg\" height=\"24px\"viewBox=\"0 0 24 24\"\n",
              "       width=\"24px\">\n",
              "    <path d=\"M0 0h24v24H0V0z\" fill=\"none\"/>\n",
              "    <path d=\"M18.56 5.44l.94 2.06.94-2.06 2.06-.94-2.06-.94-.94-2.06-.94 2.06-2.06.94zm-11 1L8.5 8.5l.94-2.06 2.06-.94-2.06-.94L8.5 2.5l-.94 2.06-2.06.94zm10 10l.94 2.06.94-2.06 2.06-.94-2.06-.94-.94-2.06-.94 2.06-2.06.94z\"/><path d=\"M17.41 7.96l-1.37-1.37c-.4-.4-.92-.59-1.43-.59-.52 0-1.04.2-1.43.59L10.3 9.45l-7.72 7.72c-.78.78-.78 2.05 0 2.83L4 21.41c.39.39.9.59 1.41.59.51 0 1.02-.2 1.41-.59l7.78-7.78 2.81-2.81c.8-.78.8-2.07 0-2.86zM5.41 20L4 18.59l7.72-7.72 1.47 1.35L5.41 20z\"/>\n",
              "  </svg>\n",
              "      </button>\n",
              "      \n",
              "  <style>\n",
              "    .colab-df-container {\n",
              "      display:flex;\n",
              "      flex-wrap:wrap;\n",
              "      gap: 12px;\n",
              "    }\n",
              "\n",
              "    .colab-df-convert {\n",
              "      background-color: #E8F0FE;\n",
              "      border: none;\n",
              "      border-radius: 50%;\n",
              "      cursor: pointer;\n",
              "      display: none;\n",
              "      fill: #1967D2;\n",
              "      height: 32px;\n",
              "      padding: 0 0 0 0;\n",
              "      width: 32px;\n",
              "    }\n",
              "\n",
              "    .colab-df-convert:hover {\n",
              "      background-color: #E2EBFA;\n",
              "      box-shadow: 0px 1px 2px rgba(60, 64, 67, 0.3), 0px 1px 3px 1px rgba(60, 64, 67, 0.15);\n",
              "      fill: #174EA6;\n",
              "    }\n",
              "\n",
              "    [theme=dark] .colab-df-convert {\n",
              "      background-color: #3B4455;\n",
              "      fill: #D2E3FC;\n",
              "    }\n",
              "\n",
              "    [theme=dark] .colab-df-convert:hover {\n",
              "      background-color: #434B5C;\n",
              "      box-shadow: 0px 1px 3px 1px rgba(0, 0, 0, 0.15);\n",
              "      filter: drop-shadow(0px 1px 2px rgba(0, 0, 0, 0.3));\n",
              "      fill: #FFFFFF;\n",
              "    }\n",
              "  </style>\n",
              "\n",
              "      <script>\n",
              "        const buttonEl =\n",
              "          document.querySelector('#df-2737f114-93b5-473a-a36a-a8814b50b746 button.colab-df-convert');\n",
              "        buttonEl.style.display =\n",
              "          google.colab.kernel.accessAllowed ? 'block' : 'none';\n",
              "\n",
              "        async function convertToInteractive(key) {\n",
              "          const element = document.querySelector('#df-2737f114-93b5-473a-a36a-a8814b50b746');\n",
              "          const dataTable =\n",
              "            await google.colab.kernel.invokeFunction('convertToInteractive',\n",
              "                                                     [key], {});\n",
              "          if (!dataTable) return;\n",
              "\n",
              "          const docLinkHtml = 'Like what you see? Visit the ' +\n",
              "            '<a target=\"_blank\" href=https://colab.research.google.com/notebooks/data_table.ipynb>data table notebook</a>'\n",
              "            + ' to learn more about interactive tables.';\n",
              "          element.innerHTML = '';\n",
              "          dataTable['output_type'] = 'display_data';\n",
              "          await google.colab.output.renderOutput(dataTable, element);\n",
              "          const docLink = document.createElement('div');\n",
              "          docLink.innerHTML = docLinkHtml;\n",
              "          element.appendChild(docLink);\n",
              "        }\n",
              "      </script>\n",
              "    </div>\n",
              "  </div>\n",
              "  "
            ]
          },
          "metadata": {},
          "execution_count": 64
        }
      ]
    },
    {
      "cell_type": "markdown",
      "source": [
        "\n",
        "**CONCLUSION :**\n",
        "\n",
        "From all the above result we can conclude that the best algorithm is the Random Forest Algorithm for this project because it has higher accuracy and low Mean Absolute Error, Mean Squared Error, Root Mean Squared Error and a good R-squared score compared to other algorithms."
      ],
      "metadata": {
        "id": "GXsYli4J2YSR"
      }
    }
  ]
}