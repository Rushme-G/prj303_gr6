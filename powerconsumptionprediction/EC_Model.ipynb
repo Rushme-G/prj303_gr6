{
 "cells": [
  {
   "cell_type": "markdown",
   "metadata": {
    "id": "NsyTH3qXfHfw"
   },
   "source": [
    "# TOPIC: Analysis of Household Power Consumption in Gyalpozhing\n",
    "## Group 6\n",
    "1. Anisha Rai (12190041)\n",
    "2. Rashmi Gurung (12190072)\n",
    "3. Sonam Dema (12190081)\n",
    "4. Tashi Namgay (12190086)"
   ]
  },
  {
   "cell_type": "markdown",
   "metadata": {
    "id": "l5Lng3cD0hiI"
   },
   "source": [
    "#1. IMPORT LIBRARIES"
   ]
  },
  {
   "cell_type": "markdown",
   "metadata": {
    "id": "V9tBvawiepk-"
   },
   "source": []
  },
  {
   "cell_type": "code",
   "execution_count": 3,
   "metadata": {
    "id": "f4XKY87DzKon"
   },
   "outputs": [],
   "source": [
    "import pandas as pd\n",
    "import numpy as np\n",
    "import seaborn as sns\n",
    "from sklearn import preprocessing\n",
    "%matplotlib inline\n",
    "import matplotlib.pyplot as plt\n",
    "plt.ioff()\n",
    "from matplotlib import pyplot as plt\n"
   ]
  },
  {
   "cell_type": "code",
   "execution_count": 2,
   "metadata": {},
   "outputs": [
    {
     "ename": "NameError",
     "evalue": "name 'sklearn_version' is not defined",
     "output_type": "error",
     "traceback": [
      "\u001b[1;31m---------------------------------------------------------------------------\u001b[0m",
      "\u001b[1;31mNameError\u001b[0m                                 Traceback (most recent call last)",
      "\u001b[1;32m<ipython-input-2-84f4ede969c7>\u001b[0m in \u001b[0;36m<module>\u001b[1;34m\u001b[0m\n\u001b[1;32m----> 1\u001b[1;33m \u001b[0mprint\u001b[0m\u001b[1;33m(\u001b[0m\u001b[0msklearn_version\u001b[0m\u001b[1;33m)\u001b[0m\u001b[1;33m\u001b[0m\u001b[1;33m\u001b[0m\u001b[0m\n\u001b[0m",
      "\u001b[1;31mNameError\u001b[0m: name 'sklearn_version' is not defined"
     ]
    }
   ],
   "source": [
    "\n",
    "print(sklearn_version)"
   ]
  },
  {
   "cell_type": "code",
   "execution_count": null,
   "metadata": {},
   "outputs": [],
   "source": []
  },
  {
   "cell_type": "code",
   "execution_count": null,
   "metadata": {},
   "outputs": [],
   "source": [
    "pip install scikit-learn==1.0.1"
   ]
  },
  {
   "cell_type": "code",
   "execution_count": 4,
   "metadata": {},
   "outputs": [
    {
     "data": {
      "text/plain": [
       "'1.0.1'"
      ]
     },
     "execution_count": 4,
     "metadata": {},
     "output_type": "execute_result"
    }
   ],
   "source": [
    "import sklearn\n",
    "sklearn.__version__\n"
   ]
  },
  {
   "cell_type": "code",
   "execution_count": null,
   "metadata": {
    "colab": {
     "base_uri": "https://localhost:8080/"
    },
    "id": "GvTQCBHZOUQt",
    "outputId": "4f7205d3-835e-40c0-e0b7-2e9153a7faf7"
   },
   "outputs": [],
   "source": [
    "\n"
   ]
  },
  {
   "cell_type": "markdown",
   "metadata": {
    "id": "lNeqAJF60zbu"
   },
   "source": [
    "#2. LOAD DATA"
   ]
  },
  {
   "cell_type": "code",
   "execution_count": 5,
   "metadata": {
    "colab": {
     "base_uri": "https://localhost:8080/",
     "height": 542
    },
    "id": "Hox3tVA9retj",
    "outputId": "ae9737b4-57f0-4a19-a1ee-988a52380258"
   },
   "outputs": [
    {
     "data": {
      "text/html": [
       "<div>\n",
       "<style scoped>\n",
       "    .dataframe tbody tr th:only-of-type {\n",
       "        vertical-align: middle;\n",
       "    }\n",
       "\n",
       "    .dataframe tbody tr th {\n",
       "        vertical-align: top;\n",
       "    }\n",
       "\n",
       "    .dataframe thead th {\n",
       "        text-align: right;\n",
       "    }\n",
       "</style>\n",
       "<table border=\"1\" class=\"dataframe\">\n",
       "  <thead>\n",
       "    <tr style=\"text-align: right;\">\n",
       "      <th></th>\n",
       "      <th>BP Number</th>\n",
       "      <th>BP_name</th>\n",
       "      <th>CA_number</th>\n",
       "      <th>portion</th>\n",
       "      <th>posting_Date</th>\n",
       "      <th>Due Date</th>\n",
       "      <th>Billing Period</th>\n",
       "      <th>Print Doc. No.</th>\n",
       "      <th>Billing Doc. No.</th>\n",
       "      <th>consumption</th>\n",
       "      <th>...</th>\n",
       "      <th>current</th>\n",
       "      <th>voltage</th>\n",
       "      <th>energy_Charges</th>\n",
       "      <th>Demand Charges</th>\n",
       "      <th>Penalty Charges</th>\n",
       "      <th>Recon Key</th>\n",
       "      <th>G/L Account</th>\n",
       "      <th>Category</th>\n",
       "      <th>FICA Doument no</th>\n",
       "      <th>Search term1</th>\n",
       "    </tr>\n",
       "  </thead>\n",
       "  <tbody>\n",
       "    <tr>\n",
       "      <th>0</th>\n",
       "      <td>1702371.0</td>\n",
       "      <td>Company Lemon Grass Factory Kurizampa</td>\n",
       "      <td>50000504.0</td>\n",
       "      <td>P17_41</td>\n",
       "      <td>2019-01-02</td>\n",
       "      <td>2019-02-01</td>\n",
       "      <td>2019/01</td>\n",
       "      <td>6.007099e+09</td>\n",
       "      <td>9.018221e+09</td>\n",
       "      <td>167.0</td>\n",
       "      <td>...</td>\n",
       "      <td>1.166136</td>\n",
       "      <td>234.0</td>\n",
       "      <td>589.51</td>\n",
       "      <td>0.0</td>\n",
       "      <td>0.00</td>\n",
       "      <td>19015R040045</td>\n",
       "      <td>300002</td>\n",
       "      <td>LV Agricultural</td>\n",
       "      <td>4.000049e+11</td>\n",
       "      <td>LEMON FACTORY</td>\n",
       "    </tr>\n",
       "    <tr>\n",
       "      <th>1</th>\n",
       "      <td>1705727.0</td>\n",
       "      <td>Company RBA Gyelposhing</td>\n",
       "      <td>50001004.0</td>\n",
       "      <td>P17_41</td>\n",
       "      <td>2019-01-02</td>\n",
       "      <td>2019-02-01</td>\n",
       "      <td>2019/01</td>\n",
       "      <td>4.003612e+09</td>\n",
       "      <td>9.018221e+09</td>\n",
       "      <td>788.0</td>\n",
       "      <td>...</td>\n",
       "      <td>5.502486</td>\n",
       "      <td>234.0</td>\n",
       "      <td>2781.64</td>\n",
       "      <td>0.0</td>\n",
       "      <td>0.00</td>\n",
       "      <td>190115R4/17</td>\n",
       "      <td>300002</td>\n",
       "      <td>LV Agricultural</td>\n",
       "      <td>9.434803e+07</td>\n",
       "      <td>RAMS, GYELPOSHING</td>\n",
       "    </tr>\n",
       "    <tr>\n",
       "      <th>2</th>\n",
       "      <td>1702588.0</td>\n",
       "      <td>N R D C Gyelposhing</td>\n",
       "      <td>60001500.0</td>\n",
       "      <td>P17_41</td>\n",
       "      <td>2019-01-02</td>\n",
       "      <td>2019-02-01</td>\n",
       "      <td>2019/01</td>\n",
       "      <td>6.007099e+09</td>\n",
       "      <td>9.018221e+09</td>\n",
       "      <td>0.0</td>\n",
       "      <td>...</td>\n",
       "      <td>0.000000</td>\n",
       "      <td>234.0</td>\n",
       "      <td>0.00</td>\n",
       "      <td>0.0</td>\n",
       "      <td>0.00</td>\n",
       "      <td>19015R040045</td>\n",
       "      <td>NaN</td>\n",
       "      <td>LV Bulk</td>\n",
       "      <td>4.000049e+11</td>\n",
       "      <td>N R D C</td>\n",
       "    </tr>\n",
       "    <tr>\n",
       "      <th>3</th>\n",
       "      <td>1702586.0</td>\n",
       "      <td>Swerage Treatment Plant</td>\n",
       "      <td>60000307.0</td>\n",
       "      <td>P17_41</td>\n",
       "      <td>2019-01-02</td>\n",
       "      <td>2019-02-01</td>\n",
       "      <td>2019/01</td>\n",
       "      <td>6.007099e+09</td>\n",
       "      <td>9.018221e+09</td>\n",
       "      <td>0.0</td>\n",
       "      <td>...</td>\n",
       "      <td>0.000000</td>\n",
       "      <td>234.0</td>\n",
       "      <td>0.00</td>\n",
       "      <td>0.0</td>\n",
       "      <td>0.00</td>\n",
       "      <td>19015R040045</td>\n",
       "      <td>NaN</td>\n",
       "      <td>LV Bulk</td>\n",
       "      <td>4.000049e+11</td>\n",
       "      <td>SWERAGE PLANT</td>\n",
       "    </tr>\n",
       "    <tr>\n",
       "      <th>4</th>\n",
       "      <td>1709983.0</td>\n",
       "      <td>Company Rabsel Construction Pvt.Ltd Gyelposhing</td>\n",
       "      <td>60006107.0</td>\n",
       "      <td>P17_41</td>\n",
       "      <td>2019-01-02</td>\n",
       "      <td>2019-02-01</td>\n",
       "      <td>2019/01</td>\n",
       "      <td>6.007099e+09</td>\n",
       "      <td>9.018221e+09</td>\n",
       "      <td>1880.0</td>\n",
       "      <td>...</td>\n",
       "      <td>13.127758</td>\n",
       "      <td>234.0</td>\n",
       "      <td>7557.60</td>\n",
       "      <td>0.0</td>\n",
       "      <td>463.18</td>\n",
       "      <td>19015R040045</td>\n",
       "      <td>300003</td>\n",
       "      <td>LV Bulk</td>\n",
       "      <td>4.000049e+11</td>\n",
       "      <td>RABSEL CONSTRUCTION</td>\n",
       "    </tr>\n",
       "  </tbody>\n",
       "</table>\n",
       "<p>5 rows × 21 columns</p>\n",
       "</div>"
      ],
      "text/plain": [
       "   BP Number                                          BP_name   CA_number  \\\n",
       "0  1702371.0            Company Lemon Grass Factory Kurizampa  50000504.0   \n",
       "1  1705727.0                          Company RBA Gyelposhing  50001004.0   \n",
       "2  1702588.0                              N R D C Gyelposhing  60001500.0   \n",
       "3  1702586.0                          Swerage Treatment Plant  60000307.0   \n",
       "4  1709983.0  Company Rabsel Construction Pvt.Ltd Gyelposhing  60006107.0   \n",
       "\n",
       "  portion posting_Date   Due Date Billing Period  Print Doc. No.  \\\n",
       "0  P17_41   2019-01-02 2019-02-01        2019/01    6.007099e+09   \n",
       "1  P17_41   2019-01-02 2019-02-01        2019/01    4.003612e+09   \n",
       "2  P17_41   2019-01-02 2019-02-01        2019/01    6.007099e+09   \n",
       "3  P17_41   2019-01-02 2019-02-01        2019/01    6.007099e+09   \n",
       "4  P17_41   2019-01-02 2019-02-01        2019/01    6.007099e+09   \n",
       "\n",
       "   Billing Doc. No.  consumption  ...    current  voltage  energy_Charges  \\\n",
       "0      9.018221e+09        167.0  ...   1.166136    234.0          589.51   \n",
       "1      9.018221e+09        788.0  ...   5.502486    234.0         2781.64   \n",
       "2      9.018221e+09          0.0  ...   0.000000    234.0            0.00   \n",
       "3      9.018221e+09          0.0  ...   0.000000    234.0            0.00   \n",
       "4      9.018221e+09       1880.0  ...  13.127758    234.0         7557.60   \n",
       "\n",
       "   Demand Charges  Penalty Charges     Recon Key G/L Account         Category  \\\n",
       "0             0.0             0.00  19015R040045      300002  LV Agricultural   \n",
       "1             0.0             0.00   190115R4/17      300002  LV Agricultural   \n",
       "2             0.0             0.00  19015R040045         NaN          LV Bulk   \n",
       "3             0.0             0.00  19015R040045         NaN          LV Bulk   \n",
       "4             0.0           463.18  19015R040045      300003          LV Bulk   \n",
       "\n",
       "  FICA Doument no         Search term1  \n",
       "0    4.000049e+11        LEMON FACTORY  \n",
       "1    9.434803e+07    RAMS, GYELPOSHING  \n",
       "2    4.000049e+11              N R D C  \n",
       "3    4.000049e+11        SWERAGE PLANT  \n",
       "4    4.000049e+11  RABSEL CONSTRUCTION  \n",
       "\n",
       "[5 rows x 21 columns]"
      ]
     },
     "execution_count": 5,
     "metadata": {},
     "output_type": "execute_result"
    }
   ],
   "source": [
    "#Load data\n",
    "\n",
    "main_df = pd.read_excel('Gyalpozhing_household_power_consumption.XLSX')\n",
    "main_df.head()"
   ]
  },
  {
   "cell_type": "markdown",
   "metadata": {
    "id": "G2nOja6VPvV2"
   },
   "source": [
    "# 3. DATA PREPROCESSING "
   ]
  },
  {
   "cell_type": "code",
   "execution_count": 18,
   "metadata": {
    "colab": {
     "base_uri": "https://localhost:8080/",
     "height": 206
    },
    "id": "vZOo2qrALQY5",
    "outputId": "7173c88c-4b2e-473c-dfe9-c03a4bbe75ad"
   },
   "outputs": [
    {
     "data": {
      "text/html": [
       "<div>\n",
       "<style scoped>\n",
       "    .dataframe tbody tr th:only-of-type {\n",
       "        vertical-align: middle;\n",
       "    }\n",
       "\n",
       "    .dataframe tbody tr th {\n",
       "        vertical-align: top;\n",
       "    }\n",
       "\n",
       "    .dataframe thead th {\n",
       "        text-align: right;\n",
       "    }\n",
       "</style>\n",
       "<table border=\"1\" class=\"dataframe\">\n",
       "  <thead>\n",
       "    <tr style=\"text-align: right;\">\n",
       "      <th></th>\n",
       "      <th>Category</th>\n",
       "      <th>portion</th>\n",
       "      <th>posting_Date</th>\n",
       "      <th>current</th>\n",
       "      <th>voltage</th>\n",
       "      <th>consumption</th>\n",
       "      <th>energy_Charges</th>\n",
       "    </tr>\n",
       "  </thead>\n",
       "  <tbody>\n",
       "    <tr>\n",
       "      <th>25377</th>\n",
       "      <td>LV Urban Domestic Customers</td>\n",
       "      <td>P17_40</td>\n",
       "      <td>2022-03-02</td>\n",
       "      <td>3.505391</td>\n",
       "      <td>234.0</td>\n",
       "      <td>502.0</td>\n",
       "      <td>1207.28</td>\n",
       "    </tr>\n",
       "    <tr>\n",
       "      <th>25378</th>\n",
       "      <td>MV Industrial</td>\n",
       "      <td>P17_41</td>\n",
       "      <td>2022-03-02</td>\n",
       "      <td>830.316742</td>\n",
       "      <td>234.0</td>\n",
       "      <td>118908.0</td>\n",
       "      <td>315106.20</td>\n",
       "    </tr>\n",
       "    <tr>\n",
       "      <th>25379</th>\n",
       "      <td>LV Bulk</td>\n",
       "      <td>P17_41</td>\n",
       "      <td>2022-03-16</td>\n",
       "      <td>0.000000</td>\n",
       "      <td>234.0</td>\n",
       "      <td>0.0</td>\n",
       "      <td>0.00</td>\n",
       "    </tr>\n",
       "    <tr>\n",
       "      <th>25380</th>\n",
       "      <td>NaN</td>\n",
       "      <td>NaN</td>\n",
       "      <td>NaT</td>\n",
       "      <td>NaN</td>\n",
       "      <td>NaN</td>\n",
       "      <td>NaN</td>\n",
       "      <td>NaN</td>\n",
       "    </tr>\n",
       "    <tr>\n",
       "      <th>25381</th>\n",
       "      <td>NaN</td>\n",
       "      <td>NaN</td>\n",
       "      <td>NaT</td>\n",
       "      <td>NaN</td>\n",
       "      <td>NaN</td>\n",
       "      <td>NaN</td>\n",
       "      <td>NaN</td>\n",
       "    </tr>\n",
       "  </tbody>\n",
       "</table>\n",
       "</div>"
      ],
      "text/plain": [
       "                          Category portion posting_Date     current  voltage  \\\n",
       "25377  LV Urban Domestic Customers  P17_40   2022-03-02    3.505391    234.0   \n",
       "25378                MV Industrial  P17_41   2022-03-02  830.316742    234.0   \n",
       "25379                      LV Bulk  P17_41   2022-03-16    0.000000    234.0   \n",
       "25380                          NaN     NaN          NaT         NaN      NaN   \n",
       "25381                          NaN     NaN          NaT         NaN      NaN   \n",
       "\n",
       "       consumption  energy_Charges  \n",
       "25377        502.0         1207.28  \n",
       "25378     118908.0       315106.20  \n",
       "25379          0.0            0.00  \n",
       "25380          NaN             NaN  \n",
       "25381          NaN             NaN  "
      ]
     },
     "execution_count": 18,
     "metadata": {},
     "output_type": "execute_result"
    }
   ],
   "source": [
    "# Creating a new dataframe with the only required attributes:\n",
    "\n",
    "df = pd.DataFrame(main_df,columns=['Category','portion','posting_Date','current','voltage','consumption','energy_Charges'])\n",
    "df.tail()"
   ]
  },
  {
   "cell_type": "code",
   "execution_count": 19,
   "metadata": {
    "colab": {
     "base_uri": "https://localhost:8080/"
    },
    "id": "dCWDqY2kFkYA",
    "outputId": "8a799983-3368-45e6-dcf3-3fa1f6966249"
   },
   "outputs": [
    {
     "data": {
      "text/plain": [
       "Category          2\n",
       "portion           2\n",
       "posting_Date      2\n",
       "current           2\n",
       "voltage           2\n",
       "consumption       2\n",
       "energy_Charges    2\n",
       "dtype: int64"
      ]
     },
     "execution_count": 19,
     "metadata": {},
     "output_type": "execute_result"
    }
   ],
   "source": [
    "df.isna().sum()"
   ]
  },
  {
   "cell_type": "code",
   "execution_count": 20,
   "metadata": {
    "colab": {
     "base_uri": "https://localhost:8080/"
    },
    "id": "eJPOwqIiGPTO",
    "outputId": "8271db8f-5d00-44e8-a0a0-db93439fb7fa"
   },
   "outputs": [
    {
     "data": {
      "text/plain": [
       "Category          0\n",
       "portion           0\n",
       "posting_Date      0\n",
       "current           0\n",
       "voltage           0\n",
       "consumption       0\n",
       "energy_Charges    0\n",
       "dtype: int64"
      ]
     },
     "execution_count": 20,
     "metadata": {},
     "output_type": "execute_result"
    }
   ],
   "source": [
    "df = df.dropna()\n",
    "df.isna().sum()"
   ]
  },
  {
   "cell_type": "code",
   "execution_count": 21,
   "metadata": {
    "colab": {
     "base_uri": "https://localhost:8080/"
    },
    "id": "SJs-FHuNGwAD",
    "outputId": "a253414a-fa49-474a-d8f2-ae3bc12048e8"
   },
   "outputs": [
    {
     "data": {
      "text/plain": [
       "Category                  object\n",
       "portion                   object\n",
       "posting_Date      datetime64[ns]\n",
       "current                  float64\n",
       "voltage                  float64\n",
       "consumption              float64\n",
       "energy_Charges           float64\n",
       "dtype: object"
      ]
     },
     "execution_count": 21,
     "metadata": {},
     "output_type": "execute_result"
    }
   ],
   "source": [
    "df.dtypes"
   ]
  },
  {
   "cell_type": "code",
   "execution_count": 22,
   "metadata": {
    "colab": {
     "base_uri": "https://localhost:8080/",
     "height": 206
    },
    "id": "sSNkZhHxPE4l",
    "outputId": "4499ae4c-e36f-4f38-ae9d-81df76bb9abd"
   },
   "outputs": [
    {
     "data": {
      "text/html": [
       "<div>\n",
       "<style scoped>\n",
       "    .dataframe tbody tr th:only-of-type {\n",
       "        vertical-align: middle;\n",
       "    }\n",
       "\n",
       "    .dataframe tbody tr th {\n",
       "        vertical-align: top;\n",
       "    }\n",
       "\n",
       "    .dataframe thead th {\n",
       "        text-align: right;\n",
       "    }\n",
       "</style>\n",
       "<table border=\"1\" class=\"dataframe\">\n",
       "  <thead>\n",
       "    <tr style=\"text-align: right;\">\n",
       "      <th></th>\n",
       "      <th>Category</th>\n",
       "      <th>portion</th>\n",
       "      <th>posting_Date</th>\n",
       "      <th>current</th>\n",
       "      <th>voltage</th>\n",
       "      <th>consumption</th>\n",
       "      <th>energy_Charges</th>\n",
       "    </tr>\n",
       "  </thead>\n",
       "  <tbody>\n",
       "    <tr>\n",
       "      <th>23602</th>\n",
       "      <td>LV Urban Domestic Customers</td>\n",
       "      <td>P17_41</td>\n",
       "      <td>2021-12-02</td>\n",
       "      <td>0.796045</td>\n",
       "      <td>234.0</td>\n",
       "      <td>114.0</td>\n",
       "      <td>165.52</td>\n",
       "    </tr>\n",
       "    <tr>\n",
       "      <th>23603</th>\n",
       "      <td>LV Urban Domestic Customers</td>\n",
       "      <td>P17_41</td>\n",
       "      <td>2021-12-02</td>\n",
       "      <td>1.529244</td>\n",
       "      <td>234.0</td>\n",
       "      <td>219.0</td>\n",
       "      <td>446.92</td>\n",
       "    </tr>\n",
       "    <tr>\n",
       "      <th>23604</th>\n",
       "      <td>LV Urban Domestic Customers</td>\n",
       "      <td>P17_41</td>\n",
       "      <td>2021-12-02</td>\n",
       "      <td>0.628457</td>\n",
       "      <td>234.0</td>\n",
       "      <td>90.0</td>\n",
       "      <td>115.20</td>\n",
       "    </tr>\n",
       "    <tr>\n",
       "      <th>23605</th>\n",
       "      <td>LV Urban Domestic Customers</td>\n",
       "      <td>P17_41</td>\n",
       "      <td>2021-12-02</td>\n",
       "      <td>0.733199</td>\n",
       "      <td>234.0</td>\n",
       "      <td>105.0</td>\n",
       "      <td>141.40</td>\n",
       "    </tr>\n",
       "    <tr>\n",
       "      <th>23606</th>\n",
       "      <td>LV Urban Domestic Customers</td>\n",
       "      <td>P17_41</td>\n",
       "      <td>2021-12-02</td>\n",
       "      <td>0.279314</td>\n",
       "      <td>234.0</td>\n",
       "      <td>40.0</td>\n",
       "      <td>51.20</td>\n",
       "    </tr>\n",
       "  </tbody>\n",
       "</table>\n",
       "</div>"
      ],
      "text/plain": [
       "                          Category portion posting_Date   current  voltage  \\\n",
       "23602  LV Urban Domestic Customers  P17_41   2021-12-02  0.796045    234.0   \n",
       "23603  LV Urban Domestic Customers  P17_41   2021-12-02  1.529244    234.0   \n",
       "23604  LV Urban Domestic Customers  P17_41   2021-12-02  0.628457    234.0   \n",
       "23605  LV Urban Domestic Customers  P17_41   2021-12-02  0.733199    234.0   \n",
       "23606  LV Urban Domestic Customers  P17_41   2021-12-02  0.279314    234.0   \n",
       "\n",
       "       consumption  energy_Charges  \n",
       "23602        114.0          165.52  \n",
       "23603        219.0          446.92  \n",
       "23604         90.0          115.20  \n",
       "23605        105.0          141.40  \n",
       "23606         40.0           51.20  "
      ]
     },
     "execution_count": 22,
     "metadata": {},
     "output_type": "execute_result"
    }
   ],
   "source": [
    "# Selecting the data from 2019 till 2021 only:\n",
    "\n",
    "df = df.loc[(df['posting_Date'] >= '01-01-2019') & (df['posting_Date'] < '01-01-2022')]\n",
    "df.tail()"
   ]
  },
  {
   "cell_type": "code",
   "execution_count": 23,
   "metadata": {
    "id": "Pqi9lpXAc1i-"
   },
   "outputs": [],
   "source": [
    "# Extracting the year and montht from the posting_date\n",
    "# Adding these two new columns(Year and month) and then droping the posting date col\n",
    "\n",
    "df['Year'] = pd.to_datetime(df['posting_Date']).dt.year\n",
    "df['Month'] = pd.to_datetime(df['posting_Date']).dt.month\n",
    "df = df.drop(['posting_Date'], axis = 1)"
   ]
  },
  {
   "cell_type": "code",
   "execution_count": 24,
   "metadata": {
    "colab": {
     "base_uri": "https://localhost:8080/"
    },
    "id": "YJeHxiRuk7od",
    "outputId": "d8b2145d-3088-4e66-cb37-7b33a83e3817"
   },
   "outputs": [
    {
     "data": {
      "text/plain": [
       "5952"
      ]
     },
     "execution_count": 24,
     "metadata": {},
     "output_type": "execute_result"
    }
   ],
   "source": [
    "df.duplicated().sum()"
   ]
  },
  {
   "cell_type": "code",
   "execution_count": 25,
   "metadata": {
    "id": "cR8tCvZEbmFX"
   },
   "outputs": [],
   "source": [
    "gyalpozhing_df = df.drop_duplicates()"
   ]
  },
  {
   "cell_type": "code",
   "execution_count": 26,
   "metadata": {
    "colab": {
     "base_uri": "https://localhost:8080/"
    },
    "id": "n84Cm4BgG4k4",
    "outputId": "32224d08-1927-4bc0-b787-947c2158e6d6"
   },
   "outputs": [
    {
     "data": {
      "text/plain": [
       "Category           object\n",
       "portion            object\n",
       "current           float64\n",
       "voltage           float64\n",
       "consumption       float64\n",
       "energy_Charges    float64\n",
       "Year                int64\n",
       "Month               int64\n",
       "dtype: object"
      ]
     },
     "execution_count": 26,
     "metadata": {},
     "output_type": "execute_result"
    }
   ],
   "source": [
    "gyalpozhing_df.dtypes"
   ]
  },
  {
   "cell_type": "markdown",
   "metadata": {
    "id": "tvMZfbkohpMW"
   },
   "source": [
    "# 4. DETECTING OUTLIERS"
   ]
  },
  {
   "cell_type": "code",
   "execution_count": 27,
   "metadata": {
    "colab": {
     "base_uri": "https://localhost:8080/",
     "height": 279
    },
    "id": "jYMx_Kqrhb-T",
    "outputId": "02d32bce-bc34-401d-ca18-3a63c6b36029"
   },
   "outputs": [
    {
     "data": {
      "image/png": "[encoded data removed]",
      "text/plain": [
       "<Figure size 432x288 with 1 Axes>"
      ]
     },
     "metadata": {
      "needs_background": "light"
     },
     "output_type": "display_data"
    }
   ],
   "source": [
    "sns.boxplot(x = gyalpozhing_df['current'])\n",
    "plt.show()"
   ]
  },
  {
   "cell_type": "code",
   "execution_count": 29,
   "metadata": {
    "id": "NKEGSjCvh4yK"
   },
   "outputs": [],
   "source": [
    "#ul = upper limit\n",
    "#ll = lower limit\n",
    "#IQR = Interquartile Range\n",
    "\n",
    "q1 = gyalpozhing_df.current.quantile(0.25)\n",
    "q3 = gyalpozhing_df.current.quantile(0.75)\n",
    "IQR = q3 - q1\n",
    "ul = q3 + (IQR * 1.5)\n",
    "ll = q1 - (IQR * 1.5)"
   ]
  },
  {
   "cell_type": "code",
   "execution_count": 30,
   "metadata": {
    "colab": {
     "base_uri": "https://localhost:8080/",
     "height": 423
    },
    "id": "UIEOGab4iCBG",
    "outputId": "c2c31bcc-d3dd-4749-c141-600b135a6887"
   },
   "outputs": [
    {
     "data": {
      "text/html": [
       "<div>\n",
       "<style scoped>\n",
       "    .dataframe tbody tr th:only-of-type {\n",
       "        vertical-align: middle;\n",
       "    }\n",
       "\n",
       "    .dataframe tbody tr th {\n",
       "        vertical-align: top;\n",
       "    }\n",
       "\n",
       "    .dataframe thead th {\n",
       "        text-align: right;\n",
       "    }\n",
       "</style>\n",
       "<table border=\"1\" class=\"dataframe\">\n",
       "  <thead>\n",
       "    <tr style=\"text-align: right;\">\n",
       "      <th></th>\n",
       "      <th>Category</th>\n",
       "      <th>portion</th>\n",
       "      <th>current</th>\n",
       "      <th>voltage</th>\n",
       "      <th>consumption</th>\n",
       "      <th>energy_Charges</th>\n",
       "      <th>Year</th>\n",
       "      <th>Month</th>\n",
       "    </tr>\n",
       "  </thead>\n",
       "  <tbody>\n",
       "    <tr>\n",
       "      <th>1</th>\n",
       "      <td>LV Agricultural</td>\n",
       "      <td>P17_41</td>\n",
       "      <td>5.502486</td>\n",
       "      <td>234.0</td>\n",
       "      <td>788.0</td>\n",
       "      <td>2781.64</td>\n",
       "      <td>2019</td>\n",
       "      <td>1</td>\n",
       "    </tr>\n",
       "    <tr>\n",
       "      <th>4</th>\n",
       "      <td>LV Bulk</td>\n",
       "      <td>P17_41</td>\n",
       "      <td>13.127758</td>\n",
       "      <td>234.0</td>\n",
       "      <td>1880.0</td>\n",
       "      <td>7557.60</td>\n",
       "      <td>2019</td>\n",
       "      <td>1</td>\n",
       "    </tr>\n",
       "    <tr>\n",
       "      <th>5</th>\n",
       "      <td>LV Bulk</td>\n",
       "      <td>P17_41</td>\n",
       "      <td>48.600637</td>\n",
       "      <td>234.0</td>\n",
       "      <td>6960.0</td>\n",
       "      <td>27979.20</td>\n",
       "      <td>2019</td>\n",
       "      <td>1</td>\n",
       "    </tr>\n",
       "    <tr>\n",
       "      <th>7</th>\n",
       "      <td>LV Bulk</td>\n",
       "      <td>P17_41</td>\n",
       "      <td>7.262164</td>\n",
       "      <td>234.0</td>\n",
       "      <td>1040.0</td>\n",
       "      <td>4180.80</td>\n",
       "      <td>2019</td>\n",
       "      <td>1</td>\n",
       "    </tr>\n",
       "    <tr>\n",
       "      <th>8</th>\n",
       "      <td>LV Bulk</td>\n",
       "      <td>P17_41</td>\n",
       "      <td>10.048321</td>\n",
       "      <td>234.0</td>\n",
       "      <td>1439.0</td>\n",
       "      <td>5784.78</td>\n",
       "      <td>2019</td>\n",
       "      <td>1</td>\n",
       "    </tr>\n",
       "    <tr>\n",
       "      <th>...</th>\n",
       "      <td>...</td>\n",
       "      <td>...</td>\n",
       "      <td>...</td>\n",
       "      <td>...</td>\n",
       "      <td>...</td>\n",
       "      <td>...</td>\n",
       "      <td>...</td>\n",
       "      <td>...</td>\n",
       "    </tr>\n",
       "    <tr>\n",
       "      <th>23469</th>\n",
       "      <td>LV Urban Domestic Customers</td>\n",
       "      <td>P17_41</td>\n",
       "      <td>11.668343</td>\n",
       "      <td>234.0</td>\n",
       "      <td>1671.0</td>\n",
       "      <td>5462.44</td>\n",
       "      <td>2021</td>\n",
       "      <td>12</td>\n",
       "    </tr>\n",
       "    <tr>\n",
       "      <th>23523</th>\n",
       "      <td>LV Urban Domestic Customers</td>\n",
       "      <td>P17_41</td>\n",
       "      <td>5.816714</td>\n",
       "      <td>234.0</td>\n",
       "      <td>833.0</td>\n",
       "      <td>2412.12</td>\n",
       "      <td>2021</td>\n",
       "      <td>12</td>\n",
       "    </tr>\n",
       "    <tr>\n",
       "      <th>23583</th>\n",
       "      <td>LV Urban Domestic Customers</td>\n",
       "      <td>P17_41</td>\n",
       "      <td>7.422770</td>\n",
       "      <td>234.0</td>\n",
       "      <td>1063.0</td>\n",
       "      <td>3249.32</td>\n",
       "      <td>2021</td>\n",
       "      <td>12</td>\n",
       "    </tr>\n",
       "    <tr>\n",
       "      <th>23584</th>\n",
       "      <td>LV Urban Domestic Customers</td>\n",
       "      <td>P17_41</td>\n",
       "      <td>8.100106</td>\n",
       "      <td>234.0</td>\n",
       "      <td>1160.0</td>\n",
       "      <td>3602.40</td>\n",
       "      <td>2021</td>\n",
       "      <td>12</td>\n",
       "    </tr>\n",
       "    <tr>\n",
       "      <th>23590</th>\n",
       "      <td>LV Urban Domestic Customers</td>\n",
       "      <td>P17_41</td>\n",
       "      <td>5.851628</td>\n",
       "      <td>234.0</td>\n",
       "      <td>838.0</td>\n",
       "      <td>2430.32</td>\n",
       "      <td>2021</td>\n",
       "      <td>12</td>\n",
       "    </tr>\n",
       "  </tbody>\n",
       "</table>\n",
       "<p>1611 rows × 8 columns</p>\n",
       "</div>"
      ],
      "text/plain": [
       "                          Category portion    current  voltage  consumption  \\\n",
       "1                  LV Agricultural  P17_41   5.502486    234.0        788.0   \n",
       "4                          LV Bulk  P17_41  13.127758    234.0       1880.0   \n",
       "5                          LV Bulk  P17_41  48.600637    234.0       6960.0   \n",
       "7                          LV Bulk  P17_41   7.262164    234.0       1040.0   \n",
       "8                          LV Bulk  P17_41  10.048321    234.0       1439.0   \n",
       "...                            ...     ...        ...      ...          ...   \n",
       "23469  LV Urban Domestic Customers  P17_41  11.668343    234.0       1671.0   \n",
       "23523  LV Urban Domestic Customers  P17_41   5.816714    234.0        833.0   \n",
       "23583  LV Urban Domestic Customers  P17_41   7.422770    234.0       1063.0   \n",
       "23584  LV Urban Domestic Customers  P17_41   8.100106    234.0       1160.0   \n",
       "23590  LV Urban Domestic Customers  P17_41   5.851628    234.0        838.0   \n",
       "\n",
       "       energy_Charges  Year  Month  \n",
       "1             2781.64  2019      1  \n",
       "4             7557.60  2019      1  \n",
       "5            27979.20  2019      1  \n",
       "7             4180.80  2019      1  \n",
       "8             5784.78  2019      1  \n",
       "...               ...   ...    ...  \n",
       "23469         5462.44  2021     12  \n",
       "23523         2412.12  2021     12  \n",
       "23583         3249.32  2021     12  \n",
       "23584         3602.40  2021     12  \n",
       "23590         2430.32  2021     12  \n",
       "\n",
       "[1611 rows x 8 columns]"
      ]
     },
     "execution_count": 30,
     "metadata": {},
     "output_type": "execute_result"
    }
   ],
   "source": [
    "gyalpozhing_df[(gyalpozhing_df.current < ll)  | (gyalpozhing_df.current > ul)]"
   ]
  },
  {
   "cell_type": "code",
   "execution_count": 31,
   "metadata": {
    "colab": {
     "base_uri": "https://localhost:8080/"
    },
    "id": "aH-H89fWiKLC",
    "outputId": "21a0cd50-6ff2-4153-9e89-ba203178aa7c"
   },
   "outputs": [
    {
     "data": {
      "text/plain": [
       "(16039, 8)"
      ]
     },
     "execution_count": 31,
     "metadata": {},
     "output_type": "execute_result"
    }
   ],
   "source": [
    "df1 = gyalpozhing_df[(gyalpozhing_df.current > ll) & (gyalpozhing_df.current < ul)]\n",
    "df1.shape"
   ]
  },
  {
   "cell_type": "code",
   "execution_count": 32,
   "metadata": {
    "colab": {
     "base_uri": "https://localhost:8080/",
     "height": 297
    },
    "id": "mLdEugCGikwN",
    "outputId": "8142d042-7df7-499d-e8e1-f36431efb443"
   },
   "outputs": [
    {
     "data": {
      "text/plain": [
       "<function matplotlib.pyplot.show(close=None, block=None)>"
      ]
     },
     "execution_count": 32,
     "metadata": {},
     "output_type": "execute_result"
    }
   ],
   "source": [
    "sns.boxplot(x = df1['consumption'])\n",
    "plt.show"
   ]
  },
  {
   "cell_type": "code",
   "execution_count": 33,
   "metadata": {
    "id": "kgm8u-2Bioyr"
   },
   "outputs": [],
   "source": [
    "q1 = df1.consumption.quantile(0.25)\n",
    "q3 = df1.consumption.quantile(0.75)\n",
    "IQR = q3 - q1\n",
    "ul = q3 + (IQR * 1.5)\n",
    "ll = q1 - (IQR * 1.5)"
   ]
  },
  {
   "cell_type": "code",
   "execution_count": 34,
   "metadata": {
    "colab": {
     "base_uri": "https://localhost:8080/",
     "height": 423
    },
    "id": "ZvUsLM9KjCE0",
    "outputId": "0f9593d8-c8db-48ed-89bf-c1730baf5580"
   },
   "outputs": [
    {
     "data": {
      "text/html": [
       "<div>\n",
       "<style scoped>\n",
       "    .dataframe tbody tr th:only-of-type {\n",
       "        vertical-align: middle;\n",
       "    }\n",
       "\n",
       "    .dataframe tbody tr th {\n",
       "        vertical-align: top;\n",
       "    }\n",
       "\n",
       "    .dataframe thead th {\n",
       "        text-align: right;\n",
       "    }\n",
       "</style>\n",
       "<table border=\"1\" class=\"dataframe\">\n",
       "  <thead>\n",
       "    <tr style=\"text-align: right;\">\n",
       "      <th></th>\n",
       "      <th>Category</th>\n",
       "      <th>portion</th>\n",
       "      <th>current</th>\n",
       "      <th>voltage</th>\n",
       "      <th>consumption</th>\n",
       "      <th>energy_Charges</th>\n",
       "      <th>Year</th>\n",
       "      <th>Month</th>\n",
       "    </tr>\n",
       "  </thead>\n",
       "  <tbody>\n",
       "    <tr>\n",
       "      <th>40</th>\n",
       "      <td>LV Commercial</td>\n",
       "      <td>P17_41</td>\n",
       "      <td>3.568236</td>\n",
       "      <td>234.0</td>\n",
       "      <td>511.0</td>\n",
       "      <td>1803.83</td>\n",
       "      <td>2019</td>\n",
       "      <td>1</td>\n",
       "    </tr>\n",
       "    <tr>\n",
       "      <th>52</th>\n",
       "      <td>LV Commercial</td>\n",
       "      <td>P17_41</td>\n",
       "      <td>3.456511</td>\n",
       "      <td>234.0</td>\n",
       "      <td>495.0</td>\n",
       "      <td>1747.35</td>\n",
       "      <td>2019</td>\n",
       "      <td>1</td>\n",
       "    </tr>\n",
       "    <tr>\n",
       "      <th>79</th>\n",
       "      <td>LV Institutional</td>\n",
       "      <td>P17_41</td>\n",
       "      <td>3.638065</td>\n",
       "      <td>234.0</td>\n",
       "      <td>521.0</td>\n",
       "      <td>1839.13</td>\n",
       "      <td>2019</td>\n",
       "      <td>1</td>\n",
       "    </tr>\n",
       "    <tr>\n",
       "      <th>81</th>\n",
       "      <td>LV Institutional</td>\n",
       "      <td>P17_41</td>\n",
       "      <td>3.631082</td>\n",
       "      <td>234.0</td>\n",
       "      <td>520.0</td>\n",
       "      <td>1835.60</td>\n",
       "      <td>2019</td>\n",
       "      <td>1</td>\n",
       "    </tr>\n",
       "    <tr>\n",
       "      <th>97</th>\n",
       "      <td>LV Institutional</td>\n",
       "      <td>P17_41</td>\n",
       "      <td>3.421597</td>\n",
       "      <td>234.0</td>\n",
       "      <td>490.0</td>\n",
       "      <td>1729.70</td>\n",
       "      <td>2019</td>\n",
       "      <td>1</td>\n",
       "    </tr>\n",
       "    <tr>\n",
       "      <th>...</th>\n",
       "      <td>...</td>\n",
       "      <td>...</td>\n",
       "      <td>...</td>\n",
       "      <td>...</td>\n",
       "      <td>...</td>\n",
       "      <td>...</td>\n",
       "      <td>...</td>\n",
       "      <td>...</td>\n",
       "    </tr>\n",
       "    <tr>\n",
       "      <th>23346</th>\n",
       "      <td>LV Urban Domestic Customers</td>\n",
       "      <td>P17_41</td>\n",
       "      <td>3.477459</td>\n",
       "      <td>234.0</td>\n",
       "      <td>498.0</td>\n",
       "      <td>1194.64</td>\n",
       "      <td>2021</td>\n",
       "      <td>12</td>\n",
       "    </tr>\n",
       "    <tr>\n",
       "      <th>23394</th>\n",
       "      <td>LV Urban Domestic Customers</td>\n",
       "      <td>P17_40</td>\n",
       "      <td>3.526339</td>\n",
       "      <td>234.0</td>\n",
       "      <td>505.0</td>\n",
       "      <td>1218.20</td>\n",
       "      <td>2021</td>\n",
       "      <td>12</td>\n",
       "    </tr>\n",
       "    <tr>\n",
       "      <th>23401</th>\n",
       "      <td>LV Urban Domestic Customers</td>\n",
       "      <td>P17_41</td>\n",
       "      <td>3.484442</td>\n",
       "      <td>234.0</td>\n",
       "      <td>499.0</td>\n",
       "      <td>1197.32</td>\n",
       "      <td>2021</td>\n",
       "      <td>12</td>\n",
       "    </tr>\n",
       "    <tr>\n",
       "      <th>23484</th>\n",
       "      <td>LV Urban Domestic Customers</td>\n",
       "      <td>P17_41</td>\n",
       "      <td>3.386682</td>\n",
       "      <td>234.0</td>\n",
       "      <td>485.0</td>\n",
       "      <td>1159.80</td>\n",
       "      <td>2021</td>\n",
       "      <td>12</td>\n",
       "    </tr>\n",
       "    <tr>\n",
       "      <th>23537</th>\n",
       "      <td>LV Urban Domestic Customers</td>\n",
       "      <td>P17_41</td>\n",
       "      <td>3.233060</td>\n",
       "      <td>234.0</td>\n",
       "      <td>463.0</td>\n",
       "      <td>1100.84</td>\n",
       "      <td>2021</td>\n",
       "      <td>12</td>\n",
       "    </tr>\n",
       "  </tbody>\n",
       "</table>\n",
       "<p>376 rows × 8 columns</p>\n",
       "</div>"
      ],
      "text/plain": [
       "                          Category portion   current  voltage  consumption  \\\n",
       "40                   LV Commercial  P17_41  3.568236    234.0        511.0   \n",
       "52                   LV Commercial  P17_41  3.456511    234.0        495.0   \n",
       "79                LV Institutional  P17_41  3.638065    234.0        521.0   \n",
       "81                LV Institutional  P17_41  3.631082    234.0        520.0   \n",
       "97                LV Institutional  P17_41  3.421597    234.0        490.0   \n",
       "...                            ...     ...       ...      ...          ...   \n",
       "23346  LV Urban Domestic Customers  P17_41  3.477459    234.0        498.0   \n",
       "23394  LV Urban Domestic Customers  P17_40  3.526339    234.0        505.0   \n",
       "23401  LV Urban Domestic Customers  P17_41  3.484442    234.0        499.0   \n",
       "23484  LV Urban Domestic Customers  P17_41  3.386682    234.0        485.0   \n",
       "23537  LV Urban Domestic Customers  P17_41  3.233060    234.0        463.0   \n",
       "\n",
       "       energy_Charges  Year  Month  \n",
       "40            1803.83  2019      1  \n",
       "52            1747.35  2019      1  \n",
       "79            1839.13  2019      1  \n",
       "81            1835.60  2019      1  \n",
       "97            1729.70  2019      1  \n",
       "...               ...   ...    ...  \n",
       "23346         1194.64  2021     12  \n",
       "23394         1218.20  2021     12  \n",
       "23401         1197.32  2021     12  \n",
       "23484         1159.80  2021     12  \n",
       "23537         1100.84  2021     12  \n",
       "\n",
       "[376 rows x 8 columns]"
      ]
     },
     "execution_count": 34,
     "metadata": {},
     "output_type": "execute_result"
    }
   ],
   "source": [
    "df1[(df1.consumption < ll)  | (df1.consumption > ul)]"
   ]
  },
  {
   "cell_type": "code",
   "execution_count": 35,
   "metadata": {
    "colab": {
     "base_uri": "https://localhost:8080/"
    },
    "id": "QG5zfFcxjJ2p",
    "outputId": "ad20a1df-d6e7-4eee-c98b-91a8458f59ce"
   },
   "outputs": [
    {
     "data": {
      "text/plain": [
       "(15663, 8)"
      ]
     },
     "execution_count": 35,
     "metadata": {},
     "output_type": "execute_result"
    }
   ],
   "source": [
    "df2 = df1[(df1.consumption > ll) & (df1.consumption < ul)]\n",
    "df2.shape"
   ]
  },
  {
   "cell_type": "code",
   "execution_count": 36,
   "metadata": {
    "colab": {
     "base_uri": "https://localhost:8080/",
     "height": 298
    },
    "id": "1md1yLGnjVp2",
    "outputId": "e9cff382-c0d3-44f3-e26f-0d0734699d4e"
   },
   "outputs": [
    {
     "data": {
      "text/plain": [
       "<function matplotlib.pyplot.show(close=None, block=None)>"
      ]
     },
     "execution_count": 36,
     "metadata": {},
     "output_type": "execute_result"
    }
   ],
   "source": [
    "sns.boxplot(x = df2['energy_Charges'])\n",
    "plt.show"
   ]
  },
  {
   "cell_type": "code",
   "execution_count": 38,
   "metadata": {
    "id": "6blyzOwJjbze"
   },
   "outputs": [],
   "source": [
    "q1 = df2.energy_Charges.quantile(0.25)\n",
    "q3 = df2.energy_Charges.quantile(0.75)\n",
    "IQR = q3 - q1\n",
    "ul = q3 + (IQR * 1.5)\n",
    "ll = q1 - (IQR * 1.5)"
   ]
  },
  {
   "cell_type": "code",
   "execution_count": 39,
   "metadata": {
    "colab": {
     "base_uri": "https://localhost:8080/",
     "height": 423
    },
    "id": "rdHwZOwnjg57",
    "outputId": "1923339e-938d-455f-8679-e03a839360f1"
   },
   "outputs": [
    {
     "data": {
      "text/html": [
       "<div>\n",
       "<style scoped>\n",
       "    .dataframe tbody tr th:only-of-type {\n",
       "        vertical-align: middle;\n",
       "    }\n",
       "\n",
       "    .dataframe tbody tr th {\n",
       "        vertical-align: top;\n",
       "    }\n",
       "\n",
       "    .dataframe thead th {\n",
       "        text-align: right;\n",
       "    }\n",
       "</style>\n",
       "<table border=\"1\" class=\"dataframe\">\n",
       "  <thead>\n",
       "    <tr style=\"text-align: right;\">\n",
       "      <th></th>\n",
       "      <th>Category</th>\n",
       "      <th>portion</th>\n",
       "      <th>current</th>\n",
       "      <th>voltage</th>\n",
       "      <th>consumption</th>\n",
       "      <th>energy_Charges</th>\n",
       "      <th>Year</th>\n",
       "      <th>Month</th>\n",
       "    </tr>\n",
       "  </thead>\n",
       "  <tbody>\n",
       "    <tr>\n",
       "      <th>15</th>\n",
       "      <td>LV Commercial</td>\n",
       "      <td>P17_41</td>\n",
       "      <td>3.037540</td>\n",
       "      <td>234.0</td>\n",
       "      <td>435.0</td>\n",
       "      <td>1535.55</td>\n",
       "      <td>2019</td>\n",
       "      <td>1</td>\n",
       "    </tr>\n",
       "    <tr>\n",
       "      <th>25</th>\n",
       "      <td>LV Commercial</td>\n",
       "      <td>P17_41</td>\n",
       "      <td>2.953746</td>\n",
       "      <td>234.0</td>\n",
       "      <td>423.0</td>\n",
       "      <td>1493.19</td>\n",
       "      <td>2019</td>\n",
       "      <td>1</td>\n",
       "    </tr>\n",
       "    <tr>\n",
       "      <th>31</th>\n",
       "      <td>LV Commercial</td>\n",
       "      <td>P17_41</td>\n",
       "      <td>2.918831</td>\n",
       "      <td>234.0</td>\n",
       "      <td>418.0</td>\n",
       "      <td>1475.54</td>\n",
       "      <td>2019</td>\n",
       "      <td>1</td>\n",
       "    </tr>\n",
       "    <tr>\n",
       "      <th>41</th>\n",
       "      <td>LV Commercial</td>\n",
       "      <td>P17_41</td>\n",
       "      <td>2.890900</td>\n",
       "      <td>234.0</td>\n",
       "      <td>414.0</td>\n",
       "      <td>1461.42</td>\n",
       "      <td>2019</td>\n",
       "      <td>1</td>\n",
       "    </tr>\n",
       "    <tr>\n",
       "      <th>45</th>\n",
       "      <td>LV Commercial</td>\n",
       "      <td>P17_41</td>\n",
       "      <td>2.800123</td>\n",
       "      <td>234.0</td>\n",
       "      <td>401.0</td>\n",
       "      <td>1415.53</td>\n",
       "      <td>2019</td>\n",
       "      <td>1</td>\n",
       "    </tr>\n",
       "    <tr>\n",
       "      <th>...</th>\n",
       "      <td>...</td>\n",
       "      <td>...</td>\n",
       "      <td>...</td>\n",
       "      <td>...</td>\n",
       "      <td>...</td>\n",
       "      <td>...</td>\n",
       "      <td>...</td>\n",
       "      <td>...</td>\n",
       "    </tr>\n",
       "    <tr>\n",
       "      <th>23150</th>\n",
       "      <td>LV Temporary</td>\n",
       "      <td>P17_41</td>\n",
       "      <td>2.234512</td>\n",
       "      <td>234.0</td>\n",
       "      <td>320.0</td>\n",
       "      <td>1164.80</td>\n",
       "      <td>2021</td>\n",
       "      <td>12</td>\n",
       "    </tr>\n",
       "    <tr>\n",
       "      <th>23151</th>\n",
       "      <td>LV Temporary</td>\n",
       "      <td>P17_41</td>\n",
       "      <td>2.667449</td>\n",
       "      <td>234.0</td>\n",
       "      <td>382.0</td>\n",
       "      <td>1390.48</td>\n",
       "      <td>2021</td>\n",
       "      <td>12</td>\n",
       "    </tr>\n",
       "    <tr>\n",
       "      <th>23154</th>\n",
       "      <td>LV Temporary</td>\n",
       "      <td>P17_41</td>\n",
       "      <td>2.430032</td>\n",
       "      <td>234.0</td>\n",
       "      <td>348.0</td>\n",
       "      <td>1266.72</td>\n",
       "      <td>2021</td>\n",
       "      <td>12</td>\n",
       "    </tr>\n",
       "    <tr>\n",
       "      <th>23163</th>\n",
       "      <td>LV Temporary</td>\n",
       "      <td>P17_41</td>\n",
       "      <td>3.100385</td>\n",
       "      <td>234.0</td>\n",
       "      <td>444.0</td>\n",
       "      <td>1616.16</td>\n",
       "      <td>2021</td>\n",
       "      <td>12</td>\n",
       "    </tr>\n",
       "    <tr>\n",
       "      <th>23306</th>\n",
       "      <td>LV Urban Domestic Customers</td>\n",
       "      <td>P17_40</td>\n",
       "      <td>3.079437</td>\n",
       "      <td>234.0</td>\n",
       "      <td>441.0</td>\n",
       "      <td>1041.88</td>\n",
       "      <td>2021</td>\n",
       "      <td>12</td>\n",
       "    </tr>\n",
       "  </tbody>\n",
       "</table>\n",
       "<p>601 rows × 8 columns</p>\n",
       "</div>"
      ],
      "text/plain": [
       "                          Category portion   current  voltage  consumption  \\\n",
       "15                   LV Commercial  P17_41  3.037540    234.0        435.0   \n",
       "25                   LV Commercial  P17_41  2.953746    234.0        423.0   \n",
       "31                   LV Commercial  P17_41  2.918831    234.0        418.0   \n",
       "41                   LV Commercial  P17_41  2.890900    234.0        414.0   \n",
       "45                   LV Commercial  P17_41  2.800123    234.0        401.0   \n",
       "...                            ...     ...       ...      ...          ...   \n",
       "23150                 LV Temporary  P17_41  2.234512    234.0        320.0   \n",
       "23151                 LV Temporary  P17_41  2.667449    234.0        382.0   \n",
       "23154                 LV Temporary  P17_41  2.430032    234.0        348.0   \n",
       "23163                 LV Temporary  P17_41  3.100385    234.0        444.0   \n",
       "23306  LV Urban Domestic Customers  P17_40  3.079437    234.0        441.0   \n",
       "\n",
       "       energy_Charges  Year  Month  \n",
       "15            1535.55  2019      1  \n",
       "25            1493.19  2019      1  \n",
       "31            1475.54  2019      1  \n",
       "41            1461.42  2019      1  \n",
       "45            1415.53  2019      1  \n",
       "...               ...   ...    ...  \n",
       "23150         1164.80  2021     12  \n",
       "23151         1390.48  2021     12  \n",
       "23154         1266.72  2021     12  \n",
       "23163         1616.16  2021     12  \n",
       "23306         1041.88  2021     12  \n",
       "\n",
       "[601 rows x 8 columns]"
      ]
     },
     "execution_count": 39,
     "metadata": {},
     "output_type": "execute_result"
    }
   ],
   "source": [
    "df2[(df2.energy_Charges < ll)  | (df2.energy_Charges > ul)]"
   ]
  },
  {
   "cell_type": "code",
   "execution_count": 40,
   "metadata": {
    "colab": {
     "base_uri": "https://localhost:8080/"
    },
    "id": "zyJOESxMjoAF",
    "outputId": "61000a83-ed78-447e-8ab9-050a85de8320"
   },
   "outputs": [
    {
     "data": {
      "text/plain": [
       "(15062, 8)"
      ]
     },
     "execution_count": 40,
     "metadata": {},
     "output_type": "execute_result"
    }
   ],
   "source": [
    "df3 = df2[(df2.energy_Charges > ll) & (df2.energy_Charges < ul)]\n",
    "df3.shape"
   ]
  },
  {
   "cell_type": "code",
   "execution_count": null,
   "metadata": {
    "colab": {
     "base_uri": "https://localhost:8080/"
    },
    "id": "bmbc8eZtGkKc",
    "outputId": "9d529ea7-5a44-4648-beee-22728b8e918a"
   },
   "outputs": [],
   "source": [
    "df3.dtypes"
   ]
  },
  {
   "cell_type": "markdown",
   "metadata": {
    "id": "Fcc2rGJD6u9P"
   },
   "source": [
    "# 7. TRAIN AND TEST SPLIT\n",
    "\n",
    "\n"
   ]
  },
  {
   "cell_type": "code",
   "execution_count": 41,
   "metadata": {
    "id": "vLFd3oFCl9Ae"
   },
   "outputs": [],
   "source": [
    "# Input:\n",
    "X = df3[['Year','Month','consumption','Category','portion']]\n",
    "\n",
    "# Output:\n",
    "y = df3['energy_Charges']"
   ]
  },
  {
   "cell_type": "code",
   "execution_count": 42,
   "metadata": {
    "id": "EC7O_P4bnCfC"
   },
   "outputs": [],
   "source": [
    "#SPLITING\n",
    "\n",
    "from sklearn.model_selection import train_test_split\n",
    "X_train, X_test, y_train, y_test = train_test_split(X, y, test_size=0.30, random_state=2)"
   ]
  },
  {
   "cell_type": "code",
   "execution_count": 43,
   "metadata": {
    "id": "nWN_uuF7qyQO"
   },
   "outputs": [],
   "source": [
    " #Pipeline is to create a sequence of preprocessing actions\n",
    "from sklearn.pipeline import Pipeline\n",
    "\n",
    "#SimpleImputer handles missing values\n",
    "from sklearn.impute import SimpleImputer\n",
    "\n",
    "#Standard Scaler normalise the numeric data so that large values does not\n",
    "#create biasness in the training\n",
    "\n",
    "#OneHotEndcoder converts categorical data to numerical, it also creates individual\n",
    "#for each option in the categories\n",
    "from sklearn.preprocessing import StandardScaler, LabelEncoder, OneHotEncoder"
   ]
  },
  {
   "cell_type": "code",
   "execution_count": 45,
   "metadata": {
    "colab": {
     "base_uri": "https://localhost:8080/"
    },
    "id": "l5XuU9n9rU2K",
    "outputId": "722333e4-08ae-4169-af53-9b27db925e6e"
   },
   "outputs": [
    {
     "name": "stdout",
     "output_type": "stream",
     "text": [
      "Index(['Year', 'Month', 'consumption'], dtype='object')\n",
      "Index(['Category', 'portion'], dtype='object')\n"
     ]
    }
   ],
   "source": [
    "#Separate the Categorical and Numerical Columns\n",
    "#Numeric columns\n",
    "numeric_cols = X.select_dtypes(include=['int64','float64']).columns\n",
    "print(numeric_cols)\n",
    "\n",
    "#categorical columns\n",
    "categorical_cols = X.select_dtypes(include=['object']).columns\n",
    "print(categorical_cols)"
   ]
  },
  {
   "cell_type": "code",
   "execution_count": 46,
   "metadata": {
    "colab": {
     "base_uri": "https://localhost:8080/"
    },
    "id": "OxiBGzxOrvgl",
    "outputId": "facdb3a8-e212-4f6f-e03c-a65d9ea9ba05"
   },
   "outputs": [
    {
     "data": {
      "text/plain": [
       "[0, 1, 2]"
      ]
     },
     "execution_count": 46,
     "metadata": {},
     "output_type": "execute_result"
    }
   ],
   "source": [
    "numeric_index = [X.columns.get_loc(col) for col in numeric_cols]\n",
    "numeric_index"
   ]
  },
  {
   "cell_type": "code",
   "execution_count": 47,
   "metadata": {
    "colab": {
     "base_uri": "https://localhost:8080/"
    },
    "id": "YqNuCDyLrf0G",
    "outputId": "94d7a938-f7c4-4195-c9dd-56e3bf5203ed"
   },
   "outputs": [
    {
     "data": {
      "text/plain": [
       "[3, 4]"
      ]
     },
     "execution_count": 47,
     "metadata": {},
     "output_type": "execute_result"
    }
   ],
   "source": [
    "categorical_index = [X.columns.get_loc(col) for col in categorical_cols]\n",
    "categorical_index"
   ]
  },
  {
   "cell_type": "code",
   "execution_count": 48,
   "metadata": {
    "id": "lr6Q0DX5r6F9"
   },
   "outputs": [],
   "source": [
    " #Building the Numeric Transformation Pipeline\n",
    "numeric_transformer = Pipeline(steps = [\n",
    "    ('imputer',SimpleImputer(strategy='mean')), #Handline numeric missing value with median\n",
    "    ('scaler',StandardScaler()) #Normalize the data\n",
    "] )\n",
    "#  ('scaler',StandardScaler()) #Normalize the data"
   ]
  },
  {
   "cell_type": "code",
   "execution_count": 49,
   "metadata": {
    "id": "OpomBSPYr8zf"
   },
   "outputs": [],
   "source": [
    "#Building the Categorical Transformation Pipeline\n",
    "categorical_transformer = Pipeline(steps=[\n",
    "    ('imputer',SimpleImputer(strategy = 'most_frequent',fill_value='missing')),\n",
    "    ('onehot',OneHotEncoder(handle_unknown='ignore'))\n",
    "])"
   ]
  },
  {
   "cell_type": "code",
   "execution_count": 50,
   "metadata": {
    "id": "qIvaGFEute_p"
   },
   "outputs": [],
   "source": [
    "from sklearn.compose import ColumnTransformer\n",
    "preprocessor = ColumnTransformer(\n",
    "    transformers = [('num',numeric_transformer,numeric_index),\n",
    "                ('nominal',categorical_transformer,categorical_index),]\n",
    ")"
   ]
  },
  {
   "cell_type": "code",
   "execution_count": 51,
   "metadata": {
    "id": "EDapkXdStrvP"
   },
   "outputs": [],
   "source": [
    "from sklearn.linear_model import LinearRegression\n",
    "LR_model = LinearRegression()\n"
   ]
  },
  {
   "cell_type": "code",
   "execution_count": 52,
   "metadata": {
    "id": "2Kk0iVyet1LL"
   },
   "outputs": [],
   "source": [
    "#Assemble the individual blocks to form the main pipeline\n",
    "ecmodel = Pipeline(\n",
    "    steps = [\n",
    "      ('preprocessor', preprocessor), #Preprocessing\n",
    "      ('regressor', LR_model)  #Model\n",
    "    ]\n",
    ")"
   ]
  },
  {
   "cell_type": "code",
   "execution_count": 53,
   "metadata": {
    "colab": {
     "base_uri": "https://localhost:8080/"
    },
    "id": "gBxSoFu5t9tv",
    "outputId": "4d707b98-fe43-4334-e4fa-489f55803049"
   },
   "outputs": [
    {
     "data": {
      "text/plain": [
       "Pipeline(steps=[('preprocessor',\n",
       "                 ColumnTransformer(transformers=[('num',\n",
       "                                                  Pipeline(steps=[('imputer',\n",
       "                                                                   SimpleImputer()),\n",
       "                                                                  ('scaler',\n",
       "                                                                   StandardScaler())]),\n",
       "                                                  [0, 1, 2]),\n",
       "                                                 ('nominal',\n",
       "                                                  Pipeline(steps=[('imputer',\n",
       "                                                                   SimpleImputer(fill_value='missing',\n",
       "                                                                                 strategy='most_frequent')),\n",
       "                                                                  ('onehot',\n",
       "                                                                   OneHotEncoder(handle_unknown='ignore'))]),\n",
       "                                                  [3, 4])])),\n",
       "                ('regressor', LinearRegression())])"
      ]
     },
     "execution_count": 53,
     "metadata": {},
     "output_type": "execute_result"
    }
   ],
   "source": [
    "ecmodel.fit(X_train, y_train)"
   ]
  },
  {
   "cell_type": "code",
   "execution_count": 54,
   "metadata": {
    "colab": {
     "base_uri": "https://localhost:8080/"
    },
    "id": "te_piO_UyeoU",
    "outputId": "005a2965-dcf5-495b-b3a4-8072c8617402"
   },
   "outputs": [
    {
     "name": "stderr",
     "output_type": "stream",
     "text": [
      "C:\\Users\\TashiN\\anaconda3\\lib\\site-packages\\sklearn\\base.py:445: UserWarning: X does not have valid feature names, but SimpleImputer was fitted with feature names\n",
      "  warnings.warn(\n",
      "C:\\Users\\TashiN\\anaconda3\\lib\\site-packages\\sklearn\\base.py:445: UserWarning: X does not have valid feature names, but SimpleImputer was fitted with feature names\n",
      "  warnings.warn(\n"
     ]
    },
    {
     "data": {
      "text/plain": [
       "array([426.02955763])"
      ]
     },
     "execution_count": 54,
     "metadata": {},
     "output_type": "execute_result"
    }
   ],
   "source": [
    "ecmodel.predict([[2021,10,165.0,11,0]])"
   ]
  },
  {
   "cell_type": "code",
   "execution_count": 55,
   "metadata": {
    "id": "U_Vm-UJiuKDQ"
   },
   "outputs": [],
   "source": [
    "import pickle\n",
    "pickle.dump(ecmodel, open(\"ecmodel.sav\",\"wb\"))\n"
   ]
  },
  {
   "cell_type": "code",
   "execution_count": 56,
   "metadata": {},
   "outputs": [
    {
     "data": {
      "text/plain": [
       "Pipeline(steps=[('preprocessor',\n",
       "                 ColumnTransformer(transformers=[('num',\n",
       "                                                  Pipeline(steps=[('imputer',\n",
       "                                                                   SimpleImputer()),\n",
       "                                                                  ('scaler',\n",
       "                                                                   StandardScaler())]),\n",
       "                                                  [0, 1, 2]),\n",
       "                                                 ('nominal',\n",
       "                                                  Pipeline(steps=[('imputer',\n",
       "                                                                   SimpleImputer(fill_value='missing',\n",
       "                                                                                 strategy='most_frequent')),\n",
       "                                                                  ('onehot',\n",
       "                                                                   OneHotEncoder(handle_unknown='ignore'))]),\n",
       "                                                  [3, 4])])),\n",
       "                ('regressor', LinearRegression())])"
      ]
     },
     "execution_count": 56,
     "metadata": {},
     "output_type": "execute_result"
    }
   ],
   "source": [
    "pmodel = pickle.load(open(\"ecmodel.sav\",\"rb\"))\n",
    "pmodel"
   ]
  },
  {
   "cell_type": "code",
   "execution_count": 57,
   "metadata": {},
   "outputs": [
    {
     "data": {
      "text/plain": [
       "['loanmodeljob.sav']"
      ]
     },
     "execution_count": 57,
     "metadata": {},
     "output_type": "execute_result"
    }
   ],
   "source": [
    "from joblib import load, dump\n",
    "dump(ecmodel,'loanmodeljob.sav')"
   ]
  }
 ],
 "metadata": {
  "colab": {
   "name": "EC_Model.ipynb",
   "provenance": []
  },
  "kernelspec": {
   "display_name": "Python 3",
   "language": "python",
   "name": "python3"
  },
  "language_info": {
   "codemirror_mode": {
    "name": "ipython",
    "version": 3
   },
   "file_extension": ".py",
   "mimetype": "text/x-python",
   "name": "python",
   "nbconvert_exporter": "python",
   "pygments_lexer": "ipython3",
   "version": "3.8.8"
  }
 },
 "nbformat": 4,
 "nbformat_minor": 1
}
