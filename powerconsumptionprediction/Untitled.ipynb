{
 "cells": [
  {
   "cell_type": "code",
   "execution_count": 3,
   "id": "61cf92d3",
   "metadata": {},
   "outputs": [],
   "source": [
    "import pandas as pd\n",
    "import numpy as np\n",
    "\n",
    "df = pd.read_excel('Gyalpozhing_household_power_consumption.XLSX')\n",
    "# print(df.head())\n",
    "# print('hello')\n",
    "df = pd.DataFrame(df,columns=['Category','portion','posting_Date','current','voltage','consumption','energy_Charges'])\n",
    "df = df.loc[(df['posting_Date'] >= '01-01-2019') & (df['posting_Date'] < '01-01-2022')]\n",
    "\n",
    "df['Year'] = pd.to_datetime(df['posting_Date']).dt.year\n",
    "df['Month'] = pd.to_datetime(df['posting_Date']).dt.month\n",
    "df = df.drop(['posting_Date'], axis = 1)\n",
    "\n",
    "df = df.drop_duplicates(keep='first')\n",
    "\n",
    "from sklearn.impute import SimpleImputer\n",
    "\n",
    "imp = SimpleImputer(missing_values=np.nan, strategy='most_frequent')\n",
    "imp = imp.fit_transform(df)\n",
    "\n",
    "df = pd.DataFrame(imp, columns=df.columns)\n",
    "# print(df.head())\n",
    "\n",
    "\n",
    "df = df[df['consumption'] >1.00]\n",
    "\n",
    "petroldf = df[df['Year']==2021]\n",
    "dieseldf = df[df['Year']==2019]\n",
    "\n",
    "petrolg = petroldf[petroldf['portion']=='P17_41']\n",
    "dieselg = dieseldf[dieseldf['portion']=='P17_41']\n",
    "\n",
    "\n",
    "\n",
    "p = petrolg.sort_values(by='Month')\n",
    "d = dieselg.sort_values(by='Month')"
   ]
  },
  {
   "cell_type": "code",
   "execution_count": 4,
   "id": "d62f6734",
   "metadata": {},
   "outputs": [
    {
     "data": {
      "text/html": [
       "<div>\n",
       "<style scoped>\n",
       "    .dataframe tbody tr th:only-of-type {\n",
       "        vertical-align: middle;\n",
       "    }\n",
       "\n",
       "    .dataframe tbody tr th {\n",
       "        vertical-align: top;\n",
       "    }\n",
       "\n",
       "    .dataframe thead th {\n",
       "        text-align: right;\n",
       "    }\n",
       "</style>\n",
       "<table border=\"1\" class=\"dataframe\">\n",
       "  <thead>\n",
       "    <tr style=\"text-align: right;\">\n",
       "      <th></th>\n",
       "      <th>Category</th>\n",
       "      <th>portion</th>\n",
       "      <th>current</th>\n",
       "      <th>voltage</th>\n",
       "      <th>consumption</th>\n",
       "      <th>energy_Charges</th>\n",
       "      <th>Year</th>\n",
       "      <th>Month</th>\n",
       "    </tr>\n",
       "  </thead>\n",
       "  <tbody>\n",
       "    <tr>\n",
       "      <th>11650</th>\n",
       "      <td>LV Agricultural</td>\n",
       "      <td>P17_41</td>\n",
       "      <td>0.062846</td>\n",
       "      <td>234.0</td>\n",
       "      <td>9.0</td>\n",
       "      <td>32.4</td>\n",
       "      <td>2021</td>\n",
       "      <td>1</td>\n",
       "    </tr>\n",
       "    <tr>\n",
       "      <th>11972</th>\n",
       "      <td>LV Urban Domestic Customers</td>\n",
       "      <td>P17_41</td>\n",
       "      <td>0.328194</td>\n",
       "      <td>234.0</td>\n",
       "      <td>47.0</td>\n",
       "      <td>60.16</td>\n",
       "      <td>2021</td>\n",
       "      <td>1</td>\n",
       "    </tr>\n",
       "    <tr>\n",
       "      <th>11971</th>\n",
       "      <td>LV Urban Domestic Customers</td>\n",
       "      <td>P17_41</td>\n",
       "      <td>1.075359</td>\n",
       "      <td>234.0</td>\n",
       "      <td>154.0</td>\n",
       "      <td>272.72</td>\n",
       "      <td>2021</td>\n",
       "      <td>1</td>\n",
       "    </tr>\n",
       "    <tr>\n",
       "      <th>11970</th>\n",
       "      <td>LV Urban Domestic Customers</td>\n",
       "      <td>P17_41</td>\n",
       "      <td>0.900788</td>\n",
       "      <td>234.0</td>\n",
       "      <td>129.0</td>\n",
       "      <td>205.72</td>\n",
       "      <td>2021</td>\n",
       "      <td>1</td>\n",
       "    </tr>\n",
       "    <tr>\n",
       "      <th>11969</th>\n",
       "      <td>LV Urban Domestic Customers</td>\n",
       "      <td>P17_41</td>\n",
       "      <td>1.54321</td>\n",
       "      <td>234.0</td>\n",
       "      <td>221.0</td>\n",
       "      <td>452.28</td>\n",
       "      <td>2021</td>\n",
       "      <td>1</td>\n",
       "    </tr>\n",
       "  </tbody>\n",
       "</table>\n",
       "</div>"
      ],
      "text/plain": [
       "                          Category portion   current voltage consumption  \\\n",
       "11650              LV Agricultural  P17_41  0.062846   234.0         9.0   \n",
       "11972  LV Urban Domestic Customers  P17_41  0.328194   234.0        47.0   \n",
       "11971  LV Urban Domestic Customers  P17_41  1.075359   234.0       154.0   \n",
       "11970  LV Urban Domestic Customers  P17_41  0.900788   234.0       129.0   \n",
       "11969  LV Urban Domestic Customers  P17_41   1.54321   234.0       221.0   \n",
       "\n",
       "      energy_Charges  Year Month  \n",
       "11650           32.4  2021     1  \n",
       "11972          60.16  2021     1  \n",
       "11971         272.72  2021     1  \n",
       "11970         205.72  2021     1  \n",
       "11969         452.28  2021     1  "
      ]
     },
     "execution_count": 4,
     "metadata": {},
     "output_type": "execute_result"
    }
   ],
   "source": [
    "p.head()"
   ]
  },
  {
   "cell_type": "code",
   "execution_count": 5,
   "id": "2e5bf8d9",
   "metadata": {},
   "outputs": [
    {
     "data": {
      "text/plain": [
       "[<matplotlib.lines.Line2D at 0x21c6807d340>]"
      ]
     },
     "execution_count": 5,
     "metadata": {},
     "output_type": "execute_result"
    },
    {
     "data": {
      "image/png": "[encoded data removed]",
      "text/plain": [
       "<Figure size 432x288 with 1 Axes>"
      ]
     },
     "metadata": {
      "needs_background": "light"
     },
     "output_type": "display_data"
    }
   ],
   "source": [
    "import matplotlib.pyplot as plt\n",
    "plt.plot(p['Month'], p['consumption'])"
   ]
  },
  {
   "cell_type": "code",
   "execution_count": 7,
   "id": "09e7ef93",
   "metadata": {},
   "outputs": [
    {
     "data": {
      "text/plain": [
       "<matplotlib.collections.PathCollection at 0x21c68382340>"
      ]
     },
     "execution_count": 7,
     "metadata": {},
     "output_type": "execute_result"
    },
    {
     "data": {
      "image/png": "[encoded data removed]",
      "text/plain": [
       "<Figure size 432x288 with 1 Axes>"
      ]
     },
     "metadata": {
      "needs_background": "light"
     },
     "output_type": "display_data"
    }
   ],
   "source": [
    "plt.scatter(p['Month'], p['consumption'])"
   ]
  },
  {
   "cell_type": "code",
   "execution_count": null,
   "id": "d1d71745",
   "metadata": {},
   "outputs": [],
   "source": []
  }
 ],
 "metadata": {
  "kernelspec": {
   "display_name": "Python 3",
   "language": "python",
   "name": "python3"
  },
  "language_info": {
   "codemirror_mode": {
    "name": "ipython",
    "version": 3
   },
   "file_extension": ".py",
   "mimetype": "text/x-python",
   "name": "python",
   "nbconvert_exporter": "python",
   "pygments_lexer": "ipython3",
   "version": "3.8.8"
  }
 },
 "nbformat": 4,
 "nbformat_minor": 5
}
