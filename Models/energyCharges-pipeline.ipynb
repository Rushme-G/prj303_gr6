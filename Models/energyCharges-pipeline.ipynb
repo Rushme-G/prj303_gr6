{
  "nbformat": 4,
  "nbformat_minor": 0,
  "metadata": {
    "colab": {
      "name": "EC_Model.ipynb",
      "provenance": []
    },
    "kernelspec": {
      "name": "python3",
      "display_name": "Python 3"
    },
    "language_info": {
      "name": "python"
    }
  },
  "cells": [
    {
      "cell_type": "markdown",
      "source": [
        "# TOPIC: Analysis of Household Power Consumption in Gyalpozhing\n",
        "## Group 6\n",
        "1. Anisha Rai (12190041)\n",
        "2. Rashmi Gurung (12190072)\n",
        "3. Sonam Dema (12190081)\n",
        "4. Tashi Namgay (12190086)"
      ],
      "metadata": {
        "id": "NsyTH3qXfHfw"
      }
    },
    {
      "cell_type": "markdown",
      "source": [
        "#1. IMPORT LIBRARIES"
      ],
      "metadata": {
        "id": "l5Lng3cD0hiI"
      }
    },
    {
      "cell_type": "markdown",
      "source": [
        ""
      ],
      "metadata": {
        "id": "V9tBvawiepk-"
      }
    },
    {
      "cell_type": "code",
      "execution_count": 1,
      "metadata": {
        "id": "f4XKY87DzKon"
      },
      "outputs": [],
      "source": [
        "import pandas as pd\n",
        "import numpy as np\n",
        "import seaborn as sns\n",
        "from sklearn import preprocessing\n",
        "%matplotlib inline\n",
        "import matplotlib.pyplot as plt\n",
        "plt.ioff()\n",
        "from matplotlib import pyplot as plt\n"
      ]
    },
    {
      "cell_type": "markdown",
      "source": [
        "#2. LOAD DATA"
      ],
      "metadata": {
        "id": "lNeqAJF60zbu"
      }
    },
    {
      "cell_type": "code",
      "source": [
        "#Load data\n",
        "\n",
        "main_df = pd.read_excel('Gyalpozhing_household_power_consumption.XLSX')\n",
        "main_df.head()"
      ],
      "metadata": {
        "id": "Hox3tVA9retj",
        "colab": {
          "base_uri": "https://localhost:8080/",
          "height": 542
        },
        "outputId": "5956e229-0dd8-4a7d-d404-1128315990ae"
      },
      "execution_count": 2,
      "outputs": [
        {
          "output_type": "execute_result",
          "data": {
            "text/plain": [
              "   BP Number                                          BP_name   CA_number  \\\n",
              "0  1702371.0            Company Lemon Grass Factory Kurizampa  50000504.0   \n",
              "1  1705727.0                          Company RBA Gyelposhing  50001004.0   \n",
              "2  1702588.0                              N R D C Gyelposhing  60001500.0   \n",
              "3  1702586.0                          Swerage Treatment Plant  60000307.0   \n",
              "4  1709983.0  Company Rabsel Construction Pvt.Ltd Gyelposhing  60006107.0   \n",
              "\n",
              "  portion posting_Date   Due Date Billing Period  Print Doc. No.  \\\n",
              "0  P17_41   2019-01-02 2019-02-01        2019/01    6.007099e+09   \n",
              "1  P17_41   2019-01-02 2019-02-01        2019/01    4.003612e+09   \n",
              "2  P17_41   2019-01-02 2019-02-01        2019/01    6.007099e+09   \n",
              "3  P17_41   2019-01-02 2019-02-01        2019/01    6.007099e+09   \n",
              "4  P17_41   2019-01-02 2019-02-01        2019/01    6.007099e+09   \n",
              "\n",
              "   Billing Doc. No.  consumption  ...    current  voltage  energy_Charges  \\\n",
              "0      9.018221e+09        167.0  ...   1.166136    234.0          589.51   \n",
              "1      9.018221e+09        788.0  ...   5.502486    234.0         2781.64   \n",
              "2      9.018221e+09          0.0  ...   0.000000    234.0            0.00   \n",
              "3      9.018221e+09          0.0  ...   0.000000    234.0            0.00   \n",
              "4      9.018221e+09       1880.0  ...  13.127758    234.0         7557.60   \n",
              "\n",
              "   Demand Charges  Penalty Charges     Recon Key G/L Account         Category  \\\n",
              "0             0.0             0.00  19015R040045      300002  LV Agricultural   \n",
              "1             0.0             0.00   190115R4/17      300002  LV Agricultural   \n",
              "2             0.0             0.00  19015R040045         NaN          LV Bulk   \n",
              "3             0.0             0.00  19015R040045         NaN          LV Bulk   \n",
              "4             0.0           463.18  19015R040045      300003          LV Bulk   \n",
              "\n",
              "  FICA Doument no         Search term1  \n",
              "0    4.000049e+11        LEMON FACTORY  \n",
              "1    9.434803e+07    RAMS, GYELPOSHING  \n",
              "2    4.000049e+11              N R D C  \n",
              "3    4.000049e+11        SWERAGE PLANT  \n",
              "4    4.000049e+11  RABSEL CONSTRUCTION  \n",
              "\n",
              "[5 rows x 21 columns]"
            ],
            "text/html": [
              "\n",
              "  <div id=\"df-395b0955-cee6-4b88-92f3-f1dc8eb71879\">\n",
              "    <div class=\"colab-df-container\">\n",
              "      <div>\n",
              "<style scoped>\n",
              "    .dataframe tbody tr th:only-of-type {\n",
              "        vertical-align: middle;\n",
              "    }\n",
              "\n",
              "    .dataframe tbody tr th {\n",
              "        vertical-align: top;\n",
              "    }\n",
              "\n",
              "    .dataframe thead th {\n",
              "        text-align: right;\n",
              "    }\n",
              "</style>\n",
              "<table border=\"1\" class=\"dataframe\">\n",
              "  <thead>\n",
              "    <tr style=\"text-align: right;\">\n",
              "      <th></th>\n",
              "      <th>BP Number</th>\n",
              "      <th>BP_name</th>\n",
              "      <th>CA_number</th>\n",
              "      <th>portion</th>\n",
              "      <th>posting_Date</th>\n",
              "      <th>Due Date</th>\n",
              "      <th>Billing Period</th>\n",
              "      <th>Print Doc. No.</th>\n",
              "      <th>Billing Doc. No.</th>\n",
              "      <th>consumption</th>\n",
              "      <th>...</th>\n",
              "      <th>current</th>\n",
              "      <th>voltage</th>\n",
              "      <th>energy_Charges</th>\n",
              "      <th>Demand Charges</th>\n",
              "      <th>Penalty Charges</th>\n",
              "      <th>Recon Key</th>\n",
              "      <th>G/L Account</th>\n",
              "      <th>Category</th>\n",
              "      <th>FICA Doument no</th>\n",
              "      <th>Search term1</th>\n",
              "    </tr>\n",
              "  </thead>\n",
              "  <tbody>\n",
              "    <tr>\n",
              "      <th>0</th>\n",
              "      <td>1702371.0</td>\n",
              "      <td>Company Lemon Grass Factory Kurizampa</td>\n",
              "      <td>50000504.0</td>\n",
              "      <td>P17_41</td>\n",
              "      <td>2019-01-02</td>\n",
              "      <td>2019-02-01</td>\n",
              "      <td>2019/01</td>\n",
              "      <td>6.007099e+09</td>\n",
              "      <td>9.018221e+09</td>\n",
              "      <td>167.0</td>\n",
              "      <td>...</td>\n",
              "      <td>1.166136</td>\n",
              "      <td>234.0</td>\n",
              "      <td>589.51</td>\n",
              "      <td>0.0</td>\n",
              "      <td>0.00</td>\n",
              "      <td>19015R040045</td>\n",
              "      <td>300002</td>\n",
              "      <td>LV Agricultural</td>\n",
              "      <td>4.000049e+11</td>\n",
              "      <td>LEMON FACTORY</td>\n",
              "    </tr>\n",
              "    <tr>\n",
              "      <th>1</th>\n",
              "      <td>1705727.0</td>\n",
              "      <td>Company RBA Gyelposhing</td>\n",
              "      <td>50001004.0</td>\n",
              "      <td>P17_41</td>\n",
              "      <td>2019-01-02</td>\n",
              "      <td>2019-02-01</td>\n",
              "      <td>2019/01</td>\n",
              "      <td>4.003612e+09</td>\n",
              "      <td>9.018221e+09</td>\n",
              "      <td>788.0</td>\n",
              "      <td>...</td>\n",
              "      <td>5.502486</td>\n",
              "      <td>234.0</td>\n",
              "      <td>2781.64</td>\n",
              "      <td>0.0</td>\n",
              "      <td>0.00</td>\n",
              "      <td>190115R4/17</td>\n",
              "      <td>300002</td>\n",
              "      <td>LV Agricultural</td>\n",
              "      <td>9.434803e+07</td>\n",
              "      <td>RAMS, GYELPOSHING</td>\n",
              "    </tr>\n",
              "    <tr>\n",
              "      <th>2</th>\n",
              "      <td>1702588.0</td>\n",
              "      <td>N R D C Gyelposhing</td>\n",
              "      <td>60001500.0</td>\n",
              "      <td>P17_41</td>\n",
              "      <td>2019-01-02</td>\n",
              "      <td>2019-02-01</td>\n",
              "      <td>2019/01</td>\n",
              "      <td>6.007099e+09</td>\n",
              "      <td>9.018221e+09</td>\n",
              "      <td>0.0</td>\n",
              "      <td>...</td>\n",
              "      <td>0.000000</td>\n",
              "      <td>234.0</td>\n",
              "      <td>0.00</td>\n",
              "      <td>0.0</td>\n",
              "      <td>0.00</td>\n",
              "      <td>19015R040045</td>\n",
              "      <td>NaN</td>\n",
              "      <td>LV Bulk</td>\n",
              "      <td>4.000049e+11</td>\n",
              "      <td>N R D C</td>\n",
              "    </tr>\n",
              "    <tr>\n",
              "      <th>3</th>\n",
              "      <td>1702586.0</td>\n",
              "      <td>Swerage Treatment Plant</td>\n",
              "      <td>60000307.0</td>\n",
              "      <td>P17_41</td>\n",
              "      <td>2019-01-02</td>\n",
              "      <td>2019-02-01</td>\n",
              "      <td>2019/01</td>\n",
              "      <td>6.007099e+09</td>\n",
              "      <td>9.018221e+09</td>\n",
              "      <td>0.0</td>\n",
              "      <td>...</td>\n",
              "      <td>0.000000</td>\n",
              "      <td>234.0</td>\n",
              "      <td>0.00</td>\n",
              "      <td>0.0</td>\n",
              "      <td>0.00</td>\n",
              "      <td>19015R040045</td>\n",
              "      <td>NaN</td>\n",
              "      <td>LV Bulk</td>\n",
              "      <td>4.000049e+11</td>\n",
              "      <td>SWERAGE PLANT</td>\n",
              "    </tr>\n",
              "    <tr>\n",
              "      <th>4</th>\n",
              "      <td>1709983.0</td>\n",
              "      <td>Company Rabsel Construction Pvt.Ltd Gyelposhing</td>\n",
              "      <td>60006107.0</td>\n",
              "      <td>P17_41</td>\n",
              "      <td>2019-01-02</td>\n",
              "      <td>2019-02-01</td>\n",
              "      <td>2019/01</td>\n",
              "      <td>6.007099e+09</td>\n",
              "      <td>9.018221e+09</td>\n",
              "      <td>1880.0</td>\n",
              "      <td>...</td>\n",
              "      <td>13.127758</td>\n",
              "      <td>234.0</td>\n",
              "      <td>7557.60</td>\n",
              "      <td>0.0</td>\n",
              "      <td>463.18</td>\n",
              "      <td>19015R040045</td>\n",
              "      <td>300003</td>\n",
              "      <td>LV Bulk</td>\n",
              "      <td>4.000049e+11</td>\n",
              "      <td>RABSEL CONSTRUCTION</td>\n",
              "    </tr>\n",
              "  </tbody>\n",
              "</table>\n",
              "<p>5 rows × 21 columns</p>\n",
              "</div>\n",
              "      <button class=\"colab-df-convert\" onclick=\"convertToInteractive('df-395b0955-cee6-4b88-92f3-f1dc8eb71879')\"\n",
              "              title=\"Convert this dataframe to an interactive table.\"\n",
              "              style=\"display:none;\">\n",
              "        \n",
              "  <svg xmlns=\"http://www.w3.org/2000/svg\" height=\"24px\"viewBox=\"0 0 24 24\"\n",
              "       width=\"24px\">\n",
              "    <path d=\"M0 0h24v24H0V0z\" fill=\"none\"/>\n",
              "    <path d=\"M18.56 5.44l.94 2.06.94-2.06 2.06-.94-2.06-.94-.94-2.06-.94 2.06-2.06.94zm-11 1L8.5 8.5l.94-2.06 2.06-.94-2.06-.94L8.5 2.5l-.94 2.06-2.06.94zm10 10l.94 2.06.94-2.06 2.06-.94-2.06-.94-.94-2.06-.94 2.06-2.06.94z\"/><path d=\"M17.41 7.96l-1.37-1.37c-.4-.4-.92-.59-1.43-.59-.52 0-1.04.2-1.43.59L10.3 9.45l-7.72 7.72c-.78.78-.78 2.05 0 2.83L4 21.41c.39.39.9.59 1.41.59.51 0 1.02-.2 1.41-.59l7.78-7.78 2.81-2.81c.8-.78.8-2.07 0-2.86zM5.41 20L4 18.59l7.72-7.72 1.47 1.35L5.41 20z\"/>\n",
              "  </svg>\n",
              "      </button>\n",
              "      \n",
              "  <style>\n",
              "    .colab-df-container {\n",
              "      display:flex;\n",
              "      flex-wrap:wrap;\n",
              "      gap: 12px;\n",
              "    }\n",
              "\n",
              "    .colab-df-convert {\n",
              "      background-color: #E8F0FE;\n",
              "      border: none;\n",
              "      border-radius: 50%;\n",
              "      cursor: pointer;\n",
              "      display: none;\n",
              "      fill: #1967D2;\n",
              "      height: 32px;\n",
              "      padding: 0 0 0 0;\n",
              "      width: 32px;\n",
              "    }\n",
              "\n",
              "    .colab-df-convert:hover {\n",
              "      background-color: #E2EBFA;\n",
              "      box-shadow: 0px 1px 2px rgba(60, 64, 67, 0.3), 0px 1px 3px 1px rgba(60, 64, 67, 0.15);\n",
              "      fill: #174EA6;\n",
              "    }\n",
              "\n",
              "    [theme=dark] .colab-df-convert {\n",
              "      background-color: #3B4455;\n",
              "      fill: #D2E3FC;\n",
              "    }\n",
              "\n",
              "    [theme=dark] .colab-df-convert:hover {\n",
              "      background-color: #434B5C;\n",
              "      box-shadow: 0px 1px 3px 1px rgba(0, 0, 0, 0.15);\n",
              "      filter: drop-shadow(0px 1px 2px rgba(0, 0, 0, 0.3));\n",
              "      fill: #FFFFFF;\n",
              "    }\n",
              "  </style>\n",
              "\n",
              "      <script>\n",
              "        const buttonEl =\n",
              "          document.querySelector('#df-395b0955-cee6-4b88-92f3-f1dc8eb71879 button.colab-df-convert');\n",
              "        buttonEl.style.display =\n",
              "          google.colab.kernel.accessAllowed ? 'block' : 'none';\n",
              "\n",
              "        async function convertToInteractive(key) {\n",
              "          const element = document.querySelector('#df-395b0955-cee6-4b88-92f3-f1dc8eb71879');\n",
              "          const dataTable =\n",
              "            await google.colab.kernel.invokeFunction('convertToInteractive',\n",
              "                                                     [key], {});\n",
              "          if (!dataTable) return;\n",
              "\n",
              "          const docLinkHtml = 'Like what you see? Visit the ' +\n",
              "            '<a target=\"_blank\" href=https://colab.research.google.com/notebooks/data_table.ipynb>data table notebook</a>'\n",
              "            + ' to learn more about interactive tables.';\n",
              "          element.innerHTML = '';\n",
              "          dataTable['output_type'] = 'display_data';\n",
              "          await google.colab.output.renderOutput(dataTable, element);\n",
              "          const docLink = document.createElement('div');\n",
              "          docLink.innerHTML = docLinkHtml;\n",
              "          element.appendChild(docLink);\n",
              "        }\n",
              "      </script>\n",
              "    </div>\n",
              "  </div>\n",
              "  "
            ]
          },
          "metadata": {},
          "execution_count": 2
        }
      ]
    },
    {
      "cell_type": "markdown",
      "source": [
        "# 3. DATA PREPROCESSING "
      ],
      "metadata": {
        "id": "G2nOja6VPvV2"
      }
    },
    {
      "cell_type": "code",
      "source": [
        "# Creating a new dataframe with the only required attributes:\n",
        "\n",
        "df = pd.DataFrame(main_df,columns=['Category','portion','posting_Date','current','voltage','consumption','energy_Charges'])\n",
        "df.tail()"
      ],
      "metadata": {
        "id": "vZOo2qrALQY5",
        "colab": {
          "base_uri": "https://localhost:8080/",
          "height": 206
        },
        "outputId": "20ef3707-7362-4892-8043-b0df1c1ae9b6"
      },
      "execution_count": 3,
      "outputs": [
        {
          "output_type": "execute_result",
          "data": {
            "text/plain": [
              "                          Category portion posting_Date     current  voltage  \\\n",
              "25377  LV Urban Domestic Customers  P17_40   2022-03-02    3.505391    234.0   \n",
              "25378                MV Industrial  P17_41   2022-03-02  830.316742    234.0   \n",
              "25379                      LV Bulk  P17_41   2022-03-16    0.000000    234.0   \n",
              "25380                          NaN     NaN          NaT         NaN      NaN   \n",
              "25381                          NaN     NaN          NaT         NaN      NaN   \n",
              "\n",
              "       consumption  energy_Charges  \n",
              "25377        502.0         1207.28  \n",
              "25378     118908.0       315106.20  \n",
              "25379          0.0            0.00  \n",
              "25380          NaN             NaN  \n",
              "25381          NaN             NaN  "
            ],
            "text/html": [
              "\n",
              "  <div id=\"df-66c5cd33-6134-4736-bc66-c8a8608abb61\">\n",
              "    <div class=\"colab-df-container\">\n",
              "      <div>\n",
              "<style scoped>\n",
              "    .dataframe tbody tr th:only-of-type {\n",
              "        vertical-align: middle;\n",
              "    }\n",
              "\n",
              "    .dataframe tbody tr th {\n",
              "        vertical-align: top;\n",
              "    }\n",
              "\n",
              "    .dataframe thead th {\n",
              "        text-align: right;\n",
              "    }\n",
              "</style>\n",
              "<table border=\"1\" class=\"dataframe\">\n",
              "  <thead>\n",
              "    <tr style=\"text-align: right;\">\n",
              "      <th></th>\n",
              "      <th>Category</th>\n",
              "      <th>portion</th>\n",
              "      <th>posting_Date</th>\n",
              "      <th>current</th>\n",
              "      <th>voltage</th>\n",
              "      <th>consumption</th>\n",
              "      <th>energy_Charges</th>\n",
              "    </tr>\n",
              "  </thead>\n",
              "  <tbody>\n",
              "    <tr>\n",
              "      <th>25377</th>\n",
              "      <td>LV Urban Domestic Customers</td>\n",
              "      <td>P17_40</td>\n",
              "      <td>2022-03-02</td>\n",
              "      <td>3.505391</td>\n",
              "      <td>234.0</td>\n",
              "      <td>502.0</td>\n",
              "      <td>1207.28</td>\n",
              "    </tr>\n",
              "    <tr>\n",
              "      <th>25378</th>\n",
              "      <td>MV Industrial</td>\n",
              "      <td>P17_41</td>\n",
              "      <td>2022-03-02</td>\n",
              "      <td>830.316742</td>\n",
              "      <td>234.0</td>\n",
              "      <td>118908.0</td>\n",
              "      <td>315106.20</td>\n",
              "    </tr>\n",
              "    <tr>\n",
              "      <th>25379</th>\n",
              "      <td>LV Bulk</td>\n",
              "      <td>P17_41</td>\n",
              "      <td>2022-03-16</td>\n",
              "      <td>0.000000</td>\n",
              "      <td>234.0</td>\n",
              "      <td>0.0</td>\n",
              "      <td>0.00</td>\n",
              "    </tr>\n",
              "    <tr>\n",
              "      <th>25380</th>\n",
              "      <td>NaN</td>\n",
              "      <td>NaN</td>\n",
              "      <td>NaT</td>\n",
              "      <td>NaN</td>\n",
              "      <td>NaN</td>\n",
              "      <td>NaN</td>\n",
              "      <td>NaN</td>\n",
              "    </tr>\n",
              "    <tr>\n",
              "      <th>25381</th>\n",
              "      <td>NaN</td>\n",
              "      <td>NaN</td>\n",
              "      <td>NaT</td>\n",
              "      <td>NaN</td>\n",
              "      <td>NaN</td>\n",
              "      <td>NaN</td>\n",
              "      <td>NaN</td>\n",
              "    </tr>\n",
              "  </tbody>\n",
              "</table>\n",
              "</div>\n",
              "      <button class=\"colab-df-convert\" onclick=\"convertToInteractive('df-66c5cd33-6134-4736-bc66-c8a8608abb61')\"\n",
              "              title=\"Convert this dataframe to an interactive table.\"\n",
              "              style=\"display:none;\">\n",
              "        \n",
              "  <svg xmlns=\"http://www.w3.org/2000/svg\" height=\"24px\"viewBox=\"0 0 24 24\"\n",
              "       width=\"24px\">\n",
              "    <path d=\"M0 0h24v24H0V0z\" fill=\"none\"/>\n",
              "    <path d=\"M18.56 5.44l.94 2.06.94-2.06 2.06-.94-2.06-.94-.94-2.06-.94 2.06-2.06.94zm-11 1L8.5 8.5l.94-2.06 2.06-.94-2.06-.94L8.5 2.5l-.94 2.06-2.06.94zm10 10l.94 2.06.94-2.06 2.06-.94-2.06-.94-.94-2.06-.94 2.06-2.06.94z\"/><path d=\"M17.41 7.96l-1.37-1.37c-.4-.4-.92-.59-1.43-.59-.52 0-1.04.2-1.43.59L10.3 9.45l-7.72 7.72c-.78.78-.78 2.05 0 2.83L4 21.41c.39.39.9.59 1.41.59.51 0 1.02-.2 1.41-.59l7.78-7.78 2.81-2.81c.8-.78.8-2.07 0-2.86zM5.41 20L4 18.59l7.72-7.72 1.47 1.35L5.41 20z\"/>\n",
              "  </svg>\n",
              "      </button>\n",
              "      \n",
              "  <style>\n",
              "    .colab-df-container {\n",
              "      display:flex;\n",
              "      flex-wrap:wrap;\n",
              "      gap: 12px;\n",
              "    }\n",
              "\n",
              "    .colab-df-convert {\n",
              "      background-color: #E8F0FE;\n",
              "      border: none;\n",
              "      border-radius: 50%;\n",
              "      cursor: pointer;\n",
              "      display: none;\n",
              "      fill: #1967D2;\n",
              "      height: 32px;\n",
              "      padding: 0 0 0 0;\n",
              "      width: 32px;\n",
              "    }\n",
              "\n",
              "    .colab-df-convert:hover {\n",
              "      background-color: #E2EBFA;\n",
              "      box-shadow: 0px 1px 2px rgba(60, 64, 67, 0.3), 0px 1px 3px 1px rgba(60, 64, 67, 0.15);\n",
              "      fill: #174EA6;\n",
              "    }\n",
              "\n",
              "    [theme=dark] .colab-df-convert {\n",
              "      background-color: #3B4455;\n",
              "      fill: #D2E3FC;\n",
              "    }\n",
              "\n",
              "    [theme=dark] .colab-df-convert:hover {\n",
              "      background-color: #434B5C;\n",
              "      box-shadow: 0px 1px 3px 1px rgba(0, 0, 0, 0.15);\n",
              "      filter: drop-shadow(0px 1px 2px rgba(0, 0, 0, 0.3));\n",
              "      fill: #FFFFFF;\n",
              "    }\n",
              "  </style>\n",
              "\n",
              "      <script>\n",
              "        const buttonEl =\n",
              "          document.querySelector('#df-66c5cd33-6134-4736-bc66-c8a8608abb61 button.colab-df-convert');\n",
              "        buttonEl.style.display =\n",
              "          google.colab.kernel.accessAllowed ? 'block' : 'none';\n",
              "\n",
              "        async function convertToInteractive(key) {\n",
              "          const element = document.querySelector('#df-66c5cd33-6134-4736-bc66-c8a8608abb61');\n",
              "          const dataTable =\n",
              "            await google.colab.kernel.invokeFunction('convertToInteractive',\n",
              "                                                     [key], {});\n",
              "          if (!dataTable) return;\n",
              "\n",
              "          const docLinkHtml = 'Like what you see? Visit the ' +\n",
              "            '<a target=\"_blank\" href=https://colab.research.google.com/notebooks/data_table.ipynb>data table notebook</a>'\n",
              "            + ' to learn more about interactive tables.';\n",
              "          element.innerHTML = '';\n",
              "          dataTable['output_type'] = 'display_data';\n",
              "          await google.colab.output.renderOutput(dataTable, element);\n",
              "          const docLink = document.createElement('div');\n",
              "          docLink.innerHTML = docLinkHtml;\n",
              "          element.appendChild(docLink);\n",
              "        }\n",
              "      </script>\n",
              "    </div>\n",
              "  </div>\n",
              "  "
            ]
          },
          "metadata": {},
          "execution_count": 3
        }
      ]
    },
    {
      "cell_type": "code",
      "source": [
        "df.dtypes"
      ],
      "metadata": {
        "colab": {
          "base_uri": "https://localhost:8080/"
        },
        "id": "SJs-FHuNGwAD",
        "outputId": "33860240-0a48-4bcd-c404-e0551186361d"
      },
      "execution_count": 4,
      "outputs": [
        {
          "output_type": "execute_result",
          "data": {
            "text/plain": [
              "Category                  object\n",
              "portion                   object\n",
              "posting_Date      datetime64[ns]\n",
              "current                  float64\n",
              "voltage                  float64\n",
              "consumption              float64\n",
              "energy_Charges           float64\n",
              "dtype: object"
            ]
          },
          "metadata": {},
          "execution_count": 4
        }
      ]
    },
    {
      "cell_type": "code",
      "source": [
        "# Selecting the data from 2019 till 2021 only:\n",
        "\n",
        "df = df.loc[(df['posting_Date'] >= '01-01-2019') & (df['posting_Date'] < '01-01-2022')]\n",
        "df.tail()"
      ],
      "metadata": {
        "id": "sSNkZhHxPE4l",
        "colab": {
          "base_uri": "https://localhost:8080/",
          "height": 206
        },
        "outputId": "b260db6a-68f8-4459-c63a-f73b7e9d6f62"
      },
      "execution_count": 5,
      "outputs": [
        {
          "output_type": "execute_result",
          "data": {
            "text/plain": [
              "                          Category portion posting_Date   current  voltage  \\\n",
              "23602  LV Urban Domestic Customers  P17_41   2021-12-02  0.796045    234.0   \n",
              "23603  LV Urban Domestic Customers  P17_41   2021-12-02  1.529244    234.0   \n",
              "23604  LV Urban Domestic Customers  P17_41   2021-12-02  0.628457    234.0   \n",
              "23605  LV Urban Domestic Customers  P17_41   2021-12-02  0.733199    234.0   \n",
              "23606  LV Urban Domestic Customers  P17_41   2021-12-02  0.279314    234.0   \n",
              "\n",
              "       consumption  energy_Charges  \n",
              "23602        114.0          165.52  \n",
              "23603        219.0          446.92  \n",
              "23604         90.0          115.20  \n",
              "23605        105.0          141.40  \n",
              "23606         40.0           51.20  "
            ],
            "text/html": [
              "\n",
              "  <div id=\"df-44c6693d-d4f2-4ee7-98ce-5ad1026dcce0\">\n",
              "    <div class=\"colab-df-container\">\n",
              "      <div>\n",
              "<style scoped>\n",
              "    .dataframe tbody tr th:only-of-type {\n",
              "        vertical-align: middle;\n",
              "    }\n",
              "\n",
              "    .dataframe tbody tr th {\n",
              "        vertical-align: top;\n",
              "    }\n",
              "\n",
              "    .dataframe thead th {\n",
              "        text-align: right;\n",
              "    }\n",
              "</style>\n",
              "<table border=\"1\" class=\"dataframe\">\n",
              "  <thead>\n",
              "    <tr style=\"text-align: right;\">\n",
              "      <th></th>\n",
              "      <th>Category</th>\n",
              "      <th>portion</th>\n",
              "      <th>posting_Date</th>\n",
              "      <th>current</th>\n",
              "      <th>voltage</th>\n",
              "      <th>consumption</th>\n",
              "      <th>energy_Charges</th>\n",
              "    </tr>\n",
              "  </thead>\n",
              "  <tbody>\n",
              "    <tr>\n",
              "      <th>23602</th>\n",
              "      <td>LV Urban Domestic Customers</td>\n",
              "      <td>P17_41</td>\n",
              "      <td>2021-12-02</td>\n",
              "      <td>0.796045</td>\n",
              "      <td>234.0</td>\n",
              "      <td>114.0</td>\n",
              "      <td>165.52</td>\n",
              "    </tr>\n",
              "    <tr>\n",
              "      <th>23603</th>\n",
              "      <td>LV Urban Domestic Customers</td>\n",
              "      <td>P17_41</td>\n",
              "      <td>2021-12-02</td>\n",
              "      <td>1.529244</td>\n",
              "      <td>234.0</td>\n",
              "      <td>219.0</td>\n",
              "      <td>446.92</td>\n",
              "    </tr>\n",
              "    <tr>\n",
              "      <th>23604</th>\n",
              "      <td>LV Urban Domestic Customers</td>\n",
              "      <td>P17_41</td>\n",
              "      <td>2021-12-02</td>\n",
              "      <td>0.628457</td>\n",
              "      <td>234.0</td>\n",
              "      <td>90.0</td>\n",
              "      <td>115.20</td>\n",
              "    </tr>\n",
              "    <tr>\n",
              "      <th>23605</th>\n",
              "      <td>LV Urban Domestic Customers</td>\n",
              "      <td>P17_41</td>\n",
              "      <td>2021-12-02</td>\n",
              "      <td>0.733199</td>\n",
              "      <td>234.0</td>\n",
              "      <td>105.0</td>\n",
              "      <td>141.40</td>\n",
              "    </tr>\n",
              "    <tr>\n",
              "      <th>23606</th>\n",
              "      <td>LV Urban Domestic Customers</td>\n",
              "      <td>P17_41</td>\n",
              "      <td>2021-12-02</td>\n",
              "      <td>0.279314</td>\n",
              "      <td>234.0</td>\n",
              "      <td>40.0</td>\n",
              "      <td>51.20</td>\n",
              "    </tr>\n",
              "  </tbody>\n",
              "</table>\n",
              "</div>\n",
              "      <button class=\"colab-df-convert\" onclick=\"convertToInteractive('df-44c6693d-d4f2-4ee7-98ce-5ad1026dcce0')\"\n",
              "              title=\"Convert this dataframe to an interactive table.\"\n",
              "              style=\"display:none;\">\n",
              "        \n",
              "  <svg xmlns=\"http://www.w3.org/2000/svg\" height=\"24px\"viewBox=\"0 0 24 24\"\n",
              "       width=\"24px\">\n",
              "    <path d=\"M0 0h24v24H0V0z\" fill=\"none\"/>\n",
              "    <path d=\"M18.56 5.44l.94 2.06.94-2.06 2.06-.94-2.06-.94-.94-2.06-.94 2.06-2.06.94zm-11 1L8.5 8.5l.94-2.06 2.06-.94-2.06-.94L8.5 2.5l-.94 2.06-2.06.94zm10 10l.94 2.06.94-2.06 2.06-.94-2.06-.94-.94-2.06-.94 2.06-2.06.94z\"/><path d=\"M17.41 7.96l-1.37-1.37c-.4-.4-.92-.59-1.43-.59-.52 0-1.04.2-1.43.59L10.3 9.45l-7.72 7.72c-.78.78-.78 2.05 0 2.83L4 21.41c.39.39.9.59 1.41.59.51 0 1.02-.2 1.41-.59l7.78-7.78 2.81-2.81c.8-.78.8-2.07 0-2.86zM5.41 20L4 18.59l7.72-7.72 1.47 1.35L5.41 20z\"/>\n",
              "  </svg>\n",
              "      </button>\n",
              "      \n",
              "  <style>\n",
              "    .colab-df-container {\n",
              "      display:flex;\n",
              "      flex-wrap:wrap;\n",
              "      gap: 12px;\n",
              "    }\n",
              "\n",
              "    .colab-df-convert {\n",
              "      background-color: #E8F0FE;\n",
              "      border: none;\n",
              "      border-radius: 50%;\n",
              "      cursor: pointer;\n",
              "      display: none;\n",
              "      fill: #1967D2;\n",
              "      height: 32px;\n",
              "      padding: 0 0 0 0;\n",
              "      width: 32px;\n",
              "    }\n",
              "\n",
              "    .colab-df-convert:hover {\n",
              "      background-color: #E2EBFA;\n",
              "      box-shadow: 0px 1px 2px rgba(60, 64, 67, 0.3), 0px 1px 3px 1px rgba(60, 64, 67, 0.15);\n",
              "      fill: #174EA6;\n",
              "    }\n",
              "\n",
              "    [theme=dark] .colab-df-convert {\n",
              "      background-color: #3B4455;\n",
              "      fill: #D2E3FC;\n",
              "    }\n",
              "\n",
              "    [theme=dark] .colab-df-convert:hover {\n",
              "      background-color: #434B5C;\n",
              "      box-shadow: 0px 1px 3px 1px rgba(0, 0, 0, 0.15);\n",
              "      filter: drop-shadow(0px 1px 2px rgba(0, 0, 0, 0.3));\n",
              "      fill: #FFFFFF;\n",
              "    }\n",
              "  </style>\n",
              "\n",
              "      <script>\n",
              "        const buttonEl =\n",
              "          document.querySelector('#df-44c6693d-d4f2-4ee7-98ce-5ad1026dcce0 button.colab-df-convert');\n",
              "        buttonEl.style.display =\n",
              "          google.colab.kernel.accessAllowed ? 'block' : 'none';\n",
              "\n",
              "        async function convertToInteractive(key) {\n",
              "          const element = document.querySelector('#df-44c6693d-d4f2-4ee7-98ce-5ad1026dcce0');\n",
              "          const dataTable =\n",
              "            await google.colab.kernel.invokeFunction('convertToInteractive',\n",
              "                                                     [key], {});\n",
              "          if (!dataTable) return;\n",
              "\n",
              "          const docLinkHtml = 'Like what you see? Visit the ' +\n",
              "            '<a target=\"_blank\" href=https://colab.research.google.com/notebooks/data_table.ipynb>data table notebook</a>'\n",
              "            + ' to learn more about interactive tables.';\n",
              "          element.innerHTML = '';\n",
              "          dataTable['output_type'] = 'display_data';\n",
              "          await google.colab.output.renderOutput(dataTable, element);\n",
              "          const docLink = document.createElement('div');\n",
              "          docLink.innerHTML = docLinkHtml;\n",
              "          element.appendChild(docLink);\n",
              "        }\n",
              "      </script>\n",
              "    </div>\n",
              "  </div>\n",
              "  "
            ]
          },
          "metadata": {},
          "execution_count": 5
        }
      ]
    },
    {
      "cell_type": "code",
      "source": [
        "# Extracting the year and montht from the posting_date\n",
        "# Adding these two new columns(Year and month) and then droping the posting date col\n",
        "\n",
        "df['Year'] = pd.to_datetime(df['posting_Date']).dt.year\n",
        "df['Month'] = pd.to_datetime(df['posting_Date']).dt.month\n",
        "df = df.drop(['posting_Date'], axis = 1)"
      ],
      "metadata": {
        "id": "Pqi9lpXAc1i-"
      },
      "execution_count": 6,
      "outputs": []
    },
    {
      "cell_type": "code",
      "source": [
        "df.duplicated().sum()"
      ],
      "metadata": {
        "colab": {
          "base_uri": "https://localhost:8080/"
        },
        "id": "YJeHxiRuk7od",
        "outputId": "181eefa9-970e-4b37-c363-7357314139e0"
      },
      "execution_count": 7,
      "outputs": [
        {
          "output_type": "execute_result",
          "data": {
            "text/plain": [
              "5952"
            ]
          },
          "metadata": {},
          "execution_count": 7
        }
      ]
    },
    {
      "cell_type": "code",
      "source": [
        "gyalpozhing_df = df.drop_duplicates()"
      ],
      "metadata": {
        "id": "cR8tCvZEbmFX"
      },
      "execution_count": 8,
      "outputs": []
    },
    {
      "cell_type": "markdown",
      "source": [
        "# 4. DETECTING OUTLIERS"
      ],
      "metadata": {
        "id": "tvMZfbkohpMW"
      }
    },
    {
      "cell_type": "code",
      "source": [
        "sns.boxplot(x = gyalpozhing_df['current'])\n",
        "plt.show()"
      ],
      "metadata": {
        "id": "jYMx_Kqrhb-T",
        "colab": {
          "base_uri": "https://localhost:8080/",
          "height": 279
        },
        "outputId": "6d61e788-2474-4099-8b0d-36670371d6fd"
      },
      "execution_count": 9,
      "outputs": [
        {
          "output_type": "display_data",
          "data": {
            "text/plain": [
              "<Figure size 432x288 with 1 Axes>"
            ],
            "image/png": "[encoded data removed]"
          },
          "metadata": {
            "needs_background": "light"
          }
        }
      ]
    },
    {
      "cell_type": "code",
      "source": [
        "#ul = upper limit\n",
        "#ll = lower limit\n",
        "#IQR = Interquartile Range\n",
        "\n",
        "q1 = gyalpozhing_df.current.quantile(0.25)\n",
        "q3 = gyalpozhing_df.current.quantile(0.75)\n",
        "IQR = q3 - q1\n",
        "ul = q3 + (IQR * 1.5)\n",
        "ll = q1 - (IQR * 1.5)"
      ],
      "metadata": {
        "id": "NKEGSjCvh4yK"
      },
      "execution_count": 10,
      "outputs": []
    },
    {
      "cell_type": "code",
      "source": [
        "gyalpozhing_df[(gyalpozhing_df.current < ll)  | (gyalpozhing_df.current > ul)]"
      ],
      "metadata": {
        "id": "UIEOGab4iCBG",
        "colab": {
          "base_uri": "https://localhost:8080/",
          "height": 423
        },
        "outputId": "6f57a287-8124-48ea-8dec-a3200885ffce"
      },
      "execution_count": 11,
      "outputs": [
        {
          "output_type": "execute_result",
          "data": {
            "text/plain": [
              "                          Category portion    current  voltage  consumption  \\\n",
              "1                  LV Agricultural  P17_41   5.502486    234.0        788.0   \n",
              "4                          LV Bulk  P17_41  13.127758    234.0       1880.0   \n",
              "5                          LV Bulk  P17_41  48.600637    234.0       6960.0   \n",
              "7                          LV Bulk  P17_41   7.262164    234.0       1040.0   \n",
              "8                          LV Bulk  P17_41  10.048321    234.0       1439.0   \n",
              "...                            ...     ...        ...      ...          ...   \n",
              "23469  LV Urban Domestic Customers  P17_41  11.668343    234.0       1671.0   \n",
              "23523  LV Urban Domestic Customers  P17_41   5.816714    234.0        833.0   \n",
              "23583  LV Urban Domestic Customers  P17_41   7.422770    234.0       1063.0   \n",
              "23584  LV Urban Domestic Customers  P17_41   8.100106    234.0       1160.0   \n",
              "23590  LV Urban Domestic Customers  P17_41   5.851628    234.0        838.0   \n",
              "\n",
              "       energy_Charges  Year  Month  \n",
              "1             2781.64  2019      1  \n",
              "4             7557.60  2019      1  \n",
              "5            27979.20  2019      1  \n",
              "7             4180.80  2019      1  \n",
              "8             5784.78  2019      1  \n",
              "...               ...   ...    ...  \n",
              "23469         5462.44  2021     12  \n",
              "23523         2412.12  2021     12  \n",
              "23583         3249.32  2021     12  \n",
              "23584         3602.40  2021     12  \n",
              "23590         2430.32  2021     12  \n",
              "\n",
              "[1611 rows x 8 columns]"
            ],
            "text/html": [
              "\n",
              "  <div id=\"df-9848bdf9-c082-4f94-a064-d6ebe0834e71\">\n",
              "    <div class=\"colab-df-container\">\n",
              "      <div>\n",
              "<style scoped>\n",
              "    .dataframe tbody tr th:only-of-type {\n",
              "        vertical-align: middle;\n",
              "    }\n",
              "\n",
              "    .dataframe tbody tr th {\n",
              "        vertical-align: top;\n",
              "    }\n",
              "\n",
              "    .dataframe thead th {\n",
              "        text-align: right;\n",
              "    }\n",
              "</style>\n",
              "<table border=\"1\" class=\"dataframe\">\n",
              "  <thead>\n",
              "    <tr style=\"text-align: right;\">\n",
              "      <th></th>\n",
              "      <th>Category</th>\n",
              "      <th>portion</th>\n",
              "      <th>current</th>\n",
              "      <th>voltage</th>\n",
              "      <th>consumption</th>\n",
              "      <th>energy_Charges</th>\n",
              "      <th>Year</th>\n",
              "      <th>Month</th>\n",
              "    </tr>\n",
              "  </thead>\n",
              "  <tbody>\n",
              "    <tr>\n",
              "      <th>1</th>\n",
              "      <td>LV Agricultural</td>\n",
              "      <td>P17_41</td>\n",
              "      <td>5.502486</td>\n",
              "      <td>234.0</td>\n",
              "      <td>788.0</td>\n",
              "      <td>2781.64</td>\n",
              "      <td>2019</td>\n",
              "      <td>1</td>\n",
              "    </tr>\n",
              "    <tr>\n",
              "      <th>4</th>\n",
              "      <td>LV Bulk</td>\n",
              "      <td>P17_41</td>\n",
              "      <td>13.127758</td>\n",
              "      <td>234.0</td>\n",
              "      <td>1880.0</td>\n",
              "      <td>7557.60</td>\n",
              "      <td>2019</td>\n",
              "      <td>1</td>\n",
              "    </tr>\n",
              "    <tr>\n",
              "      <th>5</th>\n",
              "      <td>LV Bulk</td>\n",
              "      <td>P17_41</td>\n",
              "      <td>48.600637</td>\n",
              "      <td>234.0</td>\n",
              "      <td>6960.0</td>\n",
              "      <td>27979.20</td>\n",
              "      <td>2019</td>\n",
              "      <td>1</td>\n",
              "    </tr>\n",
              "    <tr>\n",
              "      <th>7</th>\n",
              "      <td>LV Bulk</td>\n",
              "      <td>P17_41</td>\n",
              "      <td>7.262164</td>\n",
              "      <td>234.0</td>\n",
              "      <td>1040.0</td>\n",
              "      <td>4180.80</td>\n",
              "      <td>2019</td>\n",
              "      <td>1</td>\n",
              "    </tr>\n",
              "    <tr>\n",
              "      <th>8</th>\n",
              "      <td>LV Bulk</td>\n",
              "      <td>P17_41</td>\n",
              "      <td>10.048321</td>\n",
              "      <td>234.0</td>\n",
              "      <td>1439.0</td>\n",
              "      <td>5784.78</td>\n",
              "      <td>2019</td>\n",
              "      <td>1</td>\n",
              "    </tr>\n",
              "    <tr>\n",
              "      <th>...</th>\n",
              "      <td>...</td>\n",
              "      <td>...</td>\n",
              "      <td>...</td>\n",
              "      <td>...</td>\n",
              "      <td>...</td>\n",
              "      <td>...</td>\n",
              "      <td>...</td>\n",
              "      <td>...</td>\n",
              "    </tr>\n",
              "    <tr>\n",
              "      <th>23469</th>\n",
              "      <td>LV Urban Domestic Customers</td>\n",
              "      <td>P17_41</td>\n",
              "      <td>11.668343</td>\n",
              "      <td>234.0</td>\n",
              "      <td>1671.0</td>\n",
              "      <td>5462.44</td>\n",
              "      <td>2021</td>\n",
              "      <td>12</td>\n",
              "    </tr>\n",
              "    <tr>\n",
              "      <th>23523</th>\n",
              "      <td>LV Urban Domestic Customers</td>\n",
              "      <td>P17_41</td>\n",
              "      <td>5.816714</td>\n",
              "      <td>234.0</td>\n",
              "      <td>833.0</td>\n",
              "      <td>2412.12</td>\n",
              "      <td>2021</td>\n",
              "      <td>12</td>\n",
              "    </tr>\n",
              "    <tr>\n",
              "      <th>23583</th>\n",
              "      <td>LV Urban Domestic Customers</td>\n",
              "      <td>P17_41</td>\n",
              "      <td>7.422770</td>\n",
              "      <td>234.0</td>\n",
              "      <td>1063.0</td>\n",
              "      <td>3249.32</td>\n",
              "      <td>2021</td>\n",
              "      <td>12</td>\n",
              "    </tr>\n",
              "    <tr>\n",
              "      <th>23584</th>\n",
              "      <td>LV Urban Domestic Customers</td>\n",
              "      <td>P17_41</td>\n",
              "      <td>8.100106</td>\n",
              "      <td>234.0</td>\n",
              "      <td>1160.0</td>\n",
              "      <td>3602.40</td>\n",
              "      <td>2021</td>\n",
              "      <td>12</td>\n",
              "    </tr>\n",
              "    <tr>\n",
              "      <th>23590</th>\n",
              "      <td>LV Urban Domestic Customers</td>\n",
              "      <td>P17_41</td>\n",
              "      <td>5.851628</td>\n",
              "      <td>234.0</td>\n",
              "      <td>838.0</td>\n",
              "      <td>2430.32</td>\n",
              "      <td>2021</td>\n",
              "      <td>12</td>\n",
              "    </tr>\n",
              "  </tbody>\n",
              "</table>\n",
              "<p>1611 rows × 8 columns</p>\n",
              "</div>\n",
              "      <button class=\"colab-df-convert\" onclick=\"convertToInteractive('df-9848bdf9-c082-4f94-a064-d6ebe0834e71')\"\n",
              "              title=\"Convert this dataframe to an interactive table.\"\n",
              "              style=\"display:none;\">\n",
              "        \n",
              "  <svg xmlns=\"http://www.w3.org/2000/svg\" height=\"24px\"viewBox=\"0 0 24 24\"\n",
              "       width=\"24px\">\n",
              "    <path d=\"M0 0h24v24H0V0z\" fill=\"none\"/>\n",
              "    <path d=\"M18.56 5.44l.94 2.06.94-2.06 2.06-.94-2.06-.94-.94-2.06-.94 2.06-2.06.94zm-11 1L8.5 8.5l.94-2.06 2.06-.94-2.06-.94L8.5 2.5l-.94 2.06-2.06.94zm10 10l.94 2.06.94-2.06 2.06-.94-2.06-.94-.94-2.06-.94 2.06-2.06.94z\"/><path d=\"M17.41 7.96l-1.37-1.37c-.4-.4-.92-.59-1.43-.59-.52 0-1.04.2-1.43.59L10.3 9.45l-7.72 7.72c-.78.78-.78 2.05 0 2.83L4 21.41c.39.39.9.59 1.41.59.51 0 1.02-.2 1.41-.59l7.78-7.78 2.81-2.81c.8-.78.8-2.07 0-2.86zM5.41 20L4 18.59l7.72-7.72 1.47 1.35L5.41 20z\"/>\n",
              "  </svg>\n",
              "      </button>\n",
              "      \n",
              "  <style>\n",
              "    .colab-df-container {\n",
              "      display:flex;\n",
              "      flex-wrap:wrap;\n",
              "      gap: 12px;\n",
              "    }\n",
              "\n",
              "    .colab-df-convert {\n",
              "      background-color: #E8F0FE;\n",
              "      border: none;\n",
              "      border-radius: 50%;\n",
              "      cursor: pointer;\n",
              "      display: none;\n",
              "      fill: #1967D2;\n",
              "      height: 32px;\n",
              "      padding: 0 0 0 0;\n",
              "      width: 32px;\n",
              "    }\n",
              "\n",
              "    .colab-df-convert:hover {\n",
              "      background-color: #E2EBFA;\n",
              "      box-shadow: 0px 1px 2px rgba(60, 64, 67, 0.3), 0px 1px 3px 1px rgba(60, 64, 67, 0.15);\n",
              "      fill: #174EA6;\n",
              "    }\n",
              "\n",
              "    [theme=dark] .colab-df-convert {\n",
              "      background-color: #3B4455;\n",
              "      fill: #D2E3FC;\n",
              "    }\n",
              "\n",
              "    [theme=dark] .colab-df-convert:hover {\n",
              "      background-color: #434B5C;\n",
              "      box-shadow: 0px 1px 3px 1px rgba(0, 0, 0, 0.15);\n",
              "      filter: drop-shadow(0px 1px 2px rgba(0, 0, 0, 0.3));\n",
              "      fill: #FFFFFF;\n",
              "    }\n",
              "  </style>\n",
              "\n",
              "      <script>\n",
              "        const buttonEl =\n",
              "          document.querySelector('#df-9848bdf9-c082-4f94-a064-d6ebe0834e71 button.colab-df-convert');\n",
              "        buttonEl.style.display =\n",
              "          google.colab.kernel.accessAllowed ? 'block' : 'none';\n",
              "\n",
              "        async function convertToInteractive(key) {\n",
              "          const element = document.querySelector('#df-9848bdf9-c082-4f94-a064-d6ebe0834e71');\n",
              "          const dataTable =\n",
              "            await google.colab.kernel.invokeFunction('convertToInteractive',\n",
              "                                                     [key], {});\n",
              "          if (!dataTable) return;\n",
              "\n",
              "          const docLinkHtml = 'Like what you see? Visit the ' +\n",
              "            '<a target=\"_blank\" href=https://colab.research.google.com/notebooks/data_table.ipynb>data table notebook</a>'\n",
              "            + ' to learn more about interactive tables.';\n",
              "          element.innerHTML = '';\n",
              "          dataTable['output_type'] = 'display_data';\n",
              "          await google.colab.output.renderOutput(dataTable, element);\n",
              "          const docLink = document.createElement('div');\n",
              "          docLink.innerHTML = docLinkHtml;\n",
              "          element.appendChild(docLink);\n",
              "        }\n",
              "      </script>\n",
              "    </div>\n",
              "  </div>\n",
              "  "
            ]
          },
          "metadata": {},
          "execution_count": 11
        }
      ]
    },
    {
      "cell_type": "code",
      "source": [
        "df1 = gyalpozhing_df[(gyalpozhing_df.current > ll) & (gyalpozhing_df.current < ul)]\n",
        "df1.shape"
      ],
      "metadata": {
        "id": "aH-H89fWiKLC",
        "colab": {
          "base_uri": "https://localhost:8080/"
        },
        "outputId": "2efe22a3-b4b7-4bb3-b6bc-49af4b528b07"
      },
      "execution_count": 12,
      "outputs": [
        {
          "output_type": "execute_result",
          "data": {
            "text/plain": [
              "(16039, 8)"
            ]
          },
          "metadata": {},
          "execution_count": 12
        }
      ]
    },
    {
      "cell_type": "code",
      "source": [
        "sns.boxplot(x = df1['consumption'])\n",
        "plt.show"
      ],
      "metadata": {
        "id": "mLdEugCGikwN",
        "colab": {
          "base_uri": "https://localhost:8080/",
          "height": 297
        },
        "outputId": "b7869d45-f0b9-42da-ddfa-22f0287aee1d"
      },
      "execution_count": 13,
      "outputs": [
        {
          "output_type": "execute_result",
          "data": {
            "text/plain": [
              "<function matplotlib.pyplot.show>"
            ]
          },
          "metadata": {},
          "execution_count": 13
        },
        {
          "output_type": "display_data",
          "data": {
            "text/plain": [
              "<Figure size 432x288 with 1 Axes>"
            ],
            "image/png": "[encoded data removed]"
          },
          "metadata": {
            "needs_background": "light"
          }
        }
      ]
    },
    {
      "cell_type": "code",
      "source": [
        "q1 = df1.consumption.quantile(0.25)\n",
        "q3 = df1.consumption.quantile(0.75)\n",
        "IQR = q3 - q1\n",
        "ul = q3 + (IQR * 1.5)\n",
        "ll = q1 - (IQR * 1.5)"
      ],
      "metadata": {
        "id": "kgm8u-2Bioyr"
      },
      "execution_count": 14,
      "outputs": []
    },
    {
      "cell_type": "code",
      "source": [
        "df1[(df1.consumption < ll)  | (df1.consumption > ul)]"
      ],
      "metadata": {
        "id": "ZvUsLM9KjCE0",
        "colab": {
          "base_uri": "https://localhost:8080/",
          "height": 423
        },
        "outputId": "b5d72781-0d65-4248-f291-5c3ce924f66b"
      },
      "execution_count": 15,
      "outputs": [
        {
          "output_type": "execute_result",
          "data": {
            "text/plain": [
              "                          Category portion   current  voltage  consumption  \\\n",
              "40                   LV Commercial  P17_41  3.568236    234.0        511.0   \n",
              "52                   LV Commercial  P17_41  3.456511    234.0        495.0   \n",
              "79                LV Institutional  P17_41  3.638065    234.0        521.0   \n",
              "81                LV Institutional  P17_41  3.631082    234.0        520.0   \n",
              "97                LV Institutional  P17_41  3.421597    234.0        490.0   \n",
              "...                            ...     ...       ...      ...          ...   \n",
              "23346  LV Urban Domestic Customers  P17_41  3.477459    234.0        498.0   \n",
              "23394  LV Urban Domestic Customers  P17_40  3.526339    234.0        505.0   \n",
              "23401  LV Urban Domestic Customers  P17_41  3.484442    234.0        499.0   \n",
              "23484  LV Urban Domestic Customers  P17_41  3.386682    234.0        485.0   \n",
              "23537  LV Urban Domestic Customers  P17_41  3.233060    234.0        463.0   \n",
              "\n",
              "       energy_Charges  Year  Month  \n",
              "40            1803.83  2019      1  \n",
              "52            1747.35  2019      1  \n",
              "79            1839.13  2019      1  \n",
              "81            1835.60  2019      1  \n",
              "97            1729.70  2019      1  \n",
              "...               ...   ...    ...  \n",
              "23346         1194.64  2021     12  \n",
              "23394         1218.20  2021     12  \n",
              "23401         1197.32  2021     12  \n",
              "23484         1159.80  2021     12  \n",
              "23537         1100.84  2021     12  \n",
              "\n",
              "[376 rows x 8 columns]"
            ],
            "text/html": [
              "\n",
              "  <div id=\"df-4641eb4a-73cf-451e-9375-6205f28b8c86\">\n",
              "    <div class=\"colab-df-container\">\n",
              "      <div>\n",
              "<style scoped>\n",
              "    .dataframe tbody tr th:only-of-type {\n",
              "        vertical-align: middle;\n",
              "    }\n",
              "\n",
              "    .dataframe tbody tr th {\n",
              "        vertical-align: top;\n",
              "    }\n",
              "\n",
              "    .dataframe thead th {\n",
              "        text-align: right;\n",
              "    }\n",
              "</style>\n",
              "<table border=\"1\" class=\"dataframe\">\n",
              "  <thead>\n",
              "    <tr style=\"text-align: right;\">\n",
              "      <th></th>\n",
              "      <th>Category</th>\n",
              "      <th>portion</th>\n",
              "      <th>current</th>\n",
              "      <th>voltage</th>\n",
              "      <th>consumption</th>\n",
              "      <th>energy_Charges</th>\n",
              "      <th>Year</th>\n",
              "      <th>Month</th>\n",
              "    </tr>\n",
              "  </thead>\n",
              "  <tbody>\n",
              "    <tr>\n",
              "      <th>40</th>\n",
              "      <td>LV Commercial</td>\n",
              "      <td>P17_41</td>\n",
              "      <td>3.568236</td>\n",
              "      <td>234.0</td>\n",
              "      <td>511.0</td>\n",
              "      <td>1803.83</td>\n",
              "      <td>2019</td>\n",
              "      <td>1</td>\n",
              "    </tr>\n",
              "    <tr>\n",
              "      <th>52</th>\n",
              "      <td>LV Commercial</td>\n",
              "      <td>P17_41</td>\n",
              "      <td>3.456511</td>\n",
              "      <td>234.0</td>\n",
              "      <td>495.0</td>\n",
              "      <td>1747.35</td>\n",
              "      <td>2019</td>\n",
              "      <td>1</td>\n",
              "    </tr>\n",
              "    <tr>\n",
              "      <th>79</th>\n",
              "      <td>LV Institutional</td>\n",
              "      <td>P17_41</td>\n",
              "      <td>3.638065</td>\n",
              "      <td>234.0</td>\n",
              "      <td>521.0</td>\n",
              "      <td>1839.13</td>\n",
              "      <td>2019</td>\n",
              "      <td>1</td>\n",
              "    </tr>\n",
              "    <tr>\n",
              "      <th>81</th>\n",
              "      <td>LV Institutional</td>\n",
              "      <td>P17_41</td>\n",
              "      <td>3.631082</td>\n",
              "      <td>234.0</td>\n",
              "      <td>520.0</td>\n",
              "      <td>1835.60</td>\n",
              "      <td>2019</td>\n",
              "      <td>1</td>\n",
              "    </tr>\n",
              "    <tr>\n",
              "      <th>97</th>\n",
              "      <td>LV Institutional</td>\n",
              "      <td>P17_41</td>\n",
              "      <td>3.421597</td>\n",
              "      <td>234.0</td>\n",
              "      <td>490.0</td>\n",
              "      <td>1729.70</td>\n",
              "      <td>2019</td>\n",
              "      <td>1</td>\n",
              "    </tr>\n",
              "    <tr>\n",
              "      <th>...</th>\n",
              "      <td>...</td>\n",
              "      <td>...</td>\n",
              "      <td>...</td>\n",
              "      <td>...</td>\n",
              "      <td>...</td>\n",
              "      <td>...</td>\n",
              "      <td>...</td>\n",
              "      <td>...</td>\n",
              "    </tr>\n",
              "    <tr>\n",
              "      <th>23346</th>\n",
              "      <td>LV Urban Domestic Customers</td>\n",
              "      <td>P17_41</td>\n",
              "      <td>3.477459</td>\n",
              "      <td>234.0</td>\n",
              "      <td>498.0</td>\n",
              "      <td>1194.64</td>\n",
              "      <td>2021</td>\n",
              "      <td>12</td>\n",
              "    </tr>\n",
              "    <tr>\n",
              "      <th>23394</th>\n",
              "      <td>LV Urban Domestic Customers</td>\n",
              "      <td>P17_40</td>\n",
              "      <td>3.526339</td>\n",
              "      <td>234.0</td>\n",
              "      <td>505.0</td>\n",
              "      <td>1218.20</td>\n",
              "      <td>2021</td>\n",
              "      <td>12</td>\n",
              "    </tr>\n",
              "    <tr>\n",
              "      <th>23401</th>\n",
              "      <td>LV Urban Domestic Customers</td>\n",
              "      <td>P17_41</td>\n",
              "      <td>3.484442</td>\n",
              "      <td>234.0</td>\n",
              "      <td>499.0</td>\n",
              "      <td>1197.32</td>\n",
              "      <td>2021</td>\n",
              "      <td>12</td>\n",
              "    </tr>\n",
              "    <tr>\n",
              "      <th>23484</th>\n",
              "      <td>LV Urban Domestic Customers</td>\n",
              "      <td>P17_41</td>\n",
              "      <td>3.386682</td>\n",
              "      <td>234.0</td>\n",
              "      <td>485.0</td>\n",
              "      <td>1159.80</td>\n",
              "      <td>2021</td>\n",
              "      <td>12</td>\n",
              "    </tr>\n",
              "    <tr>\n",
              "      <th>23537</th>\n",
              "      <td>LV Urban Domestic Customers</td>\n",
              "      <td>P17_41</td>\n",
              "      <td>3.233060</td>\n",
              "      <td>234.0</td>\n",
              "      <td>463.0</td>\n",
              "      <td>1100.84</td>\n",
              "      <td>2021</td>\n",
              "      <td>12</td>\n",
              "    </tr>\n",
              "  </tbody>\n",
              "</table>\n",
              "<p>376 rows × 8 columns</p>\n",
              "</div>\n",
              "      <button class=\"colab-df-convert\" onclick=\"convertToInteractive('df-4641eb4a-73cf-451e-9375-6205f28b8c86')\"\n",
              "              title=\"Convert this dataframe to an interactive table.\"\n",
              "              style=\"display:none;\">\n",
              "        \n",
              "  <svg xmlns=\"http://www.w3.org/2000/svg\" height=\"24px\"viewBox=\"0 0 24 24\"\n",
              "       width=\"24px\">\n",
              "    <path d=\"M0 0h24v24H0V0z\" fill=\"none\"/>\n",
              "    <path d=\"M18.56 5.44l.94 2.06.94-2.06 2.06-.94-2.06-.94-.94-2.06-.94 2.06-2.06.94zm-11 1L8.5 8.5l.94-2.06 2.06-.94-2.06-.94L8.5 2.5l-.94 2.06-2.06.94zm10 10l.94 2.06.94-2.06 2.06-.94-2.06-.94-.94-2.06-.94 2.06-2.06.94z\"/><path d=\"M17.41 7.96l-1.37-1.37c-.4-.4-.92-.59-1.43-.59-.52 0-1.04.2-1.43.59L10.3 9.45l-7.72 7.72c-.78.78-.78 2.05 0 2.83L4 21.41c.39.39.9.59 1.41.59.51 0 1.02-.2 1.41-.59l7.78-7.78 2.81-2.81c.8-.78.8-2.07 0-2.86zM5.41 20L4 18.59l7.72-7.72 1.47 1.35L5.41 20z\"/>\n",
              "  </svg>\n",
              "      </button>\n",
              "      \n",
              "  <style>\n",
              "    .colab-df-container {\n",
              "      display:flex;\n",
              "      flex-wrap:wrap;\n",
              "      gap: 12px;\n",
              "    }\n",
              "\n",
              "    .colab-df-convert {\n",
              "      background-color: #E8F0FE;\n",
              "      border: none;\n",
              "      border-radius: 50%;\n",
              "      cursor: pointer;\n",
              "      display: none;\n",
              "      fill: #1967D2;\n",
              "      height: 32px;\n",
              "      padding: 0 0 0 0;\n",
              "      width: 32px;\n",
              "    }\n",
              "\n",
              "    .colab-df-convert:hover {\n",
              "      background-color: #E2EBFA;\n",
              "      box-shadow: 0px 1px 2px rgba(60, 64, 67, 0.3), 0px 1px 3px 1px rgba(60, 64, 67, 0.15);\n",
              "      fill: #174EA6;\n",
              "    }\n",
              "\n",
              "    [theme=dark] .colab-df-convert {\n",
              "      background-color: #3B4455;\n",
              "      fill: #D2E3FC;\n",
              "    }\n",
              "\n",
              "    [theme=dark] .colab-df-convert:hover {\n",
              "      background-color: #434B5C;\n",
              "      box-shadow: 0px 1px 3px 1px rgba(0, 0, 0, 0.15);\n",
              "      filter: drop-shadow(0px 1px 2px rgba(0, 0, 0, 0.3));\n",
              "      fill: #FFFFFF;\n",
              "    }\n",
              "  </style>\n",
              "\n",
              "      <script>\n",
              "        const buttonEl =\n",
              "          document.querySelector('#df-4641eb4a-73cf-451e-9375-6205f28b8c86 button.colab-df-convert');\n",
              "        buttonEl.style.display =\n",
              "          google.colab.kernel.accessAllowed ? 'block' : 'none';\n",
              "\n",
              "        async function convertToInteractive(key) {\n",
              "          const element = document.querySelector('#df-4641eb4a-73cf-451e-9375-6205f28b8c86');\n",
              "          const dataTable =\n",
              "            await google.colab.kernel.invokeFunction('convertToInteractive',\n",
              "                                                     [key], {});\n",
              "          if (!dataTable) return;\n",
              "\n",
              "          const docLinkHtml = 'Like what you see? Visit the ' +\n",
              "            '<a target=\"_blank\" href=https://colab.research.google.com/notebooks/data_table.ipynb>data table notebook</a>'\n",
              "            + ' to learn more about interactive tables.';\n",
              "          element.innerHTML = '';\n",
              "          dataTable['output_type'] = 'display_data';\n",
              "          await google.colab.output.renderOutput(dataTable, element);\n",
              "          const docLink = document.createElement('div');\n",
              "          docLink.innerHTML = docLinkHtml;\n",
              "          element.appendChild(docLink);\n",
              "        }\n",
              "      </script>\n",
              "    </div>\n",
              "  </div>\n",
              "  "
            ]
          },
          "metadata": {},
          "execution_count": 15
        }
      ]
    },
    {
      "cell_type": "code",
      "source": [
        "df2 = df1[(df1.consumption > ll) & (df1.consumption < ul)]\n",
        "df2.shape"
      ],
      "metadata": {
        "id": "QG5zfFcxjJ2p",
        "colab": {
          "base_uri": "https://localhost:8080/"
        },
        "outputId": "1bb4e52f-5837-46c5-de27-526b29cd7c1d"
      },
      "execution_count": 16,
      "outputs": [
        {
          "output_type": "execute_result",
          "data": {
            "text/plain": [
              "(15663, 8)"
            ]
          },
          "metadata": {},
          "execution_count": 16
        }
      ]
    },
    {
      "cell_type": "code",
      "source": [
        "sns.boxplot(x = df2['energy_Charges'])\n",
        "plt.show"
      ],
      "metadata": {
        "id": "1md1yLGnjVp2",
        "colab": {
          "base_uri": "https://localhost:8080/",
          "height": 298
        },
        "outputId": "15bb5fe8-a672-4e2c-f2fe-1831595f0562"
      },
      "execution_count": 17,
      "outputs": [
        {
          "output_type": "execute_result",
          "data": {
            "text/plain": [
              "<function matplotlib.pyplot.show>"
            ]
          },
          "metadata": {},
          "execution_count": 17
        },
        {
          "output_type": "display_data",
          "data": {
            "text/plain": [
              "<Figure size 432x288 with 1 Axes>"
            ],
            "image/png": "[encoded data removed]"
          },
          "metadata": {
            "needs_background": "light"
          }
        }
      ]
    },
    {
      "cell_type": "code",
      "source": [
        "q1 = df2.energy_Charges.quantile(0.25)\n",
        "q3 = df2.energy_Charges.quantile(0.75)\n",
        "IQR = q3 - q1\n",
        "ul = q3 + (IQR * 1.5)\n",
        "ll = q1 - (IQR * 1.5)"
      ],
      "metadata": {
        "id": "6blyzOwJjbze"
      },
      "execution_count": 18,
      "outputs": []
    },
    {
      "cell_type": "code",
      "source": [
        "df2[(df2.energy_Charges < ll)  | (df2.energy_Charges > ul)]"
      ],
      "metadata": {
        "id": "rdHwZOwnjg57",
        "colab": {
          "base_uri": "https://localhost:8080/",
          "height": 423
        },
        "outputId": "753cd8e5-a4f1-45d5-9743-e4978c05e0ea"
      },
      "execution_count": 19,
      "outputs": [
        {
          "output_type": "execute_result",
          "data": {
            "text/plain": [
              "                          Category portion   current  voltage  consumption  \\\n",
              "15                   LV Commercial  P17_41  3.037540    234.0        435.0   \n",
              "25                   LV Commercial  P17_41  2.953746    234.0        423.0   \n",
              "31                   LV Commercial  P17_41  2.918831    234.0        418.0   \n",
              "41                   LV Commercial  P17_41  2.890900    234.0        414.0   \n",
              "45                   LV Commercial  P17_41  2.800123    234.0        401.0   \n",
              "...                            ...     ...       ...      ...          ...   \n",
              "23150                 LV Temporary  P17_41  2.234512    234.0        320.0   \n",
              "23151                 LV Temporary  P17_41  2.667449    234.0        382.0   \n",
              "23154                 LV Temporary  P17_41  2.430032    234.0        348.0   \n",
              "23163                 LV Temporary  P17_41  3.100385    234.0        444.0   \n",
              "23306  LV Urban Domestic Customers  P17_40  3.079437    234.0        441.0   \n",
              "\n",
              "       energy_Charges  Year  Month  \n",
              "15            1535.55  2019      1  \n",
              "25            1493.19  2019      1  \n",
              "31            1475.54  2019      1  \n",
              "41            1461.42  2019      1  \n",
              "45            1415.53  2019      1  \n",
              "...               ...   ...    ...  \n",
              "23150         1164.80  2021     12  \n",
              "23151         1390.48  2021     12  \n",
              "23154         1266.72  2021     12  \n",
              "23163         1616.16  2021     12  \n",
              "23306         1041.88  2021     12  \n",
              "\n",
              "[601 rows x 8 columns]"
            ],
            "text/html": [
              "\n",
              "  <div id=\"df-93297433-ec19-4058-82dd-80b5aea9745d\">\n",
              "    <div class=\"colab-df-container\">\n",
              "      <div>\n",
              "<style scoped>\n",
              "    .dataframe tbody tr th:only-of-type {\n",
              "        vertical-align: middle;\n",
              "    }\n",
              "\n",
              "    .dataframe tbody tr th {\n",
              "        vertical-align: top;\n",
              "    }\n",
              "\n",
              "    .dataframe thead th {\n",
              "        text-align: right;\n",
              "    }\n",
              "</style>\n",
              "<table border=\"1\" class=\"dataframe\">\n",
              "  <thead>\n",
              "    <tr style=\"text-align: right;\">\n",
              "      <th></th>\n",
              "      <th>Category</th>\n",
              "      <th>portion</th>\n",
              "      <th>current</th>\n",
              "      <th>voltage</th>\n",
              "      <th>consumption</th>\n",
              "      <th>energy_Charges</th>\n",
              "      <th>Year</th>\n",
              "      <th>Month</th>\n",
              "    </tr>\n",
              "  </thead>\n",
              "  <tbody>\n",
              "    <tr>\n",
              "      <th>15</th>\n",
              "      <td>LV Commercial</td>\n",
              "      <td>P17_41</td>\n",
              "      <td>3.037540</td>\n",
              "      <td>234.0</td>\n",
              "      <td>435.0</td>\n",
              "      <td>1535.55</td>\n",
              "      <td>2019</td>\n",
              "      <td>1</td>\n",
              "    </tr>\n",
              "    <tr>\n",
              "      <th>25</th>\n",
              "      <td>LV Commercial</td>\n",
              "      <td>P17_41</td>\n",
              "      <td>2.953746</td>\n",
              "      <td>234.0</td>\n",
              "      <td>423.0</td>\n",
              "      <td>1493.19</td>\n",
              "      <td>2019</td>\n",
              "      <td>1</td>\n",
              "    </tr>\n",
              "    <tr>\n",
              "      <th>31</th>\n",
              "      <td>LV Commercial</td>\n",
              "      <td>P17_41</td>\n",
              "      <td>2.918831</td>\n",
              "      <td>234.0</td>\n",
              "      <td>418.0</td>\n",
              "      <td>1475.54</td>\n",
              "      <td>2019</td>\n",
              "      <td>1</td>\n",
              "    </tr>\n",
              "    <tr>\n",
              "      <th>41</th>\n",
              "      <td>LV Commercial</td>\n",
              "      <td>P17_41</td>\n",
              "      <td>2.890900</td>\n",
              "      <td>234.0</td>\n",
              "      <td>414.0</td>\n",
              "      <td>1461.42</td>\n",
              "      <td>2019</td>\n",
              "      <td>1</td>\n",
              "    </tr>\n",
              "    <tr>\n",
              "      <th>45</th>\n",
              "      <td>LV Commercial</td>\n",
              "      <td>P17_41</td>\n",
              "      <td>2.800123</td>\n",
              "      <td>234.0</td>\n",
              "      <td>401.0</td>\n",
              "      <td>1415.53</td>\n",
              "      <td>2019</td>\n",
              "      <td>1</td>\n",
              "    </tr>\n",
              "    <tr>\n",
              "      <th>...</th>\n",
              "      <td>...</td>\n",
              "      <td>...</td>\n",
              "      <td>...</td>\n",
              "      <td>...</td>\n",
              "      <td>...</td>\n",
              "      <td>...</td>\n",
              "      <td>...</td>\n",
              "      <td>...</td>\n",
              "    </tr>\n",
              "    <tr>\n",
              "      <th>23150</th>\n",
              "      <td>LV Temporary</td>\n",
              "      <td>P17_41</td>\n",
              "      <td>2.234512</td>\n",
              "      <td>234.0</td>\n",
              "      <td>320.0</td>\n",
              "      <td>1164.80</td>\n",
              "      <td>2021</td>\n",
              "      <td>12</td>\n",
              "    </tr>\n",
              "    <tr>\n",
              "      <th>23151</th>\n",
              "      <td>LV Temporary</td>\n",
              "      <td>P17_41</td>\n",
              "      <td>2.667449</td>\n",
              "      <td>234.0</td>\n",
              "      <td>382.0</td>\n",
              "      <td>1390.48</td>\n",
              "      <td>2021</td>\n",
              "      <td>12</td>\n",
              "    </tr>\n",
              "    <tr>\n",
              "      <th>23154</th>\n",
              "      <td>LV Temporary</td>\n",
              "      <td>P17_41</td>\n",
              "      <td>2.430032</td>\n",
              "      <td>234.0</td>\n",
              "      <td>348.0</td>\n",
              "      <td>1266.72</td>\n",
              "      <td>2021</td>\n",
              "      <td>12</td>\n",
              "    </tr>\n",
              "    <tr>\n",
              "      <th>23163</th>\n",
              "      <td>LV Temporary</td>\n",
              "      <td>P17_41</td>\n",
              "      <td>3.100385</td>\n",
              "      <td>234.0</td>\n",
              "      <td>444.0</td>\n",
              "      <td>1616.16</td>\n",
              "      <td>2021</td>\n",
              "      <td>12</td>\n",
              "    </tr>\n",
              "    <tr>\n",
              "      <th>23306</th>\n",
              "      <td>LV Urban Domestic Customers</td>\n",
              "      <td>P17_40</td>\n",
              "      <td>3.079437</td>\n",
              "      <td>234.0</td>\n",
              "      <td>441.0</td>\n",
              "      <td>1041.88</td>\n",
              "      <td>2021</td>\n",
              "      <td>12</td>\n",
              "    </tr>\n",
              "  </tbody>\n",
              "</table>\n",
              "<p>601 rows × 8 columns</p>\n",
              "</div>\n",
              "      <button class=\"colab-df-convert\" onclick=\"convertToInteractive('df-93297433-ec19-4058-82dd-80b5aea9745d')\"\n",
              "              title=\"Convert this dataframe to an interactive table.\"\n",
              "              style=\"display:none;\">\n",
              "        \n",
              "  <svg xmlns=\"http://www.w3.org/2000/svg\" height=\"24px\"viewBox=\"0 0 24 24\"\n",
              "       width=\"24px\">\n",
              "    <path d=\"M0 0h24v24H0V0z\" fill=\"none\"/>\n",
              "    <path d=\"M18.56 5.44l.94 2.06.94-2.06 2.06-.94-2.06-.94-.94-2.06-.94 2.06-2.06.94zm-11 1L8.5 8.5l.94-2.06 2.06-.94-2.06-.94L8.5 2.5l-.94 2.06-2.06.94zm10 10l.94 2.06.94-2.06 2.06-.94-2.06-.94-.94-2.06-.94 2.06-2.06.94z\"/><path d=\"M17.41 7.96l-1.37-1.37c-.4-.4-.92-.59-1.43-.59-.52 0-1.04.2-1.43.59L10.3 9.45l-7.72 7.72c-.78.78-.78 2.05 0 2.83L4 21.41c.39.39.9.59 1.41.59.51 0 1.02-.2 1.41-.59l7.78-7.78 2.81-2.81c.8-.78.8-2.07 0-2.86zM5.41 20L4 18.59l7.72-7.72 1.47 1.35L5.41 20z\"/>\n",
              "  </svg>\n",
              "      </button>\n",
              "      \n",
              "  <style>\n",
              "    .colab-df-container {\n",
              "      display:flex;\n",
              "      flex-wrap:wrap;\n",
              "      gap: 12px;\n",
              "    }\n",
              "\n",
              "    .colab-df-convert {\n",
              "      background-color: #E8F0FE;\n",
              "      border: none;\n",
              "      border-radius: 50%;\n",
              "      cursor: pointer;\n",
              "      display: none;\n",
              "      fill: #1967D2;\n",
              "      height: 32px;\n",
              "      padding: 0 0 0 0;\n",
              "      width: 32px;\n",
              "    }\n",
              "\n",
              "    .colab-df-convert:hover {\n",
              "      background-color: #E2EBFA;\n",
              "      box-shadow: 0px 1px 2px rgba(60, 64, 67, 0.3), 0px 1px 3px 1px rgba(60, 64, 67, 0.15);\n",
              "      fill: #174EA6;\n",
              "    }\n",
              "\n",
              "    [theme=dark] .colab-df-convert {\n",
              "      background-color: #3B4455;\n",
              "      fill: #D2E3FC;\n",
              "    }\n",
              "\n",
              "    [theme=dark] .colab-df-convert:hover {\n",
              "      background-color: #434B5C;\n",
              "      box-shadow: 0px 1px 3px 1px rgba(0, 0, 0, 0.15);\n",
              "      filter: drop-shadow(0px 1px 2px rgba(0, 0, 0, 0.3));\n",
              "      fill: #FFFFFF;\n",
              "    }\n",
              "  </style>\n",
              "\n",
              "      <script>\n",
              "        const buttonEl =\n",
              "          document.querySelector('#df-93297433-ec19-4058-82dd-80b5aea9745d button.colab-df-convert');\n",
              "        buttonEl.style.display =\n",
              "          google.colab.kernel.accessAllowed ? 'block' : 'none';\n",
              "\n",
              "        async function convertToInteractive(key) {\n",
              "          const element = document.querySelector('#df-93297433-ec19-4058-82dd-80b5aea9745d');\n",
              "          const dataTable =\n",
              "            await google.colab.kernel.invokeFunction('convertToInteractive',\n",
              "                                                     [key], {});\n",
              "          if (!dataTable) return;\n",
              "\n",
              "          const docLinkHtml = 'Like what you see? Visit the ' +\n",
              "            '<a target=\"_blank\" href=https://colab.research.google.com/notebooks/data_table.ipynb>data table notebook</a>'\n",
              "            + ' to learn more about interactive tables.';\n",
              "          element.innerHTML = '';\n",
              "          dataTable['output_type'] = 'display_data';\n",
              "          await google.colab.output.renderOutput(dataTable, element);\n",
              "          const docLink = document.createElement('div');\n",
              "          docLink.innerHTML = docLinkHtml;\n",
              "          element.appendChild(docLink);\n",
              "        }\n",
              "      </script>\n",
              "    </div>\n",
              "  </div>\n",
              "  "
            ]
          },
          "metadata": {},
          "execution_count": 19
        }
      ]
    },
    {
      "cell_type": "code",
      "source": [
        "df3 = df2[(df2.energy_Charges > ll) & (df2.energy_Charges < ul)]\n",
        "df3.shape"
      ],
      "metadata": {
        "id": "zyJOESxMjoAF",
        "colab": {
          "base_uri": "https://localhost:8080/"
        },
        "outputId": "ac990cd0-710f-4f71-d020-26ce572a6a5d"
      },
      "execution_count": 20,
      "outputs": [
        {
          "output_type": "execute_result",
          "data": {
            "text/plain": [
              "(15062, 8)"
            ]
          },
          "metadata": {},
          "execution_count": 20
        }
      ]
    },
    {
      "cell_type": "code",
      "source": [
        "df3.dtypes"
      ],
      "metadata": {
        "colab": {
          "base_uri": "https://localhost:8080/"
        },
        "id": "bmbc8eZtGkKc",
        "outputId": "4f099e80-89a9-47eb-c140-5acfb859df7e"
      },
      "execution_count": 21,
      "outputs": [
        {
          "output_type": "execute_result",
          "data": {
            "text/plain": [
              "Category           object\n",
              "portion            object\n",
              "current           float64\n",
              "voltage           float64\n",
              "consumption       float64\n",
              "energy_Charges    float64\n",
              "Year                int64\n",
              "Month               int64\n",
              "dtype: object"
            ]
          },
          "metadata": {},
          "execution_count": 21
        }
      ]
    },
    {
      "cell_type": "markdown",
      "source": [
        "# 7. TRAIN AND TEST SPLIT\n",
        "\n",
        "\n"
      ],
      "metadata": {
        "id": "Fcc2rGJD6u9P"
      }
    },
    {
      "cell_type": "code",
      "source": [
        "# Input:\n",
        "X = df3[['Year','Month','consumption','Category','portion']]\n",
        "\n",
        "# Output:\n",
        "y = df3['energy_Charges']"
      ],
      "metadata": {
        "id": "vLFd3oFCl9Ae"
      },
      "execution_count": 22,
      "outputs": []
    },
    {
      "cell_type": "code",
      "source": [
        "#SPLITING\n",
        "\n",
        "from sklearn.model_selection import train_test_split\n",
        "X_train, X_test, y_train, y_test = train_test_split(X, y, test_size=0.30, random_state=3)"
      ],
      "metadata": {
        "id": "EC7O_P4bnCfC"
      },
      "execution_count": 23,
      "outputs": []
    },
    {
      "cell_type": "code",
      "source": [
        " #Pipeline is to create a sequence of preprocessing actions\n",
        "from sklearn.pipeline import Pipeline\n",
        "\n",
        "#SimpleImputer handles missing values\n",
        "from sklearn.impute import SimpleImputer\n",
        "\n",
        "#Standard Scaler normalise the numeric data so that large values does not\n",
        "#create biasness in the training\n",
        "\n",
        "#OneHotEndcoder converts categorical data to numerical, it also creates individual\n",
        "#for each option in the categories\n",
        "from sklearn.preprocessing import StandardScaler, LabelEncoder, OneHotEncoder"
      ],
      "metadata": {
        "id": "nWN_uuF7qyQO"
      },
      "execution_count": 24,
      "outputs": []
    },
    {
      "cell_type": "code",
      "source": [
        "#Separate the Categorical and Numerical Columns\n",
        "#Numeric columns\n",
        "numeric_cols = X.select_dtypes(include=['int64','float64']).columns\n",
        "print(numeric_cols)\n",
        "\n",
        "#categorical columns\n",
        "categorical_cols = X.select_dtypes(include=['object']).columns\n",
        "print(categorical_cols)"
      ],
      "metadata": {
        "colab": {
          "base_uri": "https://localhost:8080/"
        },
        "id": "l5XuU9n9rU2K",
        "outputId": "e8a5ba33-7868-4af0-a7ef-156f78c1f860"
      },
      "execution_count": 25,
      "outputs": [
        {
          "output_type": "stream",
          "name": "stdout",
          "text": [
            "Index(['Year', 'Month', 'consumption'], dtype='object')\n",
            "Index(['Category', 'portion'], dtype='object')\n"
          ]
        }
      ]
    },
    {
      "cell_type": "code",
      "source": [
        "numeric_index = [X.columns.get_loc(col) for col in numeric_cols]\n",
        "numeric_index"
      ],
      "metadata": {
        "colab": {
          "base_uri": "https://localhost:8080/"
        },
        "id": "OxiBGzxOrvgl",
        "outputId": "983afd28-5219-417d-c951-4671550c288b"
      },
      "execution_count": 26,
      "outputs": [
        {
          "output_type": "execute_result",
          "data": {
            "text/plain": [
              "[0, 1, 2]"
            ]
          },
          "metadata": {},
          "execution_count": 26
        }
      ]
    },
    {
      "cell_type": "code",
      "source": [
        "categorical_index = [X.columns.get_loc(col) for col in categorical_cols]\n",
        "categorical_index"
      ],
      "metadata": {
        "colab": {
          "base_uri": "https://localhost:8080/"
        },
        "id": "YqNuCDyLrf0G",
        "outputId": "798ae3ef-c010-418e-d82e-44a499139dba"
      },
      "execution_count": 27,
      "outputs": [
        {
          "output_type": "execute_result",
          "data": {
            "text/plain": [
              "[3, 4]"
            ]
          },
          "metadata": {},
          "execution_count": 27
        }
      ]
    },
    {
      "cell_type": "code",
      "source": [
        " #Building the Numeric Transformation Pipeline\n",
        "numeric_transformer = Pipeline(steps = [\n",
        "    ('imputer',SimpleImputer(strategy='mean')) #Handline numeric missing value with median\n",
        "   ] )\n",
        "#  ('scaler',StandardScaler()) #Normalize the data"
      ],
      "metadata": {
        "id": "lr6Q0DX5r6F9"
      },
      "execution_count": 28,
      "outputs": []
    },
    {
      "cell_type": "code",
      "source": [
        "#Building the Categorical Transformation Pipeline\n",
        "categorical_transformer = Pipeline(steps=[\n",
        "    ('imputer',SimpleImputer(strategy = 'most_frequent',fill_value='missing')),\n",
        "    ('onehot',OneHotEncoder(handle_unknown='ignore'))\n",
        "])"
      ],
      "metadata": {
        "id": "OpomBSPYr8zf"
      },
      "execution_count": 29,
      "outputs": []
    },
    {
      "cell_type": "code",
      "source": [
        "from sklearn.compose import ColumnTransformer\n",
        "preprocessor = ColumnTransformer(\n",
        "    transformers = [('num',numeric_transformer,numeric_index),\n",
        "                ('nominal',categorical_transformer,categorical_index),]\n",
        ")"
      ],
      "metadata": {
        "id": "qIvaGFEute_p"
      },
      "execution_count": 30,
      "outputs": []
    },
    {
      "cell_type": "code",
      "source": [
        "from sklearn.ensemble import RandomForestRegressor\n",
        "RF_model = RandomForestRegressor(n_estimators=200)"
      ],
      "metadata": {
        "id": "EDapkXdStrvP"
      },
      "execution_count": 31,
      "outputs": []
    },
    {
      "cell_type": "code",
      "source": [
        "#Assemble the individual blocks to form the main pipeline\n",
        "ecmodel = Pipeline(\n",
        "    steps = [\n",
        "      ('preprocessor', preprocessor), #Preprocessing\n",
        "      ('regressor', RF_model)  #Model\n",
        "    ]\n",
        ")"
      ],
      "metadata": {
        "id": "2Kk0iVyet1LL"
      },
      "execution_count": 32,
      "outputs": []
    },
    {
      "cell_type": "code",
      "source": [
        "ecmodel.fit(X_train, y_train)"
      ],
      "metadata": {
        "colab": {
          "base_uri": "https://localhost:8080/"
        },
        "id": "gBxSoFu5t9tv",
        "outputId": "b114f43b-7a36-4dd2-fcce-e6341f05cd66"
      },
      "execution_count": 33,
      "outputs": [
        {
          "output_type": "execute_result",
          "data": {
            "text/plain": [
              "Pipeline(steps=[('preprocessor',\n",
              "                 ColumnTransformer(transformers=[('num',\n",
              "                                                  Pipeline(steps=[('imputer',\n",
              "                                                                   SimpleImputer())]),\n",
              "                                                  [0, 1, 2]),\n",
              "                                                 ('nominal',\n",
              "                                                  Pipeline(steps=[('imputer',\n",
              "                                                                   SimpleImputer(fill_value='missing',\n",
              "                                                                                 strategy='most_frequent')),\n",
              "                                                                  ('onehot',\n",
              "                                                                   OneHotEncoder(handle_unknown='ignore'))]),\n",
              "                                                  [3, 4])])),\n",
              "                ('regressor', RandomForestRegressor(n_estimators=200))])"
            ]
          },
          "metadata": {},
          "execution_count": 33
        }
      ]
    },
    {
      "cell_type": "code",
      "source": [
        "ecmodel.predict([[2021,7,216.0,11,0]])"
      ],
      "metadata": {
        "colab": {
          "base_uri": "https://localhost:8080/"
        },
        "id": "te_piO_UyeoU",
        "outputId": "700c6d12-055b-4564-e01c-3f67ece2eeb6"
      },
      "execution_count": 34,
      "outputs": [
        {
          "output_type": "stream",
          "name": "stderr",
          "text": [
            "/usr/local/lib/python3.7/dist-packages/sklearn/base.py:451: UserWarning: X does not have valid feature names, but SimpleImputer was fitted with feature names\n",
            "  \"X does not have valid feature names, but\"\n",
            "/usr/local/lib/python3.7/dist-packages/sklearn/base.py:451: UserWarning: X does not have valid feature names, but SimpleImputer was fitted with feature names\n",
            "  \"X does not have valid feature names, but\"\n"
          ]
        },
        {
          "output_type": "execute_result",
          "data": {
            "text/plain": [
              "array([457.6048])"
            ]
          },
          "metadata": {},
          "execution_count": 34
        }
      ]
    },
    {
      "cell_type": "code",
      "source": [
        "import pickle\n",
        "pickle.dump(ecmodel, open(\"ecmodel.sav\",\"wb\"))"
      ],
      "metadata": {
        "id": "U_Vm-UJiuKDQ"
      },
      "execution_count": 35,
      "outputs": []
    }
  ]
}