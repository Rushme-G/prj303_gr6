{
 "cells": [
  {
   "cell_type": "markdown",
   "metadata": {
    "id": "l5Lng3cD0hiI"
   },
   "source": [
    "#1. IMPORT LIBRARIES"
   ]
  },
  {
   "cell_type": "code",
   "execution_count": 1,
   "metadata": {
    "id": "f4XKY87DzKon"
   },
   "outputs": [],
   "source": [
    "import pandas as pd\n",
    "import numpy as np\n",
    "import seaborn as sns\n",
    "from sklearn import preprocessing\n",
    "import matplotlib.pyplot as plt\n"
   ]
  },
  {
   "cell_type": "code",
   "execution_count": 2,
   "metadata": {
    "colab": {
     "base_uri": "https://localhost:8080/",
     "height": 36
    },
    "id": "ZaBPiuxtlElG",
    "outputId": "54fc3933-d3d3-40dd-ba8d-0ccd7acc7ac9"
   },
   "outputs": [
    {
     "data": {
      "text/plain": [
       "'1.1.1'"
      ]
     },
     "execution_count": 2,
     "metadata": {},
     "output_type": "execute_result"
    }
   ],
   "source": [
    "import sklearn\n",
    "sklearn.__version__"
   ]
  },
  {
   "cell_type": "code",
   "execution_count": null,
   "metadata": {
    "id": "O-6HYJjVS35M"
   },
   "outputs": [],
   "source": []
  },
  {
   "cell_type": "markdown",
   "metadata": {
    "id": "lNeqAJF60zbu"
   },
   "source": [
    "#2. LOAD DATA"
   ]
  },
  {
   "cell_type": "code",
   "execution_count": 3,
   "metadata": {
    "colab": {
     "base_uri": "https://localhost:8080/",
     "height": 542
    },
    "id": "Hox3tVA9retj",
    "outputId": "618bcc58-6dc7-4de8-f424-f5f86032dec2"
   },
   "outputs": [
    {
     "data": {
      "text/html": [
       "<div>\n",
       "<style scoped>\n",
       "    .dataframe tbody tr th:only-of-type {\n",
       "        vertical-align: middle;\n",
       "    }\n",
       "\n",
       "    .dataframe tbody tr th {\n",
       "        vertical-align: top;\n",
       "    }\n",
       "\n",
       "    .dataframe thead th {\n",
       "        text-align: right;\n",
       "    }\n",
       "</style>\n",
       "<table border=\"1\" class=\"dataframe\">\n",
       "  <thead>\n",
       "    <tr style=\"text-align: right;\">\n",
       "      <th></th>\n",
       "      <th>BP Number</th>\n",
       "      <th>BP_name</th>\n",
       "      <th>CA_number</th>\n",
       "      <th>portion</th>\n",
       "      <th>posting_Date</th>\n",
       "      <th>Due Date</th>\n",
       "      <th>Billing Period</th>\n",
       "      <th>Print Doc. No.</th>\n",
       "      <th>Billing Doc. No.</th>\n",
       "      <th>consumption</th>\n",
       "      <th>...</th>\n",
       "      <th>current</th>\n",
       "      <th>voltage</th>\n",
       "      <th>energy_Charges</th>\n",
       "      <th>Demand Charges</th>\n",
       "      <th>Penalty Charges</th>\n",
       "      <th>Recon Key</th>\n",
       "      <th>G/L Account</th>\n",
       "      <th>Category</th>\n",
       "      <th>FICA Doument no</th>\n",
       "      <th>Search term1</th>\n",
       "    </tr>\n",
       "  </thead>\n",
       "  <tbody>\n",
       "    <tr>\n",
       "      <th>0</th>\n",
       "      <td>1702371.0</td>\n",
       "      <td>Company Lemon Grass Factory Kurizampa</td>\n",
       "      <td>50000504.0</td>\n",
       "      <td>P17_41</td>\n",
       "      <td>2019-01-02</td>\n",
       "      <td>2019-02-01</td>\n",
       "      <td>2019/01</td>\n",
       "      <td>6.007099e+09</td>\n",
       "      <td>9.018221e+09</td>\n",
       "      <td>167.0</td>\n",
       "      <td>...</td>\n",
       "      <td>1.166136</td>\n",
       "      <td>234.0</td>\n",
       "      <td>589.51</td>\n",
       "      <td>0.0</td>\n",
       "      <td>0.00</td>\n",
       "      <td>19015R040045</td>\n",
       "      <td>300002</td>\n",
       "      <td>LV Agricultural</td>\n",
       "      <td>4.000049e+11</td>\n",
       "      <td>LEMON FACTORY</td>\n",
       "    </tr>\n",
       "    <tr>\n",
       "      <th>1</th>\n",
       "      <td>1705727.0</td>\n",
       "      <td>Company RBA Gyelposhing</td>\n",
       "      <td>50001004.0</td>\n",
       "      <td>P17_41</td>\n",
       "      <td>2019-01-02</td>\n",
       "      <td>2019-02-01</td>\n",
       "      <td>2019/01</td>\n",
       "      <td>4.003612e+09</td>\n",
       "      <td>9.018221e+09</td>\n",
       "      <td>788.0</td>\n",
       "      <td>...</td>\n",
       "      <td>5.502486</td>\n",
       "      <td>234.0</td>\n",
       "      <td>2781.64</td>\n",
       "      <td>0.0</td>\n",
       "      <td>0.00</td>\n",
       "      <td>190115R4/17</td>\n",
       "      <td>300002</td>\n",
       "      <td>LV Agricultural</td>\n",
       "      <td>9.434803e+07</td>\n",
       "      <td>RAMS, GYELPOSHING</td>\n",
       "    </tr>\n",
       "    <tr>\n",
       "      <th>2</th>\n",
       "      <td>1702588.0</td>\n",
       "      <td>N R D C Gyelposhing</td>\n",
       "      <td>60001500.0</td>\n",
       "      <td>P17_41</td>\n",
       "      <td>2019-01-02</td>\n",
       "      <td>2019-02-01</td>\n",
       "      <td>2019/01</td>\n",
       "      <td>6.007099e+09</td>\n",
       "      <td>9.018221e+09</td>\n",
       "      <td>0.0</td>\n",
       "      <td>...</td>\n",
       "      <td>0.000000</td>\n",
       "      <td>234.0</td>\n",
       "      <td>0.00</td>\n",
       "      <td>0.0</td>\n",
       "      <td>0.00</td>\n",
       "      <td>19015R040045</td>\n",
       "      <td>NaN</td>\n",
       "      <td>LV Bulk</td>\n",
       "      <td>4.000049e+11</td>\n",
       "      <td>N R D C</td>\n",
       "    </tr>\n",
       "    <tr>\n",
       "      <th>3</th>\n",
       "      <td>1702586.0</td>\n",
       "      <td>Swerage Treatment Plant</td>\n",
       "      <td>60000307.0</td>\n",
       "      <td>P17_41</td>\n",
       "      <td>2019-01-02</td>\n",
       "      <td>2019-02-01</td>\n",
       "      <td>2019/01</td>\n",
       "      <td>6.007099e+09</td>\n",
       "      <td>9.018221e+09</td>\n",
       "      <td>0.0</td>\n",
       "      <td>...</td>\n",
       "      <td>0.000000</td>\n",
       "      <td>234.0</td>\n",
       "      <td>0.00</td>\n",
       "      <td>0.0</td>\n",
       "      <td>0.00</td>\n",
       "      <td>19015R040045</td>\n",
       "      <td>NaN</td>\n",
       "      <td>LV Bulk</td>\n",
       "      <td>4.000049e+11</td>\n",
       "      <td>SWERAGE PLANT</td>\n",
       "    </tr>\n",
       "    <tr>\n",
       "      <th>4</th>\n",
       "      <td>1709983.0</td>\n",
       "      <td>Company Rabsel Construction Pvt.Ltd Gyelposhing</td>\n",
       "      <td>60006107.0</td>\n",
       "      <td>P17_41</td>\n",
       "      <td>2019-01-02</td>\n",
       "      <td>2019-02-01</td>\n",
       "      <td>2019/01</td>\n",
       "      <td>6.007099e+09</td>\n",
       "      <td>9.018221e+09</td>\n",
       "      <td>1880.0</td>\n",
       "      <td>...</td>\n",
       "      <td>13.127758</td>\n",
       "      <td>234.0</td>\n",
       "      <td>7557.60</td>\n",
       "      <td>0.0</td>\n",
       "      <td>463.18</td>\n",
       "      <td>19015R040045</td>\n",
       "      <td>300003</td>\n",
       "      <td>LV Bulk</td>\n",
       "      <td>4.000049e+11</td>\n",
       "      <td>RABSEL CONSTRUCTION</td>\n",
       "    </tr>\n",
       "  </tbody>\n",
       "</table>\n",
       "<p>5 rows × 21 columns</p>\n",
       "</div>"
      ],
      "text/plain": [
       "   BP Number                                          BP_name   CA_number  \\\n",
       "0  1702371.0            Company Lemon Grass Factory Kurizampa  50000504.0   \n",
       "1  1705727.0                          Company RBA Gyelposhing  50001004.0   \n",
       "2  1702588.0                              N R D C Gyelposhing  60001500.0   \n",
       "3  1702586.0                          Swerage Treatment Plant  60000307.0   \n",
       "4  1709983.0  Company Rabsel Construction Pvt.Ltd Gyelposhing  60006107.0   \n",
       "\n",
       "  portion posting_Date   Due Date Billing Period  Print Doc. No.  \\\n",
       "0  P17_41   2019-01-02 2019-02-01        2019/01    6.007099e+09   \n",
       "1  P17_41   2019-01-02 2019-02-01        2019/01    4.003612e+09   \n",
       "2  P17_41   2019-01-02 2019-02-01        2019/01    6.007099e+09   \n",
       "3  P17_41   2019-01-02 2019-02-01        2019/01    6.007099e+09   \n",
       "4  P17_41   2019-01-02 2019-02-01        2019/01    6.007099e+09   \n",
       "\n",
       "   Billing Doc. No.  consumption  ...    current  voltage  energy_Charges  \\\n",
       "0      9.018221e+09        167.0  ...   1.166136    234.0          589.51   \n",
       "1      9.018221e+09        788.0  ...   5.502486    234.0         2781.64   \n",
       "2      9.018221e+09          0.0  ...   0.000000    234.0            0.00   \n",
       "3      9.018221e+09          0.0  ...   0.000000    234.0            0.00   \n",
       "4      9.018221e+09       1880.0  ...  13.127758    234.0         7557.60   \n",
       "\n",
       "   Demand Charges  Penalty Charges     Recon Key G/L Account         Category  \\\n",
       "0             0.0             0.00  19015R040045      300002  LV Agricultural   \n",
       "1             0.0             0.00   190115R4/17      300002  LV Agricultural   \n",
       "2             0.0             0.00  19015R040045         NaN          LV Bulk   \n",
       "3             0.0             0.00  19015R040045         NaN          LV Bulk   \n",
       "4             0.0           463.18  19015R040045      300003          LV Bulk   \n",
       "\n",
       "  FICA Doument no         Search term1  \n",
       "0    4.000049e+11        LEMON FACTORY  \n",
       "1    9.434803e+07    RAMS, GYELPOSHING  \n",
       "2    4.000049e+11              N R D C  \n",
       "3    4.000049e+11        SWERAGE PLANT  \n",
       "4    4.000049e+11  RABSEL CONSTRUCTION  \n",
       "\n",
       "[5 rows x 21 columns]"
      ]
     },
     "execution_count": 3,
     "metadata": {},
     "output_type": "execute_result"
    }
   ],
   "source": [
    "#Load data\n",
    "\n",
    "main_df = pd.read_excel('Gyalpozhing_household_power_consumption.XLSX')\n",
    "main_df.head()"
   ]
  },
  {
   "cell_type": "markdown",
   "metadata": {
    "id": "G2nOja6VPvV2"
   },
   "source": [
    "# 3. DATA PREPROCESSING "
   ]
  },
  {
   "cell_type": "code",
   "execution_count": 4,
   "metadata": {
    "colab": {
     "base_uri": "https://localhost:8080/",
     "height": 389
    },
    "id": "vZOo2qrALQY5",
    "outputId": "130d20bb-bbfe-4277-93df-5640bd12bf04"
   },
   "outputs": [
    {
     "data": {
      "text/html": [
       "<div>\n",
       "<style scoped>\n",
       "    .dataframe tbody tr th:only-of-type {\n",
       "        vertical-align: middle;\n",
       "    }\n",
       "\n",
       "    .dataframe tbody tr th {\n",
       "        vertical-align: top;\n",
       "    }\n",
       "\n",
       "    .dataframe thead th {\n",
       "        text-align: right;\n",
       "    }\n",
       "</style>\n",
       "<table border=\"1\" class=\"dataframe\">\n",
       "  <thead>\n",
       "    <tr style=\"text-align: right;\">\n",
       "      <th></th>\n",
       "      <th>CA_number</th>\n",
       "      <th>BP_name</th>\n",
       "      <th>Category</th>\n",
       "      <th>portion</th>\n",
       "      <th>posting_Date</th>\n",
       "      <th>current</th>\n",
       "      <th>voltage</th>\n",
       "      <th>power</th>\n",
       "      <th>consumption</th>\n",
       "      <th>energy_Charges</th>\n",
       "    </tr>\n",
       "  </thead>\n",
       "  <tbody>\n",
       "    <tr>\n",
       "      <th>25377</th>\n",
       "      <td>40067090.0</td>\n",
       "      <td>gyeltshap office</td>\n",
       "      <td>LV Urban Domestic Customers</td>\n",
       "      <td>P17_40</td>\n",
       "      <td>2022-03-02</td>\n",
       "      <td>3.505391</td>\n",
       "      <td>234.0</td>\n",
       "      <td>0.697222</td>\n",
       "      <td>502.0</td>\n",
       "      <td>1207.28</td>\n",
       "    </tr>\n",
       "    <tr>\n",
       "      <th>25378</th>\n",
       "      <td>140005001.0</td>\n",
       "      <td>Company KHPC,Dam Repair Stilling Bagin &amp; Glaci...</td>\n",
       "      <td>MV Industrial</td>\n",
       "      <td>P17_41</td>\n",
       "      <td>2022-03-02</td>\n",
       "      <td>830.316742</td>\n",
       "      <td>234.0</td>\n",
       "      <td>165.150000</td>\n",
       "      <td>118908.0</td>\n",
       "      <td>315106.20</td>\n",
       "    </tr>\n",
       "    <tr>\n",
       "      <th>25379</th>\n",
       "      <td>60010803.0</td>\n",
       "      <td>EV Charging Station GCIT Forign Lectural Villa</td>\n",
       "      <td>LV Bulk</td>\n",
       "      <td>P17_41</td>\n",
       "      <td>2022-03-16</td>\n",
       "      <td>0.000000</td>\n",
       "      <td>234.0</td>\n",
       "      <td>0.000000</td>\n",
       "      <td>0.0</td>\n",
       "      <td>0.00</td>\n",
       "    </tr>\n",
       "    <tr>\n",
       "      <th>25380</th>\n",
       "      <td>NaN</td>\n",
       "      <td>NaN</td>\n",
       "      <td>NaN</td>\n",
       "      <td>NaN</td>\n",
       "      <td>NaT</td>\n",
       "      <td>NaN</td>\n",
       "      <td>NaN</td>\n",
       "      <td>NaN</td>\n",
       "      <td>NaN</td>\n",
       "      <td>NaN</td>\n",
       "    </tr>\n",
       "    <tr>\n",
       "      <th>25381</th>\n",
       "      <td>NaN</td>\n",
       "      <td>NaN</td>\n",
       "      <td>NaN</td>\n",
       "      <td>NaN</td>\n",
       "      <td>NaT</td>\n",
       "      <td>NaN</td>\n",
       "      <td>NaN</td>\n",
       "      <td>NaN</td>\n",
       "      <td>NaN</td>\n",
       "      <td>NaN</td>\n",
       "    </tr>\n",
       "  </tbody>\n",
       "</table>\n",
       "</div>"
      ],
      "text/plain": [
       "         CA_number                                            BP_name  \\\n",
       "25377   40067090.0                                   gyeltshap office   \n",
       "25378  140005001.0  Company KHPC,Dam Repair Stilling Bagin & Glaci...   \n",
       "25379   60010803.0     EV Charging Station GCIT Forign Lectural Villa   \n",
       "25380          NaN                                                NaN   \n",
       "25381          NaN                                                NaN   \n",
       "\n",
       "                          Category portion posting_Date     current  voltage  \\\n",
       "25377  LV Urban Domestic Customers  P17_40   2022-03-02    3.505391    234.0   \n",
       "25378                MV Industrial  P17_41   2022-03-02  830.316742    234.0   \n",
       "25379                      LV Bulk  P17_41   2022-03-16    0.000000    234.0   \n",
       "25380                          NaN     NaN          NaT         NaN      NaN   \n",
       "25381                          NaN     NaN          NaT         NaN      NaN   \n",
       "\n",
       "            power  consumption  energy_Charges  \n",
       "25377    0.697222        502.0         1207.28  \n",
       "25378  165.150000     118908.0       315106.20  \n",
       "25379    0.000000          0.0            0.00  \n",
       "25380         NaN          NaN             NaN  \n",
       "25381         NaN          NaN             NaN  "
      ]
     },
     "execution_count": 4,
     "metadata": {},
     "output_type": "execute_result"
    }
   ],
   "source": [
    "# Creating a new dataframe with the only required attributes:\n",
    "\n",
    "df = pd.DataFrame(main_df,columns=['CA_number','BP_name','Category','portion','posting_Date','current','voltage','power','consumption','energy_Charges'])\n",
    "df.tail()"
   ]
  },
  {
   "cell_type": "code",
   "execution_count": 5,
   "metadata": {
    "colab": {
     "base_uri": "https://localhost:8080/"
    },
    "id": "dCWDqY2kFkYA",
    "outputId": "f23b55de-a2c4-46aa-ba04-0d9df18a17c2"
   },
   "outputs": [
    {
     "data": {
      "text/plain": [
       "CA_number         2\n",
       "BP_name           2\n",
       "Category          2\n",
       "portion           2\n",
       "posting_Date      2\n",
       "current           2\n",
       "voltage           2\n",
       "power             2\n",
       "consumption       2\n",
       "energy_Charges    2\n",
       "dtype: int64"
      ]
     },
     "execution_count": 5,
     "metadata": {},
     "output_type": "execute_result"
    }
   ],
   "source": [
    "df.isna().sum()"
   ]
  },
  {
   "cell_type": "code",
   "execution_count": null,
   "metadata": {
    "id": "eJPOwqIiGPTO"
   },
   "outputs": [],
   "source": []
  },
  {
   "cell_type": "code",
   "execution_count": 6,
   "metadata": {
    "colab": {
     "base_uri": "https://localhost:8080/",
     "height": 424
    },
    "id": "sSNkZhHxPE4l",
    "outputId": "7caaebe1-77ac-448e-b063-529472ff623d"
   },
   "outputs": [
    {
     "data": {
      "text/html": [
       "<div>\n",
       "<style scoped>\n",
       "    .dataframe tbody tr th:only-of-type {\n",
       "        vertical-align: middle;\n",
       "    }\n",
       "\n",
       "    .dataframe tbody tr th {\n",
       "        vertical-align: top;\n",
       "    }\n",
       "\n",
       "    .dataframe thead th {\n",
       "        text-align: right;\n",
       "    }\n",
       "</style>\n",
       "<table border=\"1\" class=\"dataframe\">\n",
       "  <thead>\n",
       "    <tr style=\"text-align: right;\">\n",
       "      <th></th>\n",
       "      <th>CA_number</th>\n",
       "      <th>BP_name</th>\n",
       "      <th>Category</th>\n",
       "      <th>portion</th>\n",
       "      <th>posting_Date</th>\n",
       "      <th>current</th>\n",
       "      <th>voltage</th>\n",
       "      <th>power</th>\n",
       "      <th>consumption</th>\n",
       "      <th>energy_Charges</th>\n",
       "    </tr>\n",
       "  </thead>\n",
       "  <tbody>\n",
       "    <tr>\n",
       "      <th>23602</th>\n",
       "      <td>30077784.0</td>\n",
       "      <td>Mr. Tshering Peldon</td>\n",
       "      <td>LV Urban Domestic Customers</td>\n",
       "      <td>P17_41</td>\n",
       "      <td>2021-12-02</td>\n",
       "      <td>0.796045</td>\n",
       "      <td>234.0</td>\n",
       "      <td>0.158333</td>\n",
       "      <td>114.0</td>\n",
       "      <td>165.52</td>\n",
       "    </tr>\n",
       "    <tr>\n",
       "      <th>23603</th>\n",
       "      <td>40021115.0</td>\n",
       "      <td>Mr. Chedup Resident</td>\n",
       "      <td>LV Urban Domestic Customers</td>\n",
       "      <td>P17_41</td>\n",
       "      <td>2021-12-02</td>\n",
       "      <td>1.529244</td>\n",
       "      <td>234.0</td>\n",
       "      <td>0.304167</td>\n",
       "      <td>219.0</td>\n",
       "      <td>446.92</td>\n",
       "    </tr>\n",
       "    <tr>\n",
       "      <th>23604</th>\n",
       "      <td>40036288.0</td>\n",
       "      <td>Ms. Tashi Choki</td>\n",
       "      <td>LV Urban Domestic Customers</td>\n",
       "      <td>P17_41</td>\n",
       "      <td>2021-12-02</td>\n",
       "      <td>0.628457</td>\n",
       "      <td>234.0</td>\n",
       "      <td>0.125000</td>\n",
       "      <td>90.0</td>\n",
       "      <td>115.20</td>\n",
       "    </tr>\n",
       "    <tr>\n",
       "      <th>23605</th>\n",
       "      <td>40021151.0</td>\n",
       "      <td>Mr. Chedup .</td>\n",
       "      <td>LV Urban Domestic Customers</td>\n",
       "      <td>P17_41</td>\n",
       "      <td>2021-12-02</td>\n",
       "      <td>0.733199</td>\n",
       "      <td>234.0</td>\n",
       "      <td>0.145833</td>\n",
       "      <td>105.0</td>\n",
       "      <td>141.40</td>\n",
       "    </tr>\n",
       "    <tr>\n",
       "      <th>23606</th>\n",
       "      <td>40061822.0</td>\n",
       "      <td>Company BHU Staffs Quarter -3 Gyelposhing</td>\n",
       "      <td>LV Urban Domestic Customers</td>\n",
       "      <td>P17_41</td>\n",
       "      <td>2021-12-02</td>\n",
       "      <td>0.279314</td>\n",
       "      <td>234.0</td>\n",
       "      <td>0.055556</td>\n",
       "      <td>40.0</td>\n",
       "      <td>51.20</td>\n",
       "    </tr>\n",
       "  </tbody>\n",
       "</table>\n",
       "</div>"
      ],
      "text/plain": [
       "        CA_number                                    BP_name  \\\n",
       "23602  30077784.0                        Mr. Tshering Peldon   \n",
       "23603  40021115.0                        Mr. Chedup Resident   \n",
       "23604  40036288.0                            Ms. Tashi Choki   \n",
       "23605  40021151.0                               Mr. Chedup .   \n",
       "23606  40061822.0  Company BHU Staffs Quarter -3 Gyelposhing   \n",
       "\n",
       "                          Category portion posting_Date   current  voltage  \\\n",
       "23602  LV Urban Domestic Customers  P17_41   2021-12-02  0.796045    234.0   \n",
       "23603  LV Urban Domestic Customers  P17_41   2021-12-02  1.529244    234.0   \n",
       "23604  LV Urban Domestic Customers  P17_41   2021-12-02  0.628457    234.0   \n",
       "23605  LV Urban Domestic Customers  P17_41   2021-12-02  0.733199    234.0   \n",
       "23606  LV Urban Domestic Customers  P17_41   2021-12-02  0.279314    234.0   \n",
       "\n",
       "          power  consumption  energy_Charges  \n",
       "23602  0.158333        114.0          165.52  \n",
       "23603  0.304167        219.0          446.92  \n",
       "23604  0.125000         90.0          115.20  \n",
       "23605  0.145833        105.0          141.40  \n",
       "23606  0.055556         40.0           51.20  "
      ]
     },
     "execution_count": 6,
     "metadata": {},
     "output_type": "execute_result"
    }
   ],
   "source": [
    "# Selecting the data from 2019 till 2021 only:\n",
    "\n",
    "df = df.loc[(df['posting_Date'] >= '01-01-2019') & (df['posting_Date'] < '01-01-2022')]\n",
    "df.tail()"
   ]
  },
  {
   "cell_type": "code",
   "execution_count": 7,
   "metadata": {
    "id": "Pqi9lpXAc1i-"
   },
   "outputs": [],
   "source": [
    "# Extracting the year and montht from the posting_date\n",
    "# Adding these two new columns(Year and month) and then droping the posting date col\n",
    "\n",
    "df['Year'] = pd.to_datetime(df['posting_Date']).dt.year\n",
    "df['Month'] = pd.to_datetime(df['posting_Date']).dt.month\n",
    "df = df.drop(['posting_Date'], axis = 1)"
   ]
  },
  {
   "cell_type": "code",
   "execution_count": 8,
   "metadata": {
    "colab": {
     "base_uri": "https://localhost:8080/"
    },
    "id": "pAf3BDneZS7h",
    "outputId": "a39b5f8f-e485-4e2b-ad00-2f03555e9fb3"
   },
   "outputs": [
    {
     "data": {
      "text/plain": [
       "CA_number         float64\n",
       "BP_name            object\n",
       "Category           object\n",
       "portion            object\n",
       "current           float64\n",
       "voltage           float64\n",
       "power             float64\n",
       "consumption       float64\n",
       "energy_Charges    float64\n",
       "Year                int64\n",
       "Month               int64\n",
       "dtype: object"
      ]
     },
     "execution_count": 8,
     "metadata": {},
     "output_type": "execute_result"
    }
   ],
   "source": [
    "df.dtypes"
   ]
  },
  {
   "cell_type": "code",
   "execution_count": 9,
   "metadata": {
    "id": "scfG7ObqRFat"
   },
   "outputs": [],
   "source": [
    "df['CA_number'] = df['CA_number'].astype(int)"
   ]
  },
  {
   "cell_type": "code",
   "execution_count": 10,
   "metadata": {
    "colab": {
     "base_uri": "https://localhost:8080/",
     "height": 763
    },
    "id": "kpi3HzafZ9Cx",
    "outputId": "08438083-7c10-4f0e-d1b8-c49138bf4b71"
   },
   "outputs": [
    {
     "data": {
      "text/html": [
       "<div>\n",
       "<style scoped>\n",
       "    .dataframe tbody tr th:only-of-type {\n",
       "        vertical-align: middle;\n",
       "    }\n",
       "\n",
       "    .dataframe tbody tr th {\n",
       "        vertical-align: top;\n",
       "    }\n",
       "\n",
       "    .dataframe thead th {\n",
       "        text-align: right;\n",
       "    }\n",
       "</style>\n",
       "<table border=\"1\" class=\"dataframe\">\n",
       "  <thead>\n",
       "    <tr style=\"text-align: right;\">\n",
       "      <th></th>\n",
       "      <th>CA_number</th>\n",
       "      <th>BP_name</th>\n",
       "      <th>Category</th>\n",
       "      <th>portion</th>\n",
       "      <th>current</th>\n",
       "      <th>voltage</th>\n",
       "      <th>power</th>\n",
       "      <th>consumption</th>\n",
       "      <th>energy_Charges</th>\n",
       "      <th>Year</th>\n",
       "      <th>Month</th>\n",
       "    </tr>\n",
       "  </thead>\n",
       "  <tbody>\n",
       "    <tr>\n",
       "      <th>0</th>\n",
       "      <td>50000504</td>\n",
       "      <td>Company Lemon Grass Factory Kurizampa</td>\n",
       "      <td>LV Agricultural</td>\n",
       "      <td>P17_41</td>\n",
       "      <td>1.166136</td>\n",
       "      <td>234.0</td>\n",
       "      <td>0.231944</td>\n",
       "      <td>167.0</td>\n",
       "      <td>589.51</td>\n",
       "      <td>2019</td>\n",
       "      <td>1</td>\n",
       "    </tr>\n",
       "    <tr>\n",
       "      <th>1</th>\n",
       "      <td>50001004</td>\n",
       "      <td>Company RBA Gyelposhing</td>\n",
       "      <td>LV Agricultural</td>\n",
       "      <td>P17_41</td>\n",
       "      <td>5.502486</td>\n",
       "      <td>234.0</td>\n",
       "      <td>1.094444</td>\n",
       "      <td>788.0</td>\n",
       "      <td>2781.64</td>\n",
       "      <td>2019</td>\n",
       "      <td>1</td>\n",
       "    </tr>\n",
       "    <tr>\n",
       "      <th>2</th>\n",
       "      <td>60001500</td>\n",
       "      <td>N R D C Gyelposhing</td>\n",
       "      <td>LV Bulk</td>\n",
       "      <td>P17_41</td>\n",
       "      <td>0.000000</td>\n",
       "      <td>234.0</td>\n",
       "      <td>0.000000</td>\n",
       "      <td>0.0</td>\n",
       "      <td>0.00</td>\n",
       "      <td>2019</td>\n",
       "      <td>1</td>\n",
       "    </tr>\n",
       "    <tr>\n",
       "      <th>3</th>\n",
       "      <td>60000307</td>\n",
       "      <td>Swerage Treatment Plant</td>\n",
       "      <td>LV Bulk</td>\n",
       "      <td>P17_41</td>\n",
       "      <td>0.000000</td>\n",
       "      <td>234.0</td>\n",
       "      <td>0.000000</td>\n",
       "      <td>0.0</td>\n",
       "      <td>0.00</td>\n",
       "      <td>2019</td>\n",
       "      <td>1</td>\n",
       "    </tr>\n",
       "    <tr>\n",
       "      <th>4</th>\n",
       "      <td>60006107</td>\n",
       "      <td>Company Rabsel Construction Pvt.Ltd Gyelposhing</td>\n",
       "      <td>LV Bulk</td>\n",
       "      <td>P17_41</td>\n",
       "      <td>13.127758</td>\n",
       "      <td>234.0</td>\n",
       "      <td>2.611111</td>\n",
       "      <td>1880.0</td>\n",
       "      <td>7557.60</td>\n",
       "      <td>2019</td>\n",
       "      <td>1</td>\n",
       "    </tr>\n",
       "    <tr>\n",
       "      <th>...</th>\n",
       "      <td>...</td>\n",
       "      <td>...</td>\n",
       "      <td>...</td>\n",
       "      <td>...</td>\n",
       "      <td>...</td>\n",
       "      <td>...</td>\n",
       "      <td>...</td>\n",
       "      <td>...</td>\n",
       "      <td>...</td>\n",
       "      <td>...</td>\n",
       "      <td>...</td>\n",
       "    </tr>\n",
       "    <tr>\n",
       "      <th>23602</th>\n",
       "      <td>30077784</td>\n",
       "      <td>Mr. Tshering Peldon</td>\n",
       "      <td>LV Urban Domestic Customers</td>\n",
       "      <td>P17_41</td>\n",
       "      <td>0.796045</td>\n",
       "      <td>234.0</td>\n",
       "      <td>0.158333</td>\n",
       "      <td>114.0</td>\n",
       "      <td>165.52</td>\n",
       "      <td>2021</td>\n",
       "      <td>12</td>\n",
       "    </tr>\n",
       "    <tr>\n",
       "      <th>23603</th>\n",
       "      <td>40021115</td>\n",
       "      <td>Mr. Chedup Resident</td>\n",
       "      <td>LV Urban Domestic Customers</td>\n",
       "      <td>P17_41</td>\n",
       "      <td>1.529244</td>\n",
       "      <td>234.0</td>\n",
       "      <td>0.304167</td>\n",
       "      <td>219.0</td>\n",
       "      <td>446.92</td>\n",
       "      <td>2021</td>\n",
       "      <td>12</td>\n",
       "    </tr>\n",
       "    <tr>\n",
       "      <th>23604</th>\n",
       "      <td>40036288</td>\n",
       "      <td>Ms. Tashi Choki</td>\n",
       "      <td>LV Urban Domestic Customers</td>\n",
       "      <td>P17_41</td>\n",
       "      <td>0.628457</td>\n",
       "      <td>234.0</td>\n",
       "      <td>0.125000</td>\n",
       "      <td>90.0</td>\n",
       "      <td>115.20</td>\n",
       "      <td>2021</td>\n",
       "      <td>12</td>\n",
       "    </tr>\n",
       "    <tr>\n",
       "      <th>23605</th>\n",
       "      <td>40021151</td>\n",
       "      <td>Mr. Chedup .</td>\n",
       "      <td>LV Urban Domestic Customers</td>\n",
       "      <td>P17_41</td>\n",
       "      <td>0.733199</td>\n",
       "      <td>234.0</td>\n",
       "      <td>0.145833</td>\n",
       "      <td>105.0</td>\n",
       "      <td>141.40</td>\n",
       "      <td>2021</td>\n",
       "      <td>12</td>\n",
       "    </tr>\n",
       "    <tr>\n",
       "      <th>23606</th>\n",
       "      <td>40061822</td>\n",
       "      <td>Company BHU Staffs Quarter -3 Gyelposhing</td>\n",
       "      <td>LV Urban Domestic Customers</td>\n",
       "      <td>P17_41</td>\n",
       "      <td>0.279314</td>\n",
       "      <td>234.0</td>\n",
       "      <td>0.055556</td>\n",
       "      <td>40.0</td>\n",
       "      <td>51.20</td>\n",
       "      <td>2021</td>\n",
       "      <td>12</td>\n",
       "    </tr>\n",
       "  </tbody>\n",
       "</table>\n",
       "<p>23607 rows × 11 columns</p>\n",
       "</div>"
      ],
      "text/plain": [
       "       CA_number                                          BP_name  \\\n",
       "0       50000504            Company Lemon Grass Factory Kurizampa   \n",
       "1       50001004                          Company RBA Gyelposhing   \n",
       "2       60001500                              N R D C Gyelposhing   \n",
       "3       60000307                          Swerage Treatment Plant   \n",
       "4       60006107  Company Rabsel Construction Pvt.Ltd Gyelposhing   \n",
       "...          ...                                              ...   \n",
       "23602   30077784                              Mr. Tshering Peldon   \n",
       "23603   40021115                              Mr. Chedup Resident   \n",
       "23604   40036288                                  Ms. Tashi Choki   \n",
       "23605   40021151                                     Mr. Chedup .   \n",
       "23606   40061822        Company BHU Staffs Quarter -3 Gyelposhing   \n",
       "\n",
       "                          Category portion    current  voltage     power  \\\n",
       "0                  LV Agricultural  P17_41   1.166136    234.0  0.231944   \n",
       "1                  LV Agricultural  P17_41   5.502486    234.0  1.094444   \n",
       "2                          LV Bulk  P17_41   0.000000    234.0  0.000000   \n",
       "3                          LV Bulk  P17_41   0.000000    234.0  0.000000   \n",
       "4                          LV Bulk  P17_41  13.127758    234.0  2.611111   \n",
       "...                            ...     ...        ...      ...       ...   \n",
       "23602  LV Urban Domestic Customers  P17_41   0.796045    234.0  0.158333   \n",
       "23603  LV Urban Domestic Customers  P17_41   1.529244    234.0  0.304167   \n",
       "23604  LV Urban Domestic Customers  P17_41   0.628457    234.0  0.125000   \n",
       "23605  LV Urban Domestic Customers  P17_41   0.733199    234.0  0.145833   \n",
       "23606  LV Urban Domestic Customers  P17_41   0.279314    234.0  0.055556   \n",
       "\n",
       "       consumption  energy_Charges  Year  Month  \n",
       "0            167.0          589.51  2019      1  \n",
       "1            788.0         2781.64  2019      1  \n",
       "2              0.0            0.00  2019      1  \n",
       "3              0.0            0.00  2019      1  \n",
       "4           1880.0         7557.60  2019      1  \n",
       "...            ...             ...   ...    ...  \n",
       "23602        114.0          165.52  2021     12  \n",
       "23603        219.0          446.92  2021     12  \n",
       "23604         90.0          115.20  2021     12  \n",
       "23605        105.0          141.40  2021     12  \n",
       "23606         40.0           51.20  2021     12  \n",
       "\n",
       "[23607 rows x 11 columns]"
      ]
     },
     "execution_count": 10,
     "metadata": {},
     "output_type": "execute_result"
    }
   ],
   "source": [
    "df"
   ]
  },
  {
   "cell_type": "code",
   "execution_count": null,
   "metadata": {
    "id": "tDu9OGsxbUTQ"
   },
   "outputs": [],
   "source": []
  },
  {
   "cell_type": "code",
   "execution_count": 11,
   "metadata": {
    "id": "cR8tCvZEbmFX"
   },
   "outputs": [],
   "source": [
    "gyalpozhing_df = df.drop_duplicates()"
   ]
  },
  {
   "cell_type": "code",
   "execution_count": 12,
   "metadata": {
    "colab": {
     "base_uri": "https://localhost:8080/"
    },
    "id": "Z8cVVPuDcD5l",
    "outputId": "a0a78c29-396f-428b-9730-f143c53cf4b8"
   },
   "outputs": [
    {
     "data": {
      "text/plain": [
       "(23607, 11)"
      ]
     },
     "execution_count": 12,
     "metadata": {},
     "output_type": "execute_result"
    }
   ],
   "source": [
    "df.shape"
   ]
  },
  {
   "cell_type": "markdown",
   "metadata": {
    "id": "tvMZfbkohpMW"
   },
   "source": [
    "# 4. DETECTING OUTLIERS"
   ]
  },
  {
   "cell_type": "code",
   "execution_count": 13,
   "metadata": {
    "colab": {
     "base_uri": "https://localhost:8080/",
     "height": 279
    },
    "id": "jYMx_Kqrhb-T",
    "outputId": "7d3253e9-6e24-42eb-d018-f45a1231e6af"
   },
   "outputs": [
    {
     "data": {
      "image/png": "[encoded data removed]",
      "text/plain": [
       "<Figure size 432x288 with 1 Axes>"
      ]
     },
     "metadata": {
      "needs_background": "light"
     },
     "output_type": "display_data"
    }
   ],
   "source": [
    "sns.boxplot(x = gyalpozhing_df['current'])\n",
    "plt.show()"
   ]
  },
  {
   "cell_type": "code",
   "execution_count": 14,
   "metadata": {
    "id": "NKEGSjCvh4yK"
   },
   "outputs": [],
   "source": [
    "#ul = upper limit\n",
    "#ll = lower limit\n",
    "#IQR = Interquartile Range\n",
    "\n",
    "q1 = gyalpozhing_df.current.quantile(0.25)\n",
    "q3 = gyalpozhing_df.current.quantile(0.75)\n",
    "IQR = q3 - q1\n",
    "ul = q3 + (IQR * 1.5)\n",
    "ll = q1 - (IQR * 1.5)"
   ]
  },
  {
   "cell_type": "code",
   "execution_count": 15,
   "metadata": {
    "colab": {
     "base_uri": "https://localhost:8080/",
     "height": 763
    },
    "id": "UIEOGab4iCBG",
    "outputId": "08757b04-6ddb-4d16-fed9-762cb67a447e"
   },
   "outputs": [
    {
     "data": {
      "text/html": [
       "<div>\n",
       "<style scoped>\n",
       "    .dataframe tbody tr th:only-of-type {\n",
       "        vertical-align: middle;\n",
       "    }\n",
       "\n",
       "    .dataframe tbody tr th {\n",
       "        vertical-align: top;\n",
       "    }\n",
       "\n",
       "    .dataframe thead th {\n",
       "        text-align: right;\n",
       "    }\n",
       "</style>\n",
       "<table border=\"1\" class=\"dataframe\">\n",
       "  <thead>\n",
       "    <tr style=\"text-align: right;\">\n",
       "      <th></th>\n",
       "      <th>CA_number</th>\n",
       "      <th>BP_name</th>\n",
       "      <th>Category</th>\n",
       "      <th>portion</th>\n",
       "      <th>current</th>\n",
       "      <th>voltage</th>\n",
       "      <th>power</th>\n",
       "      <th>consumption</th>\n",
       "      <th>energy_Charges</th>\n",
       "      <th>Year</th>\n",
       "      <th>Month</th>\n",
       "    </tr>\n",
       "  </thead>\n",
       "  <tbody>\n",
       "    <tr>\n",
       "      <th>1</th>\n",
       "      <td>50001004</td>\n",
       "      <td>Company RBA Gyelposhing</td>\n",
       "      <td>LV Agricultural</td>\n",
       "      <td>P17_41</td>\n",
       "      <td>5.502486</td>\n",
       "      <td>234.0</td>\n",
       "      <td>1.094444</td>\n",
       "      <td>788.0</td>\n",
       "      <td>2781.64</td>\n",
       "      <td>2019</td>\n",
       "      <td>1</td>\n",
       "    </tr>\n",
       "    <tr>\n",
       "      <th>4</th>\n",
       "      <td>60006107</td>\n",
       "      <td>Company Rabsel Construction Pvt.Ltd Gyelposhing</td>\n",
       "      <td>LV Bulk</td>\n",
       "      <td>P17_41</td>\n",
       "      <td>13.127758</td>\n",
       "      <td>234.0</td>\n",
       "      <td>2.611111</td>\n",
       "      <td>1880.0</td>\n",
       "      <td>7557.60</td>\n",
       "      <td>2019</td>\n",
       "      <td>1</td>\n",
       "    </tr>\n",
       "    <tr>\n",
       "      <th>5</th>\n",
       "      <td>60006105</td>\n",
       "      <td>Company Gyelposhing AstroTurf Foodball Ground ...</td>\n",
       "      <td>LV Bulk</td>\n",
       "      <td>P17_41</td>\n",
       "      <td>48.600637</td>\n",
       "      <td>234.0</td>\n",
       "      <td>9.666667</td>\n",
       "      <td>6960.0</td>\n",
       "      <td>27979.20</td>\n",
       "      <td>2019</td>\n",
       "      <td>1</td>\n",
       "    </tr>\n",
       "    <tr>\n",
       "      <th>7</th>\n",
       "      <td>60000306</td>\n",
       "      <td>Company KCT Block AGGREGATE</td>\n",
       "      <td>LV Bulk</td>\n",
       "      <td>P17_41</td>\n",
       "      <td>7.262164</td>\n",
       "      <td>234.0</td>\n",
       "      <td>1.444444</td>\n",
       "      <td>1040.0</td>\n",
       "      <td>4180.80</td>\n",
       "      <td>2019</td>\n",
       "      <td>1</td>\n",
       "    </tr>\n",
       "    <tr>\n",
       "      <th>8</th>\n",
       "      <td>60000305</td>\n",
       "      <td>Collage Adm Block</td>\n",
       "      <td>LV Bulk</td>\n",
       "      <td>P17_41</td>\n",
       "      <td>10.048321</td>\n",
       "      <td>234.0</td>\n",
       "      <td>1.998611</td>\n",
       "      <td>1439.0</td>\n",
       "      <td>5784.78</td>\n",
       "      <td>2019</td>\n",
       "      <td>1</td>\n",
       "    </tr>\n",
       "    <tr>\n",
       "      <th>...</th>\n",
       "      <td>...</td>\n",
       "      <td>...</td>\n",
       "      <td>...</td>\n",
       "      <td>...</td>\n",
       "      <td>...</td>\n",
       "      <td>...</td>\n",
       "      <td>...</td>\n",
       "      <td>...</td>\n",
       "      <td>...</td>\n",
       "      <td>...</td>\n",
       "      <td>...</td>\n",
       "    </tr>\n",
       "    <tr>\n",
       "      <th>23523</th>\n",
       "      <td>40058650</td>\n",
       "      <td>Company President Quater, Gyelposhing College</td>\n",
       "      <td>LV Urban Domestic Customers</td>\n",
       "      <td>P17_41</td>\n",
       "      <td>5.816714</td>\n",
       "      <td>234.0</td>\n",
       "      <td>1.156944</td>\n",
       "      <td>833.0</td>\n",
       "      <td>2412.12</td>\n",
       "      <td>2021</td>\n",
       "      <td>12</td>\n",
       "    </tr>\n",
       "    <tr>\n",
       "      <th>23537</th>\n",
       "      <td>70004786</td>\n",
       "      <td>Mr. Sonam Yeshi</td>\n",
       "      <td>LV Urban Domestic Customers</td>\n",
       "      <td>P17_41</td>\n",
       "      <td>3.233060</td>\n",
       "      <td>234.0</td>\n",
       "      <td>0.643056</td>\n",
       "      <td>463.0</td>\n",
       "      <td>1100.84</td>\n",
       "      <td>2021</td>\n",
       "      <td>12</td>\n",
       "    </tr>\n",
       "    <tr>\n",
       "      <th>23583</th>\n",
       "      <td>40085315</td>\n",
       "      <td>Company HRH Gyaltshab Staff Qtr-A6 Gyelpozhing...</td>\n",
       "      <td>LV Urban Domestic Customers</td>\n",
       "      <td>P17_41</td>\n",
       "      <td>7.422770</td>\n",
       "      <td>234.0</td>\n",
       "      <td>1.476389</td>\n",
       "      <td>1063.0</td>\n",
       "      <td>3249.32</td>\n",
       "      <td>2021</td>\n",
       "      <td>12</td>\n",
       "    </tr>\n",
       "    <tr>\n",
       "      <th>23584</th>\n",
       "      <td>40085314</td>\n",
       "      <td>Company HRH Gyaltshab Staff Qtr-A5 Gyelpozhing...</td>\n",
       "      <td>LV Urban Domestic Customers</td>\n",
       "      <td>P17_41</td>\n",
       "      <td>8.100106</td>\n",
       "      <td>234.0</td>\n",
       "      <td>1.611111</td>\n",
       "      <td>1160.0</td>\n",
       "      <td>3602.40</td>\n",
       "      <td>2021</td>\n",
       "      <td>12</td>\n",
       "    </tr>\n",
       "    <tr>\n",
       "      <th>23590</th>\n",
       "      <td>130001550</td>\n",
       "      <td>Maja Thang Gyaltshab Office</td>\n",
       "      <td>LV Urban Domestic Customers</td>\n",
       "      <td>P17_41</td>\n",
       "      <td>5.851628</td>\n",
       "      <td>234.0</td>\n",
       "      <td>1.163889</td>\n",
       "      <td>838.0</td>\n",
       "      <td>2430.32</td>\n",
       "      <td>2021</td>\n",
       "      <td>12</td>\n",
       "    </tr>\n",
       "  </tbody>\n",
       "</table>\n",
       "<p>1956 rows × 11 columns</p>\n",
       "</div>"
      ],
      "text/plain": [
       "       CA_number                                            BP_name  \\\n",
       "1       50001004                            Company RBA Gyelposhing   \n",
       "4       60006107    Company Rabsel Construction Pvt.Ltd Gyelposhing   \n",
       "5       60006105  Company Gyelposhing AstroTurf Foodball Ground ...   \n",
       "7       60000306                        Company KCT Block AGGREGATE   \n",
       "8       60000305                                  Collage Adm Block   \n",
       "...          ...                                                ...   \n",
       "23523   40058650      Company President Quater, Gyelposhing College   \n",
       "23537   70004786                                    Mr. Sonam Yeshi   \n",
       "23583   40085315  Company HRH Gyaltshab Staff Qtr-A6 Gyelpozhing...   \n",
       "23584   40085314  Company HRH Gyaltshab Staff Qtr-A5 Gyelpozhing...   \n",
       "23590  130001550                        Maja Thang Gyaltshab Office   \n",
       "\n",
       "                          Category portion    current  voltage     power  \\\n",
       "1                  LV Agricultural  P17_41   5.502486    234.0  1.094444   \n",
       "4                          LV Bulk  P17_41  13.127758    234.0  2.611111   \n",
       "5                          LV Bulk  P17_41  48.600637    234.0  9.666667   \n",
       "7                          LV Bulk  P17_41   7.262164    234.0  1.444444   \n",
       "8                          LV Bulk  P17_41  10.048321    234.0  1.998611   \n",
       "...                            ...     ...        ...      ...       ...   \n",
       "23523  LV Urban Domestic Customers  P17_41   5.816714    234.0  1.156944   \n",
       "23537  LV Urban Domestic Customers  P17_41   3.233060    234.0  0.643056   \n",
       "23583  LV Urban Domestic Customers  P17_41   7.422770    234.0  1.476389   \n",
       "23584  LV Urban Domestic Customers  P17_41   8.100106    234.0  1.611111   \n",
       "23590  LV Urban Domestic Customers  P17_41   5.851628    234.0  1.163889   \n",
       "\n",
       "       consumption  energy_Charges  Year  Month  \n",
       "1            788.0         2781.64  2019      1  \n",
       "4           1880.0         7557.60  2019      1  \n",
       "5           6960.0        27979.20  2019      1  \n",
       "7           1040.0         4180.80  2019      1  \n",
       "8           1439.0         5784.78  2019      1  \n",
       "...            ...             ...   ...    ...  \n",
       "23523        833.0         2412.12  2021     12  \n",
       "23537        463.0         1100.84  2021     12  \n",
       "23583       1063.0         3249.32  2021     12  \n",
       "23584       1160.0         3602.40  2021     12  \n",
       "23590        838.0         2430.32  2021     12  \n",
       "\n",
       "[1956 rows x 11 columns]"
      ]
     },
     "execution_count": 15,
     "metadata": {},
     "output_type": "execute_result"
    }
   ],
   "source": [
    "gyalpozhing_df[(gyalpozhing_df.current < ll)  | (gyalpozhing_df.current > ul)]"
   ]
  },
  {
   "cell_type": "code",
   "execution_count": 16,
   "metadata": {
    "colab": {
     "base_uri": "https://localhost:8080/"
    },
    "id": "aH-H89fWiKLC",
    "outputId": "24a7c9ec-6018-4877-ba39-f1a246bda751"
   },
   "outputs": [
    {
     "data": {
      "text/plain": [
       "(21646, 11)"
      ]
     },
     "execution_count": 16,
     "metadata": {},
     "output_type": "execute_result"
    }
   ],
   "source": [
    "df1 = gyalpozhing_df[(gyalpozhing_df.current > ll) & (gyalpozhing_df.current < ul)]\n",
    "df1.shape"
   ]
  },
  {
   "cell_type": "code",
   "execution_count": 17,
   "metadata": {
    "colab": {
     "base_uri": "https://localhost:8080/",
     "height": 297
    },
    "id": "mLdEugCGikwN",
    "outputId": "881410dd-0199-4d6a-8447-484b07ba6776"
   },
   "outputs": [
    {
     "data": {
      "text/plain": [
       "<function matplotlib.pyplot.show(close=None, block=None)>"
      ]
     },
     "execution_count": 17,
     "metadata": {},
     "output_type": "execute_result"
    },
    {
     "data": {
      "image/png": "[encoded data removed]",
      "text/plain": [
       "<Figure size 432x288 with 1 Axes>"
      ]
     },
     "metadata": {
      "needs_background": "light"
     },
     "output_type": "display_data"
    }
   ],
   "source": [
    "sns.boxplot(x = df1['consumption'])\n",
    "plt.show"
   ]
  },
  {
   "cell_type": "code",
   "execution_count": 18,
   "metadata": {
    "id": "kgm8u-2Bioyr"
   },
   "outputs": [],
   "source": [
    "q1 = df1.consumption.quantile(0.25)\n",
    "q3 = df1.consumption.quantile(0.75)\n",
    "IQR = q3 - q1\n",
    "ul = q3 + (IQR * 1.5)\n",
    "ll = q1 - (IQR * 1.5)"
   ]
  },
  {
   "cell_type": "code",
   "execution_count": 19,
   "metadata": {
    "colab": {
     "base_uri": "https://localhost:8080/",
     "height": 748
    },
    "id": "ZvUsLM9KjCE0",
    "outputId": "43cdd724-f90d-4796-8fa2-79bf3fa610ad"
   },
   "outputs": [
    {
     "data": {
      "text/html": [
       "<div>\n",
       "<style scoped>\n",
       "    .dataframe tbody tr th:only-of-type {\n",
       "        vertical-align: middle;\n",
       "    }\n",
       "\n",
       "    .dataframe tbody tr th {\n",
       "        vertical-align: top;\n",
       "    }\n",
       "\n",
       "    .dataframe thead th {\n",
       "        text-align: right;\n",
       "    }\n",
       "</style>\n",
       "<table border=\"1\" class=\"dataframe\">\n",
       "  <thead>\n",
       "    <tr style=\"text-align: right;\">\n",
       "      <th></th>\n",
       "      <th>CA_number</th>\n",
       "      <th>BP_name</th>\n",
       "      <th>Category</th>\n",
       "      <th>portion</th>\n",
       "      <th>current</th>\n",
       "      <th>voltage</th>\n",
       "      <th>power</th>\n",
       "      <th>consumption</th>\n",
       "      <th>energy_Charges</th>\n",
       "      <th>Year</th>\n",
       "      <th>Month</th>\n",
       "    </tr>\n",
       "  </thead>\n",
       "  <tbody>\n",
       "    <tr>\n",
       "      <th>15</th>\n",
       "      <td>70019802</td>\n",
       "      <td>Mr. Sangay Tenzin</td>\n",
       "      <td>LV Commercial</td>\n",
       "      <td>P17_41</td>\n",
       "      <td>3.037540</td>\n",
       "      <td>234.0</td>\n",
       "      <td>0.604167</td>\n",
       "      <td>435.0</td>\n",
       "      <td>1535.55</td>\n",
       "      <td>2019</td>\n",
       "      <td>1</td>\n",
       "    </tr>\n",
       "    <tr>\n",
       "      <th>25</th>\n",
       "      <td>70004740</td>\n",
       "      <td>Ms. Tshering Yangdon</td>\n",
       "      <td>LV Commercial</td>\n",
       "      <td>P17_41</td>\n",
       "      <td>2.953746</td>\n",
       "      <td>234.0</td>\n",
       "      <td>0.587500</td>\n",
       "      <td>423.0</td>\n",
       "      <td>1493.19</td>\n",
       "      <td>2019</td>\n",
       "      <td>1</td>\n",
       "    </tr>\n",
       "    <tr>\n",
       "      <th>31</th>\n",
       "      <td>40021057</td>\n",
       "      <td>Mr. Pema Lhamo</td>\n",
       "      <td>LV Commercial</td>\n",
       "      <td>P17_41</td>\n",
       "      <td>2.918831</td>\n",
       "      <td>234.0</td>\n",
       "      <td>0.580556</td>\n",
       "      <td>418.0</td>\n",
       "      <td>1475.54</td>\n",
       "      <td>2019</td>\n",
       "      <td>1</td>\n",
       "    </tr>\n",
       "    <tr>\n",
       "      <th>41</th>\n",
       "      <td>70004766</td>\n",
       "      <td>Mr. Dorji .</td>\n",
       "      <td>LV Commercial</td>\n",
       "      <td>P17_41</td>\n",
       "      <td>2.890900</td>\n",
       "      <td>234.0</td>\n",
       "      <td>0.575000</td>\n",
       "      <td>414.0</td>\n",
       "      <td>1461.42</td>\n",
       "      <td>2019</td>\n",
       "      <td>1</td>\n",
       "    </tr>\n",
       "    <tr>\n",
       "      <th>45</th>\n",
       "      <td>70004777</td>\n",
       "      <td>Mr. Tashi Choki</td>\n",
       "      <td>LV Commercial</td>\n",
       "      <td>P17_41</td>\n",
       "      <td>2.800123</td>\n",
       "      <td>234.0</td>\n",
       "      <td>0.556944</td>\n",
       "      <td>401.0</td>\n",
       "      <td>1415.53</td>\n",
       "      <td>2019</td>\n",
       "      <td>1</td>\n",
       "    </tr>\n",
       "    <tr>\n",
       "      <th>...</th>\n",
       "      <td>...</td>\n",
       "      <td>...</td>\n",
       "      <td>...</td>\n",
       "      <td>...</td>\n",
       "      <td>...</td>\n",
       "      <td>...</td>\n",
       "      <td>...</td>\n",
       "      <td>...</td>\n",
       "      <td>...</td>\n",
       "      <td>...</td>\n",
       "      <td>...</td>\n",
       "    </tr>\n",
       "    <tr>\n",
       "      <th>23163</th>\n",
       "      <td>130018748</td>\n",
       "      <td>Mr. Bhutan Construction,PVT.LTD,Thimphu .</td>\n",
       "      <td>LV Temporary</td>\n",
       "      <td>P17_41</td>\n",
       "      <td>3.100385</td>\n",
       "      <td>234.0</td>\n",
       "      <td>0.616667</td>\n",
       "      <td>444.0</td>\n",
       "      <td>1616.16</td>\n",
       "      <td>2021</td>\n",
       "      <td>12</td>\n",
       "    </tr>\n",
       "    <tr>\n",
       "      <th>23298</th>\n",
       "      <td>40067757</td>\n",
       "      <td>Company Choney Dorji I Upper Coloney KHPC</td>\n",
       "      <td>LV Urban Domestic Customers</td>\n",
       "      <td>P17_40</td>\n",
       "      <td>2.807106</td>\n",
       "      <td>234.0</td>\n",
       "      <td>0.558333</td>\n",
       "      <td>402.0</td>\n",
       "      <td>937.36</td>\n",
       "      <td>2021</td>\n",
       "      <td>12</td>\n",
       "    </tr>\n",
       "    <tr>\n",
       "      <th>23306</th>\n",
       "      <td>40067751</td>\n",
       "      <td>Company Tshonglay Dendup Upper Coloney KHPC</td>\n",
       "      <td>LV Urban Domestic Customers</td>\n",
       "      <td>P17_40</td>\n",
       "      <td>3.079437</td>\n",
       "      <td>234.0</td>\n",
       "      <td>0.612500</td>\n",
       "      <td>441.0</td>\n",
       "      <td>1041.88</td>\n",
       "      <td>2021</td>\n",
       "      <td>12</td>\n",
       "    </tr>\n",
       "    <tr>\n",
       "      <th>23316</th>\n",
       "      <td>120000303</td>\n",
       "      <td>Company Rbp NCO's Residence</td>\n",
       "      <td>LV Urban Domestic Customers</td>\n",
       "      <td>P17_41</td>\n",
       "      <td>2.925814</td>\n",
       "      <td>234.0</td>\n",
       "      <td>0.581944</td>\n",
       "      <td>419.0</td>\n",
       "      <td>982.92</td>\n",
       "      <td>2021</td>\n",
       "      <td>12</td>\n",
       "    </tr>\n",
       "    <tr>\n",
       "      <th>23407</th>\n",
       "      <td>40085313</td>\n",
       "      <td>Company HRH Gyaltshab Staff Qtr-A4 Gyelpozhing...</td>\n",
       "      <td>LV Urban Domestic Customers</td>\n",
       "      <td>P17_41</td>\n",
       "      <td>2.807106</td>\n",
       "      <td>234.0</td>\n",
       "      <td>0.558333</td>\n",
       "      <td>402.0</td>\n",
       "      <td>937.36</td>\n",
       "      <td>2021</td>\n",
       "      <td>12</td>\n",
       "    </tr>\n",
       "  </tbody>\n",
       "</table>\n",
       "<p>343 rows × 11 columns</p>\n",
       "</div>"
      ],
      "text/plain": [
       "       CA_number                                            BP_name  \\\n",
       "15      70019802                                  Mr. Sangay Tenzin   \n",
       "25      70004740                               Ms. Tshering Yangdon   \n",
       "31      40021057                                     Mr. Pema Lhamo   \n",
       "41      70004766                                        Mr. Dorji .   \n",
       "45      70004777                                    Mr. Tashi Choki   \n",
       "...          ...                                                ...   \n",
       "23163  130018748          Mr. Bhutan Construction,PVT.LTD,Thimphu .   \n",
       "23298   40067757          Company Choney Dorji I Upper Coloney KHPC   \n",
       "23306   40067751        Company Tshonglay Dendup Upper Coloney KHPC   \n",
       "23316  120000303                        Company Rbp NCO's Residence   \n",
       "23407   40085313  Company HRH Gyaltshab Staff Qtr-A4 Gyelpozhing...   \n",
       "\n",
       "                          Category portion   current  voltage     power  \\\n",
       "15                   LV Commercial  P17_41  3.037540    234.0  0.604167   \n",
       "25                   LV Commercial  P17_41  2.953746    234.0  0.587500   \n",
       "31                   LV Commercial  P17_41  2.918831    234.0  0.580556   \n",
       "41                   LV Commercial  P17_41  2.890900    234.0  0.575000   \n",
       "45                   LV Commercial  P17_41  2.800123    234.0  0.556944   \n",
       "...                            ...     ...       ...      ...       ...   \n",
       "23163                 LV Temporary  P17_41  3.100385    234.0  0.616667   \n",
       "23298  LV Urban Domestic Customers  P17_40  2.807106    234.0  0.558333   \n",
       "23306  LV Urban Domestic Customers  P17_40  3.079437    234.0  0.612500   \n",
       "23316  LV Urban Domestic Customers  P17_41  2.925814    234.0  0.581944   \n",
       "23407  LV Urban Domestic Customers  P17_41  2.807106    234.0  0.558333   \n",
       "\n",
       "       consumption  energy_Charges  Year  Month  \n",
       "15           435.0         1535.55  2019      1  \n",
       "25           423.0         1493.19  2019      1  \n",
       "31           418.0         1475.54  2019      1  \n",
       "41           414.0         1461.42  2019      1  \n",
       "45           401.0         1415.53  2019      1  \n",
       "...            ...             ...   ...    ...  \n",
       "23163        444.0         1616.16  2021     12  \n",
       "23298        402.0          937.36  2021     12  \n",
       "23306        441.0         1041.88  2021     12  \n",
       "23316        419.0          982.92  2021     12  \n",
       "23407        402.0          937.36  2021     12  \n",
       "\n",
       "[343 rows x 11 columns]"
      ]
     },
     "execution_count": 19,
     "metadata": {},
     "output_type": "execute_result"
    }
   ],
   "source": [
    "df1[(df1.consumption < ll)  | (df1.consumption > ul)]"
   ]
  },
  {
   "cell_type": "code",
   "execution_count": 20,
   "metadata": {
    "colab": {
     "base_uri": "https://localhost:8080/"
    },
    "id": "QG5zfFcxjJ2p",
    "outputId": "00c75919-9c40-42e1-8278-8d6f6ec9f542"
   },
   "outputs": [
    {
     "data": {
      "text/plain": [
       "(21303, 11)"
      ]
     },
     "execution_count": 20,
     "metadata": {},
     "output_type": "execute_result"
    }
   ],
   "source": [
    "df2 = df1[(df1.consumption > ll) & (df1.consumption < ul)]\n",
    "df2.shape"
   ]
  },
  {
   "cell_type": "code",
   "execution_count": 21,
   "metadata": {
    "colab": {
     "base_uri": "https://localhost:8080/",
     "height": 298
    },
    "id": "1md1yLGnjVp2",
    "outputId": "c56ca4ae-a123-4976-a830-479578e9dc3d"
   },
   "outputs": [
    {
     "data": {
      "text/plain": [
       "<function matplotlib.pyplot.show(close=None, block=None)>"
      ]
     },
     "execution_count": 21,
     "metadata": {},
     "output_type": "execute_result"
    },
    {
     "data": {
      "image/png": "[encoded data removed]",
      "text/plain": [
       "<Figure size 432x288 with 1 Axes>"
      ]
     },
     "metadata": {
      "needs_background": "light"
     },
     "output_type": "display_data"
    }
   ],
   "source": [
    "sns.boxplot(x = df2['energy_Charges'])\n",
    "plt.show"
   ]
  },
  {
   "cell_type": "code",
   "execution_count": 22,
   "metadata": {
    "id": "6blyzOwJjbze"
   },
   "outputs": [],
   "source": [
    "q1 = df2.energy_Charges.quantile(0.25)\n",
    "q3 = df2.energy_Charges.quantile(0.75)\n",
    "IQR = q3 - q1\n",
    "ul = q3 + (IQR * 1.5)\n",
    "ll = q1 - (IQR * 1.5)"
   ]
  },
  {
   "cell_type": "code",
   "execution_count": 23,
   "metadata": {
    "colab": {
     "base_uri": "https://localhost:8080/",
     "height": 676
    },
    "id": "rdHwZOwnjg57",
    "outputId": "c504a710-d661-4e9b-b5a6-267c6286c034"
   },
   "outputs": [
    {
     "data": {
      "text/html": [
       "<div>\n",
       "<style scoped>\n",
       "    .dataframe tbody tr th:only-of-type {\n",
       "        vertical-align: middle;\n",
       "    }\n",
       "\n",
       "    .dataframe tbody tr th {\n",
       "        vertical-align: top;\n",
       "    }\n",
       "\n",
       "    .dataframe thead th {\n",
       "        text-align: right;\n",
       "    }\n",
       "</style>\n",
       "<table border=\"1\" class=\"dataframe\">\n",
       "  <thead>\n",
       "    <tr style=\"text-align: right;\">\n",
       "      <th></th>\n",
       "      <th>CA_number</th>\n",
       "      <th>BP_name</th>\n",
       "      <th>Category</th>\n",
       "      <th>portion</th>\n",
       "      <th>current</th>\n",
       "      <th>voltage</th>\n",
       "      <th>power</th>\n",
       "      <th>consumption</th>\n",
       "      <th>energy_Charges</th>\n",
       "      <th>Year</th>\n",
       "      <th>Month</th>\n",
       "    </tr>\n",
       "  </thead>\n",
       "  <tbody>\n",
       "    <tr>\n",
       "      <th>13</th>\n",
       "      <td>40036882</td>\n",
       "      <td>Ms. Rinchen Zangmo</td>\n",
       "      <td>LV Commercial</td>\n",
       "      <td>P17_41</td>\n",
       "      <td>1.871404</td>\n",
       "      <td>234.0</td>\n",
       "      <td>0.372222</td>\n",
       "      <td>268.0</td>\n",
       "      <td>946.04</td>\n",
       "      <td>2019</td>\n",
       "      <td>1</td>\n",
       "    </tr>\n",
       "    <tr>\n",
       "      <th>30</th>\n",
       "      <td>40021052</td>\n",
       "      <td>Ms. Sangay Dema</td>\n",
       "      <td>LV Commercial</td>\n",
       "      <td>P17_41</td>\n",
       "      <td>1.913301</td>\n",
       "      <td>234.0</td>\n",
       "      <td>0.380556</td>\n",
       "      <td>274.0</td>\n",
       "      <td>967.22</td>\n",
       "      <td>2019</td>\n",
       "      <td>1</td>\n",
       "    </tr>\n",
       "    <tr>\n",
       "      <th>50</th>\n",
       "      <td>40021095</td>\n",
       "      <td>Mr. Kinzang Penjore</td>\n",
       "      <td>LV Commercial</td>\n",
       "      <td>P17_41</td>\n",
       "      <td>1.885370</td>\n",
       "      <td>234.0</td>\n",
       "      <td>0.375000</td>\n",
       "      <td>270.0</td>\n",
       "      <td>953.10</td>\n",
       "      <td>2019</td>\n",
       "      <td>1</td>\n",
       "    </tr>\n",
       "    <tr>\n",
       "      <th>55</th>\n",
       "      <td>70004780</td>\n",
       "      <td>Ms. Seldon .</td>\n",
       "      <td>LV Commercial</td>\n",
       "      <td>P17_41</td>\n",
       "      <td>2.115804</td>\n",
       "      <td>234.0</td>\n",
       "      <td>0.420833</td>\n",
       "      <td>303.0</td>\n",
       "      <td>1069.59</td>\n",
       "      <td>2019</td>\n",
       "      <td>1</td>\n",
       "    </tr>\n",
       "    <tr>\n",
       "      <th>63</th>\n",
       "      <td>40021109</td>\n",
       "      <td>Ms. Choden .</td>\n",
       "      <td>LV Commercial</td>\n",
       "      <td>P17_41</td>\n",
       "      <td>2.325289</td>\n",
       "      <td>234.0</td>\n",
       "      <td>0.462500</td>\n",
       "      <td>333.0</td>\n",
       "      <td>1175.49</td>\n",
       "      <td>2019</td>\n",
       "      <td>1</td>\n",
       "    </tr>\n",
       "    <tr>\n",
       "      <th>...</th>\n",
       "      <td>...</td>\n",
       "      <td>...</td>\n",
       "      <td>...</td>\n",
       "      <td>...</td>\n",
       "      <td>...</td>\n",
       "      <td>...</td>\n",
       "      <td>...</td>\n",
       "      <td>...</td>\n",
       "      <td>...</td>\n",
       "      <td>...</td>\n",
       "      <td>...</td>\n",
       "    </tr>\n",
       "    <tr>\n",
       "      <th>23102</th>\n",
       "      <td>100002398</td>\n",
       "      <td>Company Range Office Gyelposhing</td>\n",
       "      <td>LV Institutional</td>\n",
       "      <td>P17_41</td>\n",
       "      <td>1.927267</td>\n",
       "      <td>234.0</td>\n",
       "      <td>0.383333</td>\n",
       "      <td>276.0</td>\n",
       "      <td>1004.64</td>\n",
       "      <td>2021</td>\n",
       "      <td>12</td>\n",
       "    </tr>\n",
       "    <tr>\n",
       "      <th>23113</th>\n",
       "      <td>130019467</td>\n",
       "      <td>Ms. Adm. Block</td>\n",
       "      <td>LV Institutional</td>\n",
       "      <td>P17_41</td>\n",
       "      <td>2.590637</td>\n",
       "      <td>234.0</td>\n",
       "      <td>0.515278</td>\n",
       "      <td>371.0</td>\n",
       "      <td>1350.44</td>\n",
       "      <td>2021</td>\n",
       "      <td>12</td>\n",
       "    </tr>\n",
       "    <tr>\n",
       "      <th>23150</th>\n",
       "      <td>130019845</td>\n",
       "      <td>Mr. Kharsa Constraction Pvt Ltd Gyelposhing</td>\n",
       "      <td>LV Temporary</td>\n",
       "      <td>P17_41</td>\n",
       "      <td>2.234512</td>\n",
       "      <td>234.0</td>\n",
       "      <td>0.444444</td>\n",
       "      <td>320.0</td>\n",
       "      <td>1164.80</td>\n",
       "      <td>2021</td>\n",
       "      <td>12</td>\n",
       "    </tr>\n",
       "    <tr>\n",
       "      <th>23151</th>\n",
       "      <td>130030482</td>\n",
       "      <td>Company Hope-Gyelposhing Project Forcign facul...</td>\n",
       "      <td>LV Temporary</td>\n",
       "      <td>P17_41</td>\n",
       "      <td>2.667449</td>\n",
       "      <td>234.0</td>\n",
       "      <td>0.530556</td>\n",
       "      <td>382.0</td>\n",
       "      <td>1390.48</td>\n",
       "      <td>2021</td>\n",
       "      <td>12</td>\n",
       "    </tr>\n",
       "    <tr>\n",
       "      <th>23154</th>\n",
       "      <td>130036301</td>\n",
       "      <td>Ms. Passnag Construction Pvt.Ltd. Gyelpozhing</td>\n",
       "      <td>LV Temporary</td>\n",
       "      <td>P17_41</td>\n",
       "      <td>2.430032</td>\n",
       "      <td>234.0</td>\n",
       "      <td>0.483333</td>\n",
       "      <td>348.0</td>\n",
       "      <td>1266.72</td>\n",
       "      <td>2021</td>\n",
       "      <td>12</td>\n",
       "    </tr>\n",
       "  </tbody>\n",
       "</table>\n",
       "<p>705 rows × 11 columns</p>\n",
       "</div>"
      ],
      "text/plain": [
       "       CA_number                                            BP_name  \\\n",
       "13      40036882                                 Ms. Rinchen Zangmo   \n",
       "30      40021052                                    Ms. Sangay Dema   \n",
       "50      40021095                                Mr. Kinzang Penjore   \n",
       "55      70004780                                       Ms. Seldon .   \n",
       "63      40021109                                       Ms. Choden .   \n",
       "...          ...                                                ...   \n",
       "23102  100002398                   Company Range Office Gyelposhing   \n",
       "23113  130019467                                     Ms. Adm. Block   \n",
       "23150  130019845        Mr. Kharsa Constraction Pvt Ltd Gyelposhing   \n",
       "23151  130030482  Company Hope-Gyelposhing Project Forcign facul...   \n",
       "23154  130036301      Ms. Passnag Construction Pvt.Ltd. Gyelpozhing   \n",
       "\n",
       "               Category portion   current  voltage     power  consumption  \\\n",
       "13        LV Commercial  P17_41  1.871404    234.0  0.372222        268.0   \n",
       "30        LV Commercial  P17_41  1.913301    234.0  0.380556        274.0   \n",
       "50        LV Commercial  P17_41  1.885370    234.0  0.375000        270.0   \n",
       "55        LV Commercial  P17_41  2.115804    234.0  0.420833        303.0   \n",
       "63        LV Commercial  P17_41  2.325289    234.0  0.462500        333.0   \n",
       "...                 ...     ...       ...      ...       ...          ...   \n",
       "23102  LV Institutional  P17_41  1.927267    234.0  0.383333        276.0   \n",
       "23113  LV Institutional  P17_41  2.590637    234.0  0.515278        371.0   \n",
       "23150      LV Temporary  P17_41  2.234512    234.0  0.444444        320.0   \n",
       "23151      LV Temporary  P17_41  2.667449    234.0  0.530556        382.0   \n",
       "23154      LV Temporary  P17_41  2.430032    234.0  0.483333        348.0   \n",
       "\n",
       "       energy_Charges  Year  Month  \n",
       "13             946.04  2019      1  \n",
       "30             967.22  2019      1  \n",
       "50             953.10  2019      1  \n",
       "55            1069.59  2019      1  \n",
       "63            1175.49  2019      1  \n",
       "...               ...   ...    ...  \n",
       "23102         1004.64  2021     12  \n",
       "23113         1350.44  2021     12  \n",
       "23150         1164.80  2021     12  \n",
       "23151         1390.48  2021     12  \n",
       "23154         1266.72  2021     12  \n",
       "\n",
       "[705 rows x 11 columns]"
      ]
     },
     "execution_count": 23,
     "metadata": {},
     "output_type": "execute_result"
    }
   ],
   "source": [
    "df2[(df2.energy_Charges < ll)  | (df2.energy_Charges > ul)]"
   ]
  },
  {
   "cell_type": "code",
   "execution_count": 24,
   "metadata": {
    "colab": {
     "base_uri": "https://localhost:8080/"
    },
    "id": "zyJOESxMjoAF",
    "outputId": "8be1976e-928a-45c6-e149-1a8be386053e"
   },
   "outputs": [
    {
     "data": {
      "text/plain": [
       "(20598, 11)"
      ]
     },
     "execution_count": 24,
     "metadata": {},
     "output_type": "execute_result"
    }
   ],
   "source": [
    "df3 = df2[(df2.energy_Charges > ll) & (df2.energy_Charges < ul)]\n",
    "df3.shape"
   ]
  },
  {
   "cell_type": "markdown",
   "metadata": {
    "id": "61gLOy9wel71"
   },
   "source": [
    "# 6. LABEL ENCODING"
   ]
  },
  {
   "cell_type": "code",
   "execution_count": 25,
   "metadata": {
    "colab": {
     "base_uri": "https://localhost:8080/",
     "height": 424
    },
    "id": "XwgFycPUNvjp",
    "outputId": "4e45c7b8-a1bb-461b-9e56-b2c371050669"
   },
   "outputs": [
    {
     "data": {
      "text/html": [
       "<div>\n",
       "<style scoped>\n",
       "    .dataframe tbody tr th:only-of-type {\n",
       "        vertical-align: middle;\n",
       "    }\n",
       "\n",
       "    .dataframe tbody tr th {\n",
       "        vertical-align: top;\n",
       "    }\n",
       "\n",
       "    .dataframe thead th {\n",
       "        text-align: right;\n",
       "    }\n",
       "</style>\n",
       "<table border=\"1\" class=\"dataframe\">\n",
       "  <thead>\n",
       "    <tr style=\"text-align: right;\">\n",
       "      <th></th>\n",
       "      <th>CA_number</th>\n",
       "      <th>BP_name</th>\n",
       "      <th>Category</th>\n",
       "      <th>portion</th>\n",
       "      <th>current</th>\n",
       "      <th>voltage</th>\n",
       "      <th>power</th>\n",
       "      <th>consumption</th>\n",
       "      <th>energy_Charges</th>\n",
       "      <th>Year</th>\n",
       "      <th>Month</th>\n",
       "    </tr>\n",
       "  </thead>\n",
       "  <tbody>\n",
       "    <tr>\n",
       "      <th>23602</th>\n",
       "      <td>30077784</td>\n",
       "      <td>Mr. Tshering Peldon</td>\n",
       "      <td>LV Urban Domestic Customers</td>\n",
       "      <td>P17_41</td>\n",
       "      <td>0.796045</td>\n",
       "      <td>234.0</td>\n",
       "      <td>0.158333</td>\n",
       "      <td>114.0</td>\n",
       "      <td>165.52</td>\n",
       "      <td>2021</td>\n",
       "      <td>12</td>\n",
       "    </tr>\n",
       "    <tr>\n",
       "      <th>23603</th>\n",
       "      <td>40021115</td>\n",
       "      <td>Mr. Chedup Resident</td>\n",
       "      <td>LV Urban Domestic Customers</td>\n",
       "      <td>P17_41</td>\n",
       "      <td>1.529244</td>\n",
       "      <td>234.0</td>\n",
       "      <td>0.304167</td>\n",
       "      <td>219.0</td>\n",
       "      <td>446.92</td>\n",
       "      <td>2021</td>\n",
       "      <td>12</td>\n",
       "    </tr>\n",
       "    <tr>\n",
       "      <th>23604</th>\n",
       "      <td>40036288</td>\n",
       "      <td>Ms. Tashi Choki</td>\n",
       "      <td>LV Urban Domestic Customers</td>\n",
       "      <td>P17_41</td>\n",
       "      <td>0.628457</td>\n",
       "      <td>234.0</td>\n",
       "      <td>0.125000</td>\n",
       "      <td>90.0</td>\n",
       "      <td>115.20</td>\n",
       "      <td>2021</td>\n",
       "      <td>12</td>\n",
       "    </tr>\n",
       "    <tr>\n",
       "      <th>23605</th>\n",
       "      <td>40021151</td>\n",
       "      <td>Mr. Chedup .</td>\n",
       "      <td>LV Urban Domestic Customers</td>\n",
       "      <td>P17_41</td>\n",
       "      <td>0.733199</td>\n",
       "      <td>234.0</td>\n",
       "      <td>0.145833</td>\n",
       "      <td>105.0</td>\n",
       "      <td>141.40</td>\n",
       "      <td>2021</td>\n",
       "      <td>12</td>\n",
       "    </tr>\n",
       "    <tr>\n",
       "      <th>23606</th>\n",
       "      <td>40061822</td>\n",
       "      <td>Company BHU Staffs Quarter -3 Gyelposhing</td>\n",
       "      <td>LV Urban Domestic Customers</td>\n",
       "      <td>P17_41</td>\n",
       "      <td>0.279314</td>\n",
       "      <td>234.0</td>\n",
       "      <td>0.055556</td>\n",
       "      <td>40.0</td>\n",
       "      <td>51.20</td>\n",
       "      <td>2021</td>\n",
       "      <td>12</td>\n",
       "    </tr>\n",
       "  </tbody>\n",
       "</table>\n",
       "</div>"
      ],
      "text/plain": [
       "       CA_number                                    BP_name  \\\n",
       "23602   30077784                        Mr. Tshering Peldon   \n",
       "23603   40021115                        Mr. Chedup Resident   \n",
       "23604   40036288                            Ms. Tashi Choki   \n",
       "23605   40021151                               Mr. Chedup .   \n",
       "23606   40061822  Company BHU Staffs Quarter -3 Gyelposhing   \n",
       "\n",
       "                          Category portion   current  voltage     power  \\\n",
       "23602  LV Urban Domestic Customers  P17_41  0.796045    234.0  0.158333   \n",
       "23603  LV Urban Domestic Customers  P17_41  1.529244    234.0  0.304167   \n",
       "23604  LV Urban Domestic Customers  P17_41  0.628457    234.0  0.125000   \n",
       "23605  LV Urban Domestic Customers  P17_41  0.733199    234.0  0.145833   \n",
       "23606  LV Urban Domestic Customers  P17_41  0.279314    234.0  0.055556   \n",
       "\n",
       "       consumption  energy_Charges  Year  Month  \n",
       "23602        114.0          165.52  2021     12  \n",
       "23603        219.0          446.92  2021     12  \n",
       "23604         90.0          115.20  2021     12  \n",
       "23605        105.0          141.40  2021     12  \n",
       "23606         40.0           51.20  2021     12  "
      ]
     },
     "execution_count": 25,
     "metadata": {},
     "output_type": "execute_result"
    }
   ],
   "source": [
    "df3.tail()"
   ]
  },
  {
   "cell_type": "code",
   "execution_count": 26,
   "metadata": {
    "colab": {
     "base_uri": "https://localhost:8080/",
     "height": 763
    },
    "id": "rkPiZ75focz3",
    "outputId": "c027def0-87da-4410-b315-d552126ccd4c"
   },
   "outputs": [
    {
     "data": {
      "text/html": [
       "<div>\n",
       "<style scoped>\n",
       "    .dataframe tbody tr th:only-of-type {\n",
       "        vertical-align: middle;\n",
       "    }\n",
       "\n",
       "    .dataframe tbody tr th {\n",
       "        vertical-align: top;\n",
       "    }\n",
       "\n",
       "    .dataframe thead th {\n",
       "        text-align: right;\n",
       "    }\n",
       "</style>\n",
       "<table border=\"1\" class=\"dataframe\">\n",
       "  <thead>\n",
       "    <tr style=\"text-align: right;\">\n",
       "      <th></th>\n",
       "      <th>CA_number</th>\n",
       "      <th>BP_name</th>\n",
       "      <th>Category</th>\n",
       "      <th>portion</th>\n",
       "      <th>current</th>\n",
       "      <th>voltage</th>\n",
       "      <th>power</th>\n",
       "      <th>consumption</th>\n",
       "      <th>energy_Charges</th>\n",
       "      <th>Year</th>\n",
       "      <th>Month</th>\n",
       "    </tr>\n",
       "  </thead>\n",
       "  <tbody>\n",
       "    <tr>\n",
       "      <th>0</th>\n",
       "      <td>50000504</td>\n",
       "      <td>Company Lemon Grass Factory Kurizampa</td>\n",
       "      <td>LV Agricultural</td>\n",
       "      <td>P17_41</td>\n",
       "      <td>1.166136</td>\n",
       "      <td>234.0</td>\n",
       "      <td>0.231944</td>\n",
       "      <td>167.0</td>\n",
       "      <td>589.51</td>\n",
       "      <td>2019</td>\n",
       "      <td>1</td>\n",
       "    </tr>\n",
       "    <tr>\n",
       "      <th>1</th>\n",
       "      <td>50001004</td>\n",
       "      <td>Company RBA Gyelposhing</td>\n",
       "      <td>LV Agricultural</td>\n",
       "      <td>P17_41</td>\n",
       "      <td>5.502486</td>\n",
       "      <td>234.0</td>\n",
       "      <td>1.094444</td>\n",
       "      <td>788.0</td>\n",
       "      <td>2781.64</td>\n",
       "      <td>2019</td>\n",
       "      <td>1</td>\n",
       "    </tr>\n",
       "    <tr>\n",
       "      <th>2</th>\n",
       "      <td>60001500</td>\n",
       "      <td>N R D C Gyelposhing</td>\n",
       "      <td>LV Bulk</td>\n",
       "      <td>P17_41</td>\n",
       "      <td>0.000000</td>\n",
       "      <td>234.0</td>\n",
       "      <td>0.000000</td>\n",
       "      <td>0.0</td>\n",
       "      <td>0.00</td>\n",
       "      <td>2019</td>\n",
       "      <td>1</td>\n",
       "    </tr>\n",
       "    <tr>\n",
       "      <th>3</th>\n",
       "      <td>60000307</td>\n",
       "      <td>Swerage Treatment Plant</td>\n",
       "      <td>LV Bulk</td>\n",
       "      <td>P17_41</td>\n",
       "      <td>0.000000</td>\n",
       "      <td>234.0</td>\n",
       "      <td>0.000000</td>\n",
       "      <td>0.0</td>\n",
       "      <td>0.00</td>\n",
       "      <td>2019</td>\n",
       "      <td>1</td>\n",
       "    </tr>\n",
       "    <tr>\n",
       "      <th>4</th>\n",
       "      <td>60006107</td>\n",
       "      <td>Company Rabsel Construction Pvt.Ltd Gyelposhing</td>\n",
       "      <td>LV Bulk</td>\n",
       "      <td>P17_41</td>\n",
       "      <td>13.127758</td>\n",
       "      <td>234.0</td>\n",
       "      <td>2.611111</td>\n",
       "      <td>1880.0</td>\n",
       "      <td>7557.60</td>\n",
       "      <td>2019</td>\n",
       "      <td>1</td>\n",
       "    </tr>\n",
       "    <tr>\n",
       "      <th>...</th>\n",
       "      <td>...</td>\n",
       "      <td>...</td>\n",
       "      <td>...</td>\n",
       "      <td>...</td>\n",
       "      <td>...</td>\n",
       "      <td>...</td>\n",
       "      <td>...</td>\n",
       "      <td>...</td>\n",
       "      <td>...</td>\n",
       "      <td>...</td>\n",
       "      <td>...</td>\n",
       "    </tr>\n",
       "    <tr>\n",
       "      <th>23602</th>\n",
       "      <td>30077784</td>\n",
       "      <td>Mr. Tshering Peldon</td>\n",
       "      <td>LV Urban Domestic Customers</td>\n",
       "      <td>P17_41</td>\n",
       "      <td>0.796045</td>\n",
       "      <td>234.0</td>\n",
       "      <td>0.158333</td>\n",
       "      <td>114.0</td>\n",
       "      <td>165.52</td>\n",
       "      <td>2021</td>\n",
       "      <td>12</td>\n",
       "    </tr>\n",
       "    <tr>\n",
       "      <th>23603</th>\n",
       "      <td>40021115</td>\n",
       "      <td>Mr. Chedup Resident</td>\n",
       "      <td>LV Urban Domestic Customers</td>\n",
       "      <td>P17_41</td>\n",
       "      <td>1.529244</td>\n",
       "      <td>234.0</td>\n",
       "      <td>0.304167</td>\n",
       "      <td>219.0</td>\n",
       "      <td>446.92</td>\n",
       "      <td>2021</td>\n",
       "      <td>12</td>\n",
       "    </tr>\n",
       "    <tr>\n",
       "      <th>23604</th>\n",
       "      <td>40036288</td>\n",
       "      <td>Ms. Tashi Choki</td>\n",
       "      <td>LV Urban Domestic Customers</td>\n",
       "      <td>P17_41</td>\n",
       "      <td>0.628457</td>\n",
       "      <td>234.0</td>\n",
       "      <td>0.125000</td>\n",
       "      <td>90.0</td>\n",
       "      <td>115.20</td>\n",
       "      <td>2021</td>\n",
       "      <td>12</td>\n",
       "    </tr>\n",
       "    <tr>\n",
       "      <th>23605</th>\n",
       "      <td>40021151</td>\n",
       "      <td>Mr. Chedup .</td>\n",
       "      <td>LV Urban Domestic Customers</td>\n",
       "      <td>P17_41</td>\n",
       "      <td>0.733199</td>\n",
       "      <td>234.0</td>\n",
       "      <td>0.145833</td>\n",
       "      <td>105.0</td>\n",
       "      <td>141.40</td>\n",
       "      <td>2021</td>\n",
       "      <td>12</td>\n",
       "    </tr>\n",
       "    <tr>\n",
       "      <th>23606</th>\n",
       "      <td>40061822</td>\n",
       "      <td>Company BHU Staffs Quarter -3 Gyelposhing</td>\n",
       "      <td>LV Urban Domestic Customers</td>\n",
       "      <td>P17_41</td>\n",
       "      <td>0.279314</td>\n",
       "      <td>234.0</td>\n",
       "      <td>0.055556</td>\n",
       "      <td>40.0</td>\n",
       "      <td>51.20</td>\n",
       "      <td>2021</td>\n",
       "      <td>12</td>\n",
       "    </tr>\n",
       "  </tbody>\n",
       "</table>\n",
       "<p>23607 rows × 11 columns</p>\n",
       "</div>"
      ],
      "text/plain": [
       "       CA_number                                          BP_name  \\\n",
       "0       50000504            Company Lemon Grass Factory Kurizampa   \n",
       "1       50001004                          Company RBA Gyelposhing   \n",
       "2       60001500                              N R D C Gyelposhing   \n",
       "3       60000307                          Swerage Treatment Plant   \n",
       "4       60006107  Company Rabsel Construction Pvt.Ltd Gyelposhing   \n",
       "...          ...                                              ...   \n",
       "23602   30077784                              Mr. Tshering Peldon   \n",
       "23603   40021115                              Mr. Chedup Resident   \n",
       "23604   40036288                                  Ms. Tashi Choki   \n",
       "23605   40021151                                     Mr. Chedup .   \n",
       "23606   40061822        Company BHU Staffs Quarter -3 Gyelposhing   \n",
       "\n",
       "                          Category portion    current  voltage     power  \\\n",
       "0                  LV Agricultural  P17_41   1.166136    234.0  0.231944   \n",
       "1                  LV Agricultural  P17_41   5.502486    234.0  1.094444   \n",
       "2                          LV Bulk  P17_41   0.000000    234.0  0.000000   \n",
       "3                          LV Bulk  P17_41   0.000000    234.0  0.000000   \n",
       "4                          LV Bulk  P17_41  13.127758    234.0  2.611111   \n",
       "...                            ...     ...        ...      ...       ...   \n",
       "23602  LV Urban Domestic Customers  P17_41   0.796045    234.0  0.158333   \n",
       "23603  LV Urban Domestic Customers  P17_41   1.529244    234.0  0.304167   \n",
       "23604  LV Urban Domestic Customers  P17_41   0.628457    234.0  0.125000   \n",
       "23605  LV Urban Domestic Customers  P17_41   0.733199    234.0  0.145833   \n",
       "23606  LV Urban Domestic Customers  P17_41   0.279314    234.0  0.055556   \n",
       "\n",
       "       consumption  energy_Charges  Year  Month  \n",
       "0            167.0          589.51  2019      1  \n",
       "1            788.0         2781.64  2019      1  \n",
       "2              0.0            0.00  2019      1  \n",
       "3              0.0            0.00  2019      1  \n",
       "4           1880.0         7557.60  2019      1  \n",
       "...            ...             ...   ...    ...  \n",
       "23602        114.0          165.52  2021     12  \n",
       "23603        219.0          446.92  2021     12  \n",
       "23604         90.0          115.20  2021     12  \n",
       "23605        105.0          141.40  2021     12  \n",
       "23606         40.0           51.20  2021     12  \n",
       "\n",
       "[23607 rows x 11 columns]"
      ]
     },
     "execution_count": 26,
     "metadata": {},
     "output_type": "execute_result"
    }
   ],
   "source": [
    "df"
   ]
  },
  {
   "cell_type": "code",
   "execution_count": 27,
   "metadata": {
    "colab": {
     "base_uri": "https://localhost:8080/"
    },
    "id": "rPMopw2rxW7Y",
    "outputId": "a9cb560f-8191-450d-d029-493a74b19d7a"
   },
   "outputs": [
    {
     "name": "stdout",
     "output_type": "stream",
     "text": [
      "CA_number : 738\n",
      "BP_name : 676\n",
      "Category : 12\n",
      "portion : 2\n",
      "current : 1759\n",
      "voltage : 1\n",
      "power : 1759\n",
      "consumption : 1759\n",
      "energy_Charges : 2935\n",
      "Year : 3\n",
      "Month : 12\n"
     ]
    }
   ],
   "source": [
    "# unique values in each columns\n",
    "for x in df3.columns:\n",
    "    #prinfting unique values\n",
    "    print(x ,':', len(df3[x].unique()))"
   ]
  },
  {
   "cell_type": "code",
   "execution_count": 28,
   "metadata": {
    "colab": {
     "base_uri": "https://localhost:8080/"
    },
    "id": "1OmaT1J0UNTp",
    "outputId": "8b097762-fd45-42fb-b2b5-98d748579d33"
   },
   "outputs": [
    {
     "data": {
      "text/plain": [
       "LV Urban Domestic Customers             15578\n",
       "LV Rural Domestic Customers              1690\n",
       "LV Commercial                            1289\n",
       "LV Institutional                          964\n",
       "LV Temporary                              412\n",
       "LV Rural-Community Lhakhangs              225\n",
       "LV Religious Institution customers        164\n",
       "LV Bulk                                   132\n",
       "LV Street light                            57\n",
       "LV Agricultural                            32\n",
       "LV Power house                             30\n",
       "LV Rural-cooperativs and Agriculture       25\n",
       "Name: Category, dtype: int64"
      ]
     },
     "execution_count": 28,
     "metadata": {},
     "output_type": "execute_result"
    }
   ],
   "source": [
    "df3['Category'].value_counts()"
   ]
  },
  {
   "cell_type": "code",
   "execution_count": null,
   "metadata": {
    "id": "jjuwdaXHZgzB"
   },
   "outputs": [],
   "source": []
  },
  {
   "cell_type": "code",
   "execution_count": null,
   "metadata": {
    "id": "UFww4vWRd-cb"
   },
   "outputs": [],
   "source": []
  },
  {
   "cell_type": "code",
   "execution_count": 29,
   "metadata": {
    "colab": {
     "base_uri": "https://localhost:8080/"
    },
    "id": "5xt5epFNWvM3",
    "outputId": "0cf213d3-a604-4d7b-c331-ef6bd1ee96cb"
   },
   "outputs": [
    {
     "data": {
      "text/plain": [
       "array(['LV Agricultural', 'LV Bulk', 'LV Commercial', 'LV Institutional',\n",
       "       'LV Power house', 'LV Religious Institution customers',\n",
       "       'LV Rural Domestic Customers', 'LV Rural-Community Lhakhangs',\n",
       "       'LV Street light', 'LV Temporary', 'LV Urban Domestic Customers',\n",
       "       'LV Rural-cooperativs and Agriculture'], dtype=object)"
      ]
     },
     "execution_count": 29,
     "metadata": {},
     "output_type": "execute_result"
    }
   ],
   "source": [
    "df3.Category.unique()"
   ]
  },
  {
   "cell_type": "code",
   "execution_count": null,
   "metadata": {
    "id": "EHnOaMldf4Af"
   },
   "outputs": [],
   "source": []
  },
  {
   "cell_type": "code",
   "execution_count": null,
   "metadata": {
    "id": "F4reHYR3f88o"
   },
   "outputs": [],
   "source": []
  },
  {
   "cell_type": "code",
   "execution_count": null,
   "metadata": {
    "id": "BgCFW7SLgEl-"
   },
   "outputs": [],
   "source": []
  },
  {
   "cell_type": "code",
   "execution_count": null,
   "metadata": {
    "id": "GVrubd7KgISF"
   },
   "outputs": [],
   "source": [
    " "
   ]
  },
  {
   "cell_type": "markdown",
   "metadata": {
    "id": "Fcc2rGJD6u9P"
   },
   "source": [
    "# 7. TRAIN AND TEST SPLIT\n",
    "\n",
    "\n"
   ]
  },
  {
   "cell_type": "code",
   "execution_count": 30,
   "metadata": {
    "id": "vLFd3oFCl9Ae"
   },
   "outputs": [],
   "source": [
    "# Input:\n",
    "X = df3[['Year','Month','current','voltage','Category','portion']]\n",
    "\n",
    "# Output:\n",
    "y = df3[['consumption']]"
   ]
  },
  {
   "cell_type": "code",
   "execution_count": 31,
   "metadata": {
    "id": "BWOXoEQa-6ic"
   },
   "outputs": [],
   "source": [
    "# from sklearn.preprocessing import MinMaxScaler\n",
    "# sc = MinMaxScaler(feature_range=(0, 1))\n",
    "# X_scaled = sc.fit_transform(x)"
   ]
  },
  {
   "cell_type": "code",
   "execution_count": 32,
   "metadata": {
    "id": "EC7O_P4bnCfC"
   },
   "outputs": [],
   "source": [
    "#SPLITING\n",
    "\n",
    "from sklearn.model_selection import train_test_split\n",
    "X_train, X_test, y_train, y_test = train_test_split(X, y, test_size=0.30, random_state=2)"
   ]
  },
  {
   "cell_type": "code",
   "execution_count": 33,
   "metadata": {
    "id": "LVqE8_862a4q"
   },
   "outputs": [],
   "source": [
    " #Pipeline is to create a sequence of preprocessing actions\n",
    "from sklearn.pipeline import Pipeline\n",
    "\n",
    "#SimpleImputer handles missing values\n",
    "from sklearn.impute import SimpleImputer\n",
    "\n",
    "#Standard Scaler normalise the numeric data so that large values does not\n",
    "#create biasness in the training\n",
    "\n",
    "#OneHotEndcoder converts categorical data to numerical, it also creates individual\n",
    "#for each option in the categories\n",
    "from sklearn.preprocessing import StandardScaler, OneHotEncoder, OrdinalEncoder"
   ]
  },
  {
   "cell_type": "code",
   "execution_count": 34,
   "metadata": {
    "colab": {
     "base_uri": "https://localhost:8080/",
     "height": 206
    },
    "id": "hD-A-Cr0fnxE",
    "outputId": "01e97d9b-debb-44dc-d898-65f04cc6b18e"
   },
   "outputs": [
    {
     "data": {
      "text/html": [
       "<div>\n",
       "<style scoped>\n",
       "    .dataframe tbody tr th:only-of-type {\n",
       "        vertical-align: middle;\n",
       "    }\n",
       "\n",
       "    .dataframe tbody tr th {\n",
       "        vertical-align: top;\n",
       "    }\n",
       "\n",
       "    .dataframe thead th {\n",
       "        text-align: right;\n",
       "    }\n",
       "</style>\n",
       "<table border=\"1\" class=\"dataframe\">\n",
       "  <thead>\n",
       "    <tr style=\"text-align: right;\">\n",
       "      <th></th>\n",
       "      <th>Year</th>\n",
       "      <th>Month</th>\n",
       "      <th>current</th>\n",
       "      <th>voltage</th>\n",
       "      <th>Category</th>\n",
       "      <th>portion</th>\n",
       "    </tr>\n",
       "  </thead>\n",
       "  <tbody>\n",
       "    <tr>\n",
       "      <th>15553</th>\n",
       "      <td>2021</td>\n",
       "      <td>1</td>\n",
       "      <td>1.089325</td>\n",
       "      <td>234.0</td>\n",
       "      <td>LV Urban Domestic Customers</td>\n",
       "      <td>P17_40</td>\n",
       "    </tr>\n",
       "    <tr>\n",
       "      <th>9282</th>\n",
       "      <td>2020</td>\n",
       "      <td>4</td>\n",
       "      <td>0.614491</td>\n",
       "      <td>234.0</td>\n",
       "      <td>LV Urban Domestic Customers</td>\n",
       "      <td>P17_40</td>\n",
       "    </tr>\n",
       "    <tr>\n",
       "      <th>23560</th>\n",
       "      <td>2021</td>\n",
       "      <td>12</td>\n",
       "      <td>0.335177</td>\n",
       "      <td>234.0</td>\n",
       "      <td>LV Urban Domestic Customers</td>\n",
       "      <td>P17_41</td>\n",
       "    </tr>\n",
       "    <tr>\n",
       "      <th>7934</th>\n",
       "      <td>2020</td>\n",
       "      <td>2</td>\n",
       "      <td>2.318306</td>\n",
       "      <td>234.0</td>\n",
       "      <td>LV Urban Domestic Customers</td>\n",
       "      <td>P17_41</td>\n",
       "    </tr>\n",
       "    <tr>\n",
       "      <th>19745</th>\n",
       "      <td>2021</td>\n",
       "      <td>7</td>\n",
       "      <td>0.411988</td>\n",
       "      <td>234.0</td>\n",
       "      <td>LV Institutional</td>\n",
       "      <td>P17_41</td>\n",
       "    </tr>\n",
       "  </tbody>\n",
       "</table>\n",
       "</div>"
      ],
      "text/plain": [
       "       Year  Month   current  voltage                     Category portion\n",
       "15553  2021      1  1.089325    234.0  LV Urban Domestic Customers  P17_40\n",
       "9282   2020      4  0.614491    234.0  LV Urban Domestic Customers  P17_40\n",
       "23560  2021     12  0.335177    234.0  LV Urban Domestic Customers  P17_41\n",
       "7934   2020      2  2.318306    234.0  LV Urban Domestic Customers  P17_41\n",
       "19745  2021      7  0.411988    234.0             LV Institutional  P17_41"
      ]
     },
     "execution_count": 34,
     "metadata": {},
     "output_type": "execute_result"
    }
   ],
   "source": [
    "X_test.head()"
   ]
  },
  {
   "cell_type": "code",
   "execution_count": 35,
   "metadata": {
    "colab": {
     "base_uri": "https://localhost:8080/",
     "height": 206
    },
    "id": "BszekgsWjauT",
    "outputId": "825108ec-6c26-4805-9c1a-44f5205c5ef4"
   },
   "outputs": [
    {
     "data": {
      "text/html": [
       "<div>\n",
       "<style scoped>\n",
       "    .dataframe tbody tr th:only-of-type {\n",
       "        vertical-align: middle;\n",
       "    }\n",
       "\n",
       "    .dataframe tbody tr th {\n",
       "        vertical-align: top;\n",
       "    }\n",
       "\n",
       "    .dataframe thead th {\n",
       "        text-align: right;\n",
       "    }\n",
       "</style>\n",
       "<table border=\"1\" class=\"dataframe\">\n",
       "  <thead>\n",
       "    <tr style=\"text-align: right;\">\n",
       "      <th></th>\n",
       "      <th>consumption</th>\n",
       "    </tr>\n",
       "  </thead>\n",
       "  <tbody>\n",
       "    <tr>\n",
       "      <th>15553</th>\n",
       "      <td>156.0</td>\n",
       "    </tr>\n",
       "    <tr>\n",
       "      <th>9282</th>\n",
       "      <td>88.0</td>\n",
       "    </tr>\n",
       "    <tr>\n",
       "      <th>23560</th>\n",
       "      <td>48.0</td>\n",
       "    </tr>\n",
       "    <tr>\n",
       "      <th>7934</th>\n",
       "      <td>332.0</td>\n",
       "    </tr>\n",
       "    <tr>\n",
       "      <th>19745</th>\n",
       "      <td>59.0</td>\n",
       "    </tr>\n",
       "  </tbody>\n",
       "</table>\n",
       "</div>"
      ],
      "text/plain": [
       "       consumption\n",
       "15553        156.0\n",
       "9282          88.0\n",
       "23560         48.0\n",
       "7934         332.0\n",
       "19745         59.0"
      ]
     },
     "execution_count": 35,
     "metadata": {},
     "output_type": "execute_result"
    }
   ],
   "source": [
    "y_test.head()"
   ]
  },
  {
   "cell_type": "code",
   "execution_count": 36,
   "metadata": {
    "colab": {
     "base_uri": "https://localhost:8080/"
    },
    "id": "vG2LY7Hz22gT",
    "outputId": "cb5d2fae-87b4-4a63-c7a0-6611cec7bc4d"
   },
   "outputs": [
    {
     "name": "stdout",
     "output_type": "stream",
     "text": [
      "Index(['Year', 'Month', 'current', 'voltage'], dtype='object')\n",
      "Index(['Category', 'portion'], dtype='object')\n"
     ]
    }
   ],
   "source": [
    "#Separate the Categorical and Numerical Columns\n",
    "#Numeric columns\n",
    "numeric_cols = X.select_dtypes(include=['int64','float64']).columns\n",
    "print(numeric_cols)\n",
    "\n",
    "#categorical columns\n",
    "categorical_cols = X.select_dtypes(include=['object']).columns\n",
    "print(categorical_cols)"
   ]
  },
  {
   "cell_type": "code",
   "execution_count": 37,
   "metadata": {
    "colab": {
     "base_uri": "https://localhost:8080/"
    },
    "id": "4fyLkdIA3DFT",
    "outputId": "2fc90fd3-4b50-4abb-aa06-48c93ae9b187"
   },
   "outputs": [
    {
     "data": {
      "text/plain": [
       "[0, 1, 2, 3]"
      ]
     },
     "execution_count": 37,
     "metadata": {},
     "output_type": "execute_result"
    }
   ],
   "source": [
    "numeric_index = [X.columns.get_loc(col) for col in numeric_cols]\n",
    "numeric_index"
   ]
  },
  {
   "cell_type": "code",
   "execution_count": 38,
   "metadata": {
    "colab": {
     "base_uri": "https://localhost:8080/"
    },
    "id": "KT81iT6c3Mk-",
    "outputId": "4f9f5c03-e2b9-4fc0-9b46-2ed4efe0453f"
   },
   "outputs": [
    {
     "data": {
      "text/plain": [
       "[4, 5]"
      ]
     },
     "execution_count": 38,
     "metadata": {},
     "output_type": "execute_result"
    }
   ],
   "source": [
    "categorical_index = [X.columns.get_loc(col) for col in categorical_cols]\n",
    "categorical_index"
   ]
  },
  {
   "cell_type": "code",
   "execution_count": 39,
   "metadata": {
    "id": "_w3I9E3h3Pn_"
   },
   "outputs": [],
   "source": [
    " #Building the Numeric Transformation Pipeline\n",
    "numeric_transformer = Pipeline(steps = [\n",
    "    ('imputer',SimpleImputer(strategy='mean')), #Handline numeric missing value with median\n",
    "    ('scaler',StandardScaler()) #Normalize the data\n",
    "] )\n"
   ]
  },
  {
   "cell_type": "code",
   "execution_count": 40,
   "metadata": {
    "id": "x8K6OZuM3slF"
   },
   "outputs": [],
   "source": [
    "#Building the Categorical Transformation Pipeline\n",
    "categorical_transformer = Pipeline(steps=[\n",
    "    ('imputer',SimpleImputer(strategy = 'most_frequent',fill_value='missing')),\n",
    "    ('onehot',OneHotEncoder(handle_unknown='ignore'))\n",
    "])"
   ]
  },
  {
   "cell_type": "code",
   "execution_count": 41,
   "metadata": {
    "id": "1bj3NkpJ34EY"
   },
   "outputs": [],
   "source": [
    " #Combine the numeric and categorical transformers\n",
    "from sklearn.compose import ColumnTransformer\n",
    "preprocessor = ColumnTransformer(\n",
    "    transformers = [('num',numeric_transformer,numeric_index),\n",
    "                ('nominal',categorical_transformer,categorical_index),]\n",
    ")"
   ]
  },
  {
   "cell_type": "code",
   "execution_count": 42,
   "metadata": {
    "id": "5ahS7dxY4MLW"
   },
   "outputs": [],
   "source": [
    "from sklearn.linear_model import LinearRegression\n",
    "LR_model = LinearRegression()"
   ]
  },
  {
   "cell_type": "code",
   "execution_count": 43,
   "metadata": {
    "id": "AA2dEf7m4QwO"
   },
   "outputs": [],
   "source": [
    "#Assemble the individual blocks to form the main pipeline\n",
    "testmodel = Pipeline(\n",
    "    steps = [\n",
    "      ('preprocessor', preprocessor), #Preprocessing\n",
    "      ('regressor'  , LR_model)  #Model\n",
    "    ]\n",
    ")"
   ]
  },
  {
   "cell_type": "code",
   "execution_count": 44,
   "metadata": {
    "colab": {
     "base_uri": "https://localhost:8080/",
     "height": 227
    },
    "id": "falGwiTd4cWM",
    "outputId": "e5b2b96a-d624-4c6f-a8f5-9edc708b1fbe",
    "scrolled": true
   },
   "outputs": [
    {
     "data": {
      "text/html": [
       "<style>#sk-container-id-1 {color: black;background-color: white;}#sk-container-id-1 pre{padding: 0;}#sk-container-id-1 div.sk-toggleable {background-color: white;}#sk-container-id-1 label.sk-toggleable__label {cursor: pointer;display: block;width: 100%;margin-bottom: 0;padding: 0.3em;box-sizing: border-box;text-align: center;}#sk-container-id-1 label.sk-toggleable__label-arrow:before {content: \"▸\";float: left;margin-right: 0.25em;color: #696969;}#sk-container-id-1 label.sk-toggleable__label-arrow:hover:before {color: black;}#sk-container-id-1 div.sk-estimator:hover label.sk-toggleable__label-arrow:before {color: black;}#sk-container-id-1 div.sk-toggleable__content {max-height: 0;max-width: 0;overflow: hidden;text-align: left;background-color: #f0f8ff;}#sk-container-id-1 div.sk-toggleable__content pre {margin: 0.2em;color: black;border-radius: 0.25em;background-color: #f0f8ff;}#sk-container-id-1 input.sk-toggleable__control:checked~div.sk-toggleable__content {max-height: 200px;max-width: 100%;overflow: auto;}#sk-container-id-1 input.sk-toggleable__control:checked~label.sk-toggleable__label-arrow:before {content: \"▾\";}#sk-container-id-1 div.sk-estimator input.sk-toggleable__control:checked~label.sk-toggleable__label {background-color: #d4ebff;}#sk-container-id-1 div.sk-label input.sk-toggleable__control:checked~label.sk-toggleable__label {background-color: #d4ebff;}#sk-container-id-1 input.sk-hidden--visually {border: 0;clip: rect(1px 1px 1px 1px);clip: rect(1px, 1px, 1px, 1px);height: 1px;margin: -1px;overflow: hidden;padding: 0;position: absolute;width: 1px;}#sk-container-id-1 div.sk-estimator {font-family: monospace;background-color: #f0f8ff;border: 1px dotted black;border-radius: 0.25em;box-sizing: border-box;margin-bottom: 0.5em;}#sk-container-id-1 div.sk-estimator:hover {background-color: #d4ebff;}#sk-container-id-1 div.sk-parallel-item::after {content: \"\";width: 100%;border-bottom: 1px solid gray;flex-grow: 1;}#sk-container-id-1 div.sk-label:hover label.sk-toggleable__label {background-color: #d4ebff;}#sk-container-id-1 div.sk-serial::before {content: \"\";position: absolute;border-left: 1px solid gray;box-sizing: border-box;top: 0;bottom: 0;left: 50%;z-index: 0;}#sk-container-id-1 div.sk-serial {display: flex;flex-direction: column;align-items: center;background-color: white;padding-right: 0.2em;padding-left: 0.2em;position: relative;}#sk-container-id-1 div.sk-item {position: relative;z-index: 1;}#sk-container-id-1 div.sk-parallel {display: flex;align-items: stretch;justify-content: center;background-color: white;position: relative;}#sk-container-id-1 div.sk-item::before, #sk-container-id-1 div.sk-parallel-item::before {content: \"\";position: absolute;border-left: 1px solid gray;box-sizing: border-box;top: 0;bottom: 0;left: 50%;z-index: -1;}#sk-container-id-1 div.sk-parallel-item {display: flex;flex-direction: column;z-index: 1;position: relative;background-color: white;}#sk-container-id-1 div.sk-parallel-item:first-child::after {align-self: flex-end;width: 50%;}#sk-container-id-1 div.sk-parallel-item:last-child::after {align-self: flex-start;width: 50%;}#sk-container-id-1 div.sk-parallel-item:only-child::after {width: 0;}#sk-container-id-1 div.sk-dashed-wrapped {border: 1px dashed gray;margin: 0 0.4em 0.5em 0.4em;box-sizing: border-box;padding-bottom: 0.4em;background-color: white;}#sk-container-id-1 div.sk-label label {font-family: monospace;font-weight: bold;display: inline-block;line-height: 1.2em;}#sk-container-id-1 div.sk-label-container {text-align: center;}#sk-container-id-1 div.sk-container {/* jupyter's `normalize.less` sets `[hidden] { display: none; }` but bootstrap.min.css set `[hidden] { display: none !important; }` so we also need the `!important` here to be able to override the default hidden behavior on the sphinx rendered scikit-learn.org. See: https://github.com/scikit-learn/scikit-learn/issues/21755 */display: inline-block !important;position: relative;}#sk-container-id-1 div.sk-text-repr-fallback {display: none;}</style><div id=\"sk-container-id-1\" class=\"sk-top-container\"><div class=\"sk-text-repr-fallback\"><pre>Pipeline(steps=[(&#x27;preprocessor&#x27;,\n",
       "                 ColumnTransformer(transformers=[(&#x27;num&#x27;,\n",
       "                                                  Pipeline(steps=[(&#x27;imputer&#x27;,\n",
       "                                                                   SimpleImputer()),\n",
       "                                                                  (&#x27;scaler&#x27;,\n",
       "                                                                   StandardScaler())]),\n",
       "                                                  [0, 1, 2, 3]),\n",
       "                                                 (&#x27;nominal&#x27;,\n",
       "                                                  Pipeline(steps=[(&#x27;imputer&#x27;,\n",
       "                                                                   SimpleImputer(fill_value=&#x27;missing&#x27;,\n",
       "                                                                                 strategy=&#x27;most_frequent&#x27;)),\n",
       "                                                                  (&#x27;onehot&#x27;,\n",
       "                                                                   OneHotEncoder(handle_unknown=&#x27;ignore&#x27;))]),\n",
       "                                                  [4, 5])])),\n",
       "                (&#x27;regressor&#x27;, LinearRegression())])</pre><b>In a Jupyter environment, please rerun this cell to show the HTML representation or trust the notebook. <br />On GitHub, the HTML representation is unable to render, please try loading this page with nbviewer.org.</b></div><div class=\"sk-container\" hidden><div class=\"sk-item sk-dashed-wrapped\"><div class=\"sk-label-container\"><div class=\"sk-label sk-toggleable\"><input class=\"sk-toggleable__control sk-hidden--visually\" id=\"sk-estimator-id-1\" type=\"checkbox\" ><label for=\"sk-estimator-id-1\" class=\"sk-toggleable__label sk-toggleable__label-arrow\">Pipeline</label><div class=\"sk-toggleable__content\"><pre>Pipeline(steps=[(&#x27;preprocessor&#x27;,\n",
       "                 ColumnTransformer(transformers=[(&#x27;num&#x27;,\n",
       "                                                  Pipeline(steps=[(&#x27;imputer&#x27;,\n",
       "                                                                   SimpleImputer()),\n",
       "                                                                  (&#x27;scaler&#x27;,\n",
       "                                                                   StandardScaler())]),\n",
       "                                                  [0, 1, 2, 3]),\n",
       "                                                 (&#x27;nominal&#x27;,\n",
       "                                                  Pipeline(steps=[(&#x27;imputer&#x27;,\n",
       "                                                                   SimpleImputer(fill_value=&#x27;missing&#x27;,\n",
       "                                                                                 strategy=&#x27;most_frequent&#x27;)),\n",
       "                                                                  (&#x27;onehot&#x27;,\n",
       "                                                                   OneHotEncoder(handle_unknown=&#x27;ignore&#x27;))]),\n",
       "                                                  [4, 5])])),\n",
       "                (&#x27;regressor&#x27;, LinearRegression())])</pre></div></div></div><div class=\"sk-serial\"><div class=\"sk-item sk-dashed-wrapped\"><div class=\"sk-label-container\"><div class=\"sk-label sk-toggleable\"><input class=\"sk-toggleable__control sk-hidden--visually\" id=\"sk-estimator-id-2\" type=\"checkbox\" ><label for=\"sk-estimator-id-2\" class=\"sk-toggleable__label sk-toggleable__label-arrow\">preprocessor: ColumnTransformer</label><div class=\"sk-toggleable__content\"><pre>ColumnTransformer(transformers=[(&#x27;num&#x27;,\n",
       "                                 Pipeline(steps=[(&#x27;imputer&#x27;, SimpleImputer()),\n",
       "                                                 (&#x27;scaler&#x27;, StandardScaler())]),\n",
       "                                 [0, 1, 2, 3]),\n",
       "                                (&#x27;nominal&#x27;,\n",
       "                                 Pipeline(steps=[(&#x27;imputer&#x27;,\n",
       "                                                  SimpleImputer(fill_value=&#x27;missing&#x27;,\n",
       "                                                                strategy=&#x27;most_frequent&#x27;)),\n",
       "                                                 (&#x27;onehot&#x27;,\n",
       "                                                  OneHotEncoder(handle_unknown=&#x27;ignore&#x27;))]),\n",
       "                                 [4, 5])])</pre></div></div></div><div class=\"sk-parallel\"><div class=\"sk-parallel-item\"><div class=\"sk-item\"><div class=\"sk-label-container\"><div class=\"sk-label sk-toggleable\"><input class=\"sk-toggleable__control sk-hidden--visually\" id=\"sk-estimator-id-3\" type=\"checkbox\" ><label for=\"sk-estimator-id-3\" class=\"sk-toggleable__label sk-toggleable__label-arrow\">num</label><div class=\"sk-toggleable__content\"><pre>[0, 1, 2, 3]</pre></div></div></div><div class=\"sk-serial\"><div class=\"sk-item\"><div class=\"sk-serial\"><div class=\"sk-item\"><div class=\"sk-estimator sk-toggleable\"><input class=\"sk-toggleable__control sk-hidden--visually\" id=\"sk-estimator-id-4\" type=\"checkbox\" ><label for=\"sk-estimator-id-4\" class=\"sk-toggleable__label sk-toggleable__label-arrow\">SimpleImputer</label><div class=\"sk-toggleable__content\"><pre>SimpleImputer()</pre></div></div></div><div class=\"sk-item\"><div class=\"sk-estimator sk-toggleable\"><input class=\"sk-toggleable__control sk-hidden--visually\" id=\"sk-estimator-id-5\" type=\"checkbox\" ><label for=\"sk-estimator-id-5\" class=\"sk-toggleable__label sk-toggleable__label-arrow\">StandardScaler</label><div class=\"sk-toggleable__content\"><pre>StandardScaler()</pre></div></div></div></div></div></div></div></div><div class=\"sk-parallel-item\"><div class=\"sk-item\"><div class=\"sk-label-container\"><div class=\"sk-label sk-toggleable\"><input class=\"sk-toggleable__control sk-hidden--visually\" id=\"sk-estimator-id-6\" type=\"checkbox\" ><label for=\"sk-estimator-id-6\" class=\"sk-toggleable__label sk-toggleable__label-arrow\">nominal</label><div class=\"sk-toggleable__content\"><pre>[4, 5]</pre></div></div></div><div class=\"sk-serial\"><div class=\"sk-item\"><div class=\"sk-serial\"><div class=\"sk-item\"><div class=\"sk-estimator sk-toggleable\"><input class=\"sk-toggleable__control sk-hidden--visually\" id=\"sk-estimator-id-7\" type=\"checkbox\" ><label for=\"sk-estimator-id-7\" class=\"sk-toggleable__label sk-toggleable__label-arrow\">SimpleImputer</label><div class=\"sk-toggleable__content\"><pre>SimpleImputer(fill_value=&#x27;missing&#x27;, strategy=&#x27;most_frequent&#x27;)</pre></div></div></div><div class=\"sk-item\"><div class=\"sk-estimator sk-toggleable\"><input class=\"sk-toggleable__control sk-hidden--visually\" id=\"sk-estimator-id-8\" type=\"checkbox\" ><label for=\"sk-estimator-id-8\" class=\"sk-toggleable__label sk-toggleable__label-arrow\">OneHotEncoder</label><div class=\"sk-toggleable__content\"><pre>OneHotEncoder(handle_unknown=&#x27;ignore&#x27;)</pre></div></div></div></div></div></div></div></div></div></div><div class=\"sk-item\"><div class=\"sk-estimator sk-toggleable\"><input class=\"sk-toggleable__control sk-hidden--visually\" id=\"sk-estimator-id-9\" type=\"checkbox\" ><label for=\"sk-estimator-id-9\" class=\"sk-toggleable__label sk-toggleable__label-arrow\">LinearRegression</label><div class=\"sk-toggleable__content\"><pre>LinearRegression()</pre></div></div></div></div></div></div></div>"
      ],
      "text/plain": [
       "Pipeline(steps=[('preprocessor',\n",
       "                 ColumnTransformer(transformers=[('num',\n",
       "                                                  Pipeline(steps=[('imputer',\n",
       "                                                                   SimpleImputer()),\n",
       "                                                                  ('scaler',\n",
       "                                                                   StandardScaler())]),\n",
       "                                                  [0, 1, 2, 3]),\n",
       "                                                 ('nominal',\n",
       "                                                  Pipeline(steps=[('imputer',\n",
       "                                                                   SimpleImputer(fill_value='missing',\n",
       "                                                                                 strategy='most_frequent')),\n",
       "                                                                  ('onehot',\n",
       "                                                                   OneHotEncoder(handle_unknown='ignore'))]),\n",
       "                                                  [4, 5])])),\n",
       "                ('regressor', LinearRegression())])"
      ]
     },
     "execution_count": 44,
     "metadata": {},
     "output_type": "execute_result"
    }
   ],
   "source": [
    "#Training the model using pipeline\n",
    "# Display Pipeline\n",
    "# from sklearn import set_config\n",
    "# set_config(display='diagram')\n",
    "#fit data\n",
    "testmodel.fit(X_train, y_train)"
   ]
  },
  {
   "cell_type": "code",
   "execution_count": 45,
   "metadata": {
    "id": "o8CpW4uE5vI2"
   },
   "outputs": [],
   "source": [
    "import pickle\n",
    "pickle.dump(testmodel, open(\"testmodel.sav\",\"wb\"))"
   ]
  },
  {
   "cell_type": "code",
   "execution_count": 46,
   "metadata": {
    "colab": {
     "base_uri": "https://localhost:8080/",
     "height": 227
    },
    "id": "jFQ1IC1757He",
    "outputId": "1324a6ec-246f-4e8a-f542-1c42cfb548ec",
    "scrolled": false
   },
   "outputs": [
    {
     "data": {
      "text/html": [
       "<style>#sk-container-id-2 {color: black;background-color: white;}#sk-container-id-2 pre{padding: 0;}#sk-container-id-2 div.sk-toggleable {background-color: white;}#sk-container-id-2 label.sk-toggleable__label {cursor: pointer;display: block;width: 100%;margin-bottom: 0;padding: 0.3em;box-sizing: border-box;text-align: center;}#sk-container-id-2 label.sk-toggleable__label-arrow:before {content: \"▸\";float: left;margin-right: 0.25em;color: #696969;}#sk-container-id-2 label.sk-toggleable__label-arrow:hover:before {color: black;}#sk-container-id-2 div.sk-estimator:hover label.sk-toggleable__label-arrow:before {color: black;}#sk-container-id-2 div.sk-toggleable__content {max-height: 0;max-width: 0;overflow: hidden;text-align: left;background-color: #f0f8ff;}#sk-container-id-2 div.sk-toggleable__content pre {margin: 0.2em;color: black;border-radius: 0.25em;background-color: #f0f8ff;}#sk-container-id-2 input.sk-toggleable__control:checked~div.sk-toggleable__content {max-height: 200px;max-width: 100%;overflow: auto;}#sk-container-id-2 input.sk-toggleable__control:checked~label.sk-toggleable__label-arrow:before {content: \"▾\";}#sk-container-id-2 div.sk-estimator input.sk-toggleable__control:checked~label.sk-toggleable__label {background-color: #d4ebff;}#sk-container-id-2 div.sk-label input.sk-toggleable__control:checked~label.sk-toggleable__label {background-color: #d4ebff;}#sk-container-id-2 input.sk-hidden--visually {border: 0;clip: rect(1px 1px 1px 1px);clip: rect(1px, 1px, 1px, 1px);height: 1px;margin: -1px;overflow: hidden;padding: 0;position: absolute;width: 1px;}#sk-container-id-2 div.sk-estimator {font-family: monospace;background-color: #f0f8ff;border: 1px dotted black;border-radius: 0.25em;box-sizing: border-box;margin-bottom: 0.5em;}#sk-container-id-2 div.sk-estimator:hover {background-color: #d4ebff;}#sk-container-id-2 div.sk-parallel-item::after {content: \"\";width: 100%;border-bottom: 1px solid gray;flex-grow: 1;}#sk-container-id-2 div.sk-label:hover label.sk-toggleable__label {background-color: #d4ebff;}#sk-container-id-2 div.sk-serial::before {content: \"\";position: absolute;border-left: 1px solid gray;box-sizing: border-box;top: 0;bottom: 0;left: 50%;z-index: 0;}#sk-container-id-2 div.sk-serial {display: flex;flex-direction: column;align-items: center;background-color: white;padding-right: 0.2em;padding-left: 0.2em;position: relative;}#sk-container-id-2 div.sk-item {position: relative;z-index: 1;}#sk-container-id-2 div.sk-parallel {display: flex;align-items: stretch;justify-content: center;background-color: white;position: relative;}#sk-container-id-2 div.sk-item::before, #sk-container-id-2 div.sk-parallel-item::before {content: \"\";position: absolute;border-left: 1px solid gray;box-sizing: border-box;top: 0;bottom: 0;left: 50%;z-index: -1;}#sk-container-id-2 div.sk-parallel-item {display: flex;flex-direction: column;z-index: 1;position: relative;background-color: white;}#sk-container-id-2 div.sk-parallel-item:first-child::after {align-self: flex-end;width: 50%;}#sk-container-id-2 div.sk-parallel-item:last-child::after {align-self: flex-start;width: 50%;}#sk-container-id-2 div.sk-parallel-item:only-child::after {width: 0;}#sk-container-id-2 div.sk-dashed-wrapped {border: 1px dashed gray;margin: 0 0.4em 0.5em 0.4em;box-sizing: border-box;padding-bottom: 0.4em;background-color: white;}#sk-container-id-2 div.sk-label label {font-family: monospace;font-weight: bold;display: inline-block;line-height: 1.2em;}#sk-container-id-2 div.sk-label-container {text-align: center;}#sk-container-id-2 div.sk-container {/* jupyter's `normalize.less` sets `[hidden] { display: none; }` but bootstrap.min.css set `[hidden] { display: none !important; }` so we also need the `!important` here to be able to override the default hidden behavior on the sphinx rendered scikit-learn.org. See: https://github.com/scikit-learn/scikit-learn/issues/21755 */display: inline-block !important;position: relative;}#sk-container-id-2 div.sk-text-repr-fallback {display: none;}</style><div id=\"sk-container-id-2\" class=\"sk-top-container\"><div class=\"sk-text-repr-fallback\"><pre>Pipeline(steps=[(&#x27;preprocessor&#x27;,\n",
       "                 ColumnTransformer(transformers=[(&#x27;num&#x27;,\n",
       "                                                  Pipeline(steps=[(&#x27;imputer&#x27;,\n",
       "                                                                   SimpleImputer()),\n",
       "                                                                  (&#x27;scaler&#x27;,\n",
       "                                                                   StandardScaler())]),\n",
       "                                                  [0, 1, 2, 3]),\n",
       "                                                 (&#x27;nominal&#x27;,\n",
       "                                                  Pipeline(steps=[(&#x27;imputer&#x27;,\n",
       "                                                                   SimpleImputer(fill_value=&#x27;missing&#x27;,\n",
       "                                                                                 strategy=&#x27;most_frequent&#x27;)),\n",
       "                                                                  (&#x27;onehot&#x27;,\n",
       "                                                                   OneHotEncoder(handle_unknown=&#x27;ignore&#x27;))]),\n",
       "                                                  [4, 5])])),\n",
       "                (&#x27;regressor&#x27;, LinearRegression())])</pre><b>In a Jupyter environment, please rerun this cell to show the HTML representation or trust the notebook. <br />On GitHub, the HTML representation is unable to render, please try loading this page with nbviewer.org.</b></div><div class=\"sk-container\" hidden><div class=\"sk-item sk-dashed-wrapped\"><div class=\"sk-label-container\"><div class=\"sk-label sk-toggleable\"><input class=\"sk-toggleable__control sk-hidden--visually\" id=\"sk-estimator-id-10\" type=\"checkbox\" ><label for=\"sk-estimator-id-10\" class=\"sk-toggleable__label sk-toggleable__label-arrow\">Pipeline</label><div class=\"sk-toggleable__content\"><pre>Pipeline(steps=[(&#x27;preprocessor&#x27;,\n",
       "                 ColumnTransformer(transformers=[(&#x27;num&#x27;,\n",
       "                                                  Pipeline(steps=[(&#x27;imputer&#x27;,\n",
       "                                                                   SimpleImputer()),\n",
       "                                                                  (&#x27;scaler&#x27;,\n",
       "                                                                   StandardScaler())]),\n",
       "                                                  [0, 1, 2, 3]),\n",
       "                                                 (&#x27;nominal&#x27;,\n",
       "                                                  Pipeline(steps=[(&#x27;imputer&#x27;,\n",
       "                                                                   SimpleImputer(fill_value=&#x27;missing&#x27;,\n",
       "                                                                                 strategy=&#x27;most_frequent&#x27;)),\n",
       "                                                                  (&#x27;onehot&#x27;,\n",
       "                                                                   OneHotEncoder(handle_unknown=&#x27;ignore&#x27;))]),\n",
       "                                                  [4, 5])])),\n",
       "                (&#x27;regressor&#x27;, LinearRegression())])</pre></div></div></div><div class=\"sk-serial\"><div class=\"sk-item sk-dashed-wrapped\"><div class=\"sk-label-container\"><div class=\"sk-label sk-toggleable\"><input class=\"sk-toggleable__control sk-hidden--visually\" id=\"sk-estimator-id-11\" type=\"checkbox\" ><label for=\"sk-estimator-id-11\" class=\"sk-toggleable__label sk-toggleable__label-arrow\">preprocessor: ColumnTransformer</label><div class=\"sk-toggleable__content\"><pre>ColumnTransformer(transformers=[(&#x27;num&#x27;,\n",
       "                                 Pipeline(steps=[(&#x27;imputer&#x27;, SimpleImputer()),\n",
       "                                                 (&#x27;scaler&#x27;, StandardScaler())]),\n",
       "                                 [0, 1, 2, 3]),\n",
       "                                (&#x27;nominal&#x27;,\n",
       "                                 Pipeline(steps=[(&#x27;imputer&#x27;,\n",
       "                                                  SimpleImputer(fill_value=&#x27;missing&#x27;,\n",
       "                                                                strategy=&#x27;most_frequent&#x27;)),\n",
       "                                                 (&#x27;onehot&#x27;,\n",
       "                                                  OneHotEncoder(handle_unknown=&#x27;ignore&#x27;))]),\n",
       "                                 [4, 5])])</pre></div></div></div><div class=\"sk-parallel\"><div class=\"sk-parallel-item\"><div class=\"sk-item\"><div class=\"sk-label-container\"><div class=\"sk-label sk-toggleable\"><input class=\"sk-toggleable__control sk-hidden--visually\" id=\"sk-estimator-id-12\" type=\"checkbox\" ><label for=\"sk-estimator-id-12\" class=\"sk-toggleable__label sk-toggleable__label-arrow\">num</label><div class=\"sk-toggleable__content\"><pre>[0, 1, 2, 3]</pre></div></div></div><div class=\"sk-serial\"><div class=\"sk-item\"><div class=\"sk-serial\"><div class=\"sk-item\"><div class=\"sk-estimator sk-toggleable\"><input class=\"sk-toggleable__control sk-hidden--visually\" id=\"sk-estimator-id-13\" type=\"checkbox\" ><label for=\"sk-estimator-id-13\" class=\"sk-toggleable__label sk-toggleable__label-arrow\">SimpleImputer</label><div class=\"sk-toggleable__content\"><pre>SimpleImputer()</pre></div></div></div><div class=\"sk-item\"><div class=\"sk-estimator sk-toggleable\"><input class=\"sk-toggleable__control sk-hidden--visually\" id=\"sk-estimator-id-14\" type=\"checkbox\" ><label for=\"sk-estimator-id-14\" class=\"sk-toggleable__label sk-toggleable__label-arrow\">StandardScaler</label><div class=\"sk-toggleable__content\"><pre>StandardScaler()</pre></div></div></div></div></div></div></div></div><div class=\"sk-parallel-item\"><div class=\"sk-item\"><div class=\"sk-label-container\"><div class=\"sk-label sk-toggleable\"><input class=\"sk-toggleable__control sk-hidden--visually\" id=\"sk-estimator-id-15\" type=\"checkbox\" ><label for=\"sk-estimator-id-15\" class=\"sk-toggleable__label sk-toggleable__label-arrow\">nominal</label><div class=\"sk-toggleable__content\"><pre>[4, 5]</pre></div></div></div><div class=\"sk-serial\"><div class=\"sk-item\"><div class=\"sk-serial\"><div class=\"sk-item\"><div class=\"sk-estimator sk-toggleable\"><input class=\"sk-toggleable__control sk-hidden--visually\" id=\"sk-estimator-id-16\" type=\"checkbox\" ><label for=\"sk-estimator-id-16\" class=\"sk-toggleable__label sk-toggleable__label-arrow\">SimpleImputer</label><div class=\"sk-toggleable__content\"><pre>SimpleImputer(fill_value=&#x27;missing&#x27;, strategy=&#x27;most_frequent&#x27;)</pre></div></div></div><div class=\"sk-item\"><div class=\"sk-estimator sk-toggleable\"><input class=\"sk-toggleable__control sk-hidden--visually\" id=\"sk-estimator-id-17\" type=\"checkbox\" ><label for=\"sk-estimator-id-17\" class=\"sk-toggleable__label sk-toggleable__label-arrow\">OneHotEncoder</label><div class=\"sk-toggleable__content\"><pre>OneHotEncoder(handle_unknown=&#x27;ignore&#x27;)</pre></div></div></div></div></div></div></div></div></div></div><div class=\"sk-item\"><div class=\"sk-estimator sk-toggleable\"><input class=\"sk-toggleable__control sk-hidden--visually\" id=\"sk-estimator-id-18\" type=\"checkbox\" ><label for=\"sk-estimator-id-18\" class=\"sk-toggleable__label sk-toggleable__label-arrow\">LinearRegression</label><div class=\"sk-toggleable__content\"><pre>LinearRegression()</pre></div></div></div></div></div></div></div>"
      ],
      "text/plain": [
       "Pipeline(steps=[('preprocessor',\n",
       "                 ColumnTransformer(transformers=[('num',\n",
       "                                                  Pipeline(steps=[('imputer',\n",
       "                                                                   SimpleImputer()),\n",
       "                                                                  ('scaler',\n",
       "                                                                   StandardScaler())]),\n",
       "                                                  [0, 1, 2, 3]),\n",
       "                                                 ('nominal',\n",
       "                                                  Pipeline(steps=[('imputer',\n",
       "                                                                   SimpleImputer(fill_value='missing',\n",
       "                                                                                 strategy='most_frequent')),\n",
       "                                                                  ('onehot',\n",
       "                                                                   OneHotEncoder(handle_unknown='ignore'))]),\n",
       "                                                  [4, 5])])),\n",
       "                ('regressor', LinearRegression())])"
      ]
     },
     "execution_count": 46,
     "metadata": {},
     "output_type": "execute_result"
    }
   ],
   "source": [
    "pmodel = pickle.load(open(\"testmodel.sav\",\"rb\"))\n",
    "pmodel"
   ]
  },
  {
   "cell_type": "code",
   "execution_count": 58,
   "metadata": {},
   "outputs": [
    {
     "data": {
      "text/plain": [
       "Index(['Year', 'Month', 'current', 'voltage', 'Category', 'portion'], dtype='object')"
      ]
     },
     "execution_count": 58,
     "metadata": {},
     "output_type": "execute_result"
    }
   ],
   "source": [
    "X.columns"
   ]
  },
  {
   "cell_type": "code",
   "execution_count": 63,
   "metadata": {},
   "outputs": [],
   "source": [
    "arr = np.array(arr).reshape(1,-1)"
   ]
  },
  {
   "cell_type": "code",
   "execution_count": 64,
   "metadata": {},
   "outputs": [],
   "source": [
    "f_df = pd.DataFrame(data=arr,\n",
    "                    columns=['Year', 'Month', 'current', 'voltage', 'Category', 'portion'])"
   ]
  },
  {
   "cell_type": "code",
   "execution_count": 65,
   "metadata": {},
   "outputs": [
    {
     "data": {
      "text/plain": [
       "array([[167.00000429]])"
      ]
     },
     "execution_count": 65,
     "metadata": {},
     "output_type": "execute_result"
    }
   ],
   "source": [
    "pmodel.predict(f_df)"
   ]
  },
  {
   "cell_type": "code",
   "execution_count": 54,
   "metadata": {},
   "outputs": [
    {
     "data": {
      "text/html": [
       "<div>\n",
       "<style scoped>\n",
       "    .dataframe tbody tr th:only-of-type {\n",
       "        vertical-align: middle;\n",
       "    }\n",
       "\n",
       "    .dataframe tbody tr th {\n",
       "        vertical-align: top;\n",
       "    }\n",
       "\n",
       "    .dataframe thead th {\n",
       "        text-align: right;\n",
       "    }\n",
       "</style>\n",
       "<table border=\"1\" class=\"dataframe\">\n",
       "  <thead>\n",
       "    <tr style=\"text-align: right;\">\n",
       "      <th></th>\n",
       "      <th>Year</th>\n",
       "      <th>Month</th>\n",
       "      <th>current</th>\n",
       "      <th>voltage</th>\n",
       "      <th>Category</th>\n",
       "      <th>portion</th>\n",
       "    </tr>\n",
       "  </thead>\n",
       "  <tbody>\n",
       "    <tr>\n",
       "      <th>0</th>\n",
       "      <td>2019</td>\n",
       "      <td>1</td>\n",
       "      <td>1.166136</td>\n",
       "      <td>234.0</td>\n",
       "      <td>LV Agricultural</td>\n",
       "      <td>P17_41</td>\n",
       "    </tr>\n",
       "    <tr>\n",
       "      <th>2</th>\n",
       "      <td>2019</td>\n",
       "      <td>1</td>\n",
       "      <td>0.000000</td>\n",
       "      <td>234.0</td>\n",
       "      <td>LV Bulk</td>\n",
       "      <td>P17_41</td>\n",
       "    </tr>\n",
       "    <tr>\n",
       "      <th>3</th>\n",
       "      <td>2019</td>\n",
       "      <td>1</td>\n",
       "      <td>0.000000</td>\n",
       "      <td>234.0</td>\n",
       "      <td>LV Bulk</td>\n",
       "      <td>P17_41</td>\n",
       "    </tr>\n",
       "    <tr>\n",
       "      <th>6</th>\n",
       "      <td>2019</td>\n",
       "      <td>1</td>\n",
       "      <td>0.000000</td>\n",
       "      <td>234.0</td>\n",
       "      <td>LV Bulk</td>\n",
       "      <td>P17_41</td>\n",
       "    </tr>\n",
       "    <tr>\n",
       "      <th>10</th>\n",
       "      <td>2019</td>\n",
       "      <td>1</td>\n",
       "      <td>0.775096</td>\n",
       "      <td>234.0</td>\n",
       "      <td>LV Commercial</td>\n",
       "      <td>P17_41</td>\n",
       "    </tr>\n",
       "  </tbody>\n",
       "</table>\n",
       "</div>"
      ],
      "text/plain": [
       "    Year  Month   current  voltage         Category portion\n",
       "0   2019      1  1.166136    234.0  LV Agricultural  P17_41\n",
       "2   2019      1  0.000000    234.0          LV Bulk  P17_41\n",
       "3   2019      1  0.000000    234.0          LV Bulk  P17_41\n",
       "6   2019      1  0.000000    234.0          LV Bulk  P17_41\n",
       "10  2019      1  0.775096    234.0    LV Commercial  P17_41"
      ]
     },
     "execution_count": 54,
     "metadata": {},
     "output_type": "execute_result"
    }
   ],
   "source": [
    "X.head()"
   ]
  },
  {
   "cell_type": "code",
   "execution_count": null,
   "metadata": {},
   "outputs": [],
   "source": [
    "print('\\n\\nResults of Linear Regression:\\n')\n",
    "print(\"Train set accuracy of regression model: \",r2_score(y_train,Y_train_predicted_LR))\n",
    "print(\"Test set accuracy of regression model: \",r2_score(y_test,Y_test_predicted_LR))\n",
    "print('Mean Absolute Error:', metrics.mean_absolute_error(y_test, y_pred_LR))\n",
    "print('MSE: ', metrics.mean_squared_error(y_test, y_pred_LR))\n",
    "print('Root Mean Squared Error:', np.sqrt(metrics.mean_squared_error(y_test, y_pred_LR)))\n",
    "print('\\nConclusion: High accuracy and errors')"
   ]
  },
  {
   "cell_type": "code",
   "execution_count": 47,
   "metadata": {
    "colab": {
     "base_uri": "https://localhost:8080/"
    },
    "id": "UB6oYift6Cc5",
    "outputId": "a5039027-3699-45b3-e18b-718177ff8154"
   },
   "outputs": [
    {
     "data": {
      "text/plain": [
       "['loanmodeljob.sav']"
      ]
     },
     "execution_count": 47,
     "metadata": {},
     "output_type": "execute_result"
    }
   ],
   "source": [
    " #save Model with sklearn joblib\n",
    "from joblib import load, dump\n",
    "dump(testmodel,'loanmodeljob.sav')"
   ]
  },
  {
   "cell_type": "code",
   "execution_count": 48,
   "metadata": {
    "id": "cz39n3LR6dYx"
   },
   "outputs": [],
   "source": [
    "model = load('loanmodeljob.sav')"
   ]
  },
  {
   "cell_type": "code",
   "execution_count": null,
   "metadata": {},
   "outputs": [],
   "source": [
    "import pickle\n",
    "pmodel = pickle.load(open(\"testmodel.sav\",\"rb\"))\n",
    "pmodel"
   ]
  },
  {
   "cell_type": "code",
   "execution_count": 49,
   "metadata": {
    "colab": {
     "base_uri": "https://localhost:8080/"
    },
    "id": "mahWdpHY6gYH",
    "outputId": "7419a6bb-12cc-492f-dc67-a148b6ddba31"
   },
   "outputs": [
    {
     "name": "stderr",
     "output_type": "stream",
     "text": [
      "C:\\Users\\TashiN\\anaconda2\\lib\\site-packages\\sklearn\\base.py:450: UserWarning: X does not have valid feature names, but SimpleImputer was fitted with feature names\n",
      "  warnings.warn(\n",
      "C:\\Users\\TashiN\\anaconda2\\lib\\site-packages\\sklearn\\base.py:450: UserWarning: X does not have valid feature names, but SimpleImputer was fitted with feature names\n",
      "  warnings.warn(\n"
     ]
    },
    {
     "data": {
      "text/plain": [
       "array([[167.00000429]])"
      ]
     },
     "execution_count": 49,
     "metadata": {},
     "output_type": "execute_result"
    }
   ],
   "source": [
    "model.predict([[2019,1,1.166136,234.0,0,1]])"
   ]
  },
  {
   "cell_type": "code",
   "execution_count": 50,
   "metadata": {
    "colab": {
     "base_uri": "https://localhost:8080/"
    },
    "id": "pTnclR006OBL",
    "outputId": "771b35fc-74cf-43e9-d9a8-a4c633da88a4"
   },
   "outputs": [
    {
     "name": "stderr",
     "output_type": "stream",
     "text": [
      "C:\\Users\\TashiN\\anaconda2\\lib\\site-packages\\sklearn\\base.py:450: UserWarning: X does not have valid feature names, but SimpleImputer was fitted with feature names\n",
      "  warnings.warn(\n",
      "C:\\Users\\TashiN\\anaconda2\\lib\\site-packages\\sklearn\\base.py:450: UserWarning: X does not have valid feature names, but SimpleImputer was fitted with feature names\n",
      "  warnings.warn(\n"
     ]
    },
    {
     "data": {
      "text/plain": [
       "array([[167.00000429]])"
      ]
     },
     "execution_count": 50,
     "metadata": {},
     "output_type": "execute_result"
    }
   ],
   "source": [
    "pmodel.predict([[2019,1,1.166136,234.0,0,1]])"
   ]
  },
  {
   "cell_type": "markdown",
   "metadata": {
    "id": "GXsYli4J2YSR"
   },
   "source": [
    "\n",
    "**CONCLUSION :**\n",
    "\n",
    "From all the above result we can conclude that the best algorithm is the Random Forest Algorithm for this project because it has higher accuracy and low Mean Absolute Error, Mean Squared Error and Root Mean Squared Error compared to other algorithm."
   ]
  }
 ],
 "metadata": {
  "colab": {
   "collapsed_sections": [],
   "name": "ONLY_MODEL.ipynb",
   "provenance": []
  },
  "kernelspec": {
   "display_name": "Python 3",
   "language": "python",
   "name": "python3"
  },
  "language_info": {
   "codemirror_mode": {
    "name": "ipython",
    "version": 3
   },
   "file_extension": ".py",
   "mimetype": "text/x-python",
   "name": "python",
   "nbconvert_exporter": "python",
   "pygments_lexer": "ipython3",
   "version": "3.8.8"
  }
 },
 "nbformat": 4,
 "nbformat_minor": 1
}
