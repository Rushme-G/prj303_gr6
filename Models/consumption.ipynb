{
  "cells": [
    {
      "cell_type": "markdown",
      "metadata": {
        "id": "NsyTH3qXfHfw"
      },
      "source": [
        "# TOPIC: Analysis of Household Power Consumption in Gyalpozhing\n",
        "## Group 6\n",
        "1. Anisha Rai (12190041)\n",
        "2. Rashmi Gurung (12190072)\n",
        "3. Sonam Dema (12190081)\n",
        "4. Tashi Namgay (12190086)"
      ]
    },
    {
      "cell_type": "markdown",
      "metadata": {
        "id": "l5Lng3cD0hiI"
      },
      "source": [
        "#1. IMPORT LIBRARIES"
      ]
    },
    {
      "cell_type": "markdown",
      "metadata": {
        "id": "V9tBvawiepk-"
      },
      "source": [
        ""
      ]
    },
    {
      "cell_type": "code",
      "execution_count": 281,
      "metadata": {
        "id": "f4XKY87DzKon"
      },
      "outputs": [],
      "source": [
        "import pandas as pd\n",
        "import numpy as np\n",
        "import seaborn as sns\n",
        "from sklearn import preprocessing\n",
        "%matplotlib inline\n",
        "import matplotlib.pyplot as plt\n",
        "plt.ioff()\n",
        "from matplotlib import pyplot as plt\n"
      ]
    },
    {
      "cell_type": "markdown",
      "metadata": {
        "id": "lNeqAJF60zbu"
      },
      "source": [
        "#2. LOAD DATA"
      ]
    },
    {
      "cell_type": "code",
      "execution_count": 282,
      "metadata": {
        "colab": {
          "base_uri": "https://localhost:8080/",
          "height": 542
        },
        "id": "Hox3tVA9retj",
        "outputId": "78d4eedd-a0aa-49de-c7d3-0218cfdbb690"
      },
      "outputs": [
        {
          "output_type": "execute_result",
          "data": {
            "text/plain": [
              "   BP Number                                          BP_name   CA_number  \\\n",
              "0  1702371.0            Company Lemon Grass Factory Kurizampa  50000504.0   \n",
              "1  1705727.0                          Company RBA Gyelposhing  50001004.0   \n",
              "2  1702588.0                              N R D C Gyelposhing  60001500.0   \n",
              "3  1702586.0                          Swerage Treatment Plant  60000307.0   \n",
              "4  1709983.0  Company Rabsel Construction Pvt.Ltd Gyelposhing  60006107.0   \n",
              "\n",
              "  portion posting_Date   Due Date Billing Period  Print Doc. No.  \\\n",
              "0  P17_41   2019-01-02 2019-02-01        2019/01    6.007099e+09   \n",
              "1  P17_41   2019-01-02 2019-02-01        2019/01    4.003612e+09   \n",
              "2  P17_41   2019-01-02 2019-02-01        2019/01    6.007099e+09   \n",
              "3  P17_41   2019-01-02 2019-02-01        2019/01    6.007099e+09   \n",
              "4  P17_41   2019-01-02 2019-02-01        2019/01    6.007099e+09   \n",
              "\n",
              "   Billing Doc. No.  consumption  ...    current  voltage  energy_Charges  \\\n",
              "0      9.018221e+09        167.0  ...   1.166136    234.0          589.51   \n",
              "1      9.018221e+09        788.0  ...   5.502486    234.0         2781.64   \n",
              "2      9.018221e+09          0.0  ...   0.000000    234.0            0.00   \n",
              "3      9.018221e+09          0.0  ...   0.000000    234.0            0.00   \n",
              "4      9.018221e+09       1880.0  ...  13.127758    234.0         7557.60   \n",
              "\n",
              "   Demand Charges  Penalty Charges     Recon Key G/L Account         Category  \\\n",
              "0             0.0             0.00  19015R040045      300002  LV Agricultural   \n",
              "1             0.0             0.00   190115R4/17      300002  LV Agricultural   \n",
              "2             0.0             0.00  19015R040045         NaN          LV Bulk   \n",
              "3             0.0             0.00  19015R040045         NaN          LV Bulk   \n",
              "4             0.0           463.18  19015R040045      300003          LV Bulk   \n",
              "\n",
              "  FICA Doument no         Search term1  \n",
              "0    4.000049e+11        LEMON FACTORY  \n",
              "1    9.434803e+07    RAMS, GYELPOSHING  \n",
              "2    4.000049e+11              N R D C  \n",
              "3    4.000049e+11        SWERAGE PLANT  \n",
              "4    4.000049e+11  RABSEL CONSTRUCTION  \n",
              "\n",
              "[5 rows x 21 columns]"
            ],
            "text/html": [
              "\n",
              "  <div id=\"df-22fcfd5e-5627-40a1-912a-cb1ddbf68da5\">\n",
              "    <div class=\"colab-df-container\">\n",
              "      <div>\n",
              "<style scoped>\n",
              "    .dataframe tbody tr th:only-of-type {\n",
              "        vertical-align: middle;\n",
              "    }\n",
              "\n",
              "    .dataframe tbody tr th {\n",
              "        vertical-align: top;\n",
              "    }\n",
              "\n",
              "    .dataframe thead th {\n",
              "        text-align: right;\n",
              "    }\n",
              "</style>\n",
              "<table border=\"1\" class=\"dataframe\">\n",
              "  <thead>\n",
              "    <tr style=\"text-align: right;\">\n",
              "      <th></th>\n",
              "      <th>BP Number</th>\n",
              "      <th>BP_name</th>\n",
              "      <th>CA_number</th>\n",
              "      <th>portion</th>\n",
              "      <th>posting_Date</th>\n",
              "      <th>Due Date</th>\n",
              "      <th>Billing Period</th>\n",
              "      <th>Print Doc. No.</th>\n",
              "      <th>Billing Doc. No.</th>\n",
              "      <th>consumption</th>\n",
              "      <th>...</th>\n",
              "      <th>current</th>\n",
              "      <th>voltage</th>\n",
              "      <th>energy_Charges</th>\n",
              "      <th>Demand Charges</th>\n",
              "      <th>Penalty Charges</th>\n",
              "      <th>Recon Key</th>\n",
              "      <th>G/L Account</th>\n",
              "      <th>Category</th>\n",
              "      <th>FICA Doument no</th>\n",
              "      <th>Search term1</th>\n",
              "    </tr>\n",
              "  </thead>\n",
              "  <tbody>\n",
              "    <tr>\n",
              "      <th>0</th>\n",
              "      <td>1702371.0</td>\n",
              "      <td>Company Lemon Grass Factory Kurizampa</td>\n",
              "      <td>50000504.0</td>\n",
              "      <td>P17_41</td>\n",
              "      <td>2019-01-02</td>\n",
              "      <td>2019-02-01</td>\n",
              "      <td>2019/01</td>\n",
              "      <td>6.007099e+09</td>\n",
              "      <td>9.018221e+09</td>\n",
              "      <td>167.0</td>\n",
              "      <td>...</td>\n",
              "      <td>1.166136</td>\n",
              "      <td>234.0</td>\n",
              "      <td>589.51</td>\n",
              "      <td>0.0</td>\n",
              "      <td>0.00</td>\n",
              "      <td>19015R040045</td>\n",
              "      <td>300002</td>\n",
              "      <td>LV Agricultural</td>\n",
              "      <td>4.000049e+11</td>\n",
              "      <td>LEMON FACTORY</td>\n",
              "    </tr>\n",
              "    <tr>\n",
              "      <th>1</th>\n",
              "      <td>1705727.0</td>\n",
              "      <td>Company RBA Gyelposhing</td>\n",
              "      <td>50001004.0</td>\n",
              "      <td>P17_41</td>\n",
              "      <td>2019-01-02</td>\n",
              "      <td>2019-02-01</td>\n",
              "      <td>2019/01</td>\n",
              "      <td>4.003612e+09</td>\n",
              "      <td>9.018221e+09</td>\n",
              "      <td>788.0</td>\n",
              "      <td>...</td>\n",
              "      <td>5.502486</td>\n",
              "      <td>234.0</td>\n",
              "      <td>2781.64</td>\n",
              "      <td>0.0</td>\n",
              "      <td>0.00</td>\n",
              "      <td>190115R4/17</td>\n",
              "      <td>300002</td>\n",
              "      <td>LV Agricultural</td>\n",
              "      <td>9.434803e+07</td>\n",
              "      <td>RAMS, GYELPOSHING</td>\n",
              "    </tr>\n",
              "    <tr>\n",
              "      <th>2</th>\n",
              "      <td>1702588.0</td>\n",
              "      <td>N R D C Gyelposhing</td>\n",
              "      <td>60001500.0</td>\n",
              "      <td>P17_41</td>\n",
              "      <td>2019-01-02</td>\n",
              "      <td>2019-02-01</td>\n",
              "      <td>2019/01</td>\n",
              "      <td>6.007099e+09</td>\n",
              "      <td>9.018221e+09</td>\n",
              "      <td>0.0</td>\n",
              "      <td>...</td>\n",
              "      <td>0.000000</td>\n",
              "      <td>234.0</td>\n",
              "      <td>0.00</td>\n",
              "      <td>0.0</td>\n",
              "      <td>0.00</td>\n",
              "      <td>19015R040045</td>\n",
              "      <td>NaN</td>\n",
              "      <td>LV Bulk</td>\n",
              "      <td>4.000049e+11</td>\n",
              "      <td>N R D C</td>\n",
              "    </tr>\n",
              "    <tr>\n",
              "      <th>3</th>\n",
              "      <td>1702586.0</td>\n",
              "      <td>Swerage Treatment Plant</td>\n",
              "      <td>60000307.0</td>\n",
              "      <td>P17_41</td>\n",
              "      <td>2019-01-02</td>\n",
              "      <td>2019-02-01</td>\n",
              "      <td>2019/01</td>\n",
              "      <td>6.007099e+09</td>\n",
              "      <td>9.018221e+09</td>\n",
              "      <td>0.0</td>\n",
              "      <td>...</td>\n",
              "      <td>0.000000</td>\n",
              "      <td>234.0</td>\n",
              "      <td>0.00</td>\n",
              "      <td>0.0</td>\n",
              "      <td>0.00</td>\n",
              "      <td>19015R040045</td>\n",
              "      <td>NaN</td>\n",
              "      <td>LV Bulk</td>\n",
              "      <td>4.000049e+11</td>\n",
              "      <td>SWERAGE PLANT</td>\n",
              "    </tr>\n",
              "    <tr>\n",
              "      <th>4</th>\n",
              "      <td>1709983.0</td>\n",
              "      <td>Company Rabsel Construction Pvt.Ltd Gyelposhing</td>\n",
              "      <td>60006107.0</td>\n",
              "      <td>P17_41</td>\n",
              "      <td>2019-01-02</td>\n",
              "      <td>2019-02-01</td>\n",
              "      <td>2019/01</td>\n",
              "      <td>6.007099e+09</td>\n",
              "      <td>9.018221e+09</td>\n",
              "      <td>1880.0</td>\n",
              "      <td>...</td>\n",
              "      <td>13.127758</td>\n",
              "      <td>234.0</td>\n",
              "      <td>7557.60</td>\n",
              "      <td>0.0</td>\n",
              "      <td>463.18</td>\n",
              "      <td>19015R040045</td>\n",
              "      <td>300003</td>\n",
              "      <td>LV Bulk</td>\n",
              "      <td>4.000049e+11</td>\n",
              "      <td>RABSEL CONSTRUCTION</td>\n",
              "    </tr>\n",
              "  </tbody>\n",
              "</table>\n",
              "<p>5 rows × 21 columns</p>\n",
              "</div>\n",
              "      <button class=\"colab-df-convert\" onclick=\"convertToInteractive('df-22fcfd5e-5627-40a1-912a-cb1ddbf68da5')\"\n",
              "              title=\"Convert this dataframe to an interactive table.\"\n",
              "              style=\"display:none;\">\n",
              "        \n",
              "  <svg xmlns=\"http://www.w3.org/2000/svg\" height=\"24px\"viewBox=\"0 0 24 24\"\n",
              "       width=\"24px\">\n",
              "    <path d=\"M0 0h24v24H0V0z\" fill=\"none\"/>\n",
              "    <path d=\"M18.56 5.44l.94 2.06.94-2.06 2.06-.94-2.06-.94-.94-2.06-.94 2.06-2.06.94zm-11 1L8.5 8.5l.94-2.06 2.06-.94-2.06-.94L8.5 2.5l-.94 2.06-2.06.94zm10 10l.94 2.06.94-2.06 2.06-.94-2.06-.94-.94-2.06-.94 2.06-2.06.94z\"/><path d=\"M17.41 7.96l-1.37-1.37c-.4-.4-.92-.59-1.43-.59-.52 0-1.04.2-1.43.59L10.3 9.45l-7.72 7.72c-.78.78-.78 2.05 0 2.83L4 21.41c.39.39.9.59 1.41.59.51 0 1.02-.2 1.41-.59l7.78-7.78 2.81-2.81c.8-.78.8-2.07 0-2.86zM5.41 20L4 18.59l7.72-7.72 1.47 1.35L5.41 20z\"/>\n",
              "  </svg>\n",
              "      </button>\n",
              "      \n",
              "  <style>\n",
              "    .colab-df-container {\n",
              "      display:flex;\n",
              "      flex-wrap:wrap;\n",
              "      gap: 12px;\n",
              "    }\n",
              "\n",
              "    .colab-df-convert {\n",
              "      background-color: #E8F0FE;\n",
              "      border: none;\n",
              "      border-radius: 50%;\n",
              "      cursor: pointer;\n",
              "      display: none;\n",
              "      fill: #1967D2;\n",
              "      height: 32px;\n",
              "      padding: 0 0 0 0;\n",
              "      width: 32px;\n",
              "    }\n",
              "\n",
              "    .colab-df-convert:hover {\n",
              "      background-color: #E2EBFA;\n",
              "      box-shadow: 0px 1px 2px rgba(60, 64, 67, 0.3), 0px 1px 3px 1px rgba(60, 64, 67, 0.15);\n",
              "      fill: #174EA6;\n",
              "    }\n",
              "\n",
              "    [theme=dark] .colab-df-convert {\n",
              "      background-color: #3B4455;\n",
              "      fill: #D2E3FC;\n",
              "    }\n",
              "\n",
              "    [theme=dark] .colab-df-convert:hover {\n",
              "      background-color: #434B5C;\n",
              "      box-shadow: 0px 1px 3px 1px rgba(0, 0, 0, 0.15);\n",
              "      filter: drop-shadow(0px 1px 2px rgba(0, 0, 0, 0.3));\n",
              "      fill: #FFFFFF;\n",
              "    }\n",
              "  </style>\n",
              "\n",
              "      <script>\n",
              "        const buttonEl =\n",
              "          document.querySelector('#df-22fcfd5e-5627-40a1-912a-cb1ddbf68da5 button.colab-df-convert');\n",
              "        buttonEl.style.display =\n",
              "          google.colab.kernel.accessAllowed ? 'block' : 'none';\n",
              "\n",
              "        async function convertToInteractive(key) {\n",
              "          const element = document.querySelector('#df-22fcfd5e-5627-40a1-912a-cb1ddbf68da5');\n",
              "          const dataTable =\n",
              "            await google.colab.kernel.invokeFunction('convertToInteractive',\n",
              "                                                     [key], {});\n",
              "          if (!dataTable) return;\n",
              "\n",
              "          const docLinkHtml = 'Like what you see? Visit the ' +\n",
              "            '<a target=\"_blank\" href=https://colab.research.google.com/notebooks/data_table.ipynb>data table notebook</a>'\n",
              "            + ' to learn more about interactive tables.';\n",
              "          element.innerHTML = '';\n",
              "          dataTable['output_type'] = 'display_data';\n",
              "          await google.colab.output.renderOutput(dataTable, element);\n",
              "          const docLink = document.createElement('div');\n",
              "          docLink.innerHTML = docLinkHtml;\n",
              "          element.appendChild(docLink);\n",
              "        }\n",
              "      </script>\n",
              "    </div>\n",
              "  </div>\n",
              "  "
            ]
          },
          "metadata": {},
          "execution_count": 282
        }
      ],
      "source": [
        "#Load data\n",
        "\n",
        "main_df = pd.read_excel('Gyalpozhing_household_power_consumption.XLSX')\n",
        "main_df.head()"
      ]
    },
    {
      "cell_type": "markdown",
      "metadata": {
        "id": "G2nOja6VPvV2"
      },
      "source": [
        "# 3. DATA PREPROCESSING "
      ]
    },
    {
      "cell_type": "code",
      "execution_count": 282,
      "metadata": {
        "id": "6ehBCYH5Rlym"
      },
      "outputs": [],
      "source": [
        ""
      ]
    },
    {
      "cell_type": "code",
      "execution_count": 283,
      "metadata": {
        "colab": {
          "base_uri": "https://localhost:8080/",
          "height": 206
        },
        "id": "vZOo2qrALQY5",
        "outputId": "befb24d6-27e4-42c2-f0f2-e3e12354cca3"
      },
      "outputs": [
        {
          "output_type": "execute_result",
          "data": {
            "text/plain": [
              "                          Category portion posting_Date     current  voltage  \\\n",
              "25377  LV Urban Domestic Customers  P17_40   2022-03-02    3.505391    234.0   \n",
              "25378                MV Industrial  P17_41   2022-03-02  830.316742    234.0   \n",
              "25379                      LV Bulk  P17_41   2022-03-16    0.000000    234.0   \n",
              "25380                          NaN     NaN          NaT         NaN      NaN   \n",
              "25381                          NaN     NaN          NaT         NaN      NaN   \n",
              "\n",
              "       consumption  energy_Charges  \n",
              "25377        502.0         1207.28  \n",
              "25378     118908.0       315106.20  \n",
              "25379          0.0            0.00  \n",
              "25380          NaN             NaN  \n",
              "25381          NaN             NaN  "
            ],
            "text/html": [
              "\n",
              "  <div id=\"df-05c631ee-3f2c-4af2-9c0f-0b61b0fea23c\">\n",
              "    <div class=\"colab-df-container\">\n",
              "      <div>\n",
              "<style scoped>\n",
              "    .dataframe tbody tr th:only-of-type {\n",
              "        vertical-align: middle;\n",
              "    }\n",
              "\n",
              "    .dataframe tbody tr th {\n",
              "        vertical-align: top;\n",
              "    }\n",
              "\n",
              "    .dataframe thead th {\n",
              "        text-align: right;\n",
              "    }\n",
              "</style>\n",
              "<table border=\"1\" class=\"dataframe\">\n",
              "  <thead>\n",
              "    <tr style=\"text-align: right;\">\n",
              "      <th></th>\n",
              "      <th>Category</th>\n",
              "      <th>portion</th>\n",
              "      <th>posting_Date</th>\n",
              "      <th>current</th>\n",
              "      <th>voltage</th>\n",
              "      <th>consumption</th>\n",
              "      <th>energy_Charges</th>\n",
              "    </tr>\n",
              "  </thead>\n",
              "  <tbody>\n",
              "    <tr>\n",
              "      <th>25377</th>\n",
              "      <td>LV Urban Domestic Customers</td>\n",
              "      <td>P17_40</td>\n",
              "      <td>2022-03-02</td>\n",
              "      <td>3.505391</td>\n",
              "      <td>234.0</td>\n",
              "      <td>502.0</td>\n",
              "      <td>1207.28</td>\n",
              "    </tr>\n",
              "    <tr>\n",
              "      <th>25378</th>\n",
              "      <td>MV Industrial</td>\n",
              "      <td>P17_41</td>\n",
              "      <td>2022-03-02</td>\n",
              "      <td>830.316742</td>\n",
              "      <td>234.0</td>\n",
              "      <td>118908.0</td>\n",
              "      <td>315106.20</td>\n",
              "    </tr>\n",
              "    <tr>\n",
              "      <th>25379</th>\n",
              "      <td>LV Bulk</td>\n",
              "      <td>P17_41</td>\n",
              "      <td>2022-03-16</td>\n",
              "      <td>0.000000</td>\n",
              "      <td>234.0</td>\n",
              "      <td>0.0</td>\n",
              "      <td>0.00</td>\n",
              "    </tr>\n",
              "    <tr>\n",
              "      <th>25380</th>\n",
              "      <td>NaN</td>\n",
              "      <td>NaN</td>\n",
              "      <td>NaT</td>\n",
              "      <td>NaN</td>\n",
              "      <td>NaN</td>\n",
              "      <td>NaN</td>\n",
              "      <td>NaN</td>\n",
              "    </tr>\n",
              "    <tr>\n",
              "      <th>25381</th>\n",
              "      <td>NaN</td>\n",
              "      <td>NaN</td>\n",
              "      <td>NaT</td>\n",
              "      <td>NaN</td>\n",
              "      <td>NaN</td>\n",
              "      <td>NaN</td>\n",
              "      <td>NaN</td>\n",
              "    </tr>\n",
              "  </tbody>\n",
              "</table>\n",
              "</div>\n",
              "      <button class=\"colab-df-convert\" onclick=\"convertToInteractive('df-05c631ee-3f2c-4af2-9c0f-0b61b0fea23c')\"\n",
              "              title=\"Convert this dataframe to an interactive table.\"\n",
              "              style=\"display:none;\">\n",
              "        \n",
              "  <svg xmlns=\"http://www.w3.org/2000/svg\" height=\"24px\"viewBox=\"0 0 24 24\"\n",
              "       width=\"24px\">\n",
              "    <path d=\"M0 0h24v24H0V0z\" fill=\"none\"/>\n",
              "    <path d=\"M18.56 5.44l.94 2.06.94-2.06 2.06-.94-2.06-.94-.94-2.06-.94 2.06-2.06.94zm-11 1L8.5 8.5l.94-2.06 2.06-.94-2.06-.94L8.5 2.5l-.94 2.06-2.06.94zm10 10l.94 2.06.94-2.06 2.06-.94-2.06-.94-.94-2.06-.94 2.06-2.06.94z\"/><path d=\"M17.41 7.96l-1.37-1.37c-.4-.4-.92-.59-1.43-.59-.52 0-1.04.2-1.43.59L10.3 9.45l-7.72 7.72c-.78.78-.78 2.05 0 2.83L4 21.41c.39.39.9.59 1.41.59.51 0 1.02-.2 1.41-.59l7.78-7.78 2.81-2.81c.8-.78.8-2.07 0-2.86zM5.41 20L4 18.59l7.72-7.72 1.47 1.35L5.41 20z\"/>\n",
              "  </svg>\n",
              "      </button>\n",
              "      \n",
              "  <style>\n",
              "    .colab-df-container {\n",
              "      display:flex;\n",
              "      flex-wrap:wrap;\n",
              "      gap: 12px;\n",
              "    }\n",
              "\n",
              "    .colab-df-convert {\n",
              "      background-color: #E8F0FE;\n",
              "      border: none;\n",
              "      border-radius: 50%;\n",
              "      cursor: pointer;\n",
              "      display: none;\n",
              "      fill: #1967D2;\n",
              "      height: 32px;\n",
              "      padding: 0 0 0 0;\n",
              "      width: 32px;\n",
              "    }\n",
              "\n",
              "    .colab-df-convert:hover {\n",
              "      background-color: #E2EBFA;\n",
              "      box-shadow: 0px 1px 2px rgba(60, 64, 67, 0.3), 0px 1px 3px 1px rgba(60, 64, 67, 0.15);\n",
              "      fill: #174EA6;\n",
              "    }\n",
              "\n",
              "    [theme=dark] .colab-df-convert {\n",
              "      background-color: #3B4455;\n",
              "      fill: #D2E3FC;\n",
              "    }\n",
              "\n",
              "    [theme=dark] .colab-df-convert:hover {\n",
              "      background-color: #434B5C;\n",
              "      box-shadow: 0px 1px 3px 1px rgba(0, 0, 0, 0.15);\n",
              "      filter: drop-shadow(0px 1px 2px rgba(0, 0, 0, 0.3));\n",
              "      fill: #FFFFFF;\n",
              "    }\n",
              "  </style>\n",
              "\n",
              "      <script>\n",
              "        const buttonEl =\n",
              "          document.querySelector('#df-05c631ee-3f2c-4af2-9c0f-0b61b0fea23c button.colab-df-convert');\n",
              "        buttonEl.style.display =\n",
              "          google.colab.kernel.accessAllowed ? 'block' : 'none';\n",
              "\n",
              "        async function convertToInteractive(key) {\n",
              "          const element = document.querySelector('#df-05c631ee-3f2c-4af2-9c0f-0b61b0fea23c');\n",
              "          const dataTable =\n",
              "            await google.colab.kernel.invokeFunction('convertToInteractive',\n",
              "                                                     [key], {});\n",
              "          if (!dataTable) return;\n",
              "\n",
              "          const docLinkHtml = 'Like what you see? Visit the ' +\n",
              "            '<a target=\"_blank\" href=https://colab.research.google.com/notebooks/data_table.ipynb>data table notebook</a>'\n",
              "            + ' to learn more about interactive tables.';\n",
              "          element.innerHTML = '';\n",
              "          dataTable['output_type'] = 'display_data';\n",
              "          await google.colab.output.renderOutput(dataTable, element);\n",
              "          const docLink = document.createElement('div');\n",
              "          docLink.innerHTML = docLinkHtml;\n",
              "          element.appendChild(docLink);\n",
              "        }\n",
              "      </script>\n",
              "    </div>\n",
              "  </div>\n",
              "  "
            ]
          },
          "metadata": {},
          "execution_count": 283
        }
      ],
      "source": [
        "# Creating a new dataframe with the only required attributes:\n",
        "\n",
        "df = pd.DataFrame(main_df,columns=['Category','portion','posting_Date','current','voltage','consumption','energy_Charges'])\n",
        "df.tail()"
      ]
    },
    {
      "cell_type": "code",
      "execution_count": 284,
      "metadata": {
        "colab": {
          "base_uri": "https://localhost:8080/"
        },
        "id": "dCWDqY2kFkYA",
        "outputId": "830e768b-772b-4830-f434-75fe61f9cb77"
      },
      "outputs": [
        {
          "output_type": "execute_result",
          "data": {
            "text/plain": [
              "Category          2\n",
              "portion           2\n",
              "posting_Date      2\n",
              "current           2\n",
              "voltage           2\n",
              "consumption       2\n",
              "energy_Charges    2\n",
              "dtype: int64"
            ]
          },
          "metadata": {},
          "execution_count": 284
        }
      ],
      "source": [
        "df.isna().sum()"
      ]
    },
    {
      "cell_type": "code",
      "execution_count": 285,
      "metadata": {
        "colab": {
          "base_uri": "https://localhost:8080/"
        },
        "id": "eJPOwqIiGPTO",
        "outputId": "6a1cef9a-914e-4573-f0ab-fbc97abf154f"
      },
      "outputs": [
        {
          "output_type": "execute_result",
          "data": {
            "text/plain": [
              "Category          0\n",
              "portion           0\n",
              "posting_Date      0\n",
              "current           0\n",
              "voltage           0\n",
              "consumption       0\n",
              "energy_Charges    0\n",
              "dtype: int64"
            ]
          },
          "metadata": {},
          "execution_count": 285
        }
      ],
      "source": [
        "df = df.dropna()\n",
        "df.isna().sum()"
      ]
    },
    {
      "cell_type": "code",
      "execution_count": 286,
      "metadata": {
        "colab": {
          "base_uri": "https://localhost:8080/",
          "height": 206
        },
        "id": "sSNkZhHxPE4l",
        "outputId": "3e42863a-8c6c-4c43-8f74-2b5fcad964f8"
      },
      "outputs": [
        {
          "output_type": "execute_result",
          "data": {
            "text/plain": [
              "                          Category portion posting_Date   current  voltage  \\\n",
              "23602  LV Urban Domestic Customers  P17_41   2021-12-02  0.796045    234.0   \n",
              "23603  LV Urban Domestic Customers  P17_41   2021-12-02  1.529244    234.0   \n",
              "23604  LV Urban Domestic Customers  P17_41   2021-12-02  0.628457    234.0   \n",
              "23605  LV Urban Domestic Customers  P17_41   2021-12-02  0.733199    234.0   \n",
              "23606  LV Urban Domestic Customers  P17_41   2021-12-02  0.279314    234.0   \n",
              "\n",
              "       consumption  energy_Charges  \n",
              "23602        114.0          165.52  \n",
              "23603        219.0          446.92  \n",
              "23604         90.0          115.20  \n",
              "23605        105.0          141.40  \n",
              "23606         40.0           51.20  "
            ],
            "text/html": [
              "\n",
              "  <div id=\"df-a5dd02a1-da06-4c62-a649-4725512f0aff\">\n",
              "    <div class=\"colab-df-container\">\n",
              "      <div>\n",
              "<style scoped>\n",
              "    .dataframe tbody tr th:only-of-type {\n",
              "        vertical-align: middle;\n",
              "    }\n",
              "\n",
              "    .dataframe tbody tr th {\n",
              "        vertical-align: top;\n",
              "    }\n",
              "\n",
              "    .dataframe thead th {\n",
              "        text-align: right;\n",
              "    }\n",
              "</style>\n",
              "<table border=\"1\" class=\"dataframe\">\n",
              "  <thead>\n",
              "    <tr style=\"text-align: right;\">\n",
              "      <th></th>\n",
              "      <th>Category</th>\n",
              "      <th>portion</th>\n",
              "      <th>posting_Date</th>\n",
              "      <th>current</th>\n",
              "      <th>voltage</th>\n",
              "      <th>consumption</th>\n",
              "      <th>energy_Charges</th>\n",
              "    </tr>\n",
              "  </thead>\n",
              "  <tbody>\n",
              "    <tr>\n",
              "      <th>23602</th>\n",
              "      <td>LV Urban Domestic Customers</td>\n",
              "      <td>P17_41</td>\n",
              "      <td>2021-12-02</td>\n",
              "      <td>0.796045</td>\n",
              "      <td>234.0</td>\n",
              "      <td>114.0</td>\n",
              "      <td>165.52</td>\n",
              "    </tr>\n",
              "    <tr>\n",
              "      <th>23603</th>\n",
              "      <td>LV Urban Domestic Customers</td>\n",
              "      <td>P17_41</td>\n",
              "      <td>2021-12-02</td>\n",
              "      <td>1.529244</td>\n",
              "      <td>234.0</td>\n",
              "      <td>219.0</td>\n",
              "      <td>446.92</td>\n",
              "    </tr>\n",
              "    <tr>\n",
              "      <th>23604</th>\n",
              "      <td>LV Urban Domestic Customers</td>\n",
              "      <td>P17_41</td>\n",
              "      <td>2021-12-02</td>\n",
              "      <td>0.628457</td>\n",
              "      <td>234.0</td>\n",
              "      <td>90.0</td>\n",
              "      <td>115.20</td>\n",
              "    </tr>\n",
              "    <tr>\n",
              "      <th>23605</th>\n",
              "      <td>LV Urban Domestic Customers</td>\n",
              "      <td>P17_41</td>\n",
              "      <td>2021-12-02</td>\n",
              "      <td>0.733199</td>\n",
              "      <td>234.0</td>\n",
              "      <td>105.0</td>\n",
              "      <td>141.40</td>\n",
              "    </tr>\n",
              "    <tr>\n",
              "      <th>23606</th>\n",
              "      <td>LV Urban Domestic Customers</td>\n",
              "      <td>P17_41</td>\n",
              "      <td>2021-12-02</td>\n",
              "      <td>0.279314</td>\n",
              "      <td>234.0</td>\n",
              "      <td>40.0</td>\n",
              "      <td>51.20</td>\n",
              "    </tr>\n",
              "  </tbody>\n",
              "</table>\n",
              "</div>\n",
              "      <button class=\"colab-df-convert\" onclick=\"convertToInteractive('df-a5dd02a1-da06-4c62-a649-4725512f0aff')\"\n",
              "              title=\"Convert this dataframe to an interactive table.\"\n",
              "              style=\"display:none;\">\n",
              "        \n",
              "  <svg xmlns=\"http://www.w3.org/2000/svg\" height=\"24px\"viewBox=\"0 0 24 24\"\n",
              "       width=\"24px\">\n",
              "    <path d=\"M0 0h24v24H0V0z\" fill=\"none\"/>\n",
              "    <path d=\"M18.56 5.44l.94 2.06.94-2.06 2.06-.94-2.06-.94-.94-2.06-.94 2.06-2.06.94zm-11 1L8.5 8.5l.94-2.06 2.06-.94-2.06-.94L8.5 2.5l-.94 2.06-2.06.94zm10 10l.94 2.06.94-2.06 2.06-.94-2.06-.94-.94-2.06-.94 2.06-2.06.94z\"/><path d=\"M17.41 7.96l-1.37-1.37c-.4-.4-.92-.59-1.43-.59-.52 0-1.04.2-1.43.59L10.3 9.45l-7.72 7.72c-.78.78-.78 2.05 0 2.83L4 21.41c.39.39.9.59 1.41.59.51 0 1.02-.2 1.41-.59l7.78-7.78 2.81-2.81c.8-.78.8-2.07 0-2.86zM5.41 20L4 18.59l7.72-7.72 1.47 1.35L5.41 20z\"/>\n",
              "  </svg>\n",
              "      </button>\n",
              "      \n",
              "  <style>\n",
              "    .colab-df-container {\n",
              "      display:flex;\n",
              "      flex-wrap:wrap;\n",
              "      gap: 12px;\n",
              "    }\n",
              "\n",
              "    .colab-df-convert {\n",
              "      background-color: #E8F0FE;\n",
              "      border: none;\n",
              "      border-radius: 50%;\n",
              "      cursor: pointer;\n",
              "      display: none;\n",
              "      fill: #1967D2;\n",
              "      height: 32px;\n",
              "      padding: 0 0 0 0;\n",
              "      width: 32px;\n",
              "    }\n",
              "\n",
              "    .colab-df-convert:hover {\n",
              "      background-color: #E2EBFA;\n",
              "      box-shadow: 0px 1px 2px rgba(60, 64, 67, 0.3), 0px 1px 3px 1px rgba(60, 64, 67, 0.15);\n",
              "      fill: #174EA6;\n",
              "    }\n",
              "\n",
              "    [theme=dark] .colab-df-convert {\n",
              "      background-color: #3B4455;\n",
              "      fill: #D2E3FC;\n",
              "    }\n",
              "\n",
              "    [theme=dark] .colab-df-convert:hover {\n",
              "      background-color: #434B5C;\n",
              "      box-shadow: 0px 1px 3px 1px rgba(0, 0, 0, 0.15);\n",
              "      filter: drop-shadow(0px 1px 2px rgba(0, 0, 0, 0.3));\n",
              "      fill: #FFFFFF;\n",
              "    }\n",
              "  </style>\n",
              "\n",
              "      <script>\n",
              "        const buttonEl =\n",
              "          document.querySelector('#df-a5dd02a1-da06-4c62-a649-4725512f0aff button.colab-df-convert');\n",
              "        buttonEl.style.display =\n",
              "          google.colab.kernel.accessAllowed ? 'block' : 'none';\n",
              "\n",
              "        async function convertToInteractive(key) {\n",
              "          const element = document.querySelector('#df-a5dd02a1-da06-4c62-a649-4725512f0aff');\n",
              "          const dataTable =\n",
              "            await google.colab.kernel.invokeFunction('convertToInteractive',\n",
              "                                                     [key], {});\n",
              "          if (!dataTable) return;\n",
              "\n",
              "          const docLinkHtml = 'Like what you see? Visit the ' +\n",
              "            '<a target=\"_blank\" href=https://colab.research.google.com/notebooks/data_table.ipynb>data table notebook</a>'\n",
              "            + ' to learn more about interactive tables.';\n",
              "          element.innerHTML = '';\n",
              "          dataTable['output_type'] = 'display_data';\n",
              "          await google.colab.output.renderOutput(dataTable, element);\n",
              "          const docLink = document.createElement('div');\n",
              "          docLink.innerHTML = docLinkHtml;\n",
              "          element.appendChild(docLink);\n",
              "        }\n",
              "      </script>\n",
              "    </div>\n",
              "  </div>\n",
              "  "
            ]
          },
          "metadata": {},
          "execution_count": 286
        }
      ],
      "source": [
        "# Selecting the data from 2019 till 2021 only:\n",
        "\n",
        "df = df.loc[(df['posting_Date'] >= '01-01-2019') & (df['posting_Date'] < '01-01-2022')]\n",
        "df.tail()"
      ]
    },
    {
      "cell_type": "code",
      "execution_count": 287,
      "metadata": {
        "id": "Pqi9lpXAc1i-",
        "colab": {
          "base_uri": "https://localhost:8080/"
        },
        "outputId": "63b9000e-2f8a-407d-e9ab-0bc19c15301c"
      },
      "outputs": [
        {
          "output_type": "stream",
          "name": "stderr",
          "text": [
            "/usr/local/lib/python3.7/dist-packages/ipykernel_launcher.py:4: SettingWithCopyWarning: \n",
            "A value is trying to be set on a copy of a slice from a DataFrame.\n",
            "Try using .loc[row_indexer,col_indexer] = value instead\n",
            "\n",
            "See the caveats in the documentation: https://pandas.pydata.org/pandas-docs/stable/user_guide/indexing.html#returning-a-view-versus-a-copy\n",
            "  after removing the cwd from sys.path.\n",
            "/usr/local/lib/python3.7/dist-packages/ipykernel_launcher.py:5: SettingWithCopyWarning: \n",
            "A value is trying to be set on a copy of a slice from a DataFrame.\n",
            "Try using .loc[row_indexer,col_indexer] = value instead\n",
            "\n",
            "See the caveats in the documentation: https://pandas.pydata.org/pandas-docs/stable/user_guide/indexing.html#returning-a-view-versus-a-copy\n",
            "  \"\"\"\n"
          ]
        }
      ],
      "source": [
        "# Extracting the year and montht from the posting_date\n",
        "# Adding these two new columns(Year and month) and then droping the posting date col\n",
        "\n",
        "df['Year'] = pd.to_datetime(df['posting_Date']).dt.year\n",
        "df['Month'] = pd.to_datetime(df['posting_Date']).dt.month\n",
        "df = df.drop(['posting_Date'], axis = 1)"
      ]
    },
    {
      "cell_type": "code",
      "execution_count": 288,
      "metadata": {
        "colab": {
          "base_uri": "https://localhost:8080/"
        },
        "id": "pAf3BDneZS7h",
        "outputId": "24ad0d60-b47f-4637-a0f9-28301ffc5f7e"
      },
      "outputs": [
        {
          "output_type": "execute_result",
          "data": {
            "text/plain": [
              "Category           object\n",
              "portion            object\n",
              "current           float64\n",
              "voltage           float64\n",
              "consumption       float64\n",
              "energy_Charges    float64\n",
              "Year                int64\n",
              "Month               int64\n",
              "dtype: object"
            ]
          },
          "metadata": {},
          "execution_count": 288
        }
      ],
      "source": [
        "df.dtypes"
      ]
    },
    {
      "cell_type": "code",
      "execution_count": 289,
      "metadata": {
        "colab": {
          "base_uri": "https://localhost:8080/",
          "height": 423
        },
        "id": "kpi3HzafZ9Cx",
        "outputId": "004b4e7d-f52c-430d-d45c-80c38d8e08dd"
      },
      "outputs": [
        {
          "output_type": "execute_result",
          "data": {
            "text/plain": [
              "                          Category portion    current  voltage  consumption  \\\n",
              "0                  LV Agricultural  P17_41   1.166136    234.0        167.0   \n",
              "1                  LV Agricultural  P17_41   5.502486    234.0        788.0   \n",
              "2                          LV Bulk  P17_41   0.000000    234.0          0.0   \n",
              "3                          LV Bulk  P17_41   0.000000    234.0          0.0   \n",
              "4                          LV Bulk  P17_41  13.127758    234.0       1880.0   \n",
              "...                            ...     ...        ...      ...          ...   \n",
              "23602  LV Urban Domestic Customers  P17_41   0.796045    234.0        114.0   \n",
              "23603  LV Urban Domestic Customers  P17_41   1.529244    234.0        219.0   \n",
              "23604  LV Urban Domestic Customers  P17_41   0.628457    234.0         90.0   \n",
              "23605  LV Urban Domestic Customers  P17_41   0.733199    234.0        105.0   \n",
              "23606  LV Urban Domestic Customers  P17_41   0.279314    234.0         40.0   \n",
              "\n",
              "       energy_Charges  Year  Month  \n",
              "0              589.51  2019      1  \n",
              "1             2781.64  2019      1  \n",
              "2                0.00  2019      1  \n",
              "3                0.00  2019      1  \n",
              "4             7557.60  2019      1  \n",
              "...               ...   ...    ...  \n",
              "23602          165.52  2021     12  \n",
              "23603          446.92  2021     12  \n",
              "23604          115.20  2021     12  \n",
              "23605          141.40  2021     12  \n",
              "23606           51.20  2021     12  \n",
              "\n",
              "[23607 rows x 8 columns]"
            ],
            "text/html": [
              "\n",
              "  <div id=\"df-ba96cd5b-be13-46a7-9916-2e2c476c4238\">\n",
              "    <div class=\"colab-df-container\">\n",
              "      <div>\n",
              "<style scoped>\n",
              "    .dataframe tbody tr th:only-of-type {\n",
              "        vertical-align: middle;\n",
              "    }\n",
              "\n",
              "    .dataframe tbody tr th {\n",
              "        vertical-align: top;\n",
              "    }\n",
              "\n",
              "    .dataframe thead th {\n",
              "        text-align: right;\n",
              "    }\n",
              "</style>\n",
              "<table border=\"1\" class=\"dataframe\">\n",
              "  <thead>\n",
              "    <tr style=\"text-align: right;\">\n",
              "      <th></th>\n",
              "      <th>Category</th>\n",
              "      <th>portion</th>\n",
              "      <th>current</th>\n",
              "      <th>voltage</th>\n",
              "      <th>consumption</th>\n",
              "      <th>energy_Charges</th>\n",
              "      <th>Year</th>\n",
              "      <th>Month</th>\n",
              "    </tr>\n",
              "  </thead>\n",
              "  <tbody>\n",
              "    <tr>\n",
              "      <th>0</th>\n",
              "      <td>LV Agricultural</td>\n",
              "      <td>P17_41</td>\n",
              "      <td>1.166136</td>\n",
              "      <td>234.0</td>\n",
              "      <td>167.0</td>\n",
              "      <td>589.51</td>\n",
              "      <td>2019</td>\n",
              "      <td>1</td>\n",
              "    </tr>\n",
              "    <tr>\n",
              "      <th>1</th>\n",
              "      <td>LV Agricultural</td>\n",
              "      <td>P17_41</td>\n",
              "      <td>5.502486</td>\n",
              "      <td>234.0</td>\n",
              "      <td>788.0</td>\n",
              "      <td>2781.64</td>\n",
              "      <td>2019</td>\n",
              "      <td>1</td>\n",
              "    </tr>\n",
              "    <tr>\n",
              "      <th>2</th>\n",
              "      <td>LV Bulk</td>\n",
              "      <td>P17_41</td>\n",
              "      <td>0.000000</td>\n",
              "      <td>234.0</td>\n",
              "      <td>0.0</td>\n",
              "      <td>0.00</td>\n",
              "      <td>2019</td>\n",
              "      <td>1</td>\n",
              "    </tr>\n",
              "    <tr>\n",
              "      <th>3</th>\n",
              "      <td>LV Bulk</td>\n",
              "      <td>P17_41</td>\n",
              "      <td>0.000000</td>\n",
              "      <td>234.0</td>\n",
              "      <td>0.0</td>\n",
              "      <td>0.00</td>\n",
              "      <td>2019</td>\n",
              "      <td>1</td>\n",
              "    </tr>\n",
              "    <tr>\n",
              "      <th>4</th>\n",
              "      <td>LV Bulk</td>\n",
              "      <td>P17_41</td>\n",
              "      <td>13.127758</td>\n",
              "      <td>234.0</td>\n",
              "      <td>1880.0</td>\n",
              "      <td>7557.60</td>\n",
              "      <td>2019</td>\n",
              "      <td>1</td>\n",
              "    </tr>\n",
              "    <tr>\n",
              "      <th>...</th>\n",
              "      <td>...</td>\n",
              "      <td>...</td>\n",
              "      <td>...</td>\n",
              "      <td>...</td>\n",
              "      <td>...</td>\n",
              "      <td>...</td>\n",
              "      <td>...</td>\n",
              "      <td>...</td>\n",
              "    </tr>\n",
              "    <tr>\n",
              "      <th>23602</th>\n",
              "      <td>LV Urban Domestic Customers</td>\n",
              "      <td>P17_41</td>\n",
              "      <td>0.796045</td>\n",
              "      <td>234.0</td>\n",
              "      <td>114.0</td>\n",
              "      <td>165.52</td>\n",
              "      <td>2021</td>\n",
              "      <td>12</td>\n",
              "    </tr>\n",
              "    <tr>\n",
              "      <th>23603</th>\n",
              "      <td>LV Urban Domestic Customers</td>\n",
              "      <td>P17_41</td>\n",
              "      <td>1.529244</td>\n",
              "      <td>234.0</td>\n",
              "      <td>219.0</td>\n",
              "      <td>446.92</td>\n",
              "      <td>2021</td>\n",
              "      <td>12</td>\n",
              "    </tr>\n",
              "    <tr>\n",
              "      <th>23604</th>\n",
              "      <td>LV Urban Domestic Customers</td>\n",
              "      <td>P17_41</td>\n",
              "      <td>0.628457</td>\n",
              "      <td>234.0</td>\n",
              "      <td>90.0</td>\n",
              "      <td>115.20</td>\n",
              "      <td>2021</td>\n",
              "      <td>12</td>\n",
              "    </tr>\n",
              "    <tr>\n",
              "      <th>23605</th>\n",
              "      <td>LV Urban Domestic Customers</td>\n",
              "      <td>P17_41</td>\n",
              "      <td>0.733199</td>\n",
              "      <td>234.0</td>\n",
              "      <td>105.0</td>\n",
              "      <td>141.40</td>\n",
              "      <td>2021</td>\n",
              "      <td>12</td>\n",
              "    </tr>\n",
              "    <tr>\n",
              "      <th>23606</th>\n",
              "      <td>LV Urban Domestic Customers</td>\n",
              "      <td>P17_41</td>\n",
              "      <td>0.279314</td>\n",
              "      <td>234.0</td>\n",
              "      <td>40.0</td>\n",
              "      <td>51.20</td>\n",
              "      <td>2021</td>\n",
              "      <td>12</td>\n",
              "    </tr>\n",
              "  </tbody>\n",
              "</table>\n",
              "<p>23607 rows × 8 columns</p>\n",
              "</div>\n",
              "      <button class=\"colab-df-convert\" onclick=\"convertToInteractive('df-ba96cd5b-be13-46a7-9916-2e2c476c4238')\"\n",
              "              title=\"Convert this dataframe to an interactive table.\"\n",
              "              style=\"display:none;\">\n",
              "        \n",
              "  <svg xmlns=\"http://www.w3.org/2000/svg\" height=\"24px\"viewBox=\"0 0 24 24\"\n",
              "       width=\"24px\">\n",
              "    <path d=\"M0 0h24v24H0V0z\" fill=\"none\"/>\n",
              "    <path d=\"M18.56 5.44l.94 2.06.94-2.06 2.06-.94-2.06-.94-.94-2.06-.94 2.06-2.06.94zm-11 1L8.5 8.5l.94-2.06 2.06-.94-2.06-.94L8.5 2.5l-.94 2.06-2.06.94zm10 10l.94 2.06.94-2.06 2.06-.94-2.06-.94-.94-2.06-.94 2.06-2.06.94z\"/><path d=\"M17.41 7.96l-1.37-1.37c-.4-.4-.92-.59-1.43-.59-.52 0-1.04.2-1.43.59L10.3 9.45l-7.72 7.72c-.78.78-.78 2.05 0 2.83L4 21.41c.39.39.9.59 1.41.59.51 0 1.02-.2 1.41-.59l7.78-7.78 2.81-2.81c.8-.78.8-2.07 0-2.86zM5.41 20L4 18.59l7.72-7.72 1.47 1.35L5.41 20z\"/>\n",
              "  </svg>\n",
              "      </button>\n",
              "      \n",
              "  <style>\n",
              "    .colab-df-container {\n",
              "      display:flex;\n",
              "      flex-wrap:wrap;\n",
              "      gap: 12px;\n",
              "    }\n",
              "\n",
              "    .colab-df-convert {\n",
              "      background-color: #E8F0FE;\n",
              "      border: none;\n",
              "      border-radius: 50%;\n",
              "      cursor: pointer;\n",
              "      display: none;\n",
              "      fill: #1967D2;\n",
              "      height: 32px;\n",
              "      padding: 0 0 0 0;\n",
              "      width: 32px;\n",
              "    }\n",
              "\n",
              "    .colab-df-convert:hover {\n",
              "      background-color: #E2EBFA;\n",
              "      box-shadow: 0px 1px 2px rgba(60, 64, 67, 0.3), 0px 1px 3px 1px rgba(60, 64, 67, 0.15);\n",
              "      fill: #174EA6;\n",
              "    }\n",
              "\n",
              "    [theme=dark] .colab-df-convert {\n",
              "      background-color: #3B4455;\n",
              "      fill: #D2E3FC;\n",
              "    }\n",
              "\n",
              "    [theme=dark] .colab-df-convert:hover {\n",
              "      background-color: #434B5C;\n",
              "      box-shadow: 0px 1px 3px 1px rgba(0, 0, 0, 0.15);\n",
              "      filter: drop-shadow(0px 1px 2px rgba(0, 0, 0, 0.3));\n",
              "      fill: #FFFFFF;\n",
              "    }\n",
              "  </style>\n",
              "\n",
              "      <script>\n",
              "        const buttonEl =\n",
              "          document.querySelector('#df-ba96cd5b-be13-46a7-9916-2e2c476c4238 button.colab-df-convert');\n",
              "        buttonEl.style.display =\n",
              "          google.colab.kernel.accessAllowed ? 'block' : 'none';\n",
              "\n",
              "        async function convertToInteractive(key) {\n",
              "          const element = document.querySelector('#df-ba96cd5b-be13-46a7-9916-2e2c476c4238');\n",
              "          const dataTable =\n",
              "            await google.colab.kernel.invokeFunction('convertToInteractive',\n",
              "                                                     [key], {});\n",
              "          if (!dataTable) return;\n",
              "\n",
              "          const docLinkHtml = 'Like what you see? Visit the ' +\n",
              "            '<a target=\"_blank\" href=https://colab.research.google.com/notebooks/data_table.ipynb>data table notebook</a>'\n",
              "            + ' to learn more about interactive tables.';\n",
              "          element.innerHTML = '';\n",
              "          dataTable['output_type'] = 'display_data';\n",
              "          await google.colab.output.renderOutput(dataTable, element);\n",
              "          const docLink = document.createElement('div');\n",
              "          docLink.innerHTML = docLinkHtml;\n",
              "          element.appendChild(docLink);\n",
              "        }\n",
              "      </script>\n",
              "    </div>\n",
              "  </div>\n",
              "  "
            ]
          },
          "metadata": {},
          "execution_count": 289
        }
      ],
      "source": [
        "df"
      ]
    },
    {
      "cell_type": "code",
      "execution_count": 290,
      "metadata": {
        "colab": {
          "base_uri": "https://localhost:8080/"
        },
        "id": "tDu9OGsxbUTQ",
        "outputId": "78c6d349-ca5a-49b9-bc90-33baf27073d0"
      },
      "outputs": [
        {
          "output_type": "execute_result",
          "data": {
            "text/plain": [
              "Category          0\n",
              "portion           0\n",
              "current           0\n",
              "voltage           0\n",
              "consumption       0\n",
              "energy_Charges    0\n",
              "Year              0\n",
              "Month             0\n",
              "dtype: int64"
            ]
          },
          "metadata": {},
          "execution_count": 290
        }
      ],
      "source": [
        "df.isna().sum()"
      ]
    },
    {
      "cell_type": "code",
      "execution_count": 291,
      "metadata": {
        "colab": {
          "base_uri": "https://localhost:8080/"
        },
        "id": "YJeHxiRuk7od",
        "outputId": "8bf4e0d2-f1f8-4e3e-e42d-00b10e03f3d0"
      },
      "outputs": [
        {
          "output_type": "execute_result",
          "data": {
            "text/plain": [
              "5952"
            ]
          },
          "metadata": {},
          "execution_count": 291
        }
      ],
      "source": [
        "df.duplicated().sum()"
      ]
    },
    {
      "cell_type": "code",
      "execution_count": 292,
      "metadata": {
        "id": "cR8tCvZEbmFX"
      },
      "outputs": [],
      "source": [
        "gyalpozhing_df = df.drop_duplicates()"
      ]
    },
    {
      "cell_type": "code",
      "execution_count": 293,
      "metadata": {
        "colab": {
          "base_uri": "https://localhost:8080/"
        },
        "id": "Z8cVVPuDcD5l",
        "outputId": "32b38252-4e57-43fc-ebec-3d179beacb48"
      },
      "outputs": [
        {
          "output_type": "execute_result",
          "data": {
            "text/plain": [
              "(23607, 8)"
            ]
          },
          "metadata": {},
          "execution_count": 293
        }
      ],
      "source": [
        "df.shape"
      ]
    },
    {
      "cell_type": "markdown",
      "metadata": {
        "id": "tvMZfbkohpMW"
      },
      "source": [
        "# 4. DETECTING OUTLIERS"
      ]
    },
    {
      "cell_type": "code",
      "execution_count": 294,
      "metadata": {
        "colab": {
          "base_uri": "https://localhost:8080/",
          "height": 279
        },
        "id": "jYMx_Kqrhb-T",
        "outputId": "393cf341-a1ec-4a15-a5df-aad8245ea829"
      },
      "outputs": [
        {
          "output_type": "display_data",
          "data": {
            "text/plain": [
              "<Figure size 432x288 with 1 Axes>"
            ],
            "image/png": "[encoded data removed]"
          },
          "metadata": {
            "needs_background": "light"
          }
        }
      ],
      "source": [
        "sns.boxplot(x = gyalpozhing_df['current'])\n",
        "plt.show()"
      ]
    },
    {
      "cell_type": "code",
      "execution_count": 295,
      "metadata": {
        "id": "NKEGSjCvh4yK"
      },
      "outputs": [],
      "source": [
        "#ul = upper limit\n",
        "#ll = lower limit\n",
        "#IQR = Interquartile Range\n",
        "\n",
        "q1 = gyalpozhing_df.current.quantile(0.25)\n",
        "q3 = gyalpozhing_df.current.quantile(0.75)\n",
        "IQR = q3 - q1\n",
        "ul = q3 + (IQR * 1.5)\n",
        "ll = q1 - (IQR * 1.5)"
      ]
    },
    {
      "cell_type": "code",
      "execution_count": 296,
      "metadata": {
        "colab": {
          "base_uri": "https://localhost:8080/",
          "height": 423
        },
        "id": "UIEOGab4iCBG",
        "outputId": "faa0b324-840c-40d0-9f4f-5e96e8691826"
      },
      "outputs": [
        {
          "output_type": "execute_result",
          "data": {
            "text/plain": [
              "                          Category portion    current  voltage  consumption  \\\n",
              "1                  LV Agricultural  P17_41   5.502486    234.0        788.0   \n",
              "4                          LV Bulk  P17_41  13.127758    234.0       1880.0   \n",
              "5                          LV Bulk  P17_41  48.600637    234.0       6960.0   \n",
              "7                          LV Bulk  P17_41   7.262164    234.0       1040.0   \n",
              "8                          LV Bulk  P17_41  10.048321    234.0       1439.0   \n",
              "...                            ...     ...        ...      ...          ...   \n",
              "23469  LV Urban Domestic Customers  P17_41  11.668343    234.0       1671.0   \n",
              "23523  LV Urban Domestic Customers  P17_41   5.816714    234.0        833.0   \n",
              "23583  LV Urban Domestic Customers  P17_41   7.422770    234.0       1063.0   \n",
              "23584  LV Urban Domestic Customers  P17_41   8.100106    234.0       1160.0   \n",
              "23590  LV Urban Domestic Customers  P17_41   5.851628    234.0        838.0   \n",
              "\n",
              "       energy_Charges  Year  Month  \n",
              "1             2781.64  2019      1  \n",
              "4             7557.60  2019      1  \n",
              "5            27979.20  2019      1  \n",
              "7             4180.80  2019      1  \n",
              "8             5784.78  2019      1  \n",
              "...               ...   ...    ...  \n",
              "23469         5462.44  2021     12  \n",
              "23523         2412.12  2021     12  \n",
              "23583         3249.32  2021     12  \n",
              "23584         3602.40  2021     12  \n",
              "23590         2430.32  2021     12  \n",
              "\n",
              "[1611 rows x 8 columns]"
            ],
            "text/html": [
              "\n",
              "  <div id=\"df-e5cae38a-4db1-461c-94b3-5a0589f5004f\">\n",
              "    <div class=\"colab-df-container\">\n",
              "      <div>\n",
              "<style scoped>\n",
              "    .dataframe tbody tr th:only-of-type {\n",
              "        vertical-align: middle;\n",
              "    }\n",
              "\n",
              "    .dataframe tbody tr th {\n",
              "        vertical-align: top;\n",
              "    }\n",
              "\n",
              "    .dataframe thead th {\n",
              "        text-align: right;\n",
              "    }\n",
              "</style>\n",
              "<table border=\"1\" class=\"dataframe\">\n",
              "  <thead>\n",
              "    <tr style=\"text-align: right;\">\n",
              "      <th></th>\n",
              "      <th>Category</th>\n",
              "      <th>portion</th>\n",
              "      <th>current</th>\n",
              "      <th>voltage</th>\n",
              "      <th>consumption</th>\n",
              "      <th>energy_Charges</th>\n",
              "      <th>Year</th>\n",
              "      <th>Month</th>\n",
              "    </tr>\n",
              "  </thead>\n",
              "  <tbody>\n",
              "    <tr>\n",
              "      <th>1</th>\n",
              "      <td>LV Agricultural</td>\n",
              "      <td>P17_41</td>\n",
              "      <td>5.502486</td>\n",
              "      <td>234.0</td>\n",
              "      <td>788.0</td>\n",
              "      <td>2781.64</td>\n",
              "      <td>2019</td>\n",
              "      <td>1</td>\n",
              "    </tr>\n",
              "    <tr>\n",
              "      <th>4</th>\n",
              "      <td>LV Bulk</td>\n",
              "      <td>P17_41</td>\n",
              "      <td>13.127758</td>\n",
              "      <td>234.0</td>\n",
              "      <td>1880.0</td>\n",
              "      <td>7557.60</td>\n",
              "      <td>2019</td>\n",
              "      <td>1</td>\n",
              "    </tr>\n",
              "    <tr>\n",
              "      <th>5</th>\n",
              "      <td>LV Bulk</td>\n",
              "      <td>P17_41</td>\n",
              "      <td>48.600637</td>\n",
              "      <td>234.0</td>\n",
              "      <td>6960.0</td>\n",
              "      <td>27979.20</td>\n",
              "      <td>2019</td>\n",
              "      <td>1</td>\n",
              "    </tr>\n",
              "    <tr>\n",
              "      <th>7</th>\n",
              "      <td>LV Bulk</td>\n",
              "      <td>P17_41</td>\n",
              "      <td>7.262164</td>\n",
              "      <td>234.0</td>\n",
              "      <td>1040.0</td>\n",
              "      <td>4180.80</td>\n",
              "      <td>2019</td>\n",
              "      <td>1</td>\n",
              "    </tr>\n",
              "    <tr>\n",
              "      <th>8</th>\n",
              "      <td>LV Bulk</td>\n",
              "      <td>P17_41</td>\n",
              "      <td>10.048321</td>\n",
              "      <td>234.0</td>\n",
              "      <td>1439.0</td>\n",
              "      <td>5784.78</td>\n",
              "      <td>2019</td>\n",
              "      <td>1</td>\n",
              "    </tr>\n",
              "    <tr>\n",
              "      <th>...</th>\n",
              "      <td>...</td>\n",
              "      <td>...</td>\n",
              "      <td>...</td>\n",
              "      <td>...</td>\n",
              "      <td>...</td>\n",
              "      <td>...</td>\n",
              "      <td>...</td>\n",
              "      <td>...</td>\n",
              "    </tr>\n",
              "    <tr>\n",
              "      <th>23469</th>\n",
              "      <td>LV Urban Domestic Customers</td>\n",
              "      <td>P17_41</td>\n",
              "      <td>11.668343</td>\n",
              "      <td>234.0</td>\n",
              "      <td>1671.0</td>\n",
              "      <td>5462.44</td>\n",
              "      <td>2021</td>\n",
              "      <td>12</td>\n",
              "    </tr>\n",
              "    <tr>\n",
              "      <th>23523</th>\n",
              "      <td>LV Urban Domestic Customers</td>\n",
              "      <td>P17_41</td>\n",
              "      <td>5.816714</td>\n",
              "      <td>234.0</td>\n",
              "      <td>833.0</td>\n",
              "      <td>2412.12</td>\n",
              "      <td>2021</td>\n",
              "      <td>12</td>\n",
              "    </tr>\n",
              "    <tr>\n",
              "      <th>23583</th>\n",
              "      <td>LV Urban Domestic Customers</td>\n",
              "      <td>P17_41</td>\n",
              "      <td>7.422770</td>\n",
              "      <td>234.0</td>\n",
              "      <td>1063.0</td>\n",
              "      <td>3249.32</td>\n",
              "      <td>2021</td>\n",
              "      <td>12</td>\n",
              "    </tr>\n",
              "    <tr>\n",
              "      <th>23584</th>\n",
              "      <td>LV Urban Domestic Customers</td>\n",
              "      <td>P17_41</td>\n",
              "      <td>8.100106</td>\n",
              "      <td>234.0</td>\n",
              "      <td>1160.0</td>\n",
              "      <td>3602.40</td>\n",
              "      <td>2021</td>\n",
              "      <td>12</td>\n",
              "    </tr>\n",
              "    <tr>\n",
              "      <th>23590</th>\n",
              "      <td>LV Urban Domestic Customers</td>\n",
              "      <td>P17_41</td>\n",
              "      <td>5.851628</td>\n",
              "      <td>234.0</td>\n",
              "      <td>838.0</td>\n",
              "      <td>2430.32</td>\n",
              "      <td>2021</td>\n",
              "      <td>12</td>\n",
              "    </tr>\n",
              "  </tbody>\n",
              "</table>\n",
              "<p>1611 rows × 8 columns</p>\n",
              "</div>\n",
              "      <button class=\"colab-df-convert\" onclick=\"convertToInteractive('df-e5cae38a-4db1-461c-94b3-5a0589f5004f')\"\n",
              "              title=\"Convert this dataframe to an interactive table.\"\n",
              "              style=\"display:none;\">\n",
              "        \n",
              "  <svg xmlns=\"http://www.w3.org/2000/svg\" height=\"24px\"viewBox=\"0 0 24 24\"\n",
              "       width=\"24px\">\n",
              "    <path d=\"M0 0h24v24H0V0z\" fill=\"none\"/>\n",
              "    <path d=\"M18.56 5.44l.94 2.06.94-2.06 2.06-.94-2.06-.94-.94-2.06-.94 2.06-2.06.94zm-11 1L8.5 8.5l.94-2.06 2.06-.94-2.06-.94L8.5 2.5l-.94 2.06-2.06.94zm10 10l.94 2.06.94-2.06 2.06-.94-2.06-.94-.94-2.06-.94 2.06-2.06.94z\"/><path d=\"M17.41 7.96l-1.37-1.37c-.4-.4-.92-.59-1.43-.59-.52 0-1.04.2-1.43.59L10.3 9.45l-7.72 7.72c-.78.78-.78 2.05 0 2.83L4 21.41c.39.39.9.59 1.41.59.51 0 1.02-.2 1.41-.59l7.78-7.78 2.81-2.81c.8-.78.8-2.07 0-2.86zM5.41 20L4 18.59l7.72-7.72 1.47 1.35L5.41 20z\"/>\n",
              "  </svg>\n",
              "      </button>\n",
              "      \n",
              "  <style>\n",
              "    .colab-df-container {\n",
              "      display:flex;\n",
              "      flex-wrap:wrap;\n",
              "      gap: 12px;\n",
              "    }\n",
              "\n",
              "    .colab-df-convert {\n",
              "      background-color: #E8F0FE;\n",
              "      border: none;\n",
              "      border-radius: 50%;\n",
              "      cursor: pointer;\n",
              "      display: none;\n",
              "      fill: #1967D2;\n",
              "      height: 32px;\n",
              "      padding: 0 0 0 0;\n",
              "      width: 32px;\n",
              "    }\n",
              "\n",
              "    .colab-df-convert:hover {\n",
              "      background-color: #E2EBFA;\n",
              "      box-shadow: 0px 1px 2px rgba(60, 64, 67, 0.3), 0px 1px 3px 1px rgba(60, 64, 67, 0.15);\n",
              "      fill: #174EA6;\n",
              "    }\n",
              "\n",
              "    [theme=dark] .colab-df-convert {\n",
              "      background-color: #3B4455;\n",
              "      fill: #D2E3FC;\n",
              "    }\n",
              "\n",
              "    [theme=dark] .colab-df-convert:hover {\n",
              "      background-color: #434B5C;\n",
              "      box-shadow: 0px 1px 3px 1px rgba(0, 0, 0, 0.15);\n",
              "      filter: drop-shadow(0px 1px 2px rgba(0, 0, 0, 0.3));\n",
              "      fill: #FFFFFF;\n",
              "    }\n",
              "  </style>\n",
              "\n",
              "      <script>\n",
              "        const buttonEl =\n",
              "          document.querySelector('#df-e5cae38a-4db1-461c-94b3-5a0589f5004f button.colab-df-convert');\n",
              "        buttonEl.style.display =\n",
              "          google.colab.kernel.accessAllowed ? 'block' : 'none';\n",
              "\n",
              "        async function convertToInteractive(key) {\n",
              "          const element = document.querySelector('#df-e5cae38a-4db1-461c-94b3-5a0589f5004f');\n",
              "          const dataTable =\n",
              "            await google.colab.kernel.invokeFunction('convertToInteractive',\n",
              "                                                     [key], {});\n",
              "          if (!dataTable) return;\n",
              "\n",
              "          const docLinkHtml = 'Like what you see? Visit the ' +\n",
              "            '<a target=\"_blank\" href=https://colab.research.google.com/notebooks/data_table.ipynb>data table notebook</a>'\n",
              "            + ' to learn more about interactive tables.';\n",
              "          element.innerHTML = '';\n",
              "          dataTable['output_type'] = 'display_data';\n",
              "          await google.colab.output.renderOutput(dataTable, element);\n",
              "          const docLink = document.createElement('div');\n",
              "          docLink.innerHTML = docLinkHtml;\n",
              "          element.appendChild(docLink);\n",
              "        }\n",
              "      </script>\n",
              "    </div>\n",
              "  </div>\n",
              "  "
            ]
          },
          "metadata": {},
          "execution_count": 296
        }
      ],
      "source": [
        "gyalpozhing_df[(gyalpozhing_df.current < ll)  | (gyalpozhing_df.current > ul)]"
      ]
    },
    {
      "cell_type": "code",
      "execution_count": 297,
      "metadata": {
        "colab": {
          "base_uri": "https://localhost:8080/"
        },
        "id": "aH-H89fWiKLC",
        "outputId": "5a300304-3bff-47ae-e73f-46ae96c07ebf"
      },
      "outputs": [
        {
          "output_type": "execute_result",
          "data": {
            "text/plain": [
              "(16039, 8)"
            ]
          },
          "metadata": {},
          "execution_count": 297
        }
      ],
      "source": [
        "df1 = gyalpozhing_df[(gyalpozhing_df.current > ll) & (gyalpozhing_df.current < ul)]\n",
        "df1.shape"
      ]
    },
    {
      "cell_type": "code",
      "execution_count": 298,
      "metadata": {
        "colab": {
          "base_uri": "https://localhost:8080/",
          "height": 297
        },
        "id": "mLdEugCGikwN",
        "outputId": "afd0fd9c-a891-43b5-e510-b93b76a778b9"
      },
      "outputs": [
        {
          "output_type": "execute_result",
          "data": {
            "text/plain": [
              "<function matplotlib.pyplot.show>"
            ]
          },
          "metadata": {},
          "execution_count": 298
        },
        {
          "output_type": "display_data",
          "data": {
            "text/plain": [
              "<Figure size 432x288 with 1 Axes>"
            ],
            "image/png": "[encoded data removed]"
          },
          "metadata": {
            "needs_background": "light"
          }
        }
      ],
      "source": [
        "sns.boxplot(x = df1['consumption'])\n",
        "plt.show"
      ]
    },
    {
      "cell_type": "code",
      "execution_count": 299,
      "metadata": {
        "id": "kgm8u-2Bioyr"
      },
      "outputs": [],
      "source": [
        "q1 = df1.consumption.quantile(0.25)\n",
        "q3 = df1.consumption.quantile(0.75)\n",
        "IQR = q3 - q1\n",
        "ul = q3 + (IQR * 1.5)\n",
        "ll = q1 - (IQR * 1.5)"
      ]
    },
    {
      "cell_type": "code",
      "execution_count": 300,
      "metadata": {
        "colab": {
          "base_uri": "https://localhost:8080/"
        },
        "id": "OZyACNnInqNV",
        "outputId": "96e9ecd7-e1be-4d36-fa90-4a7b6599926f"
      },
      "outputs": [
        {
          "output_type": "execute_result",
          "data": {
            "text/plain": [
              "444.2975"
            ]
          },
          "metadata": {},
          "execution_count": 300
        }
      ],
      "source": [
        "ul"
      ]
    },
    {
      "cell_type": "code",
      "execution_count": 301,
      "metadata": {
        "colab": {
          "base_uri": "https://localhost:8080/"
        },
        "id": "_1KbmR_mntHd",
        "outputId": "0db00ec7-7e13-4daf-fe36-febcab851f8b"
      },
      "outputs": [
        {
          "output_type": "execute_result",
          "data": {
            "text/plain": [
              "-151.16250000000002"
            ]
          },
          "metadata": {},
          "execution_count": 301
        }
      ],
      "source": [
        "ll"
      ]
    },
    {
      "cell_type": "code",
      "execution_count": 302,
      "metadata": {
        "colab": {
          "base_uri": "https://localhost:8080/",
          "height": 423
        },
        "id": "ZvUsLM9KjCE0",
        "outputId": "3ca47274-d09d-400d-a4f4-1271a9412c2c"
      },
      "outputs": [
        {
          "output_type": "execute_result",
          "data": {
            "text/plain": [
              "                          Category portion   current  voltage  consumption  \\\n",
              "40                   LV Commercial  P17_41  3.568236    234.0        511.0   \n",
              "52                   LV Commercial  P17_41  3.456511    234.0        495.0   \n",
              "79                LV Institutional  P17_41  3.638065    234.0        521.0   \n",
              "81                LV Institutional  P17_41  3.631082    234.0        520.0   \n",
              "97                LV Institutional  P17_41  3.421597    234.0        490.0   \n",
              "...                            ...     ...       ...      ...          ...   \n",
              "23346  LV Urban Domestic Customers  P17_41  3.477459    234.0        498.0   \n",
              "23394  LV Urban Domestic Customers  P17_40  3.526339    234.0        505.0   \n",
              "23401  LV Urban Domestic Customers  P17_41  3.484442    234.0        499.0   \n",
              "23484  LV Urban Domestic Customers  P17_41  3.386682    234.0        485.0   \n",
              "23537  LV Urban Domestic Customers  P17_41  3.233060    234.0        463.0   \n",
              "\n",
              "       energy_Charges  Year  Month  \n",
              "40            1803.83  2019      1  \n",
              "52            1747.35  2019      1  \n",
              "79            1839.13  2019      1  \n",
              "81            1835.60  2019      1  \n",
              "97            1729.70  2019      1  \n",
              "...               ...   ...    ...  \n",
              "23346         1194.64  2021     12  \n",
              "23394         1218.20  2021     12  \n",
              "23401         1197.32  2021     12  \n",
              "23484         1159.80  2021     12  \n",
              "23537         1100.84  2021     12  \n",
              "\n",
              "[376 rows x 8 columns]"
            ],
            "text/html": [
              "\n",
              "  <div id=\"df-788dc8a1-49c9-44bb-a43d-bfb0a3262248\">\n",
              "    <div class=\"colab-df-container\">\n",
              "      <div>\n",
              "<style scoped>\n",
              "    .dataframe tbody tr th:only-of-type {\n",
              "        vertical-align: middle;\n",
              "    }\n",
              "\n",
              "    .dataframe tbody tr th {\n",
              "        vertical-align: top;\n",
              "    }\n",
              "\n",
              "    .dataframe thead th {\n",
              "        text-align: right;\n",
              "    }\n",
              "</style>\n",
              "<table border=\"1\" class=\"dataframe\">\n",
              "  <thead>\n",
              "    <tr style=\"text-align: right;\">\n",
              "      <th></th>\n",
              "      <th>Category</th>\n",
              "      <th>portion</th>\n",
              "      <th>current</th>\n",
              "      <th>voltage</th>\n",
              "      <th>consumption</th>\n",
              "      <th>energy_Charges</th>\n",
              "      <th>Year</th>\n",
              "      <th>Month</th>\n",
              "    </tr>\n",
              "  </thead>\n",
              "  <tbody>\n",
              "    <tr>\n",
              "      <th>40</th>\n",
              "      <td>LV Commercial</td>\n",
              "      <td>P17_41</td>\n",
              "      <td>3.568236</td>\n",
              "      <td>234.0</td>\n",
              "      <td>511.0</td>\n",
              "      <td>1803.83</td>\n",
              "      <td>2019</td>\n",
              "      <td>1</td>\n",
              "    </tr>\n",
              "    <tr>\n",
              "      <th>52</th>\n",
              "      <td>LV Commercial</td>\n",
              "      <td>P17_41</td>\n",
              "      <td>3.456511</td>\n",
              "      <td>234.0</td>\n",
              "      <td>495.0</td>\n",
              "      <td>1747.35</td>\n",
              "      <td>2019</td>\n",
              "      <td>1</td>\n",
              "    </tr>\n",
              "    <tr>\n",
              "      <th>79</th>\n",
              "      <td>LV Institutional</td>\n",
              "      <td>P17_41</td>\n",
              "      <td>3.638065</td>\n",
              "      <td>234.0</td>\n",
              "      <td>521.0</td>\n",
              "      <td>1839.13</td>\n",
              "      <td>2019</td>\n",
              "      <td>1</td>\n",
              "    </tr>\n",
              "    <tr>\n",
              "      <th>81</th>\n",
              "      <td>LV Institutional</td>\n",
              "      <td>P17_41</td>\n",
              "      <td>3.631082</td>\n",
              "      <td>234.0</td>\n",
              "      <td>520.0</td>\n",
              "      <td>1835.60</td>\n",
              "      <td>2019</td>\n",
              "      <td>1</td>\n",
              "    </tr>\n",
              "    <tr>\n",
              "      <th>97</th>\n",
              "      <td>LV Institutional</td>\n",
              "      <td>P17_41</td>\n",
              "      <td>3.421597</td>\n",
              "      <td>234.0</td>\n",
              "      <td>490.0</td>\n",
              "      <td>1729.70</td>\n",
              "      <td>2019</td>\n",
              "      <td>1</td>\n",
              "    </tr>\n",
              "    <tr>\n",
              "      <th>...</th>\n",
              "      <td>...</td>\n",
              "      <td>...</td>\n",
              "      <td>...</td>\n",
              "      <td>...</td>\n",
              "      <td>...</td>\n",
              "      <td>...</td>\n",
              "      <td>...</td>\n",
              "      <td>...</td>\n",
              "    </tr>\n",
              "    <tr>\n",
              "      <th>23346</th>\n",
              "      <td>LV Urban Domestic Customers</td>\n",
              "      <td>P17_41</td>\n",
              "      <td>3.477459</td>\n",
              "      <td>234.0</td>\n",
              "      <td>498.0</td>\n",
              "      <td>1194.64</td>\n",
              "      <td>2021</td>\n",
              "      <td>12</td>\n",
              "    </tr>\n",
              "    <tr>\n",
              "      <th>23394</th>\n",
              "      <td>LV Urban Domestic Customers</td>\n",
              "      <td>P17_40</td>\n",
              "      <td>3.526339</td>\n",
              "      <td>234.0</td>\n",
              "      <td>505.0</td>\n",
              "      <td>1218.20</td>\n",
              "      <td>2021</td>\n",
              "      <td>12</td>\n",
              "    </tr>\n",
              "    <tr>\n",
              "      <th>23401</th>\n",
              "      <td>LV Urban Domestic Customers</td>\n",
              "      <td>P17_41</td>\n",
              "      <td>3.484442</td>\n",
              "      <td>234.0</td>\n",
              "      <td>499.0</td>\n",
              "      <td>1197.32</td>\n",
              "      <td>2021</td>\n",
              "      <td>12</td>\n",
              "    </tr>\n",
              "    <tr>\n",
              "      <th>23484</th>\n",
              "      <td>LV Urban Domestic Customers</td>\n",
              "      <td>P17_41</td>\n",
              "      <td>3.386682</td>\n",
              "      <td>234.0</td>\n",
              "      <td>485.0</td>\n",
              "      <td>1159.80</td>\n",
              "      <td>2021</td>\n",
              "      <td>12</td>\n",
              "    </tr>\n",
              "    <tr>\n",
              "      <th>23537</th>\n",
              "      <td>LV Urban Domestic Customers</td>\n",
              "      <td>P17_41</td>\n",
              "      <td>3.233060</td>\n",
              "      <td>234.0</td>\n",
              "      <td>463.0</td>\n",
              "      <td>1100.84</td>\n",
              "      <td>2021</td>\n",
              "      <td>12</td>\n",
              "    </tr>\n",
              "  </tbody>\n",
              "</table>\n",
              "<p>376 rows × 8 columns</p>\n",
              "</div>\n",
              "      <button class=\"colab-df-convert\" onclick=\"convertToInteractive('df-788dc8a1-49c9-44bb-a43d-bfb0a3262248')\"\n",
              "              title=\"Convert this dataframe to an interactive table.\"\n",
              "              style=\"display:none;\">\n",
              "        \n",
              "  <svg xmlns=\"http://www.w3.org/2000/svg\" height=\"24px\"viewBox=\"0 0 24 24\"\n",
              "       width=\"24px\">\n",
              "    <path d=\"M0 0h24v24H0V0z\" fill=\"none\"/>\n",
              "    <path d=\"M18.56 5.44l.94 2.06.94-2.06 2.06-.94-2.06-.94-.94-2.06-.94 2.06-2.06.94zm-11 1L8.5 8.5l.94-2.06 2.06-.94-2.06-.94L8.5 2.5l-.94 2.06-2.06.94zm10 10l.94 2.06.94-2.06 2.06-.94-2.06-.94-.94-2.06-.94 2.06-2.06.94z\"/><path d=\"M17.41 7.96l-1.37-1.37c-.4-.4-.92-.59-1.43-.59-.52 0-1.04.2-1.43.59L10.3 9.45l-7.72 7.72c-.78.78-.78 2.05 0 2.83L4 21.41c.39.39.9.59 1.41.59.51 0 1.02-.2 1.41-.59l7.78-7.78 2.81-2.81c.8-.78.8-2.07 0-2.86zM5.41 20L4 18.59l7.72-7.72 1.47 1.35L5.41 20z\"/>\n",
              "  </svg>\n",
              "      </button>\n",
              "      \n",
              "  <style>\n",
              "    .colab-df-container {\n",
              "      display:flex;\n",
              "      flex-wrap:wrap;\n",
              "      gap: 12px;\n",
              "    }\n",
              "\n",
              "    .colab-df-convert {\n",
              "      background-color: #E8F0FE;\n",
              "      border: none;\n",
              "      border-radius: 50%;\n",
              "      cursor: pointer;\n",
              "      display: none;\n",
              "      fill: #1967D2;\n",
              "      height: 32px;\n",
              "      padding: 0 0 0 0;\n",
              "      width: 32px;\n",
              "    }\n",
              "\n",
              "    .colab-df-convert:hover {\n",
              "      background-color: #E2EBFA;\n",
              "      box-shadow: 0px 1px 2px rgba(60, 64, 67, 0.3), 0px 1px 3px 1px rgba(60, 64, 67, 0.15);\n",
              "      fill: #174EA6;\n",
              "    }\n",
              "\n",
              "    [theme=dark] .colab-df-convert {\n",
              "      background-color: #3B4455;\n",
              "      fill: #D2E3FC;\n",
              "    }\n",
              "\n",
              "    [theme=dark] .colab-df-convert:hover {\n",
              "      background-color: #434B5C;\n",
              "      box-shadow: 0px 1px 3px 1px rgba(0, 0, 0, 0.15);\n",
              "      filter: drop-shadow(0px 1px 2px rgba(0, 0, 0, 0.3));\n",
              "      fill: #FFFFFF;\n",
              "    }\n",
              "  </style>\n",
              "\n",
              "      <script>\n",
              "        const buttonEl =\n",
              "          document.querySelector('#df-788dc8a1-49c9-44bb-a43d-bfb0a3262248 button.colab-df-convert');\n",
              "        buttonEl.style.display =\n",
              "          google.colab.kernel.accessAllowed ? 'block' : 'none';\n",
              "\n",
              "        async function convertToInteractive(key) {\n",
              "          const element = document.querySelector('#df-788dc8a1-49c9-44bb-a43d-bfb0a3262248');\n",
              "          const dataTable =\n",
              "            await google.colab.kernel.invokeFunction('convertToInteractive',\n",
              "                                                     [key], {});\n",
              "          if (!dataTable) return;\n",
              "\n",
              "          const docLinkHtml = 'Like what you see? Visit the ' +\n",
              "            '<a target=\"_blank\" href=https://colab.research.google.com/notebooks/data_table.ipynb>data table notebook</a>'\n",
              "            + ' to learn more about interactive tables.';\n",
              "          element.innerHTML = '';\n",
              "          dataTable['output_type'] = 'display_data';\n",
              "          await google.colab.output.renderOutput(dataTable, element);\n",
              "          const docLink = document.createElement('div');\n",
              "          docLink.innerHTML = docLinkHtml;\n",
              "          element.appendChild(docLink);\n",
              "        }\n",
              "      </script>\n",
              "    </div>\n",
              "  </div>\n",
              "  "
            ]
          },
          "metadata": {},
          "execution_count": 302
        }
      ],
      "source": [
        "df1[(df1.consumption < ll)  | (df1.consumption > ul)]"
      ]
    },
    {
      "cell_type": "code",
      "execution_count": 303,
      "metadata": {
        "colab": {
          "base_uri": "https://localhost:8080/"
        },
        "id": "chlEiAZPn1X8",
        "outputId": "c36e63b4-550e-413e-886b-cb0643a394b1"
      },
      "outputs": [
        {
          "output_type": "execute_result",
          "data": {
            "text/plain": [
              "-151.16250000000002"
            ]
          },
          "metadata": {},
          "execution_count": 303
        }
      ],
      "source": [
        "ll"
      ]
    },
    {
      "cell_type": "code",
      "execution_count": 304,
      "metadata": {
        "colab": {
          "base_uri": "https://localhost:8080/"
        },
        "id": "QG5zfFcxjJ2p",
        "outputId": "e3b8f672-0d65-4894-e2d4-f40386fdec28"
      },
      "outputs": [
        {
          "output_type": "execute_result",
          "data": {
            "text/plain": [
              "(15663, 8)"
            ]
          },
          "metadata": {},
          "execution_count": 304
        }
      ],
      "source": [
        "df2 = df1[(df1.consumption > ll) & (df1.consumption < ul)]\n",
        "df2.shape"
      ]
    },
    {
      "cell_type": "code",
      "execution_count": 305,
      "metadata": {
        "colab": {
          "base_uri": "https://localhost:8080/",
          "height": 298
        },
        "id": "1md1yLGnjVp2",
        "outputId": "523db1ae-2e60-4d41-92ba-82db3f72fb54"
      },
      "outputs": [
        {
          "output_type": "execute_result",
          "data": {
            "text/plain": [
              "<function matplotlib.pyplot.show>"
            ]
          },
          "metadata": {},
          "execution_count": 305
        },
        {
          "output_type": "display_data",
          "data": {
            "text/plain": [
              "<Figure size 432x288 with 1 Axes>"
            ],
            "image/png": "[encoded data removed]"
          },
          "metadata": {
            "needs_background": "light"
          }
        }
      ],
      "source": [
        "sns.boxplot(x = df2['energy_Charges'])\n",
        "plt.show"
      ]
    },
    {
      "cell_type": "code",
      "execution_count": 306,
      "metadata": {
        "id": "6blyzOwJjbze"
      },
      "outputs": [],
      "source": [
        "q1 = df2.energy_Charges.quantile(0.25)\n",
        "q3 = df2.energy_Charges.quantile(0.75)\n",
        "IQR = q3 - q1\n",
        "ul = q3 + (IQR * 1.5)\n",
        "ll = q1 - (IQR * 1.5)"
      ]
    },
    {
      "cell_type": "code",
      "execution_count": 307,
      "metadata": {
        "colab": {
          "base_uri": "https://localhost:8080/",
          "height": 423
        },
        "id": "rdHwZOwnjg57",
        "outputId": "10a9e42d-1b7e-4f44-8c5c-0c378cb071f4"
      },
      "outputs": [
        {
          "output_type": "execute_result",
          "data": {
            "text/plain": [
              "                          Category portion   current  voltage  consumption  \\\n",
              "15                   LV Commercial  P17_41  3.037540    234.0        435.0   \n",
              "25                   LV Commercial  P17_41  2.953746    234.0        423.0   \n",
              "31                   LV Commercial  P17_41  2.918831    234.0        418.0   \n",
              "41                   LV Commercial  P17_41  2.890900    234.0        414.0   \n",
              "45                   LV Commercial  P17_41  2.800123    234.0        401.0   \n",
              "...                            ...     ...       ...      ...          ...   \n",
              "23150                 LV Temporary  P17_41  2.234512    234.0        320.0   \n",
              "23151                 LV Temporary  P17_41  2.667449    234.0        382.0   \n",
              "23154                 LV Temporary  P17_41  2.430032    234.0        348.0   \n",
              "23163                 LV Temporary  P17_41  3.100385    234.0        444.0   \n",
              "23306  LV Urban Domestic Customers  P17_40  3.079437    234.0        441.0   \n",
              "\n",
              "       energy_Charges  Year  Month  \n",
              "15            1535.55  2019      1  \n",
              "25            1493.19  2019      1  \n",
              "31            1475.54  2019      1  \n",
              "41            1461.42  2019      1  \n",
              "45            1415.53  2019      1  \n",
              "...               ...   ...    ...  \n",
              "23150         1164.80  2021     12  \n",
              "23151         1390.48  2021     12  \n",
              "23154         1266.72  2021     12  \n",
              "23163         1616.16  2021     12  \n",
              "23306         1041.88  2021     12  \n",
              "\n",
              "[601 rows x 8 columns]"
            ],
            "text/html": [
              "\n",
              "  <div id=\"df-d35a9ebe-9282-455d-9448-fa620fae56fb\">\n",
              "    <div class=\"colab-df-container\">\n",
              "      <div>\n",
              "<style scoped>\n",
              "    .dataframe tbody tr th:only-of-type {\n",
              "        vertical-align: middle;\n",
              "    }\n",
              "\n",
              "    .dataframe tbody tr th {\n",
              "        vertical-align: top;\n",
              "    }\n",
              "\n",
              "    .dataframe thead th {\n",
              "        text-align: right;\n",
              "    }\n",
              "</style>\n",
              "<table border=\"1\" class=\"dataframe\">\n",
              "  <thead>\n",
              "    <tr style=\"text-align: right;\">\n",
              "      <th></th>\n",
              "      <th>Category</th>\n",
              "      <th>portion</th>\n",
              "      <th>current</th>\n",
              "      <th>voltage</th>\n",
              "      <th>consumption</th>\n",
              "      <th>energy_Charges</th>\n",
              "      <th>Year</th>\n",
              "      <th>Month</th>\n",
              "    </tr>\n",
              "  </thead>\n",
              "  <tbody>\n",
              "    <tr>\n",
              "      <th>15</th>\n",
              "      <td>LV Commercial</td>\n",
              "      <td>P17_41</td>\n",
              "      <td>3.037540</td>\n",
              "      <td>234.0</td>\n",
              "      <td>435.0</td>\n",
              "      <td>1535.55</td>\n",
              "      <td>2019</td>\n",
              "      <td>1</td>\n",
              "    </tr>\n",
              "    <tr>\n",
              "      <th>25</th>\n",
              "      <td>LV Commercial</td>\n",
              "      <td>P17_41</td>\n",
              "      <td>2.953746</td>\n",
              "      <td>234.0</td>\n",
              "      <td>423.0</td>\n",
              "      <td>1493.19</td>\n",
              "      <td>2019</td>\n",
              "      <td>1</td>\n",
              "    </tr>\n",
              "    <tr>\n",
              "      <th>31</th>\n",
              "      <td>LV Commercial</td>\n",
              "      <td>P17_41</td>\n",
              "      <td>2.918831</td>\n",
              "      <td>234.0</td>\n",
              "      <td>418.0</td>\n",
              "      <td>1475.54</td>\n",
              "      <td>2019</td>\n",
              "      <td>1</td>\n",
              "    </tr>\n",
              "    <tr>\n",
              "      <th>41</th>\n",
              "      <td>LV Commercial</td>\n",
              "      <td>P17_41</td>\n",
              "      <td>2.890900</td>\n",
              "      <td>234.0</td>\n",
              "      <td>414.0</td>\n",
              "      <td>1461.42</td>\n",
              "      <td>2019</td>\n",
              "      <td>1</td>\n",
              "    </tr>\n",
              "    <tr>\n",
              "      <th>45</th>\n",
              "      <td>LV Commercial</td>\n",
              "      <td>P17_41</td>\n",
              "      <td>2.800123</td>\n",
              "      <td>234.0</td>\n",
              "      <td>401.0</td>\n",
              "      <td>1415.53</td>\n",
              "      <td>2019</td>\n",
              "      <td>1</td>\n",
              "    </tr>\n",
              "    <tr>\n",
              "      <th>...</th>\n",
              "      <td>...</td>\n",
              "      <td>...</td>\n",
              "      <td>...</td>\n",
              "      <td>...</td>\n",
              "      <td>...</td>\n",
              "      <td>...</td>\n",
              "      <td>...</td>\n",
              "      <td>...</td>\n",
              "    </tr>\n",
              "    <tr>\n",
              "      <th>23150</th>\n",
              "      <td>LV Temporary</td>\n",
              "      <td>P17_41</td>\n",
              "      <td>2.234512</td>\n",
              "      <td>234.0</td>\n",
              "      <td>320.0</td>\n",
              "      <td>1164.80</td>\n",
              "      <td>2021</td>\n",
              "      <td>12</td>\n",
              "    </tr>\n",
              "    <tr>\n",
              "      <th>23151</th>\n",
              "      <td>LV Temporary</td>\n",
              "      <td>P17_41</td>\n",
              "      <td>2.667449</td>\n",
              "      <td>234.0</td>\n",
              "      <td>382.0</td>\n",
              "      <td>1390.48</td>\n",
              "      <td>2021</td>\n",
              "      <td>12</td>\n",
              "    </tr>\n",
              "    <tr>\n",
              "      <th>23154</th>\n",
              "      <td>LV Temporary</td>\n",
              "      <td>P17_41</td>\n",
              "      <td>2.430032</td>\n",
              "      <td>234.0</td>\n",
              "      <td>348.0</td>\n",
              "      <td>1266.72</td>\n",
              "      <td>2021</td>\n",
              "      <td>12</td>\n",
              "    </tr>\n",
              "    <tr>\n",
              "      <th>23163</th>\n",
              "      <td>LV Temporary</td>\n",
              "      <td>P17_41</td>\n",
              "      <td>3.100385</td>\n",
              "      <td>234.0</td>\n",
              "      <td>444.0</td>\n",
              "      <td>1616.16</td>\n",
              "      <td>2021</td>\n",
              "      <td>12</td>\n",
              "    </tr>\n",
              "    <tr>\n",
              "      <th>23306</th>\n",
              "      <td>LV Urban Domestic Customers</td>\n",
              "      <td>P17_40</td>\n",
              "      <td>3.079437</td>\n",
              "      <td>234.0</td>\n",
              "      <td>441.0</td>\n",
              "      <td>1041.88</td>\n",
              "      <td>2021</td>\n",
              "      <td>12</td>\n",
              "    </tr>\n",
              "  </tbody>\n",
              "</table>\n",
              "<p>601 rows × 8 columns</p>\n",
              "</div>\n",
              "      <button class=\"colab-df-convert\" onclick=\"convertToInteractive('df-d35a9ebe-9282-455d-9448-fa620fae56fb')\"\n",
              "              title=\"Convert this dataframe to an interactive table.\"\n",
              "              style=\"display:none;\">\n",
              "        \n",
              "  <svg xmlns=\"http://www.w3.org/2000/svg\" height=\"24px\"viewBox=\"0 0 24 24\"\n",
              "       width=\"24px\">\n",
              "    <path d=\"M0 0h24v24H0V0z\" fill=\"none\"/>\n",
              "    <path d=\"M18.56 5.44l.94 2.06.94-2.06 2.06-.94-2.06-.94-.94-2.06-.94 2.06-2.06.94zm-11 1L8.5 8.5l.94-2.06 2.06-.94-2.06-.94L8.5 2.5l-.94 2.06-2.06.94zm10 10l.94 2.06.94-2.06 2.06-.94-2.06-.94-.94-2.06-.94 2.06-2.06.94z\"/><path d=\"M17.41 7.96l-1.37-1.37c-.4-.4-.92-.59-1.43-.59-.52 0-1.04.2-1.43.59L10.3 9.45l-7.72 7.72c-.78.78-.78 2.05 0 2.83L4 21.41c.39.39.9.59 1.41.59.51 0 1.02-.2 1.41-.59l7.78-7.78 2.81-2.81c.8-.78.8-2.07 0-2.86zM5.41 20L4 18.59l7.72-7.72 1.47 1.35L5.41 20z\"/>\n",
              "  </svg>\n",
              "      </button>\n",
              "      \n",
              "  <style>\n",
              "    .colab-df-container {\n",
              "      display:flex;\n",
              "      flex-wrap:wrap;\n",
              "      gap: 12px;\n",
              "    }\n",
              "\n",
              "    .colab-df-convert {\n",
              "      background-color: #E8F0FE;\n",
              "      border: none;\n",
              "      border-radius: 50%;\n",
              "      cursor: pointer;\n",
              "      display: none;\n",
              "      fill: #1967D2;\n",
              "      height: 32px;\n",
              "      padding: 0 0 0 0;\n",
              "      width: 32px;\n",
              "    }\n",
              "\n",
              "    .colab-df-convert:hover {\n",
              "      background-color: #E2EBFA;\n",
              "      box-shadow: 0px 1px 2px rgba(60, 64, 67, 0.3), 0px 1px 3px 1px rgba(60, 64, 67, 0.15);\n",
              "      fill: #174EA6;\n",
              "    }\n",
              "\n",
              "    [theme=dark] .colab-df-convert {\n",
              "      background-color: #3B4455;\n",
              "      fill: #D2E3FC;\n",
              "    }\n",
              "\n",
              "    [theme=dark] .colab-df-convert:hover {\n",
              "      background-color: #434B5C;\n",
              "      box-shadow: 0px 1px 3px 1px rgba(0, 0, 0, 0.15);\n",
              "      filter: drop-shadow(0px 1px 2px rgba(0, 0, 0, 0.3));\n",
              "      fill: #FFFFFF;\n",
              "    }\n",
              "  </style>\n",
              "\n",
              "      <script>\n",
              "        const buttonEl =\n",
              "          document.querySelector('#df-d35a9ebe-9282-455d-9448-fa620fae56fb button.colab-df-convert');\n",
              "        buttonEl.style.display =\n",
              "          google.colab.kernel.accessAllowed ? 'block' : 'none';\n",
              "\n",
              "        async function convertToInteractive(key) {\n",
              "          const element = document.querySelector('#df-d35a9ebe-9282-455d-9448-fa620fae56fb');\n",
              "          const dataTable =\n",
              "            await google.colab.kernel.invokeFunction('convertToInteractive',\n",
              "                                                     [key], {});\n",
              "          if (!dataTable) return;\n",
              "\n",
              "          const docLinkHtml = 'Like what you see? Visit the ' +\n",
              "            '<a target=\"_blank\" href=https://colab.research.google.com/notebooks/data_table.ipynb>data table notebook</a>'\n",
              "            + ' to learn more about interactive tables.';\n",
              "          element.innerHTML = '';\n",
              "          dataTable['output_type'] = 'display_data';\n",
              "          await google.colab.output.renderOutput(dataTable, element);\n",
              "          const docLink = document.createElement('div');\n",
              "          docLink.innerHTML = docLinkHtml;\n",
              "          element.appendChild(docLink);\n",
              "        }\n",
              "      </script>\n",
              "    </div>\n",
              "  </div>\n",
              "  "
            ]
          },
          "metadata": {},
          "execution_count": 307
        }
      ],
      "source": [
        "df2[(df2.energy_Charges < ll)  | (df2.energy_Charges > ul)]"
      ]
    },
    {
      "cell_type": "code",
      "execution_count": 308,
      "metadata": {
        "colab": {
          "base_uri": "https://localhost:8080/"
        },
        "id": "zyJOESxMjoAF",
        "outputId": "8317c084-1793-4f71-ab9d-31c915057836"
      },
      "outputs": [
        {
          "output_type": "execute_result",
          "data": {
            "text/plain": [
              "(15062, 8)"
            ]
          },
          "metadata": {},
          "execution_count": 308
        }
      ],
      "source": [
        "df3 = df2[(df2.energy_Charges > ll) & (df2.energy_Charges < ul)]\n",
        "df3.shape"
      ]
    },
    {
      "cell_type": "markdown",
      "metadata": {
        "id": "mU26d2rzTCyC"
      },
      "source": [
        "# 5.  EDA and VISUALIZATION"
      ]
    },
    {
      "cell_type": "code",
      "execution_count": 309,
      "metadata": {
        "colab": {
          "base_uri": "https://localhost:8080/",
          "height": 0
        },
        "id": "pxAHMihFTME5",
        "outputId": "144f044d-cb3b-43f3-c770-f1f1275f8ec9"
      },
      "outputs": [
        {
          "output_type": "execute_result",
          "data": {
            "text/plain": [
              "Text(0.5, 1.0, 'Yearly Change of Consumption')"
            ]
          },
          "metadata": {},
          "execution_count": 309
        },
        {
          "output_type": "display_data",
          "data": {
            "text/plain": [
              "<Figure size 720x504 with 1 Axes>"
            ],
            "image/png": "[encoded data removed]"
          },
          "metadata": {
            "needs_background": "light"
          }
        }
      ],
      "source": [
        "#yearly change of Consumption\n",
        "\n",
        "plt.figure(figsize=(10,7))\n",
        "sns.lineplot(x=\"Year\", y=\"consumption\", color='green',data=df3)\n",
        "plt.xticks=(2019,2020,2021)\n",
        "plt.title(\"Yearly Change of Consumption\")"
      ]
    },
    {
      "cell_type": "code",
      "execution_count": 310,
      "metadata": {
        "colab": {
          "base_uri": "https://localhost:8080/",
          "height": 0
        },
        "id": "A4p0go3VWFL0",
        "outputId": "1aee3ebb-1ce8-475b-ef19-302533238206"
      },
      "outputs": [
        {
          "output_type": "execute_result",
          "data": {
            "text/plain": [
              "Text(0.5, 1.0, 'Yearly Change of Consumption')"
            ]
          },
          "metadata": {},
          "execution_count": 310
        },
        {
          "output_type": "display_data",
          "data": {
            "text/plain": [
              "<Figure size 720x504 with 1 Axes>"
            ],
            "image/png": "[encoded data removed]"
          },
          "metadata": {
            "needs_background": "light"
          }
        }
      ],
      "source": [
        "plt.figure(figsize=(10,7))\n",
        "sns.barplot(x=\"Year\", y=\"consumption\",data=df3)\n",
        "plt.title(\"Yearly Change of Consumption\")"
      ]
    },
    {
      "cell_type": "code",
      "execution_count": 311,
      "metadata": {
        "colab": {
          "base_uri": "https://localhost:8080/",
          "height": 0
        },
        "id": "8TAm8-HFWRj-",
        "outputId": "de999b5b-0142-4fcb-9557-fd39cb7ce26d"
      },
      "outputs": [
        {
          "output_type": "execute_result",
          "data": {
            "text/plain": [
              "Text(0.5, 1.0, 'Yearly Change of Energy_Charges')"
            ]
          },
          "metadata": {},
          "execution_count": 311
        },
        {
          "output_type": "display_data",
          "data": {
            "text/plain": [
              "<Figure size 720x504 with 1 Axes>"
            ],
            "image/png": "[encoded data removed]"
          },
          "metadata": {
            "needs_background": "light"
          }
        }
      ],
      "source": [
        "#yearly change of Energy_Charges\n",
        "plt.figure(figsize=(10,7))\n",
        "sns.lineplot(x=\"Year\", y=\"energy_Charges\",color='green',data=df3)\n",
        "plt.title(\"Yearly Change of Energy_Charges\")"
      ]
    },
    {
      "cell_type": "code",
      "execution_count": 312,
      "metadata": {
        "colab": {
          "base_uri": "https://localhost:8080/",
          "height": 0
        },
        "id": "sHZDdJUKZzCL",
        "outputId": "b76d5e4c-f409-4661-81c2-720f7f27525b"
      },
      "outputs": [
        {
          "output_type": "execute_result",
          "data": {
            "text/plain": [
              "Text(0.5, 1.0, 'Yearly Change of Energy_Charges')"
            ]
          },
          "metadata": {},
          "execution_count": 312
        },
        {
          "output_type": "display_data",
          "data": {
            "text/plain": [
              "<Figure size 720x504 with 1 Axes>"
            ],
            "image/png": "[encoded data removed]"
          },
          "metadata": {
            "needs_background": "light"
          }
        }
      ],
      "source": [
        "#yearly change of Energy_Charges\n",
        "plt.figure(figsize=(10,7))\n",
        "sns.barplot(x=\"Category\", y=\"energy_Charges\",data=df3)\n",
        "plt.title(\"Yearly Change of Energy_Charges\")"
      ]
    },
    {
      "cell_type": "code",
      "execution_count": 313,
      "metadata": {
        "colab": {
          "base_uri": "https://localhost:8080/",
          "height": 0
        },
        "id": "DP7PsduhWtde",
        "outputId": "f29ec048-4bf9-42cf-a66a-52f160d03f3a"
      },
      "outputs": [
        {
          "output_type": "execute_result",
          "data": {
            "text/plain": [
              "Text(0.5, 1.0, 'Yearly Change of Energy_Charges')"
            ]
          },
          "metadata": {},
          "execution_count": 313
        },
        {
          "output_type": "display_data",
          "data": {
            "text/plain": [
              "<Figure size 576x576 with 1 Axes>"
            ],
            "image/png": "[encoded data removed]"
          },
          "metadata": {
            "needs_background": "light"
          }
        }
      ],
      "source": [
        "plt.figure(figsize=(8,8))\n",
        "sns.barplot(x=\"Year\", y=\"energy_Charges\",data=df3)\n",
        "plt.title(\"Yearly Change of Energy_Charges\")"
      ]
    },
    {
      "cell_type": "code",
      "execution_count": 314,
      "metadata": {
        "colab": {
          "base_uri": "https://localhost:8080/",
          "height": 0
        },
        "id": "_UKbw89PXF1w",
        "outputId": "bfaf4582-f2bb-427b-aa97-137ee7007feb"
      },
      "outputs": [
        {
          "output_type": "execute_result",
          "data": {
            "text/plain": [
              "Text(0.5, 1.0, 'Change in Consumption with respect to Current')"
            ]
          },
          "metadata": {},
          "execution_count": 314
        },
        {
          "output_type": "display_data",
          "data": {
            "text/plain": [
              "<Figure size 720x432 with 1 Axes>"
            ],
            "image/png": "[encoded data removed]"
          },
          "metadata": {
            "needs_background": "light"
          }
        }
      ],
      "source": [
        "# Change in Consumption with respect to Current\n",
        "\n",
        "plt.figure(figsize=(10,6))\n",
        "sns.lineplot(x=\"current\", y=\"consumption\",data=df3)\n",
        "plt.title(\"Change in Consumption with respect to Current\")"
      ]
    },
    {
      "cell_type": "code",
      "execution_count": 315,
      "metadata": {
        "colab": {
          "base_uri": "https://localhost:8080/",
          "height": 0
        },
        "id": "XQXYwZiiW0_U",
        "outputId": "0a65ca9b-e2f3-419b-95bf-a77b2cf59061"
      },
      "outputs": [
        {
          "output_type": "execute_result",
          "data": {
            "text/plain": [
              "Text(0.5, 1.0, 'Change in Consumption with respect to Current')"
            ]
          },
          "metadata": {},
          "execution_count": 315
        },
        {
          "output_type": "display_data",
          "data": {
            "text/plain": [
              "<Figure size 720x504 with 1 Axes>"
            ],
            "image/png": "[encoded data removed]"
          },
          "metadata": {
            "needs_background": "light"
          }
        }
      ],
      "source": [
        "plt.figure(figsize=(10,7))\n",
        "sns.barplot(x=\"current\", y=\"consumption\",data=df3)\n",
        "plt.title(\"Change in Consumption with respect to Current\")"
      ]
    },
    {
      "cell_type": "code",
      "execution_count": 316,
      "metadata": {
        "colab": {
          "base_uri": "https://localhost:8080/",
          "height": 0
        },
        "id": "xj2Ah1wdXeKl",
        "outputId": "aa0c1731-290d-4e55-eb7e-8b8d5bf1f54c"
      },
      "outputs": [
        {
          "output_type": "execute_result",
          "data": {
            "text/plain": [
              "Text(0.5, 1.0, 'Power Consumption of each Category')"
            ]
          },
          "metadata": {},
          "execution_count": 316
        },
        {
          "output_type": "display_data",
          "data": {
            "text/plain": [
              "<Figure size 720x432 with 1 Axes>"
            ],
            "image/png": "[encoded data removed]"
          },
          "metadata": {
            "needs_background": "light"
          }
        }
      ],
      "source": [
        "# Power Consumption of each Category\n",
        "\n",
        "plt.figure(figsize=(10,6))\n",
        "sns.lineplot(x=\"Category\", y=\"consumption\",data=df3)\n",
        "plt.title(\"Power Consumption of each Category\")"
      ]
    },
    {
      "cell_type": "code",
      "execution_count": 317,
      "metadata": {
        "colab": {
          "base_uri": "https://localhost:8080/",
          "height": 0
        },
        "id": "Q6cMMNYKX-VF",
        "outputId": "e58f932b-a770-4472-b0e6-d2bee1dadf5c"
      },
      "outputs": [
        {
          "output_type": "execute_result",
          "data": {
            "text/plain": [
              "Text(0.5, 1.0, 'Power Consumption of each Category')"
            ]
          },
          "metadata": {},
          "execution_count": 317
        },
        {
          "output_type": "display_data",
          "data": {
            "text/plain": [
              "<Figure size 432x288 with 1 Axes>"
            ],
            "image/png": "[encoded data removed]"
          },
          "metadata": {
            "needs_background": "light"
          }
        }
      ],
      "source": [
        "# plt.figure(figsize=(10,7))\n",
        "sns.barplot(x=\"Category\", y=\"consumption\",data=df3)\n",
        "plt.title(\"Power Consumption of each Category\")\n",
        "# plt.xticks(fontsize = 11, rotation=90)"
      ]
    },
    {
      "cell_type": "code",
      "execution_count": 318,
      "metadata": {
        "colab": {
          "base_uri": "https://localhost:8080/",
          "height": 0
        },
        "id": "1lrvQsEYXwDE",
        "outputId": "37251f3d-9ad6-43d9-db8f-e0c577c96576"
      },
      "outputs": [
        {
          "output_type": "execute_result",
          "data": {
            "text/plain": [
              "Text(0.5, 1.0, 'Power Consumption of each Portion')"
            ]
          },
          "metadata": {},
          "execution_count": 318
        },
        {
          "output_type": "display_data",
          "data": {
            "text/plain": [
              "<Figure size 720x504 with 1 Axes>"
            ],
            "image/png": "[encoded data removed]"
          },
          "metadata": {
            "needs_background": "light"
          }
        }
      ],
      "source": [
        "# Power Consumption in each Portion\n",
        "\n",
        "plt.figure(figsize=(10,7))\n",
        "sns.lineplot(x=\"portion\", y=\"consumption\",data=df3)\n",
        "plt.title(\"Power Consumption of each Portion\")"
      ]
    },
    {
      "cell_type": "code",
      "execution_count": 319,
      "metadata": {
        "colab": {
          "base_uri": "https://localhost:8080/",
          "height": 0
        },
        "id": "TLBpHNjKYZ9y",
        "outputId": "b81bad7c-138c-4612-93e7-9a134ee9194a"
      },
      "outputs": [
        {
          "output_type": "execute_result",
          "data": {
            "text/plain": [
              "Text(0.5, 1.0, 'Power Consumption of each Portion')"
            ]
          },
          "metadata": {},
          "execution_count": 319
        },
        {
          "output_type": "display_data",
          "data": {
            "text/plain": [
              "<Figure size 720x504 with 1 Axes>"
            ],
            "image/png": "[encoded data removed]"
          },
          "metadata": {
            "needs_background": "light"
          }
        }
      ],
      "source": [
        "plt.figure(figsize=(10,7))\n",
        "sns.barplot(x=\"portion\", y=\"consumption\",data=df3)\n",
        "plt.title(\"Power Consumption of each Portion\")"
      ]
    },
    {
      "cell_type": "code",
      "execution_count": 320,
      "metadata": {
        "colab": {
          "base_uri": "https://localhost:8080/",
          "height": 0
        },
        "id": "qe6AjwnPrzfW",
        "outputId": "fc27b2b4-a36b-4b16-e2eb-e463519be4fc"
      },
      "outputs": [
        {
          "output_type": "execute_result",
          "data": {
            "text/plain": [
              "Text(0.5, 1.0, 'Monthly Power Consumption ')"
            ]
          },
          "metadata": {},
          "execution_count": 320
        },
        {
          "output_type": "display_data",
          "data": {
            "text/plain": [
              "<Figure size 720x432 with 1 Axes>"
            ],
            "image/png": "[encoded data removed]"
          },
          "metadata": {
            "needs_background": "light"
          }
        }
      ],
      "source": [
        "# Monthly Power Consumption \n",
        "\n",
        "plt.figure(figsize=(10,6))\n",
        "sns.lineplot(x=\"Month\", y=\"consumption\",color=\"green\",data=df3)\n",
        "plt.title(\"Monthly Power Consumption \")"
      ]
    },
    {
      "cell_type": "code",
      "execution_count": 321,
      "metadata": {
        "colab": {
          "base_uri": "https://localhost:8080/",
          "height": 0
        },
        "id": "oYyKI0xHiY0v",
        "outputId": "2bfaaab5-cf5b-4636-e7f1-077418add29b"
      },
      "outputs": [
        {
          "output_type": "display_data",
          "data": {
            "text/plain": [
              "<Figure size 720x504 with 2 Axes>"
            ],
            "image/png": "[encoded data removed]"
          },
          "metadata": {
            "needs_background": "light"
          }
        }
      ],
      "source": [
        "# corr = df3.corr()\n",
        "\n",
        "# plot the heatmap\n",
        "# sns.heatmap(corr, \n",
        "#         xticklabels=corr.columns,\n",
        "#         yticklabels=corr.columns)\n",
        "\n",
        "corrMatrix = df3.corr()\n",
        "plt.figure(figsize=(10,7))\n",
        "sns.heatmap(corrMatrix, annot=True,cmap= 'coolwarm', linewidths=3, linecolor='black')\n",
        "plt.show()"
      ]
    },
    {
      "cell_type": "code",
      "execution_count": 322,
      "metadata": {
        "colab": {
          "base_uri": "https://localhost:8080/",
          "height": 0
        },
        "id": "Aj2XjFy3kovc",
        "outputId": "7886f03a-a5dc-4c89-ab3c-1d07605ca150"
      },
      "outputs": [
        {
          "output_type": "display_data",
          "data": {
            "text/plain": [
              "<Figure size 1080x1080 with 42 Axes>"
            ],
            "image/png": "[encoded data removed]"
          },
          "metadata": {
            "needs_background": "light"
          }
        }
      ],
      "source": [
        " sns.pairplot(df3)\n",
        " plt.show()"
      ]
    },
    {
      "cell_type": "markdown",
      "metadata": {
        "id": "61gLOy9wel71"
      },
      "source": [
        "# 6. ENCODING"
      ]
    },
    {
      "cell_type": "code",
      "execution_count": 323,
      "metadata": {
        "colab": {
          "base_uri": "https://localhost:8080/",
          "height": 206
        },
        "id": "XwgFycPUNvjp",
        "outputId": "838ac29f-ee96-4c6f-e086-ddb40b39f59e"
      },
      "outputs": [
        {
          "output_type": "execute_result",
          "data": {
            "text/plain": [
              "                          Category portion   current  voltage  consumption  \\\n",
              "23596  LV Urban Domestic Customers  P17_41  1.047428    234.0        150.0   \n",
              "23601  LV Urban Domestic Customers  P17_41  1.585107    234.0        227.0   \n",
              "23603  LV Urban Domestic Customers  P17_41  1.529244    234.0        219.0   \n",
              "23604  LV Urban Domestic Customers  P17_41  0.628457    234.0         90.0   \n",
              "23606  LV Urban Domestic Customers  P17_41  0.279314    234.0         40.0   \n",
              "\n",
              "       energy_Charges  Year  Month  \n",
              "23596          262.00  2021     12  \n",
              "23601          468.36  2021     12  \n",
              "23603          446.92  2021     12  \n",
              "23604          115.20  2021     12  \n",
              "23606           51.20  2021     12  "
            ],
            "text/html": [
              "\n",
              "  <div id=\"df-d08f3bc1-dd08-4f47-a2ea-f36129bcd441\">\n",
              "    <div class=\"colab-df-container\">\n",
              "      <div>\n",
              "<style scoped>\n",
              "    .dataframe tbody tr th:only-of-type {\n",
              "        vertical-align: middle;\n",
              "    }\n",
              "\n",
              "    .dataframe tbody tr th {\n",
              "        vertical-align: top;\n",
              "    }\n",
              "\n",
              "    .dataframe thead th {\n",
              "        text-align: right;\n",
              "    }\n",
              "</style>\n",
              "<table border=\"1\" class=\"dataframe\">\n",
              "  <thead>\n",
              "    <tr style=\"text-align: right;\">\n",
              "      <th></th>\n",
              "      <th>Category</th>\n",
              "      <th>portion</th>\n",
              "      <th>current</th>\n",
              "      <th>voltage</th>\n",
              "      <th>consumption</th>\n",
              "      <th>energy_Charges</th>\n",
              "      <th>Year</th>\n",
              "      <th>Month</th>\n",
              "    </tr>\n",
              "  </thead>\n",
              "  <tbody>\n",
              "    <tr>\n",
              "      <th>23596</th>\n",
              "      <td>LV Urban Domestic Customers</td>\n",
              "      <td>P17_41</td>\n",
              "      <td>1.047428</td>\n",
              "      <td>234.0</td>\n",
              "      <td>150.0</td>\n",
              "      <td>262.00</td>\n",
              "      <td>2021</td>\n",
              "      <td>12</td>\n",
              "    </tr>\n",
              "    <tr>\n",
              "      <th>23601</th>\n",
              "      <td>LV Urban Domestic Customers</td>\n",
              "      <td>P17_41</td>\n",
              "      <td>1.585107</td>\n",
              "      <td>234.0</td>\n",
              "      <td>227.0</td>\n",
              "      <td>468.36</td>\n",
              "      <td>2021</td>\n",
              "      <td>12</td>\n",
              "    </tr>\n",
              "    <tr>\n",
              "      <th>23603</th>\n",
              "      <td>LV Urban Domestic Customers</td>\n",
              "      <td>P17_41</td>\n",
              "      <td>1.529244</td>\n",
              "      <td>234.0</td>\n",
              "      <td>219.0</td>\n",
              "      <td>446.92</td>\n",
              "      <td>2021</td>\n",
              "      <td>12</td>\n",
              "    </tr>\n",
              "    <tr>\n",
              "      <th>23604</th>\n",
              "      <td>LV Urban Domestic Customers</td>\n",
              "      <td>P17_41</td>\n",
              "      <td>0.628457</td>\n",
              "      <td>234.0</td>\n",
              "      <td>90.0</td>\n",
              "      <td>115.20</td>\n",
              "      <td>2021</td>\n",
              "      <td>12</td>\n",
              "    </tr>\n",
              "    <tr>\n",
              "      <th>23606</th>\n",
              "      <td>LV Urban Domestic Customers</td>\n",
              "      <td>P17_41</td>\n",
              "      <td>0.279314</td>\n",
              "      <td>234.0</td>\n",
              "      <td>40.0</td>\n",
              "      <td>51.20</td>\n",
              "      <td>2021</td>\n",
              "      <td>12</td>\n",
              "    </tr>\n",
              "  </tbody>\n",
              "</table>\n",
              "</div>\n",
              "      <button class=\"colab-df-convert\" onclick=\"convertToInteractive('df-d08f3bc1-dd08-4f47-a2ea-f36129bcd441')\"\n",
              "              title=\"Convert this dataframe to an interactive table.\"\n",
              "              style=\"display:none;\">\n",
              "        \n",
              "  <svg xmlns=\"http://www.w3.org/2000/svg\" height=\"24px\"viewBox=\"0 0 24 24\"\n",
              "       width=\"24px\">\n",
              "    <path d=\"M0 0h24v24H0V0z\" fill=\"none\"/>\n",
              "    <path d=\"M18.56 5.44l.94 2.06.94-2.06 2.06-.94-2.06-.94-.94-2.06-.94 2.06-2.06.94zm-11 1L8.5 8.5l.94-2.06 2.06-.94-2.06-.94L8.5 2.5l-.94 2.06-2.06.94zm10 10l.94 2.06.94-2.06 2.06-.94-2.06-.94-.94-2.06-.94 2.06-2.06.94z\"/><path d=\"M17.41 7.96l-1.37-1.37c-.4-.4-.92-.59-1.43-.59-.52 0-1.04.2-1.43.59L10.3 9.45l-7.72 7.72c-.78.78-.78 2.05 0 2.83L4 21.41c.39.39.9.59 1.41.59.51 0 1.02-.2 1.41-.59l7.78-7.78 2.81-2.81c.8-.78.8-2.07 0-2.86zM5.41 20L4 18.59l7.72-7.72 1.47 1.35L5.41 20z\"/>\n",
              "  </svg>\n",
              "      </button>\n",
              "      \n",
              "  <style>\n",
              "    .colab-df-container {\n",
              "      display:flex;\n",
              "      flex-wrap:wrap;\n",
              "      gap: 12px;\n",
              "    }\n",
              "\n",
              "    .colab-df-convert {\n",
              "      background-color: #E8F0FE;\n",
              "      border: none;\n",
              "      border-radius: 50%;\n",
              "      cursor: pointer;\n",
              "      display: none;\n",
              "      fill: #1967D2;\n",
              "      height: 32px;\n",
              "      padding: 0 0 0 0;\n",
              "      width: 32px;\n",
              "    }\n",
              "\n",
              "    .colab-df-convert:hover {\n",
              "      background-color: #E2EBFA;\n",
              "      box-shadow: 0px 1px 2px rgba(60, 64, 67, 0.3), 0px 1px 3px 1px rgba(60, 64, 67, 0.15);\n",
              "      fill: #174EA6;\n",
              "    }\n",
              "\n",
              "    [theme=dark] .colab-df-convert {\n",
              "      background-color: #3B4455;\n",
              "      fill: #D2E3FC;\n",
              "    }\n",
              "\n",
              "    [theme=dark] .colab-df-convert:hover {\n",
              "      background-color: #434B5C;\n",
              "      box-shadow: 0px 1px 3px 1px rgba(0, 0, 0, 0.15);\n",
              "      filter: drop-shadow(0px 1px 2px rgba(0, 0, 0, 0.3));\n",
              "      fill: #FFFFFF;\n",
              "    }\n",
              "  </style>\n",
              "\n",
              "      <script>\n",
              "        const buttonEl =\n",
              "          document.querySelector('#df-d08f3bc1-dd08-4f47-a2ea-f36129bcd441 button.colab-df-convert');\n",
              "        buttonEl.style.display =\n",
              "          google.colab.kernel.accessAllowed ? 'block' : 'none';\n",
              "\n",
              "        async function convertToInteractive(key) {\n",
              "          const element = document.querySelector('#df-d08f3bc1-dd08-4f47-a2ea-f36129bcd441');\n",
              "          const dataTable =\n",
              "            await google.colab.kernel.invokeFunction('convertToInteractive',\n",
              "                                                     [key], {});\n",
              "          if (!dataTable) return;\n",
              "\n",
              "          const docLinkHtml = 'Like what you see? Visit the ' +\n",
              "            '<a target=\"_blank\" href=https://colab.research.google.com/notebooks/data_table.ipynb>data table notebook</a>'\n",
              "            + ' to learn more about interactive tables.';\n",
              "          element.innerHTML = '';\n",
              "          dataTable['output_type'] = 'display_data';\n",
              "          await google.colab.output.renderOutput(dataTable, element);\n",
              "          const docLink = document.createElement('div');\n",
              "          docLink.innerHTML = docLinkHtml;\n",
              "          element.appendChild(docLink);\n",
              "        }\n",
              "      </script>\n",
              "    </div>\n",
              "  </div>\n",
              "  "
            ]
          },
          "metadata": {},
          "execution_count": 323
        }
      ],
      "source": [
        "df3.tail()"
      ]
    },
    {
      "cell_type": "code",
      "execution_count": 324,
      "metadata": {
        "colab": {
          "base_uri": "https://localhost:8080/"
        },
        "id": "rPMopw2rxW7Y",
        "outputId": "bbd396dd-7cd8-4d63-f862-ea532fd7fb5f"
      },
      "outputs": [
        {
          "output_type": "stream",
          "name": "stdout",
          "text": [
            "Category : 12\n",
            "portion : 2\n",
            "current : 1845\n",
            "voltage : 1\n",
            "consumption : 1845\n",
            "energy_Charges : 3170\n",
            "Year : 3\n",
            "Month : 12\n"
          ]
        }
      ],
      "source": [
        "# unique values in each columns\n",
        "for x in df3.columns:\n",
        "    #prinfting unique values\n",
        "    print(x ,':', len(df3[x].unique()))"
      ]
    },
    {
      "cell_type": "code",
      "execution_count": 325,
      "metadata": {
        "colab": {
          "base_uri": "https://localhost:8080/"
        },
        "id": "1OmaT1J0UNTp",
        "outputId": "bc0a30df-d5ca-4c28-b7dd-ff0139454a7f"
      },
      "outputs": [
        {
          "output_type": "execute_result",
          "data": {
            "text/plain": [
              "LV Urban Domestic Customers             10699\n",
              "LV Rural Domestic Customers              1412\n",
              "LV Commercial                            1257\n",
              "LV Institutional                          821\n",
              "LV Temporary                              306\n",
              "LV Rural-Community Lhakhangs              217\n",
              "LV Religious Institution customers        158\n",
              "LV Street light                            63\n",
              "LV Bulk                                    40\n",
              "LV Agricultural                            33\n",
              "LV Power house                             31\n",
              "LV Rural-cooperativs and Agriculture       25\n",
              "Name: Category, dtype: int64"
            ]
          },
          "metadata": {},
          "execution_count": 325
        }
      ],
      "source": [
        "df3['Category'].value_counts()"
      ]
    },
    {
      "cell_type": "code",
      "execution_count": 326,
      "metadata": {
        "colab": {
          "base_uri": "https://localhost:8080/"
        },
        "id": "jjuwdaXHZgzB",
        "outputId": "69a8f5f3-8df7-406b-c557-f266a394f0f2"
      },
      "outputs": [
        {
          "output_type": "stream",
          "name": "stdout",
          "text": [
            "    Category portion   current  voltage  consumption  energy_Charges  Year  \\\n",
            "0          0  P17_41  1.166136    234.0        167.0          589.51  2019   \n",
            "2          1  P17_41  0.000000    234.0          0.0            0.00  2019   \n",
            "10         2  P17_41  0.775096    234.0        111.0          391.83  2019   \n",
            "11         2  P17_41  1.180102    234.0        169.0          596.57  2019   \n",
            "13         2  P17_41  1.871404    234.0        268.0          946.04  2019   \n",
            "\n",
            "    Month  \n",
            "0       1  \n",
            "2       1  \n",
            "10      1  \n",
            "11      1  \n",
            "13      1  \n"
          ]
        },
        {
          "output_type": "stream",
          "name": "stderr",
          "text": [
            "/usr/local/lib/python3.7/dist-packages/ipykernel_launcher.py:2: SettingWithCopyWarning: \n",
            "A value is trying to be set on a copy of a slice from a DataFrame.\n",
            "Try using .loc[row_indexer,col_indexer] = value instead\n",
            "\n",
            "See the caveats in the documentation: https://pandas.pydata.org/pandas-docs/stable/user_guide/indexing.html#returning-a-view-versus-a-copy\n",
            "  \n"
          ]
        }
      ],
      "source": [
        "label_encoder = preprocessing.LabelEncoder()\n",
        "df3['Category'] = label_encoder.fit_transform(df3['Category'])\n",
        "print(df3.head())"
      ]
    },
    {
      "cell_type": "code",
      "execution_count": 327,
      "metadata": {
        "colab": {
          "base_uri": "https://localhost:8080/",
          "height": 423
        },
        "id": "UFww4vWRd-cb",
        "outputId": "b253d07e-5426-4925-96df-c72cb684fd9c"
      },
      "outputs": [
        {
          "output_type": "execute_result",
          "data": {
            "text/plain": [
              "     Category portion   current  voltage  consumption  energy_Charges  Year  \\\n",
              "0           0  P17_41  1.166136    234.0        167.0          589.51  2019   \n",
              "2           1  P17_41  0.000000    234.0          0.0            0.00  2019   \n",
              "10          2  P17_41  0.775096    234.0        111.0          391.83  2019   \n",
              "11          2  P17_41  1.180102    234.0        169.0          596.57  2019   \n",
              "13          2  P17_41  1.871404    234.0        268.0          946.04  2019   \n",
              "..        ...     ...       ...      ...          ...             ...   ...   \n",
              "152         6  P17_41  2.562706    234.0        367.0          772.51  2019   \n",
              "153         6  P17_41  0.733199    234.0        105.0           13.40  2019   \n",
              "154         6  P17_41  1.410536    234.0        202.0          273.36  2019   \n",
              "155         6  P17_41  1.096307    234.0        157.0          152.76  2019   \n",
              "156         6  P17_41  1.361656    234.0        195.0          254.60  2019   \n",
              "\n",
              "     Month  \n",
              "0        1  \n",
              "2        1  \n",
              "10       1  \n",
              "11       1  \n",
              "13       1  \n",
              "..     ...  \n",
              "152      1  \n",
              "153      1  \n",
              "154      1  \n",
              "155      1  \n",
              "156      1  \n",
              "\n",
              "[100 rows x 8 columns]"
            ],
            "text/html": [
              "\n",
              "  <div id=\"df-be67c4b7-7f98-4465-bab3-14c7b3588f62\">\n",
              "    <div class=\"colab-df-container\">\n",
              "      <div>\n",
              "<style scoped>\n",
              "    .dataframe tbody tr th:only-of-type {\n",
              "        vertical-align: middle;\n",
              "    }\n",
              "\n",
              "    .dataframe tbody tr th {\n",
              "        vertical-align: top;\n",
              "    }\n",
              "\n",
              "    .dataframe thead th {\n",
              "        text-align: right;\n",
              "    }\n",
              "</style>\n",
              "<table border=\"1\" class=\"dataframe\">\n",
              "  <thead>\n",
              "    <tr style=\"text-align: right;\">\n",
              "      <th></th>\n",
              "      <th>Category</th>\n",
              "      <th>portion</th>\n",
              "      <th>current</th>\n",
              "      <th>voltage</th>\n",
              "      <th>consumption</th>\n",
              "      <th>energy_Charges</th>\n",
              "      <th>Year</th>\n",
              "      <th>Month</th>\n",
              "    </tr>\n",
              "  </thead>\n",
              "  <tbody>\n",
              "    <tr>\n",
              "      <th>0</th>\n",
              "      <td>0</td>\n",
              "      <td>P17_41</td>\n",
              "      <td>1.166136</td>\n",
              "      <td>234.0</td>\n",
              "      <td>167.0</td>\n",
              "      <td>589.51</td>\n",
              "      <td>2019</td>\n",
              "      <td>1</td>\n",
              "    </tr>\n",
              "    <tr>\n",
              "      <th>2</th>\n",
              "      <td>1</td>\n",
              "      <td>P17_41</td>\n",
              "      <td>0.000000</td>\n",
              "      <td>234.0</td>\n",
              "      <td>0.0</td>\n",
              "      <td>0.00</td>\n",
              "      <td>2019</td>\n",
              "      <td>1</td>\n",
              "    </tr>\n",
              "    <tr>\n",
              "      <th>10</th>\n",
              "      <td>2</td>\n",
              "      <td>P17_41</td>\n",
              "      <td>0.775096</td>\n",
              "      <td>234.0</td>\n",
              "      <td>111.0</td>\n",
              "      <td>391.83</td>\n",
              "      <td>2019</td>\n",
              "      <td>1</td>\n",
              "    </tr>\n",
              "    <tr>\n",
              "      <th>11</th>\n",
              "      <td>2</td>\n",
              "      <td>P17_41</td>\n",
              "      <td>1.180102</td>\n",
              "      <td>234.0</td>\n",
              "      <td>169.0</td>\n",
              "      <td>596.57</td>\n",
              "      <td>2019</td>\n",
              "      <td>1</td>\n",
              "    </tr>\n",
              "    <tr>\n",
              "      <th>13</th>\n",
              "      <td>2</td>\n",
              "      <td>P17_41</td>\n",
              "      <td>1.871404</td>\n",
              "      <td>234.0</td>\n",
              "      <td>268.0</td>\n",
              "      <td>946.04</td>\n",
              "      <td>2019</td>\n",
              "      <td>1</td>\n",
              "    </tr>\n",
              "    <tr>\n",
              "      <th>...</th>\n",
              "      <td>...</td>\n",
              "      <td>...</td>\n",
              "      <td>...</td>\n",
              "      <td>...</td>\n",
              "      <td>...</td>\n",
              "      <td>...</td>\n",
              "      <td>...</td>\n",
              "      <td>...</td>\n",
              "    </tr>\n",
              "    <tr>\n",
              "      <th>152</th>\n",
              "      <td>6</td>\n",
              "      <td>P17_41</td>\n",
              "      <td>2.562706</td>\n",
              "      <td>234.0</td>\n",
              "      <td>367.0</td>\n",
              "      <td>772.51</td>\n",
              "      <td>2019</td>\n",
              "      <td>1</td>\n",
              "    </tr>\n",
              "    <tr>\n",
              "      <th>153</th>\n",
              "      <td>6</td>\n",
              "      <td>P17_41</td>\n",
              "      <td>0.733199</td>\n",
              "      <td>234.0</td>\n",
              "      <td>105.0</td>\n",
              "      <td>13.40</td>\n",
              "      <td>2019</td>\n",
              "      <td>1</td>\n",
              "    </tr>\n",
              "    <tr>\n",
              "      <th>154</th>\n",
              "      <td>6</td>\n",
              "      <td>P17_41</td>\n",
              "      <td>1.410536</td>\n",
              "      <td>234.0</td>\n",
              "      <td>202.0</td>\n",
              "      <td>273.36</td>\n",
              "      <td>2019</td>\n",
              "      <td>1</td>\n",
              "    </tr>\n",
              "    <tr>\n",
              "      <th>155</th>\n",
              "      <td>6</td>\n",
              "      <td>P17_41</td>\n",
              "      <td>1.096307</td>\n",
              "      <td>234.0</td>\n",
              "      <td>157.0</td>\n",
              "      <td>152.76</td>\n",
              "      <td>2019</td>\n",
              "      <td>1</td>\n",
              "    </tr>\n",
              "    <tr>\n",
              "      <th>156</th>\n",
              "      <td>6</td>\n",
              "      <td>P17_41</td>\n",
              "      <td>1.361656</td>\n",
              "      <td>234.0</td>\n",
              "      <td>195.0</td>\n",
              "      <td>254.60</td>\n",
              "      <td>2019</td>\n",
              "      <td>1</td>\n",
              "    </tr>\n",
              "  </tbody>\n",
              "</table>\n",
              "<p>100 rows × 8 columns</p>\n",
              "</div>\n",
              "      <button class=\"colab-df-convert\" onclick=\"convertToInteractive('df-be67c4b7-7f98-4465-bab3-14c7b3588f62')\"\n",
              "              title=\"Convert this dataframe to an interactive table.\"\n",
              "              style=\"display:none;\">\n",
              "        \n",
              "  <svg xmlns=\"http://www.w3.org/2000/svg\" height=\"24px\"viewBox=\"0 0 24 24\"\n",
              "       width=\"24px\">\n",
              "    <path d=\"M0 0h24v24H0V0z\" fill=\"none\"/>\n",
              "    <path d=\"M18.56 5.44l.94 2.06.94-2.06 2.06-.94-2.06-.94-.94-2.06-.94 2.06-2.06.94zm-11 1L8.5 8.5l.94-2.06 2.06-.94-2.06-.94L8.5 2.5l-.94 2.06-2.06.94zm10 10l.94 2.06.94-2.06 2.06-.94-2.06-.94-.94-2.06-.94 2.06-2.06.94z\"/><path d=\"M17.41 7.96l-1.37-1.37c-.4-.4-.92-.59-1.43-.59-.52 0-1.04.2-1.43.59L10.3 9.45l-7.72 7.72c-.78.78-.78 2.05 0 2.83L4 21.41c.39.39.9.59 1.41.59.51 0 1.02-.2 1.41-.59l7.78-7.78 2.81-2.81c.8-.78.8-2.07 0-2.86zM5.41 20L4 18.59l7.72-7.72 1.47 1.35L5.41 20z\"/>\n",
              "  </svg>\n",
              "      </button>\n",
              "      \n",
              "  <style>\n",
              "    .colab-df-container {\n",
              "      display:flex;\n",
              "      flex-wrap:wrap;\n",
              "      gap: 12px;\n",
              "    }\n",
              "\n",
              "    .colab-df-convert {\n",
              "      background-color: #E8F0FE;\n",
              "      border: none;\n",
              "      border-radius: 50%;\n",
              "      cursor: pointer;\n",
              "      display: none;\n",
              "      fill: #1967D2;\n",
              "      height: 32px;\n",
              "      padding: 0 0 0 0;\n",
              "      width: 32px;\n",
              "    }\n",
              "\n",
              "    .colab-df-convert:hover {\n",
              "      background-color: #E2EBFA;\n",
              "      box-shadow: 0px 1px 2px rgba(60, 64, 67, 0.3), 0px 1px 3px 1px rgba(60, 64, 67, 0.15);\n",
              "      fill: #174EA6;\n",
              "    }\n",
              "\n",
              "    [theme=dark] .colab-df-convert {\n",
              "      background-color: #3B4455;\n",
              "      fill: #D2E3FC;\n",
              "    }\n",
              "\n",
              "    [theme=dark] .colab-df-convert:hover {\n",
              "      background-color: #434B5C;\n",
              "      box-shadow: 0px 1px 3px 1px rgba(0, 0, 0, 0.15);\n",
              "      filter: drop-shadow(0px 1px 2px rgba(0, 0, 0, 0.3));\n",
              "      fill: #FFFFFF;\n",
              "    }\n",
              "  </style>\n",
              "\n",
              "      <script>\n",
              "        const buttonEl =\n",
              "          document.querySelector('#df-be67c4b7-7f98-4465-bab3-14c7b3588f62 button.colab-df-convert');\n",
              "        buttonEl.style.display =\n",
              "          google.colab.kernel.accessAllowed ? 'block' : 'none';\n",
              "\n",
              "        async function convertToInteractive(key) {\n",
              "          const element = document.querySelector('#df-be67c4b7-7f98-4465-bab3-14c7b3588f62');\n",
              "          const dataTable =\n",
              "            await google.colab.kernel.invokeFunction('convertToInteractive',\n",
              "                                                     [key], {});\n",
              "          if (!dataTable) return;\n",
              "\n",
              "          const docLinkHtml = 'Like what you see? Visit the ' +\n",
              "            '<a target=\"_blank\" href=https://colab.research.google.com/notebooks/data_table.ipynb>data table notebook</a>'\n",
              "            + ' to learn more about interactive tables.';\n",
              "          element.innerHTML = '';\n",
              "          dataTable['output_type'] = 'display_data';\n",
              "          await google.colab.output.renderOutput(dataTable, element);\n",
              "          const docLink = document.createElement('div');\n",
              "          docLink.innerHTML = docLinkHtml;\n",
              "          element.appendChild(docLink);\n",
              "        }\n",
              "      </script>\n",
              "    </div>\n",
              "  </div>\n",
              "  "
            ]
          },
          "metadata": {},
          "execution_count": 327
        }
      ],
      "source": [
        "df3.head(100)"
      ]
    },
    {
      "cell_type": "code",
      "execution_count": 328,
      "metadata": {
        "colab": {
          "base_uri": "https://localhost:8080/"
        },
        "id": "5xt5epFNWvM3",
        "outputId": "de0c65b1-59cd-4eba-eb0b-a4c2c2b8a07b"
      },
      "outputs": [
        {
          "output_type": "execute_result",
          "data": {
            "text/plain": [
              "array([ 0,  1,  2,  3,  4,  5,  6,  7,  9, 10, 11,  8])"
            ]
          },
          "metadata": {},
          "execution_count": 328
        }
      ],
      "source": [
        "df3.Category.unique()"
      ]
    },
    {
      "cell_type": "code",
      "execution_count": 329,
      "metadata": {
        "colab": {
          "base_uri": "https://localhost:8080/"
        },
        "id": "EHnOaMldf4Af",
        "outputId": "92111ea7-8424-49ad-8428-40ce34a237a3"
      },
      "outputs": [
        {
          "output_type": "execute_result",
          "data": {
            "text/plain": [
              "P17_41    10391\n",
              "P17_40     4671\n",
              "Name: portion, dtype: int64"
            ]
          },
          "metadata": {},
          "execution_count": 329
        }
      ],
      "source": [
        "df3['portion'].value_counts()"
      ]
    },
    {
      "cell_type": "code",
      "execution_count": 330,
      "metadata": {
        "colab": {
          "base_uri": "https://localhost:8080/"
        },
        "id": "F4reHYR3f88o",
        "outputId": "ba8486a2-a2cd-410e-8b35-a77447b989e4"
      },
      "outputs": [
        {
          "output_type": "stream",
          "name": "stdout",
          "text": [
            "    Category  portion   current  voltage  consumption  energy_Charges  Year  \\\n",
            "0          0        1  1.166136    234.0        167.0          589.51  2019   \n",
            "2          1        1  0.000000    234.0          0.0            0.00  2019   \n",
            "10         2        1  0.775096    234.0        111.0          391.83  2019   \n",
            "11         2        1  1.180102    234.0        169.0          596.57  2019   \n",
            "13         2        1  1.871404    234.0        268.0          946.04  2019   \n",
            "\n",
            "    Month  \n",
            "0       1  \n",
            "2       1  \n",
            "10      1  \n",
            "11      1  \n",
            "13      1  \n"
          ]
        },
        {
          "output_type": "stream",
          "name": "stderr",
          "text": [
            "/usr/local/lib/python3.7/dist-packages/ipykernel_launcher.py:2: SettingWithCopyWarning: \n",
            "A value is trying to be set on a copy of a slice from a DataFrame.\n",
            "Try using .loc[row_indexer,col_indexer] = value instead\n",
            "\n",
            "See the caveats in the documentation: https://pandas.pydata.org/pandas-docs/stable/user_guide/indexing.html#returning-a-view-versus-a-copy\n",
            "  \n"
          ]
        }
      ],
      "source": [
        "label_encoder = preprocessing.LabelEncoder()\n",
        "df3['portion'] = label_encoder.fit_transform(df3['portion'])\n",
        "print(df3.head())"
      ]
    },
    {
      "cell_type": "code",
      "execution_count": 331,
      "metadata": {
        "colab": {
          "base_uri": "https://localhost:8080/"
        },
        "id": "BgCFW7SLgEl-",
        "outputId": "3f6b2a0e-218a-42e5-b67b-99eae41acd98"
      },
      "outputs": [
        {
          "output_type": "execute_result",
          "data": {
            "text/plain": [
              "Category            int64\n",
              "portion             int64\n",
              "current           float64\n",
              "voltage           float64\n",
              "consumption       float64\n",
              "energy_Charges    float64\n",
              "Year                int64\n",
              "Month               int64\n",
              "dtype: object"
            ]
          },
          "metadata": {},
          "execution_count": 331
        }
      ],
      "source": [
        "df3.dtypes"
      ]
    },
    {
      "cell_type": "markdown",
      "metadata": {
        "id": "Fcc2rGJD6u9P"
      },
      "source": [
        "# 7. TRAIN AND TEST SPLIT\n",
        "\n",
        "\n"
      ]
    },
    {
      "cell_type": "code",
      "execution_count": 332,
      "metadata": {
        "id": "vLFd3oFCl9Ae"
      },
      "outputs": [],
      "source": [
        "# Input:\n",
        "X = df3[['Year','Month','current','voltage','Category','portion']]\n",
        "\n",
        "# Output:\n",
        "y = df3['consumption']"
      ]
    },
    {
      "cell_type": "code",
      "execution_count": 333,
      "metadata": {
        "id": "BWOXoEQa-6ic"
      },
      "outputs": [],
      "source": [
        "from sklearn.preprocessing import MinMaxScaler\n",
        "sc = MinMaxScaler(feature_range=(0, 1))\n",
        "X_scaled = sc.fit_transform(X)"
      ]
    },
    {
      "cell_type": "code",
      "execution_count": 334,
      "metadata": {
        "id": "EC7O_P4bnCfC"
      },
      "outputs": [],
      "source": [
        "#SPLITING\n",
        "\n",
        "from sklearn.model_selection import train_test_split\n",
        "X_train, X_test, y_train, y_test = train_test_split(X, y, test_size=0.30, random_state=5)"
      ]
    },
    {
      "cell_type": "code",
      "execution_count": 335,
      "metadata": {
        "colab": {
          "base_uri": "https://localhost:8080/",
          "height": 206
        },
        "id": "hD-A-Cr0fnxE",
        "outputId": "fe5d3b7e-b229-4386-f3be-722a0c6b47a5"
      },
      "outputs": [
        {
          "output_type": "execute_result",
          "data": {
            "text/plain": [
              "       Year  Month   current  voltage  Category  portion\n",
              "22192  2021     10  1.152170    234.0        11        0\n",
              "14817  2020     12  1.221999    234.0        11        0\n",
              "2437   2019      6  1.159153    234.0        11        1\n",
              "10718  2020      6  0.530697    234.0        11        1\n",
              "2877   2019      7  0.321211    234.0        11        1"
            ],
            "text/html": [
              "\n",
              "  <div id=\"df-353ddb92-d14f-4835-abc5-7f353a1d488d\">\n",
              "    <div class=\"colab-df-container\">\n",
              "      <div>\n",
              "<style scoped>\n",
              "    .dataframe tbody tr th:only-of-type {\n",
              "        vertical-align: middle;\n",
              "    }\n",
              "\n",
              "    .dataframe tbody tr th {\n",
              "        vertical-align: top;\n",
              "    }\n",
              "\n",
              "    .dataframe thead th {\n",
              "        text-align: right;\n",
              "    }\n",
              "</style>\n",
              "<table border=\"1\" class=\"dataframe\">\n",
              "  <thead>\n",
              "    <tr style=\"text-align: right;\">\n",
              "      <th></th>\n",
              "      <th>Year</th>\n",
              "      <th>Month</th>\n",
              "      <th>current</th>\n",
              "      <th>voltage</th>\n",
              "      <th>Category</th>\n",
              "      <th>portion</th>\n",
              "    </tr>\n",
              "  </thead>\n",
              "  <tbody>\n",
              "    <tr>\n",
              "      <th>22192</th>\n",
              "      <td>2021</td>\n",
              "      <td>10</td>\n",
              "      <td>1.152170</td>\n",
              "      <td>234.0</td>\n",
              "      <td>11</td>\n",
              "      <td>0</td>\n",
              "    </tr>\n",
              "    <tr>\n",
              "      <th>14817</th>\n",
              "      <td>2020</td>\n",
              "      <td>12</td>\n",
              "      <td>1.221999</td>\n",
              "      <td>234.0</td>\n",
              "      <td>11</td>\n",
              "      <td>0</td>\n",
              "    </tr>\n",
              "    <tr>\n",
              "      <th>2437</th>\n",
              "      <td>2019</td>\n",
              "      <td>6</td>\n",
              "      <td>1.159153</td>\n",
              "      <td>234.0</td>\n",
              "      <td>11</td>\n",
              "      <td>1</td>\n",
              "    </tr>\n",
              "    <tr>\n",
              "      <th>10718</th>\n",
              "      <td>2020</td>\n",
              "      <td>6</td>\n",
              "      <td>0.530697</td>\n",
              "      <td>234.0</td>\n",
              "      <td>11</td>\n",
              "      <td>1</td>\n",
              "    </tr>\n",
              "    <tr>\n",
              "      <th>2877</th>\n",
              "      <td>2019</td>\n",
              "      <td>7</td>\n",
              "      <td>0.321211</td>\n",
              "      <td>234.0</td>\n",
              "      <td>11</td>\n",
              "      <td>1</td>\n",
              "    </tr>\n",
              "  </tbody>\n",
              "</table>\n",
              "</div>\n",
              "      <button class=\"colab-df-convert\" onclick=\"convertToInteractive('df-353ddb92-d14f-4835-abc5-7f353a1d488d')\"\n",
              "              title=\"Convert this dataframe to an interactive table.\"\n",
              "              style=\"display:none;\">\n",
              "        \n",
              "  <svg xmlns=\"http://www.w3.org/2000/svg\" height=\"24px\"viewBox=\"0 0 24 24\"\n",
              "       width=\"24px\">\n",
              "    <path d=\"M0 0h24v24H0V0z\" fill=\"none\"/>\n",
              "    <path d=\"M18.56 5.44l.94 2.06.94-2.06 2.06-.94-2.06-.94-.94-2.06-.94 2.06-2.06.94zm-11 1L8.5 8.5l.94-2.06 2.06-.94-2.06-.94L8.5 2.5l-.94 2.06-2.06.94zm10 10l.94 2.06.94-2.06 2.06-.94-2.06-.94-.94-2.06-.94 2.06-2.06.94z\"/><path d=\"M17.41 7.96l-1.37-1.37c-.4-.4-.92-.59-1.43-.59-.52 0-1.04.2-1.43.59L10.3 9.45l-7.72 7.72c-.78.78-.78 2.05 0 2.83L4 21.41c.39.39.9.59 1.41.59.51 0 1.02-.2 1.41-.59l7.78-7.78 2.81-2.81c.8-.78.8-2.07 0-2.86zM5.41 20L4 18.59l7.72-7.72 1.47 1.35L5.41 20z\"/>\n",
              "  </svg>\n",
              "      </button>\n",
              "      \n",
              "  <style>\n",
              "    .colab-df-container {\n",
              "      display:flex;\n",
              "      flex-wrap:wrap;\n",
              "      gap: 12px;\n",
              "    }\n",
              "\n",
              "    .colab-df-convert {\n",
              "      background-color: #E8F0FE;\n",
              "      border: none;\n",
              "      border-radius: 50%;\n",
              "      cursor: pointer;\n",
              "      display: none;\n",
              "      fill: #1967D2;\n",
              "      height: 32px;\n",
              "      padding: 0 0 0 0;\n",
              "      width: 32px;\n",
              "    }\n",
              "\n",
              "    .colab-df-convert:hover {\n",
              "      background-color: #E2EBFA;\n",
              "      box-shadow: 0px 1px 2px rgba(60, 64, 67, 0.3), 0px 1px 3px 1px rgba(60, 64, 67, 0.15);\n",
              "      fill: #174EA6;\n",
              "    }\n",
              "\n",
              "    [theme=dark] .colab-df-convert {\n",
              "      background-color: #3B4455;\n",
              "      fill: #D2E3FC;\n",
              "    }\n",
              "\n",
              "    [theme=dark] .colab-df-convert:hover {\n",
              "      background-color: #434B5C;\n",
              "      box-shadow: 0px 1px 3px 1px rgba(0, 0, 0, 0.15);\n",
              "      filter: drop-shadow(0px 1px 2px rgba(0, 0, 0, 0.3));\n",
              "      fill: #FFFFFF;\n",
              "    }\n",
              "  </style>\n",
              "\n",
              "      <script>\n",
              "        const buttonEl =\n",
              "          document.querySelector('#df-353ddb92-d14f-4835-abc5-7f353a1d488d button.colab-df-convert');\n",
              "        buttonEl.style.display =\n",
              "          google.colab.kernel.accessAllowed ? 'block' : 'none';\n",
              "\n",
              "        async function convertToInteractive(key) {\n",
              "          const element = document.querySelector('#df-353ddb92-d14f-4835-abc5-7f353a1d488d');\n",
              "          const dataTable =\n",
              "            await google.colab.kernel.invokeFunction('convertToInteractive',\n",
              "                                                     [key], {});\n",
              "          if (!dataTable) return;\n",
              "\n",
              "          const docLinkHtml = 'Like what you see? Visit the ' +\n",
              "            '<a target=\"_blank\" href=https://colab.research.google.com/notebooks/data_table.ipynb>data table notebook</a>'\n",
              "            + ' to learn more about interactive tables.';\n",
              "          element.innerHTML = '';\n",
              "          dataTable['output_type'] = 'display_data';\n",
              "          await google.colab.output.renderOutput(dataTable, element);\n",
              "          const docLink = document.createElement('div');\n",
              "          docLink.innerHTML = docLinkHtml;\n",
              "          element.appendChild(docLink);\n",
              "        }\n",
              "      </script>\n",
              "    </div>\n",
              "  </div>\n",
              "  "
            ]
          },
          "metadata": {},
          "execution_count": 335
        }
      ],
      "source": [
        "X_test.head()"
      ]
    },
    {
      "cell_type": "code",
      "execution_count": 336,
      "metadata": {
        "colab": {
          "base_uri": "https://localhost:8080/"
        },
        "id": "BszekgsWjauT",
        "outputId": "f2aabad2-0b91-4808-8a15-2a9d60d76980"
      },
      "outputs": [
        {
          "output_type": "execute_result",
          "data": {
            "text/plain": [
              "22192    165.0\n",
              "14817    175.0\n",
              "2437     166.0\n",
              "10718     76.0\n",
              "2877      46.0\n",
              "Name: consumption, dtype: float64"
            ]
          },
          "metadata": {},
          "execution_count": 336
        }
      ],
      "source": [
        "y_test.head()"
      ]
    },
    {
      "cell_type": "code",
      "execution_count": 337,
      "metadata": {
        "colab": {
          "base_uri": "https://localhost:8080/"
        },
        "id": "c0E6V5CmzY7d",
        "outputId": "9922fb8f-724e-4ab0-e7ea-238c971ba9d6"
      },
      "outputs": [
        {
          "output_type": "stream",
          "name": "stdout",
          "text": [
            "shape of original dataset : (15062, 8)\n",
            "shape of input - training set (10543, 6)\n",
            "shape of output - training set (10543,)\n",
            "shape of input - testing set (4519, 6)\n",
            "shape of output - testing set (4519,)\n"
          ]
        }
      ],
      "source": [
        "# Printing shapes of testing and training sets :\n",
        "\n",
        "print(\"shape of original dataset :\", df3.shape)\n",
        "print(\"shape of input - training set\", X_train.shape)\n",
        "print(\"shape of output - training set\", y_train.shape)\n",
        "print(\"shape of input - testing set\", X_test.shape)\n",
        "print(\"shape of output - testing set\", y_test.shape)"
      ]
    },
    {
      "cell_type": "code",
      "execution_count": 338,
      "metadata": {
        "colab": {
          "base_uri": "https://localhost:8080/"
        },
        "id": "GbGgBVZdba31",
        "outputId": "531c6874-5433-4e43-d236-1198bbaa4e0c"
      },
      "outputs": [
        {
          "output_type": "execute_result",
          "data": {
            "text/plain": [
              "Category            int64\n",
              "portion             int64\n",
              "current           float64\n",
              "voltage           float64\n",
              "consumption       float64\n",
              "energy_Charges    float64\n",
              "Year                int64\n",
              "Month               int64\n",
              "dtype: object"
            ]
          },
          "metadata": {},
          "execution_count": 338
        }
      ],
      "source": [
        "df3.dtypes"
      ]
    },
    {
      "cell_type": "markdown",
      "metadata": {
        "id": "AT9VpXQk6-dt"
      },
      "source": [
        "#7.1: Linear Regression Algorithm"
      ]
    },
    {
      "cell_type": "code",
      "execution_count": 339,
      "metadata": {
        "colab": {
          "base_uri": "https://localhost:8080/"
        },
        "id": "HZMlR3uEnKxN",
        "outputId": "931d836d-3036-457d-e847-fc3169a4be8a"
      },
      "outputs": [
        {
          "output_type": "execute_result",
          "data": {
            "text/plain": [
              "LinearRegression()"
            ]
          },
          "metadata": {},
          "execution_count": 339
        }
      ],
      "source": [
        "# TRAINING REGRESSION MODEL\n",
        "\n",
        "from sklearn.linear_model import LinearRegression\n",
        "LR_model = LinearRegression()\n",
        "LR_model.fit(X_train, y_train)"
      ]
    },
    {
      "cell_type": "code",
      "execution_count": 340,
      "metadata": {
        "id": "2iq7NrdOoX_w"
      },
      "outputs": [],
      "source": [
        "# PREDICTION\n",
        "\n",
        "y_pred_LR = LR_model.predict(X_test)\n",
        "#y_pred_LR"
      ]
    },
    {
      "cell_type": "code",
      "execution_count": 341,
      "metadata": {
        "colab": {
          "base_uri": "https://localhost:8080/"
        },
        "id": "BWaiYDLvogZ3",
        "outputId": "0dda8334-a0b9-4075-f085-074003e7a0a8"
      },
      "outputs": [
        {
          "output_type": "stream",
          "name": "stdout",
          "text": [
            "Mean Absolute Error: 1.3658395322042197e-13\n",
            "MSE:  2.798069776638346e-26\n",
            "Root Mean Squared Error: 1.672743189087418e-13\n",
            "Root Mean Squared Error:  1.0\n"
          ]
        }
      ],
      "source": [
        "from sklearn import metrics\n",
        "from sklearn.metrics import r2_score\n",
        "\n",
        "LR_MAE = metrics.mean_absolute_error(y_test, y_pred_LR)\n",
        "LR_MSE = metrics.mean_squared_error(y_test, y_pred_LR)\n",
        "LR_RMSE = np.sqrt(metrics.mean_squared_error(y_test, y_pred_LR))\n",
        "LR_R2 = r2_score(y_test,y_pred_LR)\n",
        "print('Mean Absolute Error:', LR_MAE)\n",
        "print('MSE: ', LR_MSE)\n",
        "print('Root Mean Squared Error:', LR_RMSE)\n",
        "print('Root Mean Squared Error: ', LR_R2)"
      ]
    },
    {
      "cell_type": "code",
      "execution_count": 342,
      "metadata": {
        "colab": {
          "base_uri": "https://localhost:8080/"
        },
        "id": "cvFn0z7ehdlG",
        "outputId": "c906fc34-0cac-4c3b-a36c-226286abbeb0"
      },
      "outputs": [
        {
          "output_type": "execute_result",
          "data": {
            "text/plain": [
              "1.950866135302931e-10"
            ]
          },
          "metadata": {},
          "execution_count": 342
        }
      ],
      "source": [
        "LR_model.intercept_"
      ]
    },
    {
      "cell_type": "code",
      "execution_count": 343,
      "metadata": {
        "colab": {
          "base_uri": "https://localhost:8080/"
        },
        "id": "quPuI3lThr5P",
        "outputId": "b6c9aa29-ceb9-4e40-dfc0-8aedfbdc93f3"
      },
      "outputs": [
        {
          "output_type": "execute_result",
          "data": {
            "text/plain": [
              "array([-8.69543893e-14,  4.44089210e-15,  1.43208000e+02, -8.43769499e-14,\n",
              "        6.88338275e-15, -1.72084569e-14])"
            ]
          },
          "metadata": {},
          "execution_count": 343
        }
      ],
      "source": [
        "LR_model.coef_"
      ]
    },
    {
      "cell_type": "code",
      "execution_count": 344,
      "metadata": {
        "colab": {
          "base_uri": "https://localhost:8080/"
        },
        "id": "86Wiyc0w7SNm",
        "outputId": "c5ccae72-4da4-43da-e7ce-51ad33181e8f"
      },
      "outputs": [
        {
          "output_type": "stream",
          "name": "stdout",
          "text": [
            "Train set accuracy of regression model:  1.0\n",
            "Test set accuracy of regression model:  1.0\n"
          ]
        }
      ],
      "source": [
        "# REGRESSION MODEL EVALUTION\n",
        "\n",
        "Y_train_predicted_LR = LR_model.predict(X_train)\n",
        "Y_test_predicted_LR = LR_model.predict(X_test)\n",
        "LR_train_accuracy = r2_score(y_train,Y_train_predicted_LR)\n",
        "LR_test_accuracy = r2_score(y_test,Y_test_predicted_LR)  \n",
        "print(\"Train set accuracy of regression model: \",LR_train_accuracy)\n",
        "print(\"Test set accuracy of regression model: \",LR_test_accuracy)"
      ]
    },
    {
      "cell_type": "code",
      "execution_count": 345,
      "metadata": {
        "colab": {
          "base_uri": "https://localhost:8080/",
          "height": 206
        },
        "id": "_PSyk0Hv_myj",
        "outputId": "7c6d6eb6-a221-459e-a77a-4098f15677a0"
      },
      "outputs": [
        {
          "output_type": "execute_result",
          "data": {
            "text/plain": [
              "       Actual Consumption  Predicted Consumption\n",
              "22192               165.0                  165.0\n",
              "14817               175.0                  175.0\n",
              "2437                166.0                  166.0\n",
              "10718                76.0                   76.0\n",
              "2877                 46.0                   46.0"
            ],
            "text/html": [
              "\n",
              "  <div id=\"df-6cd92feb-a07b-4172-850d-fb04685b7fa9\">\n",
              "    <div class=\"colab-df-container\">\n",
              "      <div>\n",
              "<style scoped>\n",
              "    .dataframe tbody tr th:only-of-type {\n",
              "        vertical-align: middle;\n",
              "    }\n",
              "\n",
              "    .dataframe tbody tr th {\n",
              "        vertical-align: top;\n",
              "    }\n",
              "\n",
              "    .dataframe thead th {\n",
              "        text-align: right;\n",
              "    }\n",
              "</style>\n",
              "<table border=\"1\" class=\"dataframe\">\n",
              "  <thead>\n",
              "    <tr style=\"text-align: right;\">\n",
              "      <th></th>\n",
              "      <th>Actual Consumption</th>\n",
              "      <th>Predicted Consumption</th>\n",
              "    </tr>\n",
              "  </thead>\n",
              "  <tbody>\n",
              "    <tr>\n",
              "      <th>22192</th>\n",
              "      <td>165.0</td>\n",
              "      <td>165.0</td>\n",
              "    </tr>\n",
              "    <tr>\n",
              "      <th>14817</th>\n",
              "      <td>175.0</td>\n",
              "      <td>175.0</td>\n",
              "    </tr>\n",
              "    <tr>\n",
              "      <th>2437</th>\n",
              "      <td>166.0</td>\n",
              "      <td>166.0</td>\n",
              "    </tr>\n",
              "    <tr>\n",
              "      <th>10718</th>\n",
              "      <td>76.0</td>\n",
              "      <td>76.0</td>\n",
              "    </tr>\n",
              "    <tr>\n",
              "      <th>2877</th>\n",
              "      <td>46.0</td>\n",
              "      <td>46.0</td>\n",
              "    </tr>\n",
              "  </tbody>\n",
              "</table>\n",
              "</div>\n",
              "      <button class=\"colab-df-convert\" onclick=\"convertToInteractive('df-6cd92feb-a07b-4172-850d-fb04685b7fa9')\"\n",
              "              title=\"Convert this dataframe to an interactive table.\"\n",
              "              style=\"display:none;\">\n",
              "        \n",
              "  <svg xmlns=\"http://www.w3.org/2000/svg\" height=\"24px\"viewBox=\"0 0 24 24\"\n",
              "       width=\"24px\">\n",
              "    <path d=\"M0 0h24v24H0V0z\" fill=\"none\"/>\n",
              "    <path d=\"M18.56 5.44l.94 2.06.94-2.06 2.06-.94-2.06-.94-.94-2.06-.94 2.06-2.06.94zm-11 1L8.5 8.5l.94-2.06 2.06-.94-2.06-.94L8.5 2.5l-.94 2.06-2.06.94zm10 10l.94 2.06.94-2.06 2.06-.94-2.06-.94-.94-2.06-.94 2.06-2.06.94z\"/><path d=\"M17.41 7.96l-1.37-1.37c-.4-.4-.92-.59-1.43-.59-.52 0-1.04.2-1.43.59L10.3 9.45l-7.72 7.72c-.78.78-.78 2.05 0 2.83L4 21.41c.39.39.9.59 1.41.59.51 0 1.02-.2 1.41-.59l7.78-7.78 2.81-2.81c.8-.78.8-2.07 0-2.86zM5.41 20L4 18.59l7.72-7.72 1.47 1.35L5.41 20z\"/>\n",
              "  </svg>\n",
              "      </button>\n",
              "      \n",
              "  <style>\n",
              "    .colab-df-container {\n",
              "      display:flex;\n",
              "      flex-wrap:wrap;\n",
              "      gap: 12px;\n",
              "    }\n",
              "\n",
              "    .colab-df-convert {\n",
              "      background-color: #E8F0FE;\n",
              "      border: none;\n",
              "      border-radius: 50%;\n",
              "      cursor: pointer;\n",
              "      display: none;\n",
              "      fill: #1967D2;\n",
              "      height: 32px;\n",
              "      padding: 0 0 0 0;\n",
              "      width: 32px;\n",
              "    }\n",
              "\n",
              "    .colab-df-convert:hover {\n",
              "      background-color: #E2EBFA;\n",
              "      box-shadow: 0px 1px 2px rgba(60, 64, 67, 0.3), 0px 1px 3px 1px rgba(60, 64, 67, 0.15);\n",
              "      fill: #174EA6;\n",
              "    }\n",
              "\n",
              "    [theme=dark] .colab-df-convert {\n",
              "      background-color: #3B4455;\n",
              "      fill: #D2E3FC;\n",
              "    }\n",
              "\n",
              "    [theme=dark] .colab-df-convert:hover {\n",
              "      background-color: #434B5C;\n",
              "      box-shadow: 0px 1px 3px 1px rgba(0, 0, 0, 0.15);\n",
              "      filter: drop-shadow(0px 1px 2px rgba(0, 0, 0, 0.3));\n",
              "      fill: #FFFFFF;\n",
              "    }\n",
              "  </style>\n",
              "\n",
              "      <script>\n",
              "        const buttonEl =\n",
              "          document.querySelector('#df-6cd92feb-a07b-4172-850d-fb04685b7fa9 button.colab-df-convert');\n",
              "        buttonEl.style.display =\n",
              "          google.colab.kernel.accessAllowed ? 'block' : 'none';\n",
              "\n",
              "        async function convertToInteractive(key) {\n",
              "          const element = document.querySelector('#df-6cd92feb-a07b-4172-850d-fb04685b7fa9');\n",
              "          const dataTable =\n",
              "            await google.colab.kernel.invokeFunction('convertToInteractive',\n",
              "                                                     [key], {});\n",
              "          if (!dataTable) return;\n",
              "\n",
              "          const docLinkHtml = 'Like what you see? Visit the ' +\n",
              "            '<a target=\"_blank\" href=https://colab.research.google.com/notebooks/data_table.ipynb>data table notebook</a>'\n",
              "            + ' to learn more about interactive tables.';\n",
              "          element.innerHTML = '';\n",
              "          dataTable['output_type'] = 'display_data';\n",
              "          await google.colab.output.renderOutput(dataTable, element);\n",
              "          const docLink = document.createElement('div');\n",
              "          docLink.innerHTML = docLinkHtml;\n",
              "          element.appendChild(docLink);\n",
              "        }\n",
              "      </script>\n",
              "    </div>\n",
              "  </div>\n",
              "  "
            ]
          },
          "metadata": {},
          "execution_count": 345
        }
      ],
      "source": [
        "LR_Result = pd.DataFrame({\"Actual Consumption\":y_test,\"Predicted Consumption\":Y_test_predicted_LR})\n",
        "LR_Result.head()"
      ]
    },
    {
      "cell_type": "code",
      "execution_count": 346,
      "metadata": {
        "colab": {
          "base_uri": "https://localhost:8080/"
        },
        "id": "pImz_1HvgGz7",
        "outputId": "eaeb156b-fa7b-46d3-c055-62292aefa565"
      },
      "outputs": [
        {
          "output_type": "stream",
          "name": "stderr",
          "text": [
            "/usr/local/lib/python3.7/dist-packages/sklearn/base.py:451: UserWarning: X does not have valid feature names, but LinearRegression was fitted with feature names\n",
            "  \"X does not have valid feature names, but\"\n"
          ]
        },
        {
          "output_type": "execute_result",
          "data": {
            "text/plain": [
              "array([110.99994797])"
            ]
          },
          "metadata": {},
          "execution_count": 346
        }
      ],
      "source": [
        "LR_model.predict([[2019,1,0.775096,234.0,2,0]])"
      ]
    },
    {
      "cell_type": "markdown",
      "metadata": {
        "id": "KostFwbi7ZuR"
      },
      "source": [
        "# 7.2: RANDOM FOREST ALGORITHM"
      ]
    },
    {
      "cell_type": "code",
      "execution_count": 347,
      "metadata": {
        "colab": {
          "base_uri": "https://localhost:8080/"
        },
        "id": "XDHe3-ubpZz-",
        "outputId": "25d7e7ca-359a-4057-9424-b53414d3129b"
      },
      "outputs": [
        {
          "output_type": "execute_result",
          "data": {
            "text/plain": [
              "RandomForestRegressor(n_estimators=200)"
            ]
          },
          "metadata": {},
          "execution_count": 347
        }
      ],
      "source": [
        "# TRAINING RANDOM FOREST MODEL\n",
        "\n",
        "from sklearn.ensemble import RandomForestRegressor\n",
        "\n",
        "RF_model = RandomForestRegressor(n_estimators=200)\n",
        "RF_model.fit(X_train, y_train)"
      ]
    },
    {
      "cell_type": "code",
      "execution_count": 348,
      "metadata": {
        "id": "dfoszuVxppGz"
      },
      "outputs": [],
      "source": [
        "#PREDICTION\n",
        "\n",
        "y_pred_RF = RF_model.predict(X_test)\n",
        "#y_pred_RF"
      ]
    },
    {
      "cell_type": "code",
      "execution_count": 349,
      "metadata": {
        "colab": {
          "base_uri": "https://localhost:8080/"
        },
        "id": "i7ijPVCvpz_7",
        "outputId": "5983608a-e6cd-4cad-b974-c56d85d03d97"
      },
      "outputs": [
        {
          "output_type": "stream",
          "name": "stdout",
          "text": [
            "Mean Absolute Error: 0.013733668953306351\n",
            "MSE:  0.0034088290113963035\n",
            "Root Mean Squared Error: 0.058385178011172524\n",
            "R2 Score:  0.9999996068702683\n"
          ]
        }
      ],
      "source": [
        "from sklearn import metrics\n",
        "from sklearn.metrics import r2_score\n",
        "import numpy as np\n",
        "\n",
        "RF_MAE = metrics.mean_absolute_error(y_test, y_pred_RF)\n",
        "RF_MSE = metrics.mean_squared_error(y_test, y_pred_RF)\n",
        "RF_RMSE = np.sqrt(metrics.mean_squared_error(y_test, y_pred_RF))\n",
        "RF_R2 = r2_score(y_test,y_pred_RF)\n",
        "print('Mean Absolute Error:', RF_MAE)\n",
        "print('MSE: ', RF_MSE)\n",
        "print('Root Mean Squared Error:', RF_RMSE)\n",
        "print('R2 Score: ', RF_R2)"
      ]
    },
    {
      "cell_type": "code",
      "execution_count": 350,
      "metadata": {
        "colab": {
          "base_uri": "https://localhost:8080/"
        },
        "id": "bkJ7O5Tkp7iX",
        "outputId": "780c9506-6fde-4bfd-efad-baa809ea8131"
      },
      "outputs": [
        {
          "output_type": "stream",
          "name": "stdout",
          "text": [
            "Train set accuracy of RandomForest model:  0.9999999420694791\n",
            "Test set accuracy of RandomForest model:  0.9999996068702683\n"
          ]
        }
      ],
      "source": [
        "# EVALUTION \n",
        "\n",
        "Y_train_predicted_RF = RF_model.predict(X_train)\n",
        "Y_test_predicted_RF = RF_model.predict(X_test)\n",
        "RF_train_accuracy = r2_score(y_train,Y_train_predicted_RF)\n",
        "RF_test_accuracy = r2_score(y_test,Y_test_predicted_RF)\n",
        "print(\"Train set accuracy of RandomForest model: \",RF_train_accuracy)\n",
        "print(\"Test set accuracy of RandomForest model: \",RF_test_accuracy)"
      ]
    },
    {
      "cell_type": "code",
      "execution_count": 351,
      "metadata": {
        "colab": {
          "base_uri": "https://localhost:8080/",
          "height": 206
        },
        "id": "6mCA82_K8Azy",
        "outputId": "a4337fce-77e1-44ea-e6c1-a869965a6872"
      },
      "outputs": [
        {
          "output_type": "execute_result",
          "data": {
            "text/plain": [
              "       Actual Consumption  Predicted Consumption\n",
              "22192               165.0                  165.0\n",
              "14817               175.0                  175.0\n",
              "2437                166.0                  166.0\n",
              "10718                76.0                   76.0\n",
              "2877                 46.0                   46.0"
            ],
            "text/html": [
              "\n",
              "  <div id=\"df-7a110dca-c1d8-4e59-bf43-f2b1aa1bf1e5\">\n",
              "    <div class=\"colab-df-container\">\n",
              "      <div>\n",
              "<style scoped>\n",
              "    .dataframe tbody tr th:only-of-type {\n",
              "        vertical-align: middle;\n",
              "    }\n",
              "\n",
              "    .dataframe tbody tr th {\n",
              "        vertical-align: top;\n",
              "    }\n",
              "\n",
              "    .dataframe thead th {\n",
              "        text-align: right;\n",
              "    }\n",
              "</style>\n",
              "<table border=\"1\" class=\"dataframe\">\n",
              "  <thead>\n",
              "    <tr style=\"text-align: right;\">\n",
              "      <th></th>\n",
              "      <th>Actual Consumption</th>\n",
              "      <th>Predicted Consumption</th>\n",
              "    </tr>\n",
              "  </thead>\n",
              "  <tbody>\n",
              "    <tr>\n",
              "      <th>22192</th>\n",
              "      <td>165.0</td>\n",
              "      <td>165.0</td>\n",
              "    </tr>\n",
              "    <tr>\n",
              "      <th>14817</th>\n",
              "      <td>175.0</td>\n",
              "      <td>175.0</td>\n",
              "    </tr>\n",
              "    <tr>\n",
              "      <th>2437</th>\n",
              "      <td>166.0</td>\n",
              "      <td>166.0</td>\n",
              "    </tr>\n",
              "    <tr>\n",
              "      <th>10718</th>\n",
              "      <td>76.0</td>\n",
              "      <td>76.0</td>\n",
              "    </tr>\n",
              "    <tr>\n",
              "      <th>2877</th>\n",
              "      <td>46.0</td>\n",
              "      <td>46.0</td>\n",
              "    </tr>\n",
              "  </tbody>\n",
              "</table>\n",
              "</div>\n",
              "      <button class=\"colab-df-convert\" onclick=\"convertToInteractive('df-7a110dca-c1d8-4e59-bf43-f2b1aa1bf1e5')\"\n",
              "              title=\"Convert this dataframe to an interactive table.\"\n",
              "              style=\"display:none;\">\n",
              "        \n",
              "  <svg xmlns=\"http://www.w3.org/2000/svg\" height=\"24px\"viewBox=\"0 0 24 24\"\n",
              "       width=\"24px\">\n",
              "    <path d=\"M0 0h24v24H0V0z\" fill=\"none\"/>\n",
              "    <path d=\"M18.56 5.44l.94 2.06.94-2.06 2.06-.94-2.06-.94-.94-2.06-.94 2.06-2.06.94zm-11 1L8.5 8.5l.94-2.06 2.06-.94-2.06-.94L8.5 2.5l-.94 2.06-2.06.94zm10 10l.94 2.06.94-2.06 2.06-.94-2.06-.94-.94-2.06-.94 2.06-2.06.94z\"/><path d=\"M17.41 7.96l-1.37-1.37c-.4-.4-.92-.59-1.43-.59-.52 0-1.04.2-1.43.59L10.3 9.45l-7.72 7.72c-.78.78-.78 2.05 0 2.83L4 21.41c.39.39.9.59 1.41.59.51 0 1.02-.2 1.41-.59l7.78-7.78 2.81-2.81c.8-.78.8-2.07 0-2.86zM5.41 20L4 18.59l7.72-7.72 1.47 1.35L5.41 20z\"/>\n",
              "  </svg>\n",
              "      </button>\n",
              "      \n",
              "  <style>\n",
              "    .colab-df-container {\n",
              "      display:flex;\n",
              "      flex-wrap:wrap;\n",
              "      gap: 12px;\n",
              "    }\n",
              "\n",
              "    .colab-df-convert {\n",
              "      background-color: #E8F0FE;\n",
              "      border: none;\n",
              "      border-radius: 50%;\n",
              "      cursor: pointer;\n",
              "      display: none;\n",
              "      fill: #1967D2;\n",
              "      height: 32px;\n",
              "      padding: 0 0 0 0;\n",
              "      width: 32px;\n",
              "    }\n",
              "\n",
              "    .colab-df-convert:hover {\n",
              "      background-color: #E2EBFA;\n",
              "      box-shadow: 0px 1px 2px rgba(60, 64, 67, 0.3), 0px 1px 3px 1px rgba(60, 64, 67, 0.15);\n",
              "      fill: #174EA6;\n",
              "    }\n",
              "\n",
              "    [theme=dark] .colab-df-convert {\n",
              "      background-color: #3B4455;\n",
              "      fill: #D2E3FC;\n",
              "    }\n",
              "\n",
              "    [theme=dark] .colab-df-convert:hover {\n",
              "      background-color: #434B5C;\n",
              "      box-shadow: 0px 1px 3px 1px rgba(0, 0, 0, 0.15);\n",
              "      filter: drop-shadow(0px 1px 2px rgba(0, 0, 0, 0.3));\n",
              "      fill: #FFFFFF;\n",
              "    }\n",
              "  </style>\n",
              "\n",
              "      <script>\n",
              "        const buttonEl =\n",
              "          document.querySelector('#df-7a110dca-c1d8-4e59-bf43-f2b1aa1bf1e5 button.colab-df-convert');\n",
              "        buttonEl.style.display =\n",
              "          google.colab.kernel.accessAllowed ? 'block' : 'none';\n",
              "\n",
              "        async function convertToInteractive(key) {\n",
              "          const element = document.querySelector('#df-7a110dca-c1d8-4e59-bf43-f2b1aa1bf1e5');\n",
              "          const dataTable =\n",
              "            await google.colab.kernel.invokeFunction('convertToInteractive',\n",
              "                                                     [key], {});\n",
              "          if (!dataTable) return;\n",
              "\n",
              "          const docLinkHtml = 'Like what you see? Visit the ' +\n",
              "            '<a target=\"_blank\" href=https://colab.research.google.com/notebooks/data_table.ipynb>data table notebook</a>'\n",
              "            + ' to learn more about interactive tables.';\n",
              "          element.innerHTML = '';\n",
              "          dataTable['output_type'] = 'display_data';\n",
              "          await google.colab.output.renderOutput(dataTable, element);\n",
              "          const docLink = document.createElement('div');\n",
              "          docLink.innerHTML = docLinkHtml;\n",
              "          element.appendChild(docLink);\n",
              "        }\n",
              "      </script>\n",
              "    </div>\n",
              "  </div>\n",
              "  "
            ]
          },
          "metadata": {},
          "execution_count": 351
        }
      ],
      "source": [
        "RF_Result = pd.DataFrame({\"Actual Consumption\":y_test,\"Predicted Consumption\":Y_test_predicted_RF})\n",
        "RF_Result.head()"
      ]
    },
    {
      "cell_type": "code",
      "execution_count": 352,
      "metadata": {
        "colab": {
          "base_uri": "https://localhost:8080/"
        },
        "id": "Zzs-iMy38JV2",
        "outputId": "15758d0c-af9f-497b-f50f-3b5c6a3982c3"
      },
      "outputs": [
        {
          "output_type": "stream",
          "name": "stderr",
          "text": [
            "/usr/local/lib/python3.7/dist-packages/sklearn/base.py:451: UserWarning: X does not have valid feature names, but RandomForestRegressor was fitted with feature names\n",
            "  \"X does not have valid feature names, but\"\n"
          ]
        },
        {
          "output_type": "execute_result",
          "data": {
            "text/plain": [
              "array([111.])"
            ]
          },
          "metadata": {},
          "execution_count": 352
        }
      ],
      "source": [
        "import numpy as np\n",
        "#X = df3[['Year','Month','current','voltage','Category','portion']]\n",
        "# y1 = np.array([2019,1,1.166136,234.0,0,1])\n",
        "# y1 = np.array([2019,1,0.775096,234.0,2,0])\n",
        "# np = y1.reshape(-1,6)\n",
        "# RF_model.predict(np)\n",
        "RF_model.predict([[2019,1,0.775096,234.0,2,0]])"
      ]
    },
    {
      "cell_type": "markdown",
      "metadata": {
        "id": "ZxZkTS2Zh-cr"
      },
      "source": [
        "# 7.3: DECISION TREE"
      ]
    },
    {
      "cell_type": "code",
      "execution_count": 353,
      "metadata": {
        "id": "P5BvGMvHh9pY"
      },
      "outputs": [],
      "source": [
        "#TRAIN\n",
        "\n",
        "from sklearn.tree import DecisionTreeRegressor"
      ]
    },
    {
      "cell_type": "code",
      "execution_count": 354,
      "metadata": {
        "colab": {
          "base_uri": "https://localhost:8080/"
        },
        "id": "9GfLXgv0iG04",
        "outputId": "1f06886e-6248-472d-d3b4-55ebb6e8bc70"
      },
      "outputs": [
        {
          "output_type": "execute_result",
          "data": {
            "text/plain": [
              "DecisionTreeRegressor(max_depth=5)"
            ]
          },
          "metadata": {},
          "execution_count": 354
        }
      ],
      "source": [
        "DT_model = DecisionTreeRegressor(max_depth=5)\n",
        "DT_model.fit(X_train, y_train)"
      ]
    },
    {
      "cell_type": "code",
      "execution_count": 355,
      "metadata": {
        "id": "tIFrG0_biPaA"
      },
      "outputs": [],
      "source": [
        "# PREDICT\n",
        "\n",
        "y_pred_DT = DT_model.predict(X_test)\n",
        "#y_pred_DT"
      ]
    },
    {
      "cell_type": "code",
      "execution_count": 356,
      "metadata": {
        "colab": {
          "base_uri": "https://localhost:8080/"
        },
        "id": "g6QA7UgNiUhw",
        "outputId": "41bab479-2aae-461a-92c4-d120e5732a35"
      },
      "outputs": [
        {
          "output_type": "stream",
          "name": "stdout",
          "text": [
            "Mean Absolute Error: 2.977757011035233\n",
            "MSE:  13.129975554918834\n",
            "Root Mean Squared Error: 3.62353081329783\n",
            "R2 score :  0.9984857604327141\n"
          ]
        }
      ],
      "source": [
        "from sklearn.metrics import r2_score\n",
        "import numpy as np\n",
        "\n",
        "DT_MAE = metrics.mean_absolute_error(y_test, y_pred_DT)\n",
        "DT_MSE = metrics.mean_squared_error(y_test, y_pred_DT)\n",
        "DT_RMSE = np.sqrt(metrics.mean_squared_error(y_test, y_pred_DT))\n",
        "DT_R2 = r2_score(y_test,y_pred_DT)\n",
        "print('Mean Absolute Error:', DT_MAE)\n",
        "print('MSE: ', DT_MSE)\n",
        "print('Root Mean Squared Error:', DT_RMSE)\n",
        "print(\"R2 score : \", DT_R2)"
      ]
    },
    {
      "cell_type": "code",
      "execution_count": 357,
      "metadata": {
        "colab": {
          "base_uri": "https://localhost:8080/"
        },
        "id": "DMg4pCAlCtNt",
        "outputId": "f3b1a3d0-b1d1-4803-e61c-c2d6d74dd9a1"
      },
      "outputs": [
        {
          "output_type": "stream",
          "name": "stdout",
          "text": [
            "Train set accuracy of DecisionTree model:  0.9985533591644343\n",
            "Test set accuracy of DecisionTree model:  0.9984857604327141\n"
          ]
        }
      ],
      "source": [
        "# EVALUTION \n",
        "\n",
        "Y_train_predicted_DT = DT_model.predict(X_train)\n",
        "Y_test_predicted_DT = DT_model.predict(X_test)\n",
        "DT_train_accuracy = r2_score(y_train,Y_train_predicted_DT)\n",
        "DT_test_accuracy = r2_score(y_test,Y_test_predicted_DT)\n",
        "print(\"Train set accuracy of DecisionTree model: \",DT_train_accuracy)\n",
        "print(\"Test set accuracy of DecisionTree model: \",DT_test_accuracy)"
      ]
    },
    {
      "cell_type": "code",
      "execution_count": 358,
      "metadata": {
        "colab": {
          "base_uri": "https://localhost:8080/",
          "height": 206
        },
        "id": "hUih4nMWDRee",
        "outputId": "d4e14b90-a895-4ef2-8c5f-5f1e91f36d64"
      },
      "outputs": [
        {
          "output_type": "execute_result",
          "data": {
            "text/plain": [
              "       Actual Consumption  Predicted Consumption\n",
              "22192               165.0             163.442097\n",
              "14817               175.0             175.263002\n",
              "2437                166.0             163.442097\n",
              "10718                76.0              72.524753\n",
              "2877                 46.0              41.055918"
            ],
            "text/html": [
              "\n",
              "  <div id=\"df-5905e91b-111f-472a-9c01-fb8d4911746b\">\n",
              "    <div class=\"colab-df-container\">\n",
              "      <div>\n",
              "<style scoped>\n",
              "    .dataframe tbody tr th:only-of-type {\n",
              "        vertical-align: middle;\n",
              "    }\n",
              "\n",
              "    .dataframe tbody tr th {\n",
              "        vertical-align: top;\n",
              "    }\n",
              "\n",
              "    .dataframe thead th {\n",
              "        text-align: right;\n",
              "    }\n",
              "</style>\n",
              "<table border=\"1\" class=\"dataframe\">\n",
              "  <thead>\n",
              "    <tr style=\"text-align: right;\">\n",
              "      <th></th>\n",
              "      <th>Actual Consumption</th>\n",
              "      <th>Predicted Consumption</th>\n",
              "    </tr>\n",
              "  </thead>\n",
              "  <tbody>\n",
              "    <tr>\n",
              "      <th>22192</th>\n",
              "      <td>165.0</td>\n",
              "      <td>163.442097</td>\n",
              "    </tr>\n",
              "    <tr>\n",
              "      <th>14817</th>\n",
              "      <td>175.0</td>\n",
              "      <td>175.263002</td>\n",
              "    </tr>\n",
              "    <tr>\n",
              "      <th>2437</th>\n",
              "      <td>166.0</td>\n",
              "      <td>163.442097</td>\n",
              "    </tr>\n",
              "    <tr>\n",
              "      <th>10718</th>\n",
              "      <td>76.0</td>\n",
              "      <td>72.524753</td>\n",
              "    </tr>\n",
              "    <tr>\n",
              "      <th>2877</th>\n",
              "      <td>46.0</td>\n",
              "      <td>41.055918</td>\n",
              "    </tr>\n",
              "  </tbody>\n",
              "</table>\n",
              "</div>\n",
              "      <button class=\"colab-df-convert\" onclick=\"convertToInteractive('df-5905e91b-111f-472a-9c01-fb8d4911746b')\"\n",
              "              title=\"Convert this dataframe to an interactive table.\"\n",
              "              style=\"display:none;\">\n",
              "        \n",
              "  <svg xmlns=\"http://www.w3.org/2000/svg\" height=\"24px\"viewBox=\"0 0 24 24\"\n",
              "       width=\"24px\">\n",
              "    <path d=\"M0 0h24v24H0V0z\" fill=\"none\"/>\n",
              "    <path d=\"M18.56 5.44l.94 2.06.94-2.06 2.06-.94-2.06-.94-.94-2.06-.94 2.06-2.06.94zm-11 1L8.5 8.5l.94-2.06 2.06-.94-2.06-.94L8.5 2.5l-.94 2.06-2.06.94zm10 10l.94 2.06.94-2.06 2.06-.94-2.06-.94-.94-2.06-.94 2.06-2.06.94z\"/><path d=\"M17.41 7.96l-1.37-1.37c-.4-.4-.92-.59-1.43-.59-.52 0-1.04.2-1.43.59L10.3 9.45l-7.72 7.72c-.78.78-.78 2.05 0 2.83L4 21.41c.39.39.9.59 1.41.59.51 0 1.02-.2 1.41-.59l7.78-7.78 2.81-2.81c.8-.78.8-2.07 0-2.86zM5.41 20L4 18.59l7.72-7.72 1.47 1.35L5.41 20z\"/>\n",
              "  </svg>\n",
              "      </button>\n",
              "      \n",
              "  <style>\n",
              "    .colab-df-container {\n",
              "      display:flex;\n",
              "      flex-wrap:wrap;\n",
              "      gap: 12px;\n",
              "    }\n",
              "\n",
              "    .colab-df-convert {\n",
              "      background-color: #E8F0FE;\n",
              "      border: none;\n",
              "      border-radius: 50%;\n",
              "      cursor: pointer;\n",
              "      display: none;\n",
              "      fill: #1967D2;\n",
              "      height: 32px;\n",
              "      padding: 0 0 0 0;\n",
              "      width: 32px;\n",
              "    }\n",
              "\n",
              "    .colab-df-convert:hover {\n",
              "      background-color: #E2EBFA;\n",
              "      box-shadow: 0px 1px 2px rgba(60, 64, 67, 0.3), 0px 1px 3px 1px rgba(60, 64, 67, 0.15);\n",
              "      fill: #174EA6;\n",
              "    }\n",
              "\n",
              "    [theme=dark] .colab-df-convert {\n",
              "      background-color: #3B4455;\n",
              "      fill: #D2E3FC;\n",
              "    }\n",
              "\n",
              "    [theme=dark] .colab-df-convert:hover {\n",
              "      background-color: #434B5C;\n",
              "      box-shadow: 0px 1px 3px 1px rgba(0, 0, 0, 0.15);\n",
              "      filter: drop-shadow(0px 1px 2px rgba(0, 0, 0, 0.3));\n",
              "      fill: #FFFFFF;\n",
              "    }\n",
              "  </style>\n",
              "\n",
              "      <script>\n",
              "        const buttonEl =\n",
              "          document.querySelector('#df-5905e91b-111f-472a-9c01-fb8d4911746b button.colab-df-convert');\n",
              "        buttonEl.style.display =\n",
              "          google.colab.kernel.accessAllowed ? 'block' : 'none';\n",
              "\n",
              "        async function convertToInteractive(key) {\n",
              "          const element = document.querySelector('#df-5905e91b-111f-472a-9c01-fb8d4911746b');\n",
              "          const dataTable =\n",
              "            await google.colab.kernel.invokeFunction('convertToInteractive',\n",
              "                                                     [key], {});\n",
              "          if (!dataTable) return;\n",
              "\n",
              "          const docLinkHtml = 'Like what you see? Visit the ' +\n",
              "            '<a target=\"_blank\" href=https://colab.research.google.com/notebooks/data_table.ipynb>data table notebook</a>'\n",
              "            + ' to learn more about interactive tables.';\n",
              "          element.innerHTML = '';\n",
              "          dataTable['output_type'] = 'display_data';\n",
              "          await google.colab.output.renderOutput(dataTable, element);\n",
              "          const docLink = document.createElement('div');\n",
              "          docLink.innerHTML = docLinkHtml;\n",
              "          element.appendChild(docLink);\n",
              "        }\n",
              "      </script>\n",
              "    </div>\n",
              "  </div>\n",
              "  "
            ]
          },
          "metadata": {},
          "execution_count": 358
        }
      ],
      "source": [
        "DT_Result = pd.DataFrame({\"Actual Consumption\":y_test,\"Predicted Consumption\":Y_test_predicted_DT})\n",
        "DT_Result.head()"
      ]
    },
    {
      "cell_type": "code",
      "execution_count": 359,
      "metadata": {
        "colab": {
          "base_uri": "https://localhost:8080/"
        },
        "id": "6Yo553c-gU8P",
        "outputId": "7c926e79-35ad-4712-df45-e8be78264237"
      },
      "outputs": [
        {
          "output_type": "stream",
          "name": "stderr",
          "text": [
            "/usr/local/lib/python3.7/dist-packages/sklearn/base.py:451: UserWarning: X does not have valid feature names, but DecisionTreeRegressor was fitted with feature names\n",
            "  \"X does not have valid feature names, but\"\n"
          ]
        },
        {
          "output_type": "execute_result",
          "data": {
            "text/plain": [
              "array([112.38776923])"
            ]
          },
          "metadata": {},
          "execution_count": 359
        }
      ],
      "source": [
        "DT_model.predict([[2019,1,0.775096,234.0,2,0]])"
      ]
    },
    {
      "cell_type": "markdown",
      "metadata": {
        "id": "L_NKGKze0Raj"
      },
      "source": [
        "# 7.4: KNN ALGORITHM"
      ]
    },
    {
      "cell_type": "code",
      "execution_count": 360,
      "metadata": {
        "id": "x74oJV0E0Qwg"
      },
      "outputs": [],
      "source": [
        "from sklearn.neighbors import KNeighborsRegressor"
      ]
    },
    {
      "cell_type": "code",
      "execution_count": 361,
      "metadata": {
        "colab": {
          "base_uri": "https://localhost:8080/"
        },
        "id": "RU6_ATwC3H4T",
        "outputId": "515d8b46-e391-43c2-9d14-e815a9db04a9"
      },
      "outputs": [
        {
          "output_type": "execute_result",
          "data": {
            "text/plain": [
              "KNeighborsRegressor(n_neighbors=10)"
            ]
          },
          "metadata": {},
          "execution_count": 361
        }
      ],
      "source": [
        "KNN_model = KNeighborsRegressor(10)\n",
        "KNN_model.fit(X_train,y_train)"
      ]
    },
    {
      "cell_type": "code",
      "execution_count": 362,
      "metadata": {
        "id": "-p1wQrR63l4Y"
      },
      "outputs": [],
      "source": [
        "y_pred_KNN = KNN_model.predict(X_test)\n",
        "#y_pred_KNN"
      ]
    },
    {
      "cell_type": "code",
      "execution_count": 363,
      "metadata": {
        "colab": {
          "base_uri": "https://localhost:8080/"
        },
        "id": "OJAaYtNn38V2",
        "outputId": "43f0ff53-8d33-443b-9f13-b119b0a5b978"
      },
      "outputs": [
        {
          "output_type": "stream",
          "name": "stdout",
          "text": [
            "Mean Absolute Error: 8.798599690196946\n",
            "MSE:  282.52244541889803\n",
            "Root Mean Squared Error: 16.808404011651376\n",
            "R2 score :  0.9674175581127097\n"
          ]
        }
      ],
      "source": [
        "KNN_MAE = metrics.mean_absolute_error(y_test, y_pred_KNN)\n",
        "KNN_MSE = metrics.mean_squared_error(y_test, y_pred_KNN)\n",
        "KNN_RMSE = np.sqrt(metrics.mean_squared_error(y_test, y_pred_KNN))\n",
        "KNN_R2 = r2_score(y_test,y_pred_KNN)\n",
        "print('Mean Absolute Error:', KNN_MAE)\n",
        "print('MSE: ', KNN_MSE)\n",
        "print('Root Mean Squared Error:', KNN_RMSE)\n",
        "print(\"R2 score : \",KNN_R2)"
      ]
    },
    {
      "cell_type": "code",
      "execution_count": 364,
      "metadata": {
        "colab": {
          "base_uri": "https://localhost:8080/"
        },
        "id": "agkC6c4z4Fem",
        "outputId": "88ff48f6-1a53-4452-da2a-7fabc531f14c"
      },
      "outputs": [
        {
          "output_type": "stream",
          "name": "stdout",
          "text": [
            "Train set accuracy of DecisionTree model:  0.9733510622016237\n",
            "Test set accuracy of DecisionTree model:  0.9733510622016237\n"
          ]
        }
      ],
      "source": [
        "# EVALUTION \n",
        "\n",
        "Y_train_predicted_KNN = KNN_model.predict(X_train)\n",
        "Y_test_predicted_KNN = KNN_model.predict(X_test)\n",
        "KNN_train_accuracy = r2_score(y_train,Y_train_predicted_KNN)\n",
        "KNN_test_accuracy = r2_score(y_test,Y_test_predicted_KNN)\n",
        "print(\"Train set accuracy of DecisionTree model: \",KNN_train_accuracy)\n",
        "print(\"Test set accuracy of DecisionTree model: \",KNN_train_accuracy)"
      ]
    },
    {
      "cell_type": "code",
      "execution_count": 365,
      "metadata": {
        "colab": {
          "base_uri": "https://localhost:8080/",
          "height": 206
        },
        "id": "oPO8-_ta5Nug",
        "outputId": "84912582-525b-41f4-f4fc-ca6f0d0d69ad"
      },
      "outputs": [
        {
          "output_type": "execute_result",
          "data": {
            "text/plain": [
              "       Actual Consumption  Predicted Consumption\n",
              "22192               165.0                  162.4\n",
              "14817               175.0                  174.1\n",
              "2437                166.0                  164.6\n",
              "10718                76.0                   76.6\n",
              "2877                 46.0                   45.8"
            ],
            "text/html": [
              "\n",
              "  <div id=\"df-c783f69c-a142-412f-86e1-b1c483e9a6c6\">\n",
              "    <div class=\"colab-df-container\">\n",
              "      <div>\n",
              "<style scoped>\n",
              "    .dataframe tbody tr th:only-of-type {\n",
              "        vertical-align: middle;\n",
              "    }\n",
              "\n",
              "    .dataframe tbody tr th {\n",
              "        vertical-align: top;\n",
              "    }\n",
              "\n",
              "    .dataframe thead th {\n",
              "        text-align: right;\n",
              "    }\n",
              "</style>\n",
              "<table border=\"1\" class=\"dataframe\">\n",
              "  <thead>\n",
              "    <tr style=\"text-align: right;\">\n",
              "      <th></th>\n",
              "      <th>Actual Consumption</th>\n",
              "      <th>Predicted Consumption</th>\n",
              "    </tr>\n",
              "  </thead>\n",
              "  <tbody>\n",
              "    <tr>\n",
              "      <th>22192</th>\n",
              "      <td>165.0</td>\n",
              "      <td>162.4</td>\n",
              "    </tr>\n",
              "    <tr>\n",
              "      <th>14817</th>\n",
              "      <td>175.0</td>\n",
              "      <td>174.1</td>\n",
              "    </tr>\n",
              "    <tr>\n",
              "      <th>2437</th>\n",
              "      <td>166.0</td>\n",
              "      <td>164.6</td>\n",
              "    </tr>\n",
              "    <tr>\n",
              "      <th>10718</th>\n",
              "      <td>76.0</td>\n",
              "      <td>76.6</td>\n",
              "    </tr>\n",
              "    <tr>\n",
              "      <th>2877</th>\n",
              "      <td>46.0</td>\n",
              "      <td>45.8</td>\n",
              "    </tr>\n",
              "  </tbody>\n",
              "</table>\n",
              "</div>\n",
              "      <button class=\"colab-df-convert\" onclick=\"convertToInteractive('df-c783f69c-a142-412f-86e1-b1c483e9a6c6')\"\n",
              "              title=\"Convert this dataframe to an interactive table.\"\n",
              "              style=\"display:none;\">\n",
              "        \n",
              "  <svg xmlns=\"http://www.w3.org/2000/svg\" height=\"24px\"viewBox=\"0 0 24 24\"\n",
              "       width=\"24px\">\n",
              "    <path d=\"M0 0h24v24H0V0z\" fill=\"none\"/>\n",
              "    <path d=\"M18.56 5.44l.94 2.06.94-2.06 2.06-.94-2.06-.94-.94-2.06-.94 2.06-2.06.94zm-11 1L8.5 8.5l.94-2.06 2.06-.94-2.06-.94L8.5 2.5l-.94 2.06-2.06.94zm10 10l.94 2.06.94-2.06 2.06-.94-2.06-.94-.94-2.06-.94 2.06-2.06.94z\"/><path d=\"M17.41 7.96l-1.37-1.37c-.4-.4-.92-.59-1.43-.59-.52 0-1.04.2-1.43.59L10.3 9.45l-7.72 7.72c-.78.78-.78 2.05 0 2.83L4 21.41c.39.39.9.59 1.41.59.51 0 1.02-.2 1.41-.59l7.78-7.78 2.81-2.81c.8-.78.8-2.07 0-2.86zM5.41 20L4 18.59l7.72-7.72 1.47 1.35L5.41 20z\"/>\n",
              "  </svg>\n",
              "      </button>\n",
              "      \n",
              "  <style>\n",
              "    .colab-df-container {\n",
              "      display:flex;\n",
              "      flex-wrap:wrap;\n",
              "      gap: 12px;\n",
              "    }\n",
              "\n",
              "    .colab-df-convert {\n",
              "      background-color: #E8F0FE;\n",
              "      border: none;\n",
              "      border-radius: 50%;\n",
              "      cursor: pointer;\n",
              "      display: none;\n",
              "      fill: #1967D2;\n",
              "      height: 32px;\n",
              "      padding: 0 0 0 0;\n",
              "      width: 32px;\n",
              "    }\n",
              "\n",
              "    .colab-df-convert:hover {\n",
              "      background-color: #E2EBFA;\n",
              "      box-shadow: 0px 1px 2px rgba(60, 64, 67, 0.3), 0px 1px 3px 1px rgba(60, 64, 67, 0.15);\n",
              "      fill: #174EA6;\n",
              "    }\n",
              "\n",
              "    [theme=dark] .colab-df-convert {\n",
              "      background-color: #3B4455;\n",
              "      fill: #D2E3FC;\n",
              "    }\n",
              "\n",
              "    [theme=dark] .colab-df-convert:hover {\n",
              "      background-color: #434B5C;\n",
              "      box-shadow: 0px 1px 3px 1px rgba(0, 0, 0, 0.15);\n",
              "      filter: drop-shadow(0px 1px 2px rgba(0, 0, 0, 0.3));\n",
              "      fill: #FFFFFF;\n",
              "    }\n",
              "  </style>\n",
              "\n",
              "      <script>\n",
              "        const buttonEl =\n",
              "          document.querySelector('#df-c783f69c-a142-412f-86e1-b1c483e9a6c6 button.colab-df-convert');\n",
              "        buttonEl.style.display =\n",
              "          google.colab.kernel.accessAllowed ? 'block' : 'none';\n",
              "\n",
              "        async function convertToInteractive(key) {\n",
              "          const element = document.querySelector('#df-c783f69c-a142-412f-86e1-b1c483e9a6c6');\n",
              "          const dataTable =\n",
              "            await google.colab.kernel.invokeFunction('convertToInteractive',\n",
              "                                                     [key], {});\n",
              "          if (!dataTable) return;\n",
              "\n",
              "          const docLinkHtml = 'Like what you see? Visit the ' +\n",
              "            '<a target=\"_blank\" href=https://colab.research.google.com/notebooks/data_table.ipynb>data table notebook</a>'\n",
              "            + ' to learn more about interactive tables.';\n",
              "          element.innerHTML = '';\n",
              "          dataTable['output_type'] = 'display_data';\n",
              "          await google.colab.output.renderOutput(dataTable, element);\n",
              "          const docLink = document.createElement('div');\n",
              "          docLink.innerHTML = docLinkHtml;\n",
              "          element.appendChild(docLink);\n",
              "        }\n",
              "      </script>\n",
              "    </div>\n",
              "  </div>\n",
              "  "
            ]
          },
          "metadata": {},
          "execution_count": 365
        }
      ],
      "source": [
        "KNN_Result = pd.DataFrame({\"Actual Consumption\":y_test,\"Predicted Consumption\":Y_test_predicted_KNN})\n",
        "KNN_Result.head()"
      ]
    },
    {
      "cell_type": "code",
      "execution_count": 366,
      "metadata": {
        "colab": {
          "base_uri": "https://localhost:8080/"
        },
        "id": "rwlVzU-0gZ_X",
        "outputId": "f50e7854-8088-4834-c377-cc51b2101391"
      },
      "outputs": [
        {
          "output_type": "stream",
          "name": "stderr",
          "text": [
            "/usr/local/lib/python3.7/dist-packages/sklearn/base.py:451: UserWarning: X does not have valid feature names, but KNeighborsRegressor was fitted with feature names\n",
            "  \"X does not have valid feature names, but\"\n"
          ]
        },
        {
          "output_type": "execute_result",
          "data": {
            "text/plain": [
              "array([116.7])"
            ]
          },
          "metadata": {},
          "execution_count": 366
        }
      ],
      "source": [
        "KNN_model.predict([[2019,1,0.775096,234.0,2,0]])"
      ]
    },
    {
      "cell_type": "markdown",
      "metadata": {
        "id": "ABHmIflRwcZS"
      },
      "source": [
        "# 8. COMPARISION AND CONCLUSION"
      ]
    },
    {
      "cell_type": "code",
      "execution_count": 367,
      "metadata": {
        "colab": {
          "base_uri": "https://localhost:8080/",
          "height": 364
        },
        "id": "Bs578uJE8ZxV",
        "outputId": "1342ec63-7424-4a4a-fae3-1a39a208e423"
      },
      "outputs": [
        {
          "output_type": "display_data",
          "data": {
            "text/plain": [
              "<Figure size 1080x360 with 1 Axes>"
            ],
            "image/png": "[encoded data removed]"
          },
          "metadata": {}
        }
      ],
      "source": [
        "mylist=[]\n",
        "mylist2=[]\n",
        "mylist.append(LR_test_accuracy)\n",
        "mylist2.append(\"Linear Regression\",)\n",
        "mylist.append(RF_test_accuracy)\n",
        "mylist2.append(\"Random Forest\",)\n",
        "mylist.append(DT_test_accuracy)\n",
        "mylist2.append(\"Decision Tree\")\n",
        "mylist.append(KNN_test_accuracy)\n",
        "mylist2.append(\"K Nearest Neighbor\")\n",
        "plt.rcParams['figure.figsize']=8,6\n",
        "sns.set_style(\"darkgrid\")\n",
        "plt.figure(figsize=(15,5))\n",
        "ax = sns.barplot(x=mylist2, y=mylist, palette = \"mako\", saturation =1.5)\n",
        "plt.xlabel(\"Models\", fontsize = 20 )\n",
        "plt.ylabel(\"Accuracy\", fontsize = 20)\n",
        "plt.title(\"Accuracy of Different Models\", fontsize = 20)\n",
        "# plt.xticks(fontsize = 11, horizontalalignment = 'center', rotation = 8)\n",
        "plt.yticks(fontsize = 13)\n",
        "for p in ax.patches:\n",
        "    width, height = p.get_width(), p.get_height()\n",
        "    x, y = p.get_xy() \n",
        "    ax.annotate(f'{height:.2%}', (x + width/2, y + height*1.02), ha='center', fontsize = 'x-large')\n",
        "plt.show()"
      ]
    },
    {
      "cell_type": "code",
      "execution_count": 368,
      "metadata": {
        "colab": {
          "base_uri": "https://localhost:8080/",
          "height": 175
        },
        "id": "LqXD3R7LGL8j",
        "outputId": "c15db416-3726-4964-ac71-3cecc687d24b"
      },
      "outputs": [
        {
          "output_type": "execute_result",
          "data": {
            "text/plain": [
              "                Model           MSE          RMSE           MAE            R2\n",
              "0   Linear Regression  2.798070e-26  1.672743e-13  1.365840e-13  1.365840e-13\n",
              "1       Random Forest  3.408829e-03  5.838518e-02  1.373367e-02  1.373367e-02\n",
              "2       Decision Tree  1.312998e+01  3.623531e+00  2.977757e+00  2.977757e+00\n",
              "3  K Nearest Neighbor  2.825224e+02  1.680840e+01  8.798600e+00  8.798600e+00"
            ],
            "text/html": [
              "\n",
              "  <div id=\"df-785b02df-2aba-4177-8c7f-90b79369e8f4\">\n",
              "    <div class=\"colab-df-container\">\n",
              "      <div>\n",
              "<style scoped>\n",
              "    .dataframe tbody tr th:only-of-type {\n",
              "        vertical-align: middle;\n",
              "    }\n",
              "\n",
              "    .dataframe tbody tr th {\n",
              "        vertical-align: top;\n",
              "    }\n",
              "\n",
              "    .dataframe thead th {\n",
              "        text-align: right;\n",
              "    }\n",
              "</style>\n",
              "<table border=\"1\" class=\"dataframe\">\n",
              "  <thead>\n",
              "    <tr style=\"text-align: right;\">\n",
              "      <th></th>\n",
              "      <th>Model</th>\n",
              "      <th>MSE</th>\n",
              "      <th>RMSE</th>\n",
              "      <th>MAE</th>\n",
              "      <th>R2</th>\n",
              "    </tr>\n",
              "  </thead>\n",
              "  <tbody>\n",
              "    <tr>\n",
              "      <th>0</th>\n",
              "      <td>Linear Regression</td>\n",
              "      <td>2.798070e-26</td>\n",
              "      <td>1.672743e-13</td>\n",
              "      <td>1.365840e-13</td>\n",
              "      <td>1.365840e-13</td>\n",
              "    </tr>\n",
              "    <tr>\n",
              "      <th>1</th>\n",
              "      <td>Random Forest</td>\n",
              "      <td>3.408829e-03</td>\n",
              "      <td>5.838518e-02</td>\n",
              "      <td>1.373367e-02</td>\n",
              "      <td>1.373367e-02</td>\n",
              "    </tr>\n",
              "    <tr>\n",
              "      <th>2</th>\n",
              "      <td>Decision Tree</td>\n",
              "      <td>1.312998e+01</td>\n",
              "      <td>3.623531e+00</td>\n",
              "      <td>2.977757e+00</td>\n",
              "      <td>2.977757e+00</td>\n",
              "    </tr>\n",
              "    <tr>\n",
              "      <th>3</th>\n",
              "      <td>K Nearest Neighbor</td>\n",
              "      <td>2.825224e+02</td>\n",
              "      <td>1.680840e+01</td>\n",
              "      <td>8.798600e+00</td>\n",
              "      <td>8.798600e+00</td>\n",
              "    </tr>\n",
              "  </tbody>\n",
              "</table>\n",
              "</div>\n",
              "      <button class=\"colab-df-convert\" onclick=\"convertToInteractive('df-785b02df-2aba-4177-8c7f-90b79369e8f4')\"\n",
              "              title=\"Convert this dataframe to an interactive table.\"\n",
              "              style=\"display:none;\">\n",
              "        \n",
              "  <svg xmlns=\"http://www.w3.org/2000/svg\" height=\"24px\"viewBox=\"0 0 24 24\"\n",
              "       width=\"24px\">\n",
              "    <path d=\"M0 0h24v24H0V0z\" fill=\"none\"/>\n",
              "    <path d=\"M18.56 5.44l.94 2.06.94-2.06 2.06-.94-2.06-.94-.94-2.06-.94 2.06-2.06.94zm-11 1L8.5 8.5l.94-2.06 2.06-.94-2.06-.94L8.5 2.5l-.94 2.06-2.06.94zm10 10l.94 2.06.94-2.06 2.06-.94-2.06-.94-.94-2.06-.94 2.06-2.06.94z\"/><path d=\"M17.41 7.96l-1.37-1.37c-.4-.4-.92-.59-1.43-.59-.52 0-1.04.2-1.43.59L10.3 9.45l-7.72 7.72c-.78.78-.78 2.05 0 2.83L4 21.41c.39.39.9.59 1.41.59.51 0 1.02-.2 1.41-.59l7.78-7.78 2.81-2.81c.8-.78.8-2.07 0-2.86zM5.41 20L4 18.59l7.72-7.72 1.47 1.35L5.41 20z\"/>\n",
              "  </svg>\n",
              "      </button>\n",
              "      \n",
              "  <style>\n",
              "    .colab-df-container {\n",
              "      display:flex;\n",
              "      flex-wrap:wrap;\n",
              "      gap: 12px;\n",
              "    }\n",
              "\n",
              "    .colab-df-convert {\n",
              "      background-color: #E8F0FE;\n",
              "      border: none;\n",
              "      border-radius: 50%;\n",
              "      cursor: pointer;\n",
              "      display: none;\n",
              "      fill: #1967D2;\n",
              "      height: 32px;\n",
              "      padding: 0 0 0 0;\n",
              "      width: 32px;\n",
              "    }\n",
              "\n",
              "    .colab-df-convert:hover {\n",
              "      background-color: #E2EBFA;\n",
              "      box-shadow: 0px 1px 2px rgba(60, 64, 67, 0.3), 0px 1px 3px 1px rgba(60, 64, 67, 0.15);\n",
              "      fill: #174EA6;\n",
              "    }\n",
              "\n",
              "    [theme=dark] .colab-df-convert {\n",
              "      background-color: #3B4455;\n",
              "      fill: #D2E3FC;\n",
              "    }\n",
              "\n",
              "    [theme=dark] .colab-df-convert:hover {\n",
              "      background-color: #434B5C;\n",
              "      box-shadow: 0px 1px 3px 1px rgba(0, 0, 0, 0.15);\n",
              "      filter: drop-shadow(0px 1px 2px rgba(0, 0, 0, 0.3));\n",
              "      fill: #FFFFFF;\n",
              "    }\n",
              "  </style>\n",
              "\n",
              "      <script>\n",
              "        const buttonEl =\n",
              "          document.querySelector('#df-785b02df-2aba-4177-8c7f-90b79369e8f4 button.colab-df-convert');\n",
              "        buttonEl.style.display =\n",
              "          google.colab.kernel.accessAllowed ? 'block' : 'none';\n",
              "\n",
              "        async function convertToInteractive(key) {\n",
              "          const element = document.querySelector('#df-785b02df-2aba-4177-8c7f-90b79369e8f4');\n",
              "          const dataTable =\n",
              "            await google.colab.kernel.invokeFunction('convertToInteractive',\n",
              "                                                     [key], {});\n",
              "          if (!dataTable) return;\n",
              "\n",
              "          const docLinkHtml = 'Like what you see? Visit the ' +\n",
              "            '<a target=\"_blank\" href=https://colab.research.google.com/notebooks/data_table.ipynb>data table notebook</a>'\n",
              "            + ' to learn more about interactive tables.';\n",
              "          element.innerHTML = '';\n",
              "          dataTable['output_type'] = 'display_data';\n",
              "          await google.colab.output.renderOutput(dataTable, element);\n",
              "          const docLink = document.createElement('div');\n",
              "          docLink.innerHTML = docLinkHtml;\n",
              "          element.appendChild(docLink);\n",
              "        }\n",
              "      </script>\n",
              "    </div>\n",
              "  </div>\n",
              "  "
            ]
          },
          "metadata": {},
          "execution_count": 368
        }
      ],
      "source": [
        "# ERRORS\n",
        "data = {\"Model\": [\"Linear Regression\", \"Random Forest\",\"Decision Tree\", \"K Nearest Neighbor\"], \n",
        "        \"MSE\": [LR_MSE, RF_MSE, DT_MSE, KNN_MSE],         \n",
        "        \"RMSE\": [LR_RMSE, RF_RMSE, DT_RMSE, KNN_RMSE],\n",
        "        \"MAE\": [LR_MAE,RF_MAE, DT_MAE, KNN_MAE],\n",
        "        \"R2\": [LR_MAE,RF_MAE, DT_MAE, KNN_MAE]}\n",
        "\n",
        "results = pd.DataFrame(data=data)\n",
        "results"
      ]
    },
    {
      "cell_type": "markdown",
      "metadata": {
        "id": "GXsYli4J2YSR"
      },
      "source": [
        "\n",
        "**CONCLUSION :**\n",
        "\n",
        "From all the above result we can conclude that the best algorithm is the Linear Regression Algorithm for this project because it has higher accuracy and low Mean Absolute Error, Mean Squared Error, Root Mean Squared Error and R-squared score compared to other algorithms."
      ]
    }
  ],
  "metadata": {
    "colab": {
      "collapsed_sections": [
        "mU26d2rzTCyC"
      ],
      "name": "Group6_Prj303.ipynb",
      "provenance": []
    },
    "kernelspec": {
      "display_name": "Python 3",
      "name": "python3"
    },
    "language_info": {
      "name": "python"
    }
  },
  "nbformat": 4,
  "nbformat_minor": 0
}